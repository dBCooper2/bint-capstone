{
 "cells": [
  {
   "cell_type": "markdown",
   "metadata": {},
   "source": [
    "# Regression Analysis: NBA Points"
   ]
  },
  {
   "cell_type": "markdown",
   "metadata": {},
   "source": [
    "## What we need for the Presentation\n",
    "\n",
    "- Executive Summary\n",
    "- Business Context\n",
    "- Data Overview\n",
    "- Data Visualization and Methodology\n",
    "    - PCA\n",
    "    - Regression\n",
    "    - Results\n",
    "- Key Insights\n",
    "    - Expand on Results\n",
    "- Actionable Recommendations\n",
    "- Limitations and Considerations\n",
    "- Conclusions\n",
    "\n",
    "## This means we need to program:\n",
    "\n",
    "- PCA\n",
    "- Chart for Feature Selection\n",
    "- Table of Regression Results\n",
    "- QQ Plot of Residuals\n",
    "- Regression Models\n",
    "    - MLR\n",
    "    - Stepwise\n",
    "    - KNN\n",
    "\n",
    "Shake is doing the PCA + Stepwise and Providing us with the dataset\n",
    "\n",
    "I am doing the KNN Regression (and maybe MLR)\n",
    "\n",
    "Scott will be doing the MLR"
   ]
  },
  {
   "cell_type": "markdown",
   "metadata": {},
   "source": []
  }
 ],
 "metadata": {
  "language_info": {
   "name": "python"
  }
 },
 "nbformat": 4,
 "nbformat_minor": 2
}
