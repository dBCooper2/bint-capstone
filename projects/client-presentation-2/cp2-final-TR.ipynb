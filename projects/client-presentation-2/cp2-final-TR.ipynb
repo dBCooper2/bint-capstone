{
 "cells": [
  {
   "cell_type": "markdown",
   "metadata": {},
   "source": [
    "# Client Presentation 2: Regression Analysis\n",
    "\n",
    "In this notebook, we aim to outline the 2nd Client Presentation for DS 4510. This notebook contains the following sections.\n",
    "\n",
    "- Importing Packages and Data\n",
    "  - Python Packages\n",
    "  - Importing Data from Google Drive\n",
    "    - Filtering Data by Date\n",
    "    - Split Data into home and away games\n",
    "    - Dropping Extra Columns\n",
    "- Data Preprocessing\n",
    "  - Removing NA Data\n",
    "  - Remove Multicollinear Predictors\n",
    "  - Remove Near-Zero Variance\n",
    "  - Standardize Data\n",
    "  - Principal Component Analysis\n",
    "  - Creating Train-Test Split\n",
    "- Regression Models\n",
    "  - Multiple Linear Regression Model\n",
    "  - K-Nearest Neighbor Regression Model\n",
    "  - Comparing Model results"
   ]
  },
  {
   "cell_type": "markdown",
   "metadata": {},
   "source": [
    "## 1. Importing Packages and Data\n",
    "\n",
    "First we will import all Python packages and data from Google Drive.\n",
    "\n",
    "### Importing Python Packages"
   ]
  },
  {
   "cell_type": "code",
   "execution_count": null,
   "metadata": {},
   "outputs": [],
   "source": []
  },
  {
   "cell_type": "markdown",
   "metadata": {},
   "source": [
    "### Importing Data"
   ]
  },
  {
   "cell_type": "markdown",
   "metadata": {},
   "source": [
    "#### Filter Data by Date\n",
    "\n",
    "Data older than the 2013-14 season has several errors that reduce model accuracy, so these older seasons will be removed."
   ]
  },
  {
   "cell_type": "markdown",
   "metadata": {},
   "source": [
    "#### Split Data into Home and Away\n",
    "\n",
    "To tie back in with the first presentation, splitting games into home vs away games will be performed. We will perform this analysis using home games, but this analysis can be performed using away games or total games as well."
   ]
  },
  {
   "cell_type": "markdown",
   "metadata": {},
   "source": [
    "#### Dropping Unnecessary Columns\n",
    "\n",
    "To improve model accuracy, only numeric and dummy predictors will be kept, and identifier columns like game and team ID's will be dropped."
   ]
  },
  {
   "cell_type": "markdown",
   "metadata": {},
   "source": [
    "## 2. Data Preprocessing"
   ]
  },
  {
   "cell_type": "markdown",
   "metadata": {},
   "source": [
    "### Removing NA Data\n",
    "\n",
    "First we will examine what percentage of data is not available, and drop if possible."
   ]
  },
  {
   "cell_type": "markdown",
   "metadata": {},
   "source": [
    "### Removing Multicollinearity\n",
    "\n",
    "Now we can examine which predictor variables are highly correlated with one another, and remove these highly correlated variables to improve model accuracy."
   ]
  },
  {
   "cell_type": "markdown",
   "metadata": {},
   "source": [
    "### Removing Near-Zero Variance\n",
    "\n",
    "Now that highly-correlated predictors are gone, we can remove near-zero variance predictors. These are independent variables who have very low variance (below .1) that could skew model results."
   ]
  },
  {
   "cell_type": "markdown",
   "metadata": {},
   "source": [
    "### Principal Component Analysis (PCA)\n",
    "\n",
    "Lastly, we will perform a Principal Component Analysis (PCA) on the predictor variables to identify variables that will best explain model results."
   ]
  },
  {
   "cell_type": "markdown",
   "metadata": {},
   "source": [
    "## 3. Regression Models"
   ]
  },
  {
   "cell_type": "markdown",
   "metadata": {},
   "source": []
  }
 ],
 "metadata": {
  "kernelspec": {
   "display_name": ".venv",
   "language": "python",
   "name": "python3"
  },
  "language_info": {
   "codemirror_mode": {
    "name": "ipython",
    "version": 3
   },
   "file_extension": ".py",
   "mimetype": "text/x-python",
   "name": "python",
   "nbconvert_exporter": "python",
   "pygments_lexer": "ipython3",
   "version": "3.11.11"
  }
 },
 "nbformat": 4,
 "nbformat_minor": 2
}
