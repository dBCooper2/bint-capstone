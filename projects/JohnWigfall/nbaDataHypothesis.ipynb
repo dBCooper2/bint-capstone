{
 "cells": [
  {
   "cell_type": "markdown",
   "metadata": {},
   "source": [
    "Hypothesis Test: Home vs. Away Performance Impact on Team Wins - JOHN\n",
    "\n",
    "Null Hypothesis (H₀): The average win percentage is the same for home and away games. Alternative Hypothesis (H₁): Teams win significantly more home games than away games. Test: Paired t-test (since each team plays both home and away games). Why? If significant, a logistic regression model can predict game outcomes based on home/away status.\n"
   ]
  }
 ],
 "metadata": {
  "language_info": {
   "name": "python"
  }
 },
 "nbformat": 4,
 "nbformat_minor": 2
}
