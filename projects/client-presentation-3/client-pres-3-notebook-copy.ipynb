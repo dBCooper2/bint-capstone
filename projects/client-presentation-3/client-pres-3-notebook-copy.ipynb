{
 "cells": [
  {
   "cell_type": "markdown",
   "id": "ab690180",
   "metadata": {},
   "source": [
    "# NBA Data Analysis 3 :: Win Classification Models\n",
    "\n",
    "###### Abhishek Menothu, Johnathen Wigfall, Scott Campbell, Trevor Rowland\n",
    "\n",
    "## Executive Summary, Business Context\n",
    "\n",
    "This notebook aims to create classification models to predict wins in NBA games given summary statistics of a game. Using these models, coaches, teams, and organizations can examine the predictor variables with high predictive weight in classifying a win or loss, and can focus on improving those statistics to drive more wins.\n",
    "\n",
    "**GO BACK AND MODIFY WITH INSIGHTS, THIS SHOULD EXPLAIN THE PRESENTATION WITHOUT HAVING TO SCROLL FURTHER**\n",
    "\n",
    "## Data Overview\n",
    "\n",
    "The data used is NBA Box Scores collected from 2004-2024, and filtered down to 2013-2024. This filtering was done due to weaker data in the older seasons and poor data collection from the NBA. The data is accessed from a google drive folder, and can be seen below.\n",
    "\n",
    "**ADD A SUMMARY HERE. WE...**\n",
    "- Drop NA Data\n",
    "- Remove ID Values\n",
    "- Remove Postgame Totals with high predictive power"
   ]
  },
  {
   "cell_type": "code",
   "execution_count": 1,
   "id": "8fad3a25",
   "metadata": {},
   "outputs": [
    {
     "data": {
      "text/html": [
       "<div>\n",
       "<style scoped>\n",
       "    .dataframe tbody tr th:only-of-type {\n",
       "        vertical-align: middle;\n",
       "    }\n",
       "\n",
       "    .dataframe tbody tr th {\n",
       "        vertical-align: top;\n",
       "    }\n",
       "\n",
       "    .dataframe thead th {\n",
       "        text-align: right;\n",
       "    }\n",
       "</style>\n",
       "<table border=\"1\" class=\"dataframe\">\n",
       "  <thead>\n",
       "    <tr style=\"text-align: right;\">\n",
       "      <th></th>\n",
       "      <th>game_id</th>\n",
       "      <th>season</th>\n",
       "      <th>team_id</th>\n",
       "      <th>team_name</th>\n",
       "      <th>tri_code</th>\n",
       "      <th>team_slug</th>\n",
       "      <th>minutes</th>\n",
       "      <th>field_goals_made</th>\n",
       "      <th>field_goals_attempted</th>\n",
       "      <th>field_goals_percentage</th>\n",
       "      <th>...</th>\n",
       "      <th>uncontested_field_goals_percentage</th>\n",
       "      <th>field_goal_percentage</th>\n",
       "      <th>defended_at_rim_field_goals_made</th>\n",
       "      <th>defended_at_rim_field_goals_attempted</th>\n",
       "      <th>defended_at_rim_field_goal_percentage</th>\n",
       "      <th>opponent_points</th>\n",
       "      <th>is_home_team</th>\n",
       "      <th>won_game</th>\n",
       "      <th>is_playoff_game</th>\n",
       "      <th>is_regular_game</th>\n",
       "    </tr>\n",
       "  </thead>\n",
       "  <tbody>\n",
       "    <tr>\n",
       "      <th>0</th>\n",
       "      <td>41300405</td>\n",
       "      <td>2013-14</td>\n",
       "      <td>1610612759</td>\n",
       "      <td>Spurs</td>\n",
       "      <td>SAS</td>\n",
       "      <td>spurs</td>\n",
       "      <td>240:00</td>\n",
       "      <td>37.0</td>\n",
       "      <td>78.0</td>\n",
       "      <td>0.474</td>\n",
       "      <td>...</td>\n",
       "      <td>0.475</td>\n",
       "      <td>0.474</td>\n",
       "      <td>15.0</td>\n",
       "      <td>24.0</td>\n",
       "      <td>0.625</td>\n",
       "      <td>87.0</td>\n",
       "      <td>1</td>\n",
       "      <td>1</td>\n",
       "      <td>1</td>\n",
       "      <td>0</td>\n",
       "    </tr>\n",
       "    <tr>\n",
       "      <th>1</th>\n",
       "      <td>41300404</td>\n",
       "      <td>2013-14</td>\n",
       "      <td>1610612748</td>\n",
       "      <td>Heat</td>\n",
       "      <td>MIA</td>\n",
       "      <td>heat</td>\n",
       "      <td>240:00</td>\n",
       "      <td>32.0</td>\n",
       "      <td>71.0</td>\n",
       "      <td>0.451</td>\n",
       "      <td>...</td>\n",
       "      <td>0.439</td>\n",
       "      <td>0.451</td>\n",
       "      <td>16.0</td>\n",
       "      <td>19.0</td>\n",
       "      <td>0.842</td>\n",
       "      <td>107.0</td>\n",
       "      <td>1</td>\n",
       "      <td>0</td>\n",
       "      <td>1</td>\n",
       "      <td>0</td>\n",
       "    </tr>\n",
       "    <tr>\n",
       "      <th>2</th>\n",
       "      <td>41300403</td>\n",
       "      <td>2013-14</td>\n",
       "      <td>1610612748</td>\n",
       "      <td>Heat</td>\n",
       "      <td>MIA</td>\n",
       "      <td>heat</td>\n",
       "      <td>240:00</td>\n",
       "      <td>32.0</td>\n",
       "      <td>62.0</td>\n",
       "      <td>0.516</td>\n",
       "      <td>...</td>\n",
       "      <td>0.516</td>\n",
       "      <td>0.516</td>\n",
       "      <td>14.0</td>\n",
       "      <td>20.0</td>\n",
       "      <td>0.700</td>\n",
       "      <td>111.0</td>\n",
       "      <td>1</td>\n",
       "      <td>0</td>\n",
       "      <td>1</td>\n",
       "      <td>0</td>\n",
       "    </tr>\n",
       "    <tr>\n",
       "      <th>3</th>\n",
       "      <td>41300402</td>\n",
       "      <td>2013-14</td>\n",
       "      <td>1610612759</td>\n",
       "      <td>Spurs</td>\n",
       "      <td>SAS</td>\n",
       "      <td>spurs</td>\n",
       "      <td>240:00</td>\n",
       "      <td>36.0</td>\n",
       "      <td>82.0</td>\n",
       "      <td>0.439</td>\n",
       "      <td>...</td>\n",
       "      <td>0.452</td>\n",
       "      <td>0.439</td>\n",
       "      <td>17.0</td>\n",
       "      <td>24.0</td>\n",
       "      <td>0.708</td>\n",
       "      <td>98.0</td>\n",
       "      <td>1</td>\n",
       "      <td>0</td>\n",
       "      <td>1</td>\n",
       "      <td>0</td>\n",
       "    </tr>\n",
       "    <tr>\n",
       "      <th>4</th>\n",
       "      <td>41300401</td>\n",
       "      <td>2013-14</td>\n",
       "      <td>1610612759</td>\n",
       "      <td>Spurs</td>\n",
       "      <td>SAS</td>\n",
       "      <td>spurs</td>\n",
       "      <td>240:00</td>\n",
       "      <td>40.0</td>\n",
       "      <td>68.0</td>\n",
       "      <td>0.588</td>\n",
       "      <td>...</td>\n",
       "      <td>0.472</td>\n",
       "      <td>0.588</td>\n",
       "      <td>12.0</td>\n",
       "      <td>21.0</td>\n",
       "      <td>0.571</td>\n",
       "      <td>95.0</td>\n",
       "      <td>1</td>\n",
       "      <td>1</td>\n",
       "      <td>1</td>\n",
       "      <td>0</td>\n",
       "    </tr>\n",
       "  </tbody>\n",
       "</table>\n",
       "<p>5 rows × 72 columns</p>\n",
       "</div>"
      ],
      "text/plain": [
       "    game_id   season     team_id team_name tri_code team_slug minutes  \\\n",
       "0  41300405  2013-14  1610612759     Spurs      SAS     spurs  240:00   \n",
       "1  41300404  2013-14  1610612748      Heat      MIA      heat  240:00   \n",
       "2  41300403  2013-14  1610612748      Heat      MIA      heat  240:00   \n",
       "3  41300402  2013-14  1610612759     Spurs      SAS     spurs  240:00   \n",
       "4  41300401  2013-14  1610612759     Spurs      SAS     spurs  240:00   \n",
       "\n",
       "   field_goals_made  field_goals_attempted  field_goals_percentage  ...  \\\n",
       "0              37.0                   78.0                   0.474  ...   \n",
       "1              32.0                   71.0                   0.451  ...   \n",
       "2              32.0                   62.0                   0.516  ...   \n",
       "3              36.0                   82.0                   0.439  ...   \n",
       "4              40.0                   68.0                   0.588  ...   \n",
       "\n",
       "   uncontested_field_goals_percentage  field_goal_percentage  \\\n",
       "0                               0.475                  0.474   \n",
       "1                               0.439                  0.451   \n",
       "2                               0.516                  0.516   \n",
       "3                               0.452                  0.439   \n",
       "4                               0.472                  0.588   \n",
       "\n",
       "   defended_at_rim_field_goals_made  defended_at_rim_field_goals_attempted  \\\n",
       "0                              15.0                                   24.0   \n",
       "1                              16.0                                   19.0   \n",
       "2                              14.0                                   20.0   \n",
       "3                              17.0                                   24.0   \n",
       "4                              12.0                                   21.0   \n",
       "\n",
       "   defended_at_rim_field_goal_percentage  opponent_points  is_home_team  \\\n",
       "0                                  0.625             87.0             1   \n",
       "1                                  0.842            107.0             1   \n",
       "2                                  0.700            111.0             1   \n",
       "3                                  0.708             98.0             1   \n",
       "4                                  0.571             95.0             1   \n",
       "\n",
       "   won_game  is_playoff_game  is_regular_game  \n",
       "0         1                1                0  \n",
       "1         0                1                0  \n",
       "2         0                1                0  \n",
       "3         0                1                0  \n",
       "4         1                1                0  \n",
       "\n",
       "[5 rows x 72 columns]"
      ]
     },
     "execution_count": 1,
     "metadata": {},
     "output_type": "execute_result"
    }
   ],
   "source": [
    "# Import Packages\n",
    "import pandas as pd\n",
    "import numpy as np\n",
    "\n",
    "# Collect Data from Google Drive\n",
    "gdrive_url = 'https://drive.google.com/file/d/1U2UaHWRSkUXfJBn4kBHPYttd3dvw_CZF/view?usp=drive_link'\n",
    "file_id = '1U2UaHWRSkUXfJBn4kBHPYttd3dvw_CZF'\n",
    "url = f'https://drive.google.com/uc?id={file_id}'\n",
    "df = pd.read_csv(url, encoding='utf-8')\n",
    "\n",
    "# Filter Data to 2013-2024\n",
    "df = df[df['season'].str[:4].astype(int) > 2012] # Remove old seasons (only keeping seasons 2013-14 onward)\n",
    "#df = df.loc[(df['distance'] != 0 ) & (df['touches'] != 0)] # exclude rows where 0 in certain columns doesnt make sense\n",
    "df = df.dropna() # drop rows with missing values \n",
    "df = df.reset_index(drop=True) # reset index\n",
    "df.head()"
   ]
  },
  {
   "cell_type": "markdown",
   "id": "df2681ce",
   "metadata": {},
   "source": [
    "### Cleaning Data\n",
    "\n",
    "We can also drop ID variables like `game_id`, `team_id`, etc. Additionally, we will drop variables like `points`, `three_pointers_made`, or `plus_minus_points` that are rolling amounts during the game, but in our data are postgame totals, with extremely high predictive power. Because of this high predictive power, they must be removed to prevent overfitting."
   ]
  },
  {
   "cell_type": "code",
   "execution_count": 2,
   "id": "35941287",
   "metadata": {},
   "outputs": [
    {
     "name": "stdout",
     "output_type": "stream",
     "text": [
      "<class 'pandas.core.frame.DataFrame'>\n",
      "RangeIndex: 30060 entries, 0 to 30059\n",
      "Data columns (total 50 columns):\n",
      " #   Column                                 Non-Null Count  Dtype  \n",
      "---  ------                                 --------------  -----  \n",
      " 0   field_goals_attempted                  30060 non-null  float64\n",
      " 1   field_goals_percentage                 30060 non-null  float64\n",
      " 2   three_pointers_attempted               30060 non-null  float64\n",
      " 3   three_pointers_percentage              30060 non-null  float64\n",
      " 4   free_throws_attempted                  30060 non-null  float64\n",
      " 5   free_throws_percentage                 30060 non-null  float64\n",
      " 6   rebounds_offensive                     30060 non-null  float64\n",
      " 7   rebounds_defensive                     30060 non-null  float64\n",
      " 8   rebounds_total                         30060 non-null  float64\n",
      " 9   steals                                 30060 non-null  float64\n",
      " 10  blocks                                 30060 non-null  float64\n",
      " 11  turnovers                              30060 non-null  float64\n",
      " 12  fouls_personal                         30060 non-null  float64\n",
      " 13  assist_percentage                      30060 non-null  float64\n",
      " 14  assist_to_turnover                     30060 non-null  float64\n",
      " 15  assist_ratio                           30060 non-null  float64\n",
      " 16  offensive_rebound_percentage           30060 non-null  float64\n",
      " 17  defensive_rebound_percentage           30060 non-null  float64\n",
      " 18  rebound_percentage                     30060 non-null  float64\n",
      " 19  estimated_team_turnover_percentage     30060 non-null  float64\n",
      " 20  turnover_ratio                         30060 non-null  float64\n",
      " 21  effective_field_goal_percentage        30060 non-null  float64\n",
      " 22  true_shooting_percentage               30060 non-null  float64\n",
      " 23  usage_percentage                       30060 non-null  float64\n",
      " 24  estimated_usage_percentage             30060 non-null  float64\n",
      " 25  estimated_pace                         30060 non-null  float64\n",
      " 26  pace                                   30060 non-null  float64\n",
      " 27  pace_per40                             30060 non-null  float64\n",
      " 28  possessions                            30060 non-null  float64\n",
      " 29  p_i_e                                  30060 non-null  float64\n",
      " 30  distance                               30060 non-null  float64\n",
      " 31  rebound_chances_offensive              30060 non-null  float64\n",
      " 32  rebound_chances_defensive              30060 non-null  float64\n",
      " 33  rebound_chances_total                  30060 non-null  float64\n",
      " 34  touches                                30060 non-null  float64\n",
      " 35  secondary_assists                      30060 non-null  float64\n",
      " 36  free_throw_assists                     30060 non-null  float64\n",
      " 37  passes                                 30060 non-null  float64\n",
      " 38  assists                                30060 non-null  float64\n",
      " 39  contested_field_goals_attempted        30060 non-null  float64\n",
      " 40  contested_field_goal_percentage        30060 non-null  float64\n",
      " 41  uncontested_field_goals_attempted      30060 non-null  float64\n",
      " 42  uncontested_field_goals_percentage     30060 non-null  float64\n",
      " 43  field_goal_percentage                  30060 non-null  float64\n",
      " 44  defended_at_rim_field_goals_attempted  30060 non-null  float64\n",
      " 45  defended_at_rim_field_goal_percentage  30060 non-null  float64\n",
      " 46  is_home_team                           30060 non-null  int64  \n",
      " 47  won_game                               30060 non-null  int64  \n",
      " 48  is_playoff_game                        30060 non-null  int64  \n",
      " 49  is_regular_game                        30060 non-null  int64  \n",
      "dtypes: float64(46), int64(4)\n",
      "memory usage: 11.5 MB\n"
     ]
    }
   ],
   "source": [
    "try:\n",
    "    drop_vars = [\n",
    "        'game_id', \n",
    "        'team_id', \n",
    "        'team_name', \n",
    "        'tri_code', \n",
    "        'team_slug', \n",
    "        'season', # dropping for now but could technically be a cat dep var\n",
    "        'minutes'] + ['points',\n",
    "                       'opponent_points',\n",
    "                        'plus_minus_points',\n",
    "                        'field_goals_made',\n",
    "                        'three_pointers_made',\n",
    "                        'free_throws_made',\n",
    "                        'contested_field_goals_made',\n",
    "                        'uncontested_field_goals_made',\n",
    "                        'defended_at_rim_field_goals_made',\n",
    "                        'estimated_net_rating',\n",
    "                        'net_rating',\n",
    "                        'estimated_defensive_rating',\n",
    "                        'defensive_rating',\n",
    "                        'estimated_offensive_rating',\n",
    "                        'offensive_rating',]\n",
    "    df = df.drop(drop_vars, axis=1)\n",
    "    df.head()\n",
    "except Exception as e:\n",
    "    print('drop_vars already dropped')\n",
    "\n",
    "df.info()"
   ]
  },
  {
   "cell_type": "markdown",
   "id": "7871bf00",
   "metadata": {},
   "source": [
    "Lastly, we can drop `is_playoff_game`. This variable is redundant, as we already have a variable `is_regular_game` that, if 0, means the game is a playoff game."
   ]
  },
  {
   "cell_type": "code",
   "execution_count": 3,
   "id": "4215933e",
   "metadata": {},
   "outputs": [],
   "source": [
    "df = df.drop(columns=['is_playoff_game'], axis=1)\n",
    "cat_vars = ['is_home_team', 'won_game', 'is_regular_game']\n",
    "df_cat = df[cat_vars]\n",
    "df_num = df.drop(cat_vars, axis=1)\n",
    "\n",
    "# assertion to ensure that split happened properly\n",
    "assert df_cat.shape[1] + df_num.shape[1] == df.shape[1]"
   ]
  },
  {
   "cell_type": "markdown",
   "id": "0173b2fd",
   "metadata": {},
   "source": [
    "### Removing High Correlation and Near-Zero Variance"
   ]
  },
  {
   "cell_type": "code",
   "execution_count": 4,
   "id": "bb8b5d5a",
   "metadata": {},
   "outputs": [],
   "source": [
    "# From John's notebook\n",
    "def removeHighCorr (data,thresh):\n",
    "  from dython.nominal import associations\n",
    "  corr_matrix=associations(dataset=data, compute_only=True)['corr'].abs()\n",
    "  upper_tri=corr_matrix.where(np.triu(np.ones(corr_matrix.shape),k=1).astype(bool))\n",
    "  to_drop=[column for column in upper_tri.columns if any(upper_tri[column]>thresh)]\n",
    "  new_data=data.drop(to_drop,axis=1)\n",
    "  return new_data"
   ]
  },
  {
   "cell_type": "code",
   "execution_count": 5,
   "id": "641079d8",
   "metadata": {},
   "outputs": [
    {
     "name": "stdout",
     "output_type": "stream",
     "text": [
      "pre: 46 \n",
      " post: 24\n"
     ]
    }
   ],
   "source": [
    "pre = df_num.shape[1]\n",
    "df_num_nhc = removeHighCorr(df_num, 0.7) # _nhc --> no high corr\n",
    "post = len(df_num_nhc.columns.tolist())\n",
    "\n",
    "print(f'pre: {pre} \\n post: {post}')"
   ]
  },
  {
   "cell_type": "markdown",
   "id": "86c22634",
   "metadata": {},
   "source": [
    "And now we remove NZV."
   ]
  },
  {
   "cell_type": "code",
   "execution_count": 6,
   "id": "ac1f973c",
   "metadata": {},
   "outputs": [
    {
     "name": "stdout",
     "output_type": "stream",
     "text": [
      "pre: 24 \n",
      " post: 15\n"
     ]
    }
   ],
   "source": [
    "pre = post\n",
    "\n",
    "from sklearn.feature_selection import VarianceThreshold\n",
    "vt = VarianceThreshold(threshold=0.1)\n",
    "vt.fit_transform(df_num_nhc)\n",
    "\n",
    "cols = df_num_nhc.columns[vt.get_support()]\n",
    "post = len(cols)\n",
    "\n",
    "df_num_nhc_nnzv = df_num_nhc[cols] # _nnzv --> no near zero variance\n",
    "\n",
    "print(f'pre: {pre} \\n post: {post}')"
   ]
  },
  {
   "cell_type": "markdown",
   "id": "df10856d",
   "metadata": {},
   "source": [
    "And now we can take a look at the finished dataframe."
   ]
  },
  {
   "cell_type": "code",
   "execution_count": 7,
   "id": "c5f4c31d",
   "metadata": {},
   "outputs": [
    {
     "name": "stdout",
     "output_type": "stream",
     "text": [
      "<class 'pandas.core.frame.DataFrame'>\n",
      "RangeIndex: 30060 entries, 0 to 30059\n",
      "Data columns (total 15 columns):\n",
      " #   Column                     Non-Null Count  Dtype  \n",
      "---  ------                     --------------  -----  \n",
      " 0   field_goals_attempted      30060 non-null  float64\n",
      " 1   three_pointers_attempted   30060 non-null  float64\n",
      " 2   free_throws_attempted      30060 non-null  float64\n",
      " 3   rebounds_offensive         30060 non-null  float64\n",
      " 4   rebounds_defensive         30060 non-null  float64\n",
      " 5   steals                     30060 non-null  float64\n",
      " 6   blocks                     30060 non-null  float64\n",
      " 7   turnovers                  30060 non-null  float64\n",
      " 8   fouls_personal             30060 non-null  float64\n",
      " 9   estimated_pace             30060 non-null  float64\n",
      " 10  pace                       30060 non-null  float64\n",
      " 11  distance                   30060 non-null  float64\n",
      " 12  rebound_chances_offensive  30060 non-null  float64\n",
      " 13  secondary_assists          30060 non-null  float64\n",
      " 14  free_throw_assists         30060 non-null  float64\n",
      "dtypes: float64(15)\n",
      "memory usage: 3.4 MB\n"
     ]
    }
   ],
   "source": [
    "df_num_nhc_nnzv.info()"
   ]
  },
  {
   "cell_type": "markdown",
   "id": "b7f8f53d",
   "metadata": {},
   "source": [
    "Lastly, we can recombine the split categorical and numeric data into the final dataframe for the model."
   ]
  },
  {
   "cell_type": "code",
   "execution_count": 8,
   "id": "2d562b48",
   "metadata": {},
   "outputs": [],
   "source": [
    "df_full = pd.concat([df_num_nhc_nnzv.reset_index(drop=True), df_cat.reset_index(drop=True)], axis=1)\n",
    "\n",
    "# checks to make sure merge happened properly since past experience as shown that incorrect merge will mess up the fitting\n",
    "\n",
    "# assertion for row size (since feature elimination did not touch rows and only bad merge would mess it up)\n",
    "assert df_full.shape[0] == df.shape[0] # df is right before split into _cat/_num \n",
    "\n",
    "# assertion for nulls (since nulls were cleaned out before feature elimination) \n",
    "assert df_full.isna().sum().sum() == 0"
   ]
  },
  {
   "cell_type": "code",
   "execution_count": 9,
   "id": "5d6289ea",
   "metadata": {},
   "outputs": [
    {
     "name": "stdout",
     "output_type": "stream",
     "text": [
      "<class 'pandas.core.frame.DataFrame'>\n",
      "RangeIndex: 30060 entries, 0 to 30059\n",
      "Data columns (total 18 columns):\n",
      " #   Column                     Non-Null Count  Dtype  \n",
      "---  ------                     --------------  -----  \n",
      " 0   field_goals_attempted      30060 non-null  float64\n",
      " 1   three_pointers_attempted   30060 non-null  float64\n",
      " 2   free_throws_attempted      30060 non-null  float64\n",
      " 3   rebounds_offensive         30060 non-null  float64\n",
      " 4   rebounds_defensive         30060 non-null  float64\n",
      " 5   steals                     30060 non-null  float64\n",
      " 6   blocks                     30060 non-null  float64\n",
      " 7   turnovers                  30060 non-null  float64\n",
      " 8   fouls_personal             30060 non-null  float64\n",
      " 9   estimated_pace             30060 non-null  float64\n",
      " 10  pace                       30060 non-null  float64\n",
      " 11  distance                   30060 non-null  float64\n",
      " 12  rebound_chances_offensive  30060 non-null  float64\n",
      " 13  secondary_assists          30060 non-null  float64\n",
      " 14  free_throw_assists         30060 non-null  float64\n",
      " 15  is_home_team               30060 non-null  int64  \n",
      " 16  won_game                   30060 non-null  int64  \n",
      " 17  is_regular_game            30060 non-null  int64  \n",
      "dtypes: float64(15), int64(3)\n",
      "memory usage: 4.1 MB\n"
     ]
    }
   ],
   "source": [
    "df_full.info()"
   ]
  },
  {
   "cell_type": "code",
   "execution_count": 10,
   "id": "4f506577",
   "metadata": {},
   "outputs": [
    {
     "data": {
      "text/html": [
       "<div>\n",
       "<style scoped>\n",
       "    .dataframe tbody tr th:only-of-type {\n",
       "        vertical-align: middle;\n",
       "    }\n",
       "\n",
       "    .dataframe tbody tr th {\n",
       "        vertical-align: top;\n",
       "    }\n",
       "\n",
       "    .dataframe thead th {\n",
       "        text-align: right;\n",
       "    }\n",
       "</style>\n",
       "<table border=\"1\" class=\"dataframe\">\n",
       "  <thead>\n",
       "    <tr style=\"text-align: right;\">\n",
       "      <th>col_0</th>\n",
       "      <th>count</th>\n",
       "    </tr>\n",
       "    <tr>\n",
       "      <th>won_game</th>\n",
       "      <th></th>\n",
       "    </tr>\n",
       "  </thead>\n",
       "  <tbody>\n",
       "    <tr>\n",
       "      <th>0</th>\n",
       "      <td>0.5</td>\n",
       "    </tr>\n",
       "    <tr>\n",
       "      <th>1</th>\n",
       "      <td>0.5</td>\n",
       "    </tr>\n",
       "  </tbody>\n",
       "</table>\n",
       "</div>"
      ],
      "text/plain": [
       "col_0     count\n",
       "won_game       \n",
       "0           0.5\n",
       "1           0.5"
      ]
     },
     "execution_count": 10,
     "metadata": {},
     "output_type": "execute_result"
    }
   ],
   "source": [
    "# Check for Class Imbalance (We should see around a 50/50 split)\n",
    "ct = pd.crosstab(index=df_full['won_game'], columns='count')\n",
    "ct_norm = ct / ct.sum() # to show percentages\n",
    "ct_norm"
   ]
  },
  {
   "cell_type": "markdown",
   "id": "5763649a",
   "metadata": {},
   "source": [
    "## Model Building\n",
    "\n",
    "Now that the data has been preprocessed, we can create the models for the analysis. We will be using the following models:\n",
    "\n",
    "- Logistic Regression (LR)\n",
    "- Decision Trees (DT)\n",
    "- Random Forest (RF)\n",
    "- Support Vector Machines (SVM)\n",
    "- Adaptive Neural Networks (ANN)\n",
    "- XGBoost (XGB)\n",
    "\n",
    "### Methodology\n",
    "\n",
    "The team created an 80/20 test-train split, and created the listed models with the training data. These models were then used to gather predictions of the testing data, and the predictions were compared against the observed dependent variable in the testing split. This gave us accuracy measures and ROC scores to compare the models and examine their effectiveness.\n",
    "\n",
    "After running the models initially, features in the dataset had a feature importance of over 90%, leading to severe overfitting, and a feature audit had to be performed. The features removed were the raw and estimated offensive, defensive, and overall team ratings. Once these changes were made, the overfitting issue was resolved. The ROC, AUC, Accuracy, and Misclassification measures then provided the team with the following rankings for the models, based on their AUC.\n",
    "\n",
    "- 1. SVM\n",
    "- 2. Logistic Regression\n",
    "- 3. ANN\n",
    "- 4. XGBoost\n",
    "- 5. RF\n",
    "- 6. DT\n",
    "\n",
    "\n"
   ]
  },
  {
   "cell_type": "markdown",
   "id": "69934650",
   "metadata": {},
   "source": [
    "### Test-Train Split"
   ]
  },
  {
   "cell_type": "code",
   "execution_count": 11,
   "id": "80bb1629",
   "metadata": {},
   "outputs": [],
   "source": [
    "dep_var_name = 'won_game'\n",
    "\n",
    "dep_var = df_full[dep_var_name]\n",
    "ind_var = df_full.drop([dep_var_name], axis=1)\n",
    "\n",
    "# data partitioning\n",
    "from sklearn.model_selection import train_test_split\n",
    "train_X, test_X, train_y, test_y = train_test_split(ind_var, dep_var, test_size=0.2, random_state=42)\n",
    "\n",
    "# # Perform Mean Encoding\n",
    "# from feature_engine.encoding import MeanEncoder\n",
    "# mean_enc = MeanEncoder().fit(train_X, train_y)\n",
    "\n",
    "# mean_enc_train = mean_enc.transform(train_X)\n",
    "# mean_enc_test = mean_enc.transform(test_X)\n",
    "\n",
    "# Standardize Data for the Models\n",
    "from sklearn.preprocessing import StandardScaler\n",
    "scaler = StandardScaler().fit(train_X)\n",
    "\n",
    "std_train = pd.DataFrame(scaler.transform(train_X), columns=train_X.columns)\n",
    "std_test = pd.DataFrame(scaler.transform(test_X), columns=test_X.columns)"
   ]
  },
  {
   "cell_type": "code",
   "execution_count": 12,
   "id": "31c4995d",
   "metadata": {},
   "outputs": [],
   "source": [
    "from sklearn.metrics import accuracy_score, roc_auc_score, roc_curve"
   ]
  },
  {
   "cell_type": "markdown",
   "id": "ed8f97af",
   "metadata": {},
   "source": [
    "### Logistic Regression Model"
   ]
  },
  {
   "cell_type": "code",
   "execution_count": 13,
   "id": "14a8a079",
   "metadata": {},
   "outputs": [],
   "source": [
    "from sklearn.linear_model import LogisticRegression\n",
    "lr_model = LogisticRegression(solver='liblinear', random_state=42).fit(train_X, train_y)\n",
    "\n",
    "lr_class = lr_model.predict(test_X)\n",
    "lr_acc = accuracy_score(test_y, lr_class)\n",
    "lr_mis = 1 - lr_acc"
   ]
  },
  {
   "cell_type": "markdown",
   "id": "4f7f2441",
   "metadata": {},
   "source": [
    "### Decision Tree Model"
   ]
  },
  {
   "cell_type": "code",
   "execution_count": 14,
   "id": "7353760d",
   "metadata": {},
   "outputs": [],
   "source": [
    "from sklearn.tree import DecisionTreeClassifier\n",
    "dt_model = DecisionTreeClassifier(random_state=42, max_depth=3).fit(std_train, train_y)\n",
    "dt_class = dt_model.predict(std_test)\n",
    "dt_acc = accuracy_score(test_y, dt_class)\n",
    "dt_mis = 1 - dt_acc"
   ]
  },
  {
   "cell_type": "markdown",
   "id": "62b36550",
   "metadata": {},
   "source": [
    "### Random Forest Model"
   ]
  },
  {
   "cell_type": "code",
   "execution_count": 15,
   "id": "1bcf916e",
   "metadata": {},
   "outputs": [],
   "source": [
    "from sklearn.ensemble import RandomForestClassifier\n",
    "rf_model = RandomForestClassifier(random_state=42, max_depth=3).fit(std_train, train_y)\n",
    "\n",
    "rf_class = rf_model.predict(std_test)\n",
    "rf_acc = accuracy_score(test_y, rf_class)\n",
    "rf_mis = 1 - rf_acc"
   ]
  },
  {
   "cell_type": "markdown",
   "id": "30393e8e",
   "metadata": {},
   "source": [
    "### SVM Model"
   ]
  },
  {
   "cell_type": "code",
   "execution_count": 16,
   "id": "58415514",
   "metadata": {},
   "outputs": [],
   "source": [
    "from sklearn.svm import SVC\n",
    "svm_model = SVC(random_state=50).fit(std_train, train_y)\n",
    "\n",
    "svm_class = svm_model.predict(std_test)\n",
    "svm_acc = accuracy_score(test_y, svm_class)\n",
    "svm_mis = 1 - svm_acc"
   ]
  },
  {
   "cell_type": "markdown",
   "id": "db95476f",
   "metadata": {},
   "source": [
    "### ANN Model"
   ]
  },
  {
   "cell_type": "code",
   "execution_count": 17,
   "id": "685bd4bb",
   "metadata": {},
   "outputs": [],
   "source": [
    "from sklearn.neural_network import MLPClassifier\n",
    "ann_model = MLPClassifier(hidden_layer_sizes=3,\n",
    "                    random_state=50,\n",
    "                    activation='logistic',\n",
    "                    solver='sgd',\n",
    "                    max_iter=400).fit(std_train, train_y)\n",
    "\n",
    "ann_class = ann_model.predict(std_test)\n",
    "ann_acc = accuracy_score(test_y, ann_class)\n",
    "ann_mis = 1 - ann_acc"
   ]
  },
  {
   "cell_type": "markdown",
   "id": "65024e83",
   "metadata": {},
   "source": [
    "### XGBoost Model"
   ]
  },
  {
   "cell_type": "code",
   "execution_count": 18,
   "id": "ecd5031e",
   "metadata": {},
   "outputs": [],
   "source": [
    "from xgboost import XGBClassifier\n",
    "xgb_model = XGBClassifier(eval_metric='logloss',\n",
    "                          n_estimators=5, \n",
    "                          max_depth=5, \n",
    "                          learning_rate=.1).fit(std_train, train_y)\n",
    "\n",
    "xgb_class = xgb_model.predict(std_test)\n",
    "xgb_acc = accuracy_score(test_y, xgb_class)\n",
    "xgb_mis = 1 - xgb_acc"
   ]
  },
  {
   "cell_type": "markdown",
   "id": "217f6fd6",
   "metadata": {},
   "source": [
    "## Model Evaluation"
   ]
  },
  {
   "cell_type": "markdown",
   "id": "1bc10ab0",
   "metadata": {},
   "source": [
    "### Accuracy and Misclassification Table\n",
    "\n"
   ]
  },
  {
   "cell_type": "code",
   "execution_count": 19,
   "id": "840280e9",
   "metadata": {},
   "outputs": [
    {
     "data": {
      "text/html": [
       "<div>\n",
       "<style scoped>\n",
       "    .dataframe tbody tr th:only-of-type {\n",
       "        vertical-align: middle;\n",
       "    }\n",
       "\n",
       "    .dataframe tbody tr th {\n",
       "        vertical-align: top;\n",
       "    }\n",
       "\n",
       "    .dataframe thead th {\n",
       "        text-align: right;\n",
       "    }\n",
       "</style>\n",
       "<table border=\"1\" class=\"dataframe\">\n",
       "  <thead>\n",
       "    <tr style=\"text-align: right;\">\n",
       "      <th></th>\n",
       "      <th>Model</th>\n",
       "      <th>Accuracy</th>\n",
       "      <th>Misclassification Rate</th>\n",
       "    </tr>\n",
       "  </thead>\n",
       "  <tbody>\n",
       "    <tr>\n",
       "      <th>0</th>\n",
       "      <td>Logistic Regression</td>\n",
       "      <td>0.741351</td>\n",
       "      <td>0.258649</td>\n",
       "    </tr>\n",
       "    <tr>\n",
       "      <th>1</th>\n",
       "      <td>Decision Tree</td>\n",
       "      <td>0.654857</td>\n",
       "      <td>0.345143</td>\n",
       "    </tr>\n",
       "    <tr>\n",
       "      <th>2</th>\n",
       "      <td>Random Forest</td>\n",
       "      <td>0.685130</td>\n",
       "      <td>0.314870</td>\n",
       "    </tr>\n",
       "    <tr>\n",
       "      <th>3</th>\n",
       "      <td>SVM</td>\n",
       "      <td>0.744844</td>\n",
       "      <td>0.255156</td>\n",
       "    </tr>\n",
       "    <tr>\n",
       "      <th>4</th>\n",
       "      <td>ANN</td>\n",
       "      <td>0.737359</td>\n",
       "      <td>0.262641</td>\n",
       "    </tr>\n",
       "    <tr>\n",
       "      <th>5</th>\n",
       "      <td>XGBoost</td>\n",
       "      <td>0.694444</td>\n",
       "      <td>0.305556</td>\n",
       "    </tr>\n",
       "  </tbody>\n",
       "</table>\n",
       "</div>"
      ],
      "text/plain": [
       "                 Model  Accuracy  Misclassification Rate\n",
       "0  Logistic Regression  0.741351                0.258649\n",
       "1        Decision Tree  0.654857                0.345143\n",
       "2        Random Forest  0.685130                0.314870\n",
       "3                  SVM  0.744844                0.255156\n",
       "4                  ANN  0.737359                0.262641\n",
       "5              XGBoost  0.694444                0.305556"
      ]
     },
     "execution_count": 19,
     "metadata": {},
     "output_type": "execute_result"
    }
   ],
   "source": [
    "data = {\n",
    "    'Model': ['Logistic Regression', 'Decision Tree', 'Random Forest', 'SVM', 'ANN', 'XGBoost'],\n",
    "    'Accuracy': [lr_acc, dt_acc, rf_acc, svm_acc, ann_acc, xgb_acc],\n",
    "    'Misclassification Rate': [lr_mis, dt_mis, rf_mis, svm_mis, ann_mis, xgb_mis]\n",
    "}\n",
    "\n",
    "df_acc_mis = pd.DataFrame(data)\n",
    "df_acc_mis\n"
   ]
  },
  {
   "cell_type": "markdown",
   "id": "1718dbc9",
   "metadata": {},
   "source": [
    "### ROC Curves and AUC Score"
   ]
  },
  {
   "cell_type": "code",
   "execution_count": 20,
   "id": "7be51bd7",
   "metadata": {},
   "outputs": [],
   "source": [
    "lr_auc = roc_auc_score(test_y, lr_class)\n",
    "dt_auc = roc_auc_score(test_y, dt_class)\n",
    "rf_auc = roc_auc_score(test_y, rf_class)\n",
    "svm_auc = roc_auc_score(test_y, svm_class)\n",
    "ann_auc = roc_auc_score(test_y, ann_class)\n",
    "xgb_auc = roc_auc_score(test_y, xgb_class)\n",
    "\n",
    "lr_fpr, lr_tpr, _ = roc_curve(test_y, lr_class)\n",
    "dt_fpr, dt_tpr, _ = roc_curve(test_y, dt_class)\n",
    "rf_fpr, rf_tpr, _ = roc_curve(test_y, rf_class)\n",
    "svm_fpr, svm_tpr, _ = roc_curve(test_y, svm_class)\n",
    "ann_fpr, ann_tpr, _ = roc_curve(test_y, ann_class)\n",
    "xgb_fpr, xgb_tpr, _ = roc_curve(test_y, xgb_class)"
   ]
  },
  {
   "cell_type": "code",
   "execution_count": 21,
   "id": "ae4a3e13",
   "metadata": {},
   "outputs": [
    {
     "data": {
      "image/png": "[encoded data removed]",
      "text/plain": [
       "<Figure size 640x480 with 1 Axes>"
      ]
     },
     "metadata": {},
     "output_type": "display_data"
    }
   ],
   "source": [
    "import matplotlib.pyplot as plt\n",
    "\n",
    "plt.plot(lr_fpr, lr_tpr, linestyle='--', label='{}{:.3f}'.format(\"LR AUC=\", lr_auc))\n",
    "plt.plot(dt_fpr, dt_tpr, linestyle='--', label='{}{:.3f}'.format(\"DT AUC=\", dt_auc))\n",
    "plt.plot(rf_fpr, rf_tpr, linestyle='--', label='{}{:.3f}'.format(\"RF AUC=\", rf_auc))\n",
    "plt.plot(svm_fpr, svm_tpr, linestyle='--', label='{}{:.3f}'.format(\"SVM AUC=\", svm_auc))\n",
    "plt.plot(ann_fpr, ann_tpr, linestyle='--', label='{}{:.3f}'.format(\"ANN AUC=\", ann_auc))\n",
    "plt.plot(xgb_fpr, xgb_tpr, linestyle='--', label='{}{:.3f}'.format(\"XGB AUC=\", xgb_auc))\n",
    "plt.plot([0,1], [0,1], linestyle='solid', c='k')\n",
    "\n",
    "\n",
    "plt.title('Comparing Models predicting is_home_team')\n",
    "plt.xlabel('False Positive Rate')\n",
    "plt.ylabel('True Positive Rate')\n",
    "plt.legend(loc='lower right')\n",
    "plt.show()"
   ]
  },
  {
   "cell_type": "markdown",
   "id": "5480b86d",
   "metadata": {},
   "source": [
    "## Examining Feature Importance\n",
    "\n",
    "~~We are currently getting around 96% accuracy for all models, indicating extreme overfitting. We need to examine the feature importance of the training data to make sure each feature is relatively predictive, without an extreme outlier.~~\n",
    "\n",
    "Now the models are returning closer to 75%, which aligns with usual accuracy metrics for win classification models and doesn't seem to indicate overfitting. Additionally, features only have a maximum predictive weight of around 50%, much lower than the initial 90+% we were seeing before."
   ]
  },
  {
   "cell_type": "markdown",
   "id": "344bcae4",
   "metadata": {},
   "source": [
    "### LR Coefficients (Log Odds Interpretation)"
   ]
  },
  {
   "cell_type": "markdown",
   "id": "0ca6411d",
   "metadata": {},
   "source": [
    "First lets grab the coefficients and relevant feature names into a df to examine"
   ]
  },
  {
   "cell_type": "code",
   "execution_count": 28,
   "id": "71513288",
   "metadata": {},
   "outputs": [
    {
     "name": "stdout",
     "output_type": "stream",
     "text": [
      "                  Feature     Coeff\n",
      "7               turnovers -0.203541\n",
      "10                   pace -0.143877\n",
      "0   field_goals_attempted -0.113085\n",
      "\n",
      "               Feature     Coeff\n",
      "4   rebounds_defensive  0.248570\n",
      "5               steals  0.265705\n",
      "15        is_home_team  0.441072\n"
     ]
    }
   ],
   "source": [
    "coeffs = lr_model.coef_[0]\n",
    "feature_names = train_X.columns\n",
    "\n",
    "log_df = pd.DataFrame({'Feature': feature_names, 'Coeff':coeffs})\n",
    "# manually inspect sorted log_df and manually inspect for top and bottom N rows (highest magnitude = strongest) \n",
    "print(log_df.sort_values(by='Coeff', ascending=True).head(3))\n",
    "print()\n",
    "print(log_df.sort_values(by='Coeff', ascending=True).tail(3))"
   ]
  },
  {
   "cell_type": "code",
   "execution_count": 29,
   "id": "2769886c",
   "metadata": {},
   "outputs": [
    {
     "data": {
      "text/html": [
       "<div>\n",
       "<style scoped>\n",
       "    .dataframe tbody tr th:only-of-type {\n",
       "        vertical-align: middle;\n",
       "    }\n",
       "\n",
       "    .dataframe tbody tr th {\n",
       "        vertical-align: top;\n",
       "    }\n",
       "\n",
       "    .dataframe thead th {\n",
       "        text-align: right;\n",
       "    }\n",
       "</style>\n",
       "<table border=\"1\" class=\"dataframe\">\n",
       "  <thead>\n",
       "    <tr style=\"text-align: right;\">\n",
       "      <th></th>\n",
       "      <th>Feature</th>\n",
       "      <th>Coeff</th>\n",
       "    </tr>\n",
       "  </thead>\n",
       "  <tbody>\n",
       "    <tr>\n",
       "      <th>7</th>\n",
       "      <td>turnovers</td>\n",
       "      <td>-0.203541</td>\n",
       "    </tr>\n",
       "    <tr>\n",
       "      <th>10</th>\n",
       "      <td>pace</td>\n",
       "      <td>-0.143877</td>\n",
       "    </tr>\n",
       "    <tr>\n",
       "      <th>0</th>\n",
       "      <td>field_goals_attempted</td>\n",
       "      <td>-0.113085</td>\n",
       "    </tr>\n",
       "    <tr>\n",
       "      <th>14</th>\n",
       "      <td>free_throw_assists</td>\n",
       "      <td>-0.083757</td>\n",
       "    </tr>\n",
       "    <tr>\n",
       "      <th>12</th>\n",
       "      <td>rebound_chances_offensive</td>\n",
       "      <td>-0.056378</td>\n",
       "    </tr>\n",
       "    <tr>\n",
       "      <th>8</th>\n",
       "      <td>fouls_personal</td>\n",
       "      <td>-0.013900</td>\n",
       "    </tr>\n",
       "    <tr>\n",
       "      <th>1</th>\n",
       "      <td>three_pointers_attempted</td>\n",
       "      <td>-0.002469</td>\n",
       "    </tr>\n",
       "    <tr>\n",
       "      <th>2</th>\n",
       "      <td>free_throws_attempted</td>\n",
       "      <td>0.015567</td>\n",
       "    </tr>\n",
       "    <tr>\n",
       "      <th>11</th>\n",
       "      <td>distance</td>\n",
       "      <td>0.040554</td>\n",
       "    </tr>\n",
       "    <tr>\n",
       "      <th>6</th>\n",
       "      <td>blocks</td>\n",
       "      <td>0.074441</td>\n",
       "    </tr>\n",
       "    <tr>\n",
       "      <th>9</th>\n",
       "      <td>estimated_pace</td>\n",
       "      <td>0.134431</td>\n",
       "    </tr>\n",
       "    <tr>\n",
       "      <th>3</th>\n",
       "      <td>rebounds_offensive</td>\n",
       "      <td>0.174485</td>\n",
       "    </tr>\n",
       "    <tr>\n",
       "      <th>13</th>\n",
       "      <td>secondary_assists</td>\n",
       "      <td>0.211967</td>\n",
       "    </tr>\n",
       "    <tr>\n",
       "      <th>16</th>\n",
       "      <td>is_regular_game</td>\n",
       "      <td>0.228433</td>\n",
       "    </tr>\n",
       "    <tr>\n",
       "      <th>4</th>\n",
       "      <td>rebounds_defensive</td>\n",
       "      <td>0.248570</td>\n",
       "    </tr>\n",
       "    <tr>\n",
       "      <th>5</th>\n",
       "      <td>steals</td>\n",
       "      <td>0.265705</td>\n",
       "    </tr>\n",
       "    <tr>\n",
       "      <th>15</th>\n",
       "      <td>is_home_team</td>\n",
       "      <td>0.441072</td>\n",
       "    </tr>\n",
       "  </tbody>\n",
       "</table>\n",
       "</div>"
      ],
      "text/plain": [
       "                      Feature     Coeff\n",
       "7                   turnovers -0.203541\n",
       "10                       pace -0.143877\n",
       "0       field_goals_attempted -0.113085\n",
       "14         free_throw_assists -0.083757\n",
       "12  rebound_chances_offensive -0.056378\n",
       "8              fouls_personal -0.013900\n",
       "1    three_pointers_attempted -0.002469\n",
       "2       free_throws_attempted  0.015567\n",
       "11                   distance  0.040554\n",
       "6                      blocks  0.074441\n",
       "9              estimated_pace  0.134431\n",
       "3          rebounds_offensive  0.174485\n",
       "13          secondary_assists  0.211967\n",
       "16            is_regular_game  0.228433\n",
       "4          rebounds_defensive  0.248570\n",
       "5                      steals  0.265705\n",
       "15               is_home_team  0.441072"
      ]
     },
     "execution_count": 29,
     "metadata": {},
     "output_type": "execute_result"
    }
   ],
   "source": [
    "log_df.sort_values(by='Coeff', ascending=True)"
   ]
  },
  {
   "cell_type": "markdown",
   "id": "337d1aef",
   "metadata": {},
   "source": [
    "We've manually identified the strongest features (3 highest and 3 lowest coeff values)"
   ]
  },
  {
   "cell_type": "code",
   "execution_count": 30,
   "id": "d89169fd",
   "metadata": {},
   "outputs": [
    {
     "name": "stdout",
     "output_type": "stream",
     "text": [
      "For each additional field_goals_attempted the odds of winning an NBA game DECREASE by a factor of 0.8930750064974812\n",
      "\n",
      "For each additional rebounds_defensive the odds of winning an NBA game INCREASE by a factor of 1.2821910608243325\n",
      "\n",
      "For each additional steals the odds of winning an NBA game INCREASE by a factor of 1.3043506376875598\n",
      "\n",
      "For each additional turnovers the odds of winning an NBA game DECREASE by a factor of 0.8158369254368842\n",
      "\n",
      "For each additional pace the odds of winning an NBA game DECREASE by a factor of 0.8659945547754891\n",
      "\n",
      "For each additional is_home_team the odds of winning an NBA game INCREASE by a factor of 1.5543731722298455\n",
      "\n"
     ]
    }
   ],
   "source": [
    "from math import exp\n",
    "\n",
    "strongest_features  = ['turnovers', 'pace', 'field_goals_attempted', 'rebounds_defensive', 'steals', 'is_home_team']\n",
    "\n",
    "for idx in range(log_df.shape[0]):\n",
    "    coeff = log_df['Coeff'].tolist()[idx]\n",
    "    feature = log_df['Feature'].tolist()[idx]\n",
    "    \n",
    "    if feature in strongest_features:\n",
    "    \n",
    "        factor = exp(coeff)\n",
    "        if factor > 1: \n",
    "            print(f'For each additional {feature} the odds of winning an NBA game INCREASE by a factor of {factor}\\n')\n",
    "        \n",
    "        elif factor < 1:\n",
    "            print(f'For each additional {feature} the odds of winning an NBA game DECREASE by a factor of {factor}\\n')"
   ]
  },
  {
   "cell_type": "markdown",
   "id": "a665339d",
   "metadata": {},
   "source": [
    "For that last binary case, add at the end saying 'compared to having an away game' (since thats what 0 for that var means)"
   ]
  },
  {
   "cell_type": "markdown",
   "id": "ce7ff027",
   "metadata": {},
   "source": [
    "## Insightful summary statistics"
   ]
  },
  {
   "cell_type": "markdown",
   "id": "fa275c00",
   "metadata": {},
   "source": [
    "### turnover impact on won_game"
   ]
  },
  {
   "cell_type": "code",
   "execution_count": 31,
   "id": "71da8295",
   "metadata": {},
   "outputs": [
    {
     "name": "stdout",
     "output_type": "stream",
     "text": [
      "Win % by Turnover Group:\n",
      "                   Win %  Number of Games\n",
      "turnover_group                           \n",
      "(1.0, 11.0]     0.561647             9303\n",
      "(11.0, 13.0]    0.511992             5879\n",
      "(13.0, 16.0]    0.484103             8052\n",
      "(16.0, 33.0]    0.424238             6824\n"
     ]
    },
    {
     "name": "stderr",
     "output_type": "stream",
     "text": [
      "C:\\Users\\abhi-\\AppData\\Local\\Temp\\ipykernel_31348\\1448637694.py:7: FutureWarning: The default of observed=False is deprecated and will be changed to True in a future version of pandas. Pass observed=False to retain current behavior or observed=True to adopt the future default and silence this warning.\n",
      "  turnover_stats = df_test1.groupby('turnover_group')['won_game'].agg(['mean', 'count'])\n"
     ]
    }
   ],
   "source": [
    "df_test1 = df_full.copy()\n",
    "\n",
    "# Analyze impact of turnovers on win probability\n",
    "turnover_bins = np.quantile(df_test1['turnovers'], [0, 0.25, 0.5, 0.75, 1])\n",
    "df_test1['turnover_group'] = pd.cut(df_test1['turnovers'], bins=turnover_bins)\n",
    "\n",
    "turnover_stats = df_test1.groupby('turnover_group')['won_game'].agg(['mean', 'count'])\n",
    "turnover_stats.columns = ['Win %', 'Number of Games']\n",
    "print(\"Win % by Turnover Group:\")\n",
    "print(turnover_stats)"
   ]
  },
  {
   "cell_type": "markdown",
   "id": "0fb95ca6",
   "metadata": {},
   "source": [
    "### steal impact on won_game"
   ]
  },
  {
   "cell_type": "code",
   "execution_count": 32,
   "id": "fc086f5a",
   "metadata": {},
   "outputs": [
    {
     "name": "stdout",
     "output_type": "stream",
     "text": [
      "Win % by Steal Group\n",
      "                 Win %  Number of Games\n",
      "steals_group                           \n",
      "(0.0, 6.0]    0.431855            11050\n",
      "(6.0, 7.0]    0.492126             4064\n",
      "(7.0, 10.0]   0.530945             9937\n",
      "(10.0, 22.0]  0.596509             4984\n"
     ]
    },
    {
     "name": "stderr",
     "output_type": "stream",
     "text": [
      "C:\\Users\\abhi-\\AppData\\Local\\Temp\\ipykernel_31348\\3359310941.py:6: FutureWarning: The default of observed=False is deprecated and will be changed to True in a future version of pandas. Pass observed=False to retain current behavior or observed=True to adopt the future default and silence this warning.\n",
      "  steals_stats = df_test2.groupby('steals_group')['won_game'].agg(['mean', 'count'])\n"
     ]
    }
   ],
   "source": [
    "df_test2 = df_full.copy()\n",
    "\n",
    "steals_bins = np.quantile(df_test2['steals'], [0, 0.25, 0.5, 0.75, 1])\n",
    "df_test2['steals_group'] = pd.cut(df_test2['steals'], bins=steals_bins)\n",
    "\n",
    "steals_stats = df_test2.groupby('steals_group')['won_game'].agg(['mean', 'count'])\n",
    "steals_stats.columns = ['Win %', 'Number of Games']\n",
    "print('Win % by Steal Group')\n",
    "print(steals_stats)"
   ]
  },
  {
   "cell_type": "markdown",
   "id": "2beb6338",
   "metadata": {},
   "source": [
    "### rebound defensive impact on won_game"
   ]
  },
  {
   "cell_type": "code",
   "execution_count": 33,
   "id": "009be215",
   "metadata": {},
   "outputs": [
    {
     "name": "stdout",
     "output_type": "stream",
     "text": [
      "Win % by Rebounds Defensive Group\n",
      "                             Win %  Number of Games\n",
      "rebounds_defensive_group                           \n",
      "(1.0, 30.0]               0.287094             8903\n",
      "(30.0, 33.0]              0.437281             6282\n",
      "(33.0, 37.0]              0.578094             7952\n",
      "(37.0, 60.0]              0.741115             6922\n"
     ]
    },
    {
     "name": "stderr",
     "output_type": "stream",
     "text": [
      "C:\\Users\\abhi-\\AppData\\Local\\Temp\\ipykernel_31348\\1682830906.py:6: FutureWarning: The default of observed=False is deprecated and will be changed to True in a future version of pandas. Pass observed=False to retain current behavior or observed=True to adopt the future default and silence this warning.\n",
      "  rebounds_defensive_stats = df_test3.groupby('rebounds_defensive_group')['won_game'].agg(['mean', 'count'])\n"
     ]
    }
   ],
   "source": [
    "df_test3 = df_full.copy()\n",
    "\n",
    "rebounds_defensive_bins = np.quantile(df_test3['rebounds_defensive'], [0, 0.25, 0.5, 0.75, 1])\n",
    "df_test3['rebounds_defensive_group'] = pd.cut(df_test3['rebounds_defensive'], bins=rebounds_defensive_bins)\n",
    "\n",
    "rebounds_defensive_stats = df_test3.groupby('rebounds_defensive_group')['won_game'].agg(['mean', 'count'])\n",
    "rebounds_defensive_stats.columns = ['Win %', 'Number of Games']\n",
    "print('Win % by Rebounds Defensive Group')\n",
    "print(rebounds_defensive_stats)"
   ]
  },
  {
   "cell_type": "code",
   "execution_count": 44,
   "id": "95e6d01a",
   "metadata": {},
   "outputs": [
    {
     "data": {
      "image/png": "[encoded data removed]",
      "text/plain": [
       "<Figure size 1200x700 with 2 Axes>"
      ]
     },
     "metadata": {},
     "output_type": "display_data"
    }
   ],
   "source": [
    "import matplotlib.pyplot as plt\n",
    "import matplotlib.colors as mcolors\n",
    "import numpy as np\n",
    "\n",
    "# Setup the data\n",
    "rebound_groups = ['1-30', '30-33', '33-37', '37-60']\n",
    "win_percentages = [0.287094, 0.437281, 0.578094, 0.741115]\n",
    "game_counts = [8903, 6282, 7952, 6922]\n",
    "\n",
    "# Create a colormap to represent win percentages\n",
    "cmap = plt.cm.RdYlGn  # Red -> Yellow -> Green\n",
    "norm = mcolors.Normalize(vmin=0.25, vmax=0.8)  # Set range for color mapping\n",
    "\n",
    "fig, ax = plt.subplots(figsize=(12, 7))\n",
    "\n",
    "# Plot with gradient colors\n",
    "bars = ax.bar(rebound_groups, win_percentages, \n",
    "              color=[cmap(norm(pct)) for pct in win_percentages],\n",
    "              width=0.6)\n",
    "\n",
    "# Add win percentage labels on top of bars\n",
    "for bar, pct in zip(bars, win_percentages):\n",
    "    height = bar.get_height()\n",
    "    ax.text(bar.get_x() + bar.get_width()/2, height + 0.02,\n",
    "            f'{pct:.1%}', ha='center', va='bottom', fontsize=12, fontweight='bold',\n",
    "            color='black')\n",
    "\n",
    "# Add game count labels below x-axis\n",
    "for i, count in enumerate(game_counts):\n",
    "    ax.text(i, -0.05, f'n = {count:,}', ha='center', va='top', fontsize=10,\n",
    "            color='gray')\n",
    "\n",
    "# Add a reference line and text for 50% win rate\n",
    "ax.axhline(y=0.5, color='black', linestyle='--', alpha=0.5, linewidth=1)\n",
    "ax.text(3.5, 0.51, '50% Win Rate', fontsize=10, color='black', alpha=0.7)\n",
    "\n",
    "# Set labels and title\n",
    "ax.set_xlabel('Defensive Rebounds per Game', fontsize=14, labelpad=15)\n",
    "ax.set_ylabel('Win Percentage', fontsize=14, labelpad=15)\n",
    "ax.set_title('Impact of Defensive Rebounds on NBA Win Percentage', \n",
    "             fontsize=18, pad=20, fontweight='bold')\n",
    "\n",
    "# Styling\n",
    "ax.spines['top'].set_visible(False)\n",
    "ax.spines['right'].set_visible(False)\n",
    "ax.set_ylim(0, 0.85)\n",
    "ax.grid(axis='y', alpha=0.3, linestyle='--')\n",
    "\n",
    "# Add a colorbar legend\n",
    "sm = plt.cm.ScalarMappable(cmap=cmap, norm=norm)\n",
    "sm.set_array([])\n",
    "cbar = fig.colorbar(sm, ax=ax, orientation='horizontal', pad=0.1, aspect=30)\n",
    "cbar.set_label('Win Percentage', fontsize=12)\n",
    "\n",
    "plt.tight_layout()"
   ]
  },
  {
   "cell_type": "code",
   "execution_count": 45,
   "id": "b1f0e40b",
   "metadata": {},
   "outputs": [
    {
     "data": {
      "image/png": "[encoded data removed]",
      "text/plain": [
       "<Figure size 1000x600 with 2 Axes>"
      ]
     },
     "metadata": {},
     "output_type": "display_data"
    }
   ],
   "source": [
    "import matplotlib.pyplot as plt\n",
    "import numpy as np\n",
    "\n",
    "# Setup the data\n",
    "rebound_groups = ['1-30', '30-33', '33-37', '37-60']\n",
    "win_percentages = [0.287094, 0.437281, 0.578094, 0.741115]\n",
    "game_counts = [8903, 6282, 7952, 6922]\n",
    "\n",
    "# Create figure with two y-axes\n",
    "fig, ax1 = plt.subplots(figsize=(10, 6))\n",
    "ax2 = ax1.twinx()\n",
    "\n",
    "# Plot win percentage as a line with points\n",
    "line = ax1.plot(rebound_groups, win_percentages, 'o-', color='#1f77b4', linewidth=3, markersize=10)\n",
    "ax1.set_ylabel('Win Percentage', color='#1f77b4', fontsize=12)\n",
    "ax1.tick_params(axis='y', labelcolor='#1f77b4')\n",
    "ax1.set_ylim(0, 0.85)\n",
    "\n",
    "# Add win percentage labels\n",
    "for i, pct in enumerate(win_percentages):\n",
    "    ax1.annotate(f\"{pct:.1%}\", \n",
    "                xy=(i, pct),\n",
    "                xytext=(0, 10),\n",
    "                textcoords=\"offset points\",\n",
    "                ha='center', \n",
    "                fontweight='bold',\n",
    "                color='#1f77b4')\n",
    "\n",
    "# Plot game counts as bars\n",
    "bars = ax2.bar(rebound_groups, game_counts, alpha=0.3, color='gray')\n",
    "ax2.set_ylabel('Number of Games', color='gray', fontsize=12)\n",
    "ax2.tick_params(axis='y', labelcolor='gray')\n",
    "\n",
    "# Add game count labels inside bars\n",
    "for bar, count in zip(bars, game_counts):\n",
    "    ax2.annotate(f\"{count:,}\", \n",
    "                xy=(bar.get_x() + bar.get_width()/2, count/2),\n",
    "                ha='center', \n",
    "                color='#333333',\n",
    "                fontweight='bold')\n",
    "\n",
    "# Add a reference line at 50% win rate\n",
    "ax1.axhline(y=0.5, color='red', linestyle='--', alpha=0.5)\n",
    "ax1.text(3.5, 0.52, '50% Win Rate', fontsize=9, color='red', alpha=0.7)\n",
    "\n",
    "# Title and labels\n",
    "plt.title('NBA Win Percentage by Defensive Rebounds', fontsize=16, pad=20)\n",
    "ax1.set_xlabel('Defensive Rebounds per Game', fontsize=12, labelpad=10)\n",
    "plt.grid(axis='y', alpha=0.2)\n",
    "\n",
    "plt.tight_layout()"
   ]
  },
  {
   "cell_type": "code",
   "execution_count": 46,
   "id": "41c8bda1",
   "metadata": {},
   "outputs": [
    {
     "data": {
      "image/png": "[encoded data removed]",
      "text/plain": [
       "<Figure size 1000x600 with 1 Axes>"
      ]
     },
     "metadata": {},
     "output_type": "display_data"
    }
   ],
   "source": [
    "import matplotlib.pyplot as plt\n",
    "import numpy as np\n",
    "import seaborn as sns\n",
    "\n",
    "# Create labels for the rebound groups that are easier to read\n",
    "rebound_groups = ['1-30', '30-33', '33-37', '37-60']\n",
    "win_percentages = [0.287094, 0.437281, 0.578094, 0.741115]\n",
    "game_counts = [8903, 6282, 7952, 6922]\n",
    "\n",
    "plt.figure(figsize=(10, 6))\n",
    "bars = plt.bar(rebound_groups, win_percentages, color=sns.color_palette(\"Blues\", 4))\n",
    "\n",
    "# Add data labels on top of each bar\n",
    "for bar, win_pct in zip(bars, win_percentages):\n",
    "    plt.text(bar.get_x() + bar.get_width()/2, bar.get_height() + 0.02, \n",
    "             f\"{win_pct:.1%}\", ha='center', fontweight='bold')\n",
    "\n",
    "# Add game counts at the bottom of each bar\n",
    "for bar, count in zip(bars, game_counts):\n",
    "    plt.text(bar.get_x() + bar.get_width()/2, 0.03, \n",
    "             f\"n={count}\", ha='center', color='white', fontweight='bold')\n",
    "\n",
    "# Add a reference line at 50% win rate\n",
    "plt.axhline(y=0.5, color='gray', linestyle='--', alpha=0.7)\n",
    "plt.text(3.8, 0.51, '50% Win Rate', fontsize=9, alpha=0.7)\n",
    "\n",
    "# Styling\n",
    "plt.title('NBA Win Percentage by Defensive Rebounds', fontsize=16, pad=20)\n",
    "plt.xlabel('Defensive Rebounds per Game', fontsize=12, labelpad=10)\n",
    "plt.ylabel('Win Percentage', fontsize=12, labelpad=10)\n",
    "plt.ylim(0, 0.85)  # Set y-axis limit to leave room for labels\n",
    "plt.grid(axis='y', alpha=0.3)\n",
    "\n",
    "# Color the bars based on whether they're above or below 50% win rate\n",
    "for i, bar in enumerate(bars):\n",
    "    if win_percentages[i] > 0.5:\n",
    "        bar.set_color('#1f77b4')  # Blue for above 50%\n",
    "    else:\n",
    "        bar.set_color('#ff7f0e')  # Orange for below 50%\n",
    "\n",
    "plt.tight_layout()"
   ]
  },
  {
   "cell_type": "markdown",
   "id": "bc21e9b0",
   "metadata": {},
   "source": [
    "CHOSEN FOR CONCLUDING INSIGHTS\n",
    "- table\n",
    "- boxplot?\n",
    "- colored histogram?\n"
   ]
  },
  {
   "cell_type": "markdown",
   "id": "5bcce24e",
   "metadata": {},
   "source": [
    "### field goals attempted impact on won_game"
   ]
  },
  {
   "cell_type": "code",
   "execution_count": 34,
   "id": "60b95c42",
   "metadata": {},
   "outputs": [
    {
     "name": "stdout",
     "output_type": "stream",
     "text": [
      "Win % by Field Goals Attempted Group\n",
      "                                Win %  Number of Games\n",
      "field_goals_attempted_group                           \n",
      "(5.0, 81.0]                  0.519310             7535\n",
      "(81.0, 86.0]                 0.506397             7816\n",
      "(86.0, 91.0]                 0.498593             7463\n",
      "(91.0, 149.0]                0.474534             7245\n"
     ]
    },
    {
     "name": "stderr",
     "output_type": "stream",
     "text": [
      "C:\\Users\\abhi-\\AppData\\Local\\Temp\\ipykernel_31348\\3234007565.py:6: FutureWarning: The default of observed=False is deprecated and will be changed to True in a future version of pandas. Pass observed=False to retain current behavior or observed=True to adopt the future default and silence this warning.\n",
      "  field_goals_attempted_stats = df_test4.groupby('field_goals_attempted_group')['won_game'].agg(['mean', 'count'])\n"
     ]
    }
   ],
   "source": [
    "df_test4 = df_full.copy()\n",
    "\n",
    "field_goals_attempted_bins = np.quantile(df_test4['field_goals_attempted'], [0, 0.25, 0.5, 0.75, 1])\n",
    "df_test4['field_goals_attempted_group'] = pd.cut(df_test4['field_goals_attempted'], bins=field_goals_attempted_bins)\n",
    "\n",
    "field_goals_attempted_stats = df_test4.groupby('field_goals_attempted_group')['won_game'].agg(['mean', 'count'])\n",
    "field_goals_attempted_stats.columns = ['Win %', 'Number of Games']\n",
    "print('Win % by Field Goals Attempted Group')\n",
    "print(field_goals_attempted_stats)"
   ]
  },
  {
   "cell_type": "code",
   "execution_count": 35,
   "id": "04326f4e",
   "metadata": {},
   "outputs": [
    {
     "name": "stdout",
     "output_type": "stream",
     "text": [
      "Home Team Win %: 0.5707 (57.1%)\n",
      "Away Team Win %: 0.4293 (42.9%)\n"
     ]
    }
   ],
   "source": [
    "# Calculate win percentages by home vs. away status\n",
    "home_win_pct = df_full[df_full['is_home_team'] == 1]['won_game'].mean()\n",
    "away_win_pct = df_full[df_full['is_home_team'] == 0]['won_game'].mean()\n",
    "\n",
    "print(f\"Home Team Win %: {home_win_pct:.4f} ({home_win_pct*100:.1f}%)\")\n",
    "print(f\"Away Team Win %: {away_win_pct:.4f} ({away_win_pct*100:.1f}%)\")"
   ]
  },
  {
   "cell_type": "markdown",
   "id": "71db4bf0",
   "metadata": {},
   "source": [
    "checking my work"
   ]
  },
  {
   "cell_type": "markdown",
   "id": "bd3738c3",
   "metadata": {},
   "source": [
    "### Export Models to PKL"
   ]
  },
  {
   "cell_type": "code",
   "execution_count": 42,
   "id": "22dfac07",
   "metadata": {},
   "outputs": [],
   "source": [
    "# path = '/Users/dB/Documents/repos/github/bint-capstone/projects/client-presentation-3/streamlit/models'\n",
    "\n",
    "# import joblib\n",
    "# joblib.dump(lr_model, f'{path}lr_model.pkl', compress=3)\n",
    "# joblib.dump(dt_model, f'{path}dt_model.pkl', compress=3)\n",
    "# joblib.dump(rf_model, f'{path}rf_model.pkl', compress=3)\n",
    "# joblib.dump(svm_model, f'{path}svm_model.pkl', compress=3)\n",
    "# joblib.dump(ann_model, f'{path}ann_model.pkl', compress=3)\n",
    "# joblib.dump(xgb_model, f'{path}xgb_model.pkl', compress=3)\n",
    "\n",
    "# # To read these, use joblib.load('path/to/file.pkl')"
   ]
  }
 ],
 "metadata": {
  "kernelspec": {
   "display_name": "capstone2",
   "language": "python",
   "name": "python3"
  },
  "language_info": {
   "codemirror_mode": {
    "name": "ipython",
    "version": 3
   },
   "file_extension": ".py",
   "mimetype": "text/x-python",
   "name": "python",
   "nbconvert_exporter": "python",
   "pygments_lexer": "ipython3",
   "version": "3.11.11"
  }
 },
 "nbformat": 4,
 "nbformat_minor": 5
}
