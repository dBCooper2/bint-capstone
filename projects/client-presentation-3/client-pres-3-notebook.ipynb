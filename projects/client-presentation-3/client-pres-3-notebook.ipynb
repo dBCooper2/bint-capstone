{
 "cells": [
  {
   "cell_type": "markdown",
   "id": "ab690180",
   "metadata": {},
   "source": [
    "# NBA Data Analysis 3 :: Win Classification Models\n",
    "\n",
    "###### Abhishek Menothu, Johnathen Wigfall, Scott Campbell, Trevor Rowland\n",
    "\n",
    "## Executive Summary, Business Context\n",
    "\n",
    "This notebook aims to create classification models to predict wins in NBA games given summary statistics of a game. Using these models, coaches, teams, and organizations can examine the predictor variables with high predictive weight in classifying a win or loss, and can focus on improving those statistics to drive more wins.\n",
    "\n",
    "**GO BACK AND MODIFY WITH INSIGHTS, THIS SHOULD EXPLAIN THE PRESENTATION WITHOUT HAVING TO SCROLL FURTHER**\n",
    "\n",
    "## Data Overview\n",
    "\n",
    "The data used is NBA Box Scores collected from 2004-2024, and filtered down to 2013-2024. This filtering was done due to weaker data in the older seasons and poor data collection from the NBA. The data is accessed from a google drive folder, and can be seen below.\n",
    "\n",
    "**ADD A SUMMARY HERE. WE...**\n",
    "- Drop NA Data\n",
    "- Remove ID Values\n",
    "- Remove Postgame Totals with high predictive power"
   ]
  },
  {
   "cell_type": "code",
   "execution_count": 1,
   "id": "8fad3a25",
   "metadata": {},
   "outputs": [
    {
     "data": {
      "text/html": [
       "<div>\n",
       "<style scoped>\n",
       "    .dataframe tbody tr th:only-of-type {\n",
       "        vertical-align: middle;\n",
       "    }\n",
       "\n",
       "    .dataframe tbody tr th {\n",
       "        vertical-align: top;\n",
       "    }\n",
       "\n",
       "    .dataframe thead th {\n",
       "        text-align: right;\n",
       "    }\n",
       "</style>\n",
       "<table border=\"1\" class=\"dataframe\">\n",
       "  <thead>\n",
       "    <tr style=\"text-align: right;\">\n",
       "      <th></th>\n",
       "      <th>game_id</th>\n",
       "      <th>season</th>\n",
       "      <th>team_id</th>\n",
       "      <th>team_name</th>\n",
       "      <th>tri_code</th>\n",
       "      <th>team_slug</th>\n",
       "      <th>minutes</th>\n",
       "      <th>field_goals_made</th>\n",
       "      <th>field_goals_attempted</th>\n",
       "      <th>field_goals_percentage</th>\n",
       "      <th>...</th>\n",
       "      <th>uncontested_field_goals_percentage</th>\n",
       "      <th>field_goal_percentage</th>\n",
       "      <th>defended_at_rim_field_goals_made</th>\n",
       "      <th>defended_at_rim_field_goals_attempted</th>\n",
       "      <th>defended_at_rim_field_goal_percentage</th>\n",
       "      <th>opponent_points</th>\n",
       "      <th>is_home_team</th>\n",
       "      <th>won_game</th>\n",
       "      <th>is_playoff_game</th>\n",
       "      <th>is_regular_game</th>\n",
       "    </tr>\n",
       "  </thead>\n",
       "  <tbody>\n",
       "    <tr>\n",
       "      <th>0</th>\n",
       "      <td>41300405</td>\n",
       "      <td>2013-14</td>\n",
       "      <td>1610612759</td>\n",
       "      <td>Spurs</td>\n",
       "      <td>SAS</td>\n",
       "      <td>spurs</td>\n",
       "      <td>240:00</td>\n",
       "      <td>37.0</td>\n",
       "      <td>78.0</td>\n",
       "      <td>0.474</td>\n",
       "      <td>...</td>\n",
       "      <td>0.475</td>\n",
       "      <td>0.474</td>\n",
       "      <td>15.0</td>\n",
       "      <td>24.0</td>\n",
       "      <td>0.625</td>\n",
       "      <td>87.0</td>\n",
       "      <td>1</td>\n",
       "      <td>1</td>\n",
       "      <td>1</td>\n",
       "      <td>0</td>\n",
       "    </tr>\n",
       "    <tr>\n",
       "      <th>1</th>\n",
       "      <td>41300404</td>\n",
       "      <td>2013-14</td>\n",
       "      <td>1610612748</td>\n",
       "      <td>Heat</td>\n",
       "      <td>MIA</td>\n",
       "      <td>heat</td>\n",
       "      <td>240:00</td>\n",
       "      <td>32.0</td>\n",
       "      <td>71.0</td>\n",
       "      <td>0.451</td>\n",
       "      <td>...</td>\n",
       "      <td>0.439</td>\n",
       "      <td>0.451</td>\n",
       "      <td>16.0</td>\n",
       "      <td>19.0</td>\n",
       "      <td>0.842</td>\n",
       "      <td>107.0</td>\n",
       "      <td>1</td>\n",
       "      <td>0</td>\n",
       "      <td>1</td>\n",
       "      <td>0</td>\n",
       "    </tr>\n",
       "    <tr>\n",
       "      <th>2</th>\n",
       "      <td>41300403</td>\n",
       "      <td>2013-14</td>\n",
       "      <td>1610612748</td>\n",
       "      <td>Heat</td>\n",
       "      <td>MIA</td>\n",
       "      <td>heat</td>\n",
       "      <td>240:00</td>\n",
       "      <td>32.0</td>\n",
       "      <td>62.0</td>\n",
       "      <td>0.516</td>\n",
       "      <td>...</td>\n",
       "      <td>0.516</td>\n",
       "      <td>0.516</td>\n",
       "      <td>14.0</td>\n",
       "      <td>20.0</td>\n",
       "      <td>0.700</td>\n",
       "      <td>111.0</td>\n",
       "      <td>1</td>\n",
       "      <td>0</td>\n",
       "      <td>1</td>\n",
       "      <td>0</td>\n",
       "    </tr>\n",
       "    <tr>\n",
       "      <th>3</th>\n",
       "      <td>41300402</td>\n",
       "      <td>2013-14</td>\n",
       "      <td>1610612759</td>\n",
       "      <td>Spurs</td>\n",
       "      <td>SAS</td>\n",
       "      <td>spurs</td>\n",
       "      <td>240:00</td>\n",
       "      <td>36.0</td>\n",
       "      <td>82.0</td>\n",
       "      <td>0.439</td>\n",
       "      <td>...</td>\n",
       "      <td>0.452</td>\n",
       "      <td>0.439</td>\n",
       "      <td>17.0</td>\n",
       "      <td>24.0</td>\n",
       "      <td>0.708</td>\n",
       "      <td>98.0</td>\n",
       "      <td>1</td>\n",
       "      <td>0</td>\n",
       "      <td>1</td>\n",
       "      <td>0</td>\n",
       "    </tr>\n",
       "    <tr>\n",
       "      <th>4</th>\n",
       "      <td>41300401</td>\n",
       "      <td>2013-14</td>\n",
       "      <td>1610612759</td>\n",
       "      <td>Spurs</td>\n",
       "      <td>SAS</td>\n",
       "      <td>spurs</td>\n",
       "      <td>240:00</td>\n",
       "      <td>40.0</td>\n",
       "      <td>68.0</td>\n",
       "      <td>0.588</td>\n",
       "      <td>...</td>\n",
       "      <td>0.472</td>\n",
       "      <td>0.588</td>\n",
       "      <td>12.0</td>\n",
       "      <td>21.0</td>\n",
       "      <td>0.571</td>\n",
       "      <td>95.0</td>\n",
       "      <td>1</td>\n",
       "      <td>1</td>\n",
       "      <td>1</td>\n",
       "      <td>0</td>\n",
       "    </tr>\n",
       "  </tbody>\n",
       "</table>\n",
       "<p>5 rows × 72 columns</p>\n",
       "</div>"
      ],
      "text/plain": [
       "    game_id   season     team_id team_name tri_code team_slug minutes  \\\n",
       "0  41300405  2013-14  1610612759     Spurs      SAS     spurs  240:00   \n",
       "1  41300404  2013-14  1610612748      Heat      MIA      heat  240:00   \n",
       "2  41300403  2013-14  1610612748      Heat      MIA      heat  240:00   \n",
       "3  41300402  2013-14  1610612759     Spurs      SAS     spurs  240:00   \n",
       "4  41300401  2013-14  1610612759     Spurs      SAS     spurs  240:00   \n",
       "\n",
       "   field_goals_made  field_goals_attempted  field_goals_percentage  ...  \\\n",
       "0              37.0                   78.0                   0.474  ...   \n",
       "1              32.0                   71.0                   0.451  ...   \n",
       "2              32.0                   62.0                   0.516  ...   \n",
       "3              36.0                   82.0                   0.439  ...   \n",
       "4              40.0                   68.0                   0.588  ...   \n",
       "\n",
       "   uncontested_field_goals_percentage  field_goal_percentage  \\\n",
       "0                               0.475                  0.474   \n",
       "1                               0.439                  0.451   \n",
       "2                               0.516                  0.516   \n",
       "3                               0.452                  0.439   \n",
       "4                               0.472                  0.588   \n",
       "\n",
       "   defended_at_rim_field_goals_made  defended_at_rim_field_goals_attempted  \\\n",
       "0                              15.0                                   24.0   \n",
       "1                              16.0                                   19.0   \n",
       "2                              14.0                                   20.0   \n",
       "3                              17.0                                   24.0   \n",
       "4                              12.0                                   21.0   \n",
       "\n",
       "   defended_at_rim_field_goal_percentage  opponent_points  is_home_team  \\\n",
       "0                                  0.625             87.0             1   \n",
       "1                                  0.842            107.0             1   \n",
       "2                                  0.700            111.0             1   \n",
       "3                                  0.708             98.0             1   \n",
       "4                                  0.571             95.0             1   \n",
       "\n",
       "   won_game  is_playoff_game  is_regular_game  \n",
       "0         1                1                0  \n",
       "1         0                1                0  \n",
       "2         0                1                0  \n",
       "3         0                1                0  \n",
       "4         1                1                0  \n",
       "\n",
       "[5 rows x 72 columns]"
      ]
     },
     "execution_count": 1,
     "metadata": {},
     "output_type": "execute_result"
    }
   ],
   "source": [
    "# Import Packages\n",
    "import pandas as pd\n",
    "import numpy as np\n",
    "\n",
    "# Collect Data from Google Drive\n",
    "gdrive_url = 'https://drive.google.com/file/d/1U2UaHWRSkUXfJBn4kBHPYttd3dvw_CZF/view?usp=drive_link'\n",
    "file_id = '1U2UaHWRSkUXfJBn4kBHPYttd3dvw_CZF'\n",
    "url = f'https://drive.google.com/uc?id={file_id}'\n",
    "df = pd.read_csv(url, encoding='utf-8')\n",
    "\n",
    "# Filter Data to 2013-2024\n",
    "df = df[df['season'].str[:4].astype(int) > 2012] # Remove old seasons (only keeping seasons 2013-14 onward)\n",
    "#df = df.loc[(df['distance'] != 0 ) & (df['touches'] != 0)] # exclude rows where 0 in certain columns doesnt make sense\n",
    "df = df.dropna() # drop rows with missing values \n",
    "df = df.reset_index(drop=True) # reset index\n",
    "df.head()"
   ]
  },
  {
   "cell_type": "markdown",
   "id": "df2681ce",
   "metadata": {},
   "source": [
    "### Cleaning Data\n",
    "\n",
    "We can also drop ID variables like `game_id`, `team_id`, etc. Additionally, we will drop variables like `points`, `three_pointers_made`, or `plus_minus_points` that are rolling amounts during the game, but in our data are postgame totals, with extremely high predictive power. Because of this high predictive power, they must be removed to prevent overfitting."
   ]
  },
  {
   "cell_type": "code",
   "execution_count": 2,
   "id": "35941287",
   "metadata": {},
   "outputs": [
    {
     "name": "stdout",
     "output_type": "stream",
     "text": [
      "<class 'pandas.core.frame.DataFrame'>\n",
      "RangeIndex: 30060 entries, 0 to 30059\n",
      "Data columns (total 50 columns):\n",
      " #   Column                                 Non-Null Count  Dtype  \n",
      "---  ------                                 --------------  -----  \n",
      " 0   field_goals_attempted                  30060 non-null  float64\n",
      " 1   field_goals_percentage                 30060 non-null  float64\n",
      " 2   three_pointers_attempted               30060 non-null  float64\n",
      " 3   three_pointers_percentage              30060 non-null  float64\n",
      " 4   free_throws_attempted                  30060 non-null  float64\n",
      " 5   free_throws_percentage                 30060 non-null  float64\n",
      " 6   rebounds_offensive                     30060 non-null  float64\n",
      " 7   rebounds_defensive                     30060 non-null  float64\n",
      " 8   rebounds_total                         30060 non-null  float64\n",
      " 9   steals                                 30060 non-null  float64\n",
      " 10  blocks                                 30060 non-null  float64\n",
      " 11  turnovers                              30060 non-null  float64\n",
      " 12  fouls_personal                         30060 non-null  float64\n",
      " 13  assist_percentage                      30060 non-null  float64\n",
      " 14  assist_to_turnover                     30060 non-null  float64\n",
      " 15  assist_ratio                           30060 non-null  float64\n",
      " 16  offensive_rebound_percentage           30060 non-null  float64\n",
      " 17  defensive_rebound_percentage           30060 non-null  float64\n",
      " 18  rebound_percentage                     30060 non-null  float64\n",
      " 19  estimated_team_turnover_percentage     30060 non-null  float64\n",
      " 20  turnover_ratio                         30060 non-null  float64\n",
      " 21  effective_field_goal_percentage        30060 non-null  float64\n",
      " 22  true_shooting_percentage               30060 non-null  float64\n",
      " 23  usage_percentage                       30060 non-null  float64\n",
      " 24  estimated_usage_percentage             30060 non-null  float64\n",
      " 25  estimated_pace                         30060 non-null  float64\n",
      " 26  pace                                   30060 non-null  float64\n",
      " 27  pace_per40                             30060 non-null  float64\n",
      " 28  possessions                            30060 non-null  float64\n",
      " 29  p_i_e                                  30060 non-null  float64\n",
      " 30  distance                               30060 non-null  float64\n",
      " 31  rebound_chances_offensive              30060 non-null  float64\n",
      " 32  rebound_chances_defensive              30060 non-null  float64\n",
      " 33  rebound_chances_total                  30060 non-null  float64\n",
      " 34  touches                                30060 non-null  float64\n",
      " 35  secondary_assists                      30060 non-null  float64\n",
      " 36  free_throw_assists                     30060 non-null  float64\n",
      " 37  passes                                 30060 non-null  float64\n",
      " 38  assists                                30060 non-null  float64\n",
      " 39  contested_field_goals_attempted        30060 non-null  float64\n",
      " 40  contested_field_goal_percentage        30060 non-null  float64\n",
      " 41  uncontested_field_goals_attempted      30060 non-null  float64\n",
      " 42  uncontested_field_goals_percentage     30060 non-null  float64\n",
      " 43  field_goal_percentage                  30060 non-null  float64\n",
      " 44  defended_at_rim_field_goals_attempted  30060 non-null  float64\n",
      " 45  defended_at_rim_field_goal_percentage  30060 non-null  float64\n",
      " 46  is_home_team                           30060 non-null  int64  \n",
      " 47  won_game                               30060 non-null  int64  \n",
      " 48  is_playoff_game                        30060 non-null  int64  \n",
      " 49  is_regular_game                        30060 non-null  int64  \n",
      "dtypes: float64(46), int64(4)\n",
      "memory usage: 11.5 MB\n"
     ]
    }
   ],
   "source": [
    "try:\n",
    "    drop_vars = [\n",
    "        'game_id', \n",
    "        'team_id', \n",
    "        'team_name', \n",
    "        'tri_code', \n",
    "        'team_slug', \n",
    "        'season', # dropping for now but could technically be a cat dep var\n",
    "        'minutes'] + ['points',\n",
    "                       'opponent_points',\n",
    "                        'plus_minus_points',\n",
    "                        'field_goals_made',\n",
    "                        'three_pointers_made',\n",
    "                        'free_throws_made',\n",
    "                        'contested_field_goals_made',\n",
    "                        'uncontested_field_goals_made',\n",
    "                        'defended_at_rim_field_goals_made',\n",
    "                        'estimated_net_rating',\n",
    "                        'net_rating',\n",
    "                        'estimated_defensive_rating',\n",
    "                        'defensive_rating',\n",
    "                        'estimated_offensive_rating',\n",
    "                        'offensive_rating',]\n",
    "    df = df.drop(drop_vars, axis=1)\n",
    "    df.head()\n",
    "except Exception as e:\n",
    "    print('drop_vars already dropped')\n",
    "\n",
    "df.info()"
   ]
  },
  {
   "cell_type": "markdown",
   "id": "7871bf00",
   "metadata": {},
   "source": [
    "Lastly, we can drop `is_regular_game`. This variable is redundant, as we already have a variable `is_playoff_game` that, if 0, means the game is a playoff game."
   ]
  },
  {
   "cell_type": "code",
   "execution_count": 3,
   "id": "4215933e",
   "metadata": {},
   "outputs": [],
   "source": [
    "cat_vars = ['is_home_team', 'won_game', 'is_regular_game']\n",
    "df_cat = df[cat_vars]\n",
    "df_num = df.drop(cat_vars, axis=1)\n",
    "\n",
    "# assertion to ensure that split happened properly\n",
    "assert df_cat.shape[1] + df_num.shape[1] == df.shape[1]"
   ]
  },
  {
   "cell_type": "markdown",
   "id": "0173b2fd",
   "metadata": {},
   "source": [
    "### Removing High Correlation and Near-Zero Variance"
   ]
  },
  {
   "cell_type": "code",
   "execution_count": 4,
   "id": "bb8b5d5a",
   "metadata": {},
   "outputs": [],
   "source": [
    "# From John's notebook\n",
    "def removeHighCorr (data,thresh):\n",
    "  from dython.nominal import associations\n",
    "  corr_matrix=associations(dataset=data, compute_only=True)['corr'].abs()\n",
    "  upper_tri=corr_matrix.where(np.triu(np.ones(corr_matrix.shape),k=1).astype(bool))\n",
    "  to_drop=[column for column in upper_tri.columns if any(upper_tri[column]>thresh)]\n",
    "  new_data=data.drop(to_drop,axis=1)\n",
    "  return new_data"
   ]
  },
  {
   "cell_type": "code",
   "execution_count": 5,
   "id": "641079d8",
   "metadata": {},
   "outputs": [
    {
     "name": "stdout",
     "output_type": "stream",
     "text": [
      "pre: 47 \n",
      " post: 25\n"
     ]
    }
   ],
   "source": [
    "pre = df_num.shape[1]\n",
    "df_num_nhc = removeHighCorr(df_num, 0.7) # _nhc --> no high corr\n",
    "post = len(df_num_nhc.columns.tolist())\n",
    "\n",
    "print(f'pre: {pre} \\n post: {post}')"
   ]
  },
  {
   "cell_type": "markdown",
   "id": "86c22634",
   "metadata": {},
   "source": [
    "And now we remove NZV."
   ]
  },
  {
   "cell_type": "code",
   "execution_count": 6,
   "id": "ac1f973c",
   "metadata": {},
   "outputs": [
    {
     "name": "stdout",
     "output_type": "stream",
     "text": [
      "pre: 25 \n",
      " post: 15\n"
     ]
    }
   ],
   "source": [
    "pre = post\n",
    "\n",
    "from sklearn.feature_selection import VarianceThreshold\n",
    "vt = VarianceThreshold(threshold=0.1)\n",
    "vt.fit_transform(df_num_nhc)\n",
    "\n",
    "cols = df_num_nhc.columns[vt.get_support()]\n",
    "post = len(cols)\n",
    "\n",
    "df_num_nhc_nnzv = df_num_nhc[cols] # _nnzv --> no near zero variance\n",
    "\n",
    "print(f'pre: {pre} \\n post: {post}')"
   ]
  },
  {
   "cell_type": "markdown",
   "id": "df10856d",
   "metadata": {},
   "source": [
    "And now we can take a look at the finished dataframe."
   ]
  },
  {
   "cell_type": "code",
   "execution_count": 7,
   "id": "c5f4c31d",
   "metadata": {},
   "outputs": [
    {
     "name": "stdout",
     "output_type": "stream",
     "text": [
      "<class 'pandas.core.frame.DataFrame'>\n",
      "RangeIndex: 30060 entries, 0 to 30059\n",
      "Data columns (total 15 columns):\n",
      " #   Column                     Non-Null Count  Dtype  \n",
      "---  ------                     --------------  -----  \n",
      " 0   field_goals_attempted      30060 non-null  float64\n",
      " 1   three_pointers_attempted   30060 non-null  float64\n",
      " 2   free_throws_attempted      30060 non-null  float64\n",
      " 3   rebounds_offensive         30060 non-null  float64\n",
      " 4   rebounds_defensive         30060 non-null  float64\n",
      " 5   steals                     30060 non-null  float64\n",
      " 6   blocks                     30060 non-null  float64\n",
      " 7   turnovers                  30060 non-null  float64\n",
      " 8   fouls_personal             30060 non-null  float64\n",
      " 9   estimated_pace             30060 non-null  float64\n",
      " 10  pace                       30060 non-null  float64\n",
      " 11  distance                   30060 non-null  float64\n",
      " 12  rebound_chances_offensive  30060 non-null  float64\n",
      " 13  secondary_assists          30060 non-null  float64\n",
      " 14  free_throw_assists         30060 non-null  float64\n",
      "dtypes: float64(15)\n",
      "memory usage: 3.4 MB\n"
     ]
    }
   ],
   "source": [
    "df_num_nhc_nnzv.info()"
   ]
  },
  {
   "cell_type": "markdown",
   "id": "b7f8f53d",
   "metadata": {},
   "source": [
    "Lastly, we can recombine the split categorical and numeric data into the final dataframe for the model."
   ]
  },
  {
   "cell_type": "code",
   "execution_count": 8,
   "id": "2d562b48",
   "metadata": {},
   "outputs": [],
   "source": [
    "df_full = pd.concat([df_num_nhc_nnzv.reset_index(drop=True), df_cat.reset_index(drop=True)], axis=1)\n",
    "\n",
    "# checks to make sure merge happened properly since past experience as shown that incorrect merge will mess up the fitting\n",
    "\n",
    "# assertion for row size (since feature elimination did not touch rows and only bad merge would mess it up)\n",
    "assert df_full.shape[0] == df.shape[0] # df is right before split into _cat/_num \n",
    "\n",
    "# assertion for nulls (since nulls were cleaned out before feature elimination) \n",
    "assert df_full.isna().sum().sum() == 0"
   ]
  },
  {
   "cell_type": "code",
   "execution_count": 9,
   "id": "4f506577",
   "metadata": {},
   "outputs": [
    {
     "data": {
      "text/html": [
       "<div>\n",
       "<style scoped>\n",
       "    .dataframe tbody tr th:only-of-type {\n",
       "        vertical-align: middle;\n",
       "    }\n",
       "\n",
       "    .dataframe tbody tr th {\n",
       "        vertical-align: top;\n",
       "    }\n",
       "\n",
       "    .dataframe thead th {\n",
       "        text-align: right;\n",
       "    }\n",
       "</style>\n",
       "<table border=\"1\" class=\"dataframe\">\n",
       "  <thead>\n",
       "    <tr style=\"text-align: right;\">\n",
       "      <th>col_0</th>\n",
       "      <th>count</th>\n",
       "    </tr>\n",
       "    <tr>\n",
       "      <th>won_game</th>\n",
       "      <th></th>\n",
       "    </tr>\n",
       "  </thead>\n",
       "  <tbody>\n",
       "    <tr>\n",
       "      <th>0</th>\n",
       "      <td>0.5</td>\n",
       "    </tr>\n",
       "    <tr>\n",
       "      <th>1</th>\n",
       "      <td>0.5</td>\n",
       "    </tr>\n",
       "  </tbody>\n",
       "</table>\n",
       "</div>"
      ],
      "text/plain": [
       "col_0     count\n",
       "won_game       \n",
       "0           0.5\n",
       "1           0.5"
      ]
     },
     "execution_count": 9,
     "metadata": {},
     "output_type": "execute_result"
    }
   ],
   "source": [
    "# Check for Class Imbalance (We should see around a 50/50 split)\n",
    "ct = pd.crosstab(index=df_full['won_game'], columns='count')\n",
    "ct_norm = ct / ct.sum() # to show percentages\n",
    "ct_norm"
   ]
  },
  {
   "cell_type": "markdown",
   "id": "5763649a",
   "metadata": {},
   "source": [
    "## Model Building\n",
    "\n",
    "Now that the data has been preprocessed, we can create the models for the analysis. We will be using the following models:\n",
    "\n",
    "- Logistic Regression (LR)\n",
    "- Decision Trees (DT)\n",
    "- Random Forest (RF)\n",
    "- Support Vector Machines (SVM)\n",
    "- Adaptive Neural Networks (ANN)\n",
    "- XGBoost (XGB)\n",
    "\n",
    "### Methodology\n",
    "\n",
    "The team created an 80/20 test-train split, and created the listed models with the training data. These models were then used to gather predictions of the testing data, and the predictions were compared against the observed dependent variable in the testing split. This gave us accuracy measures and ROC scores to compare the models and examine their effectiveness.\n",
    "\n",
    "After running the models initially, features in the dataset had a feature importance of over 90%, leading to severe overfitting, and a feature audit had to be performed. The features removed were the raw and estimated offensive, defensive, and overall team ratings. Once these changes were made, the overfitting issue was resolved. The ROC, AUC, Accuracy, and Misclassification measures then provided the team with the following rankings for the models, based on their AUC.\n",
    "\n",
    "- 1. SVM\n",
    "- 2. Logistic Regression\n",
    "- 3. ANN\n",
    "- 4. XGBoost\n",
    "- 5. RF\n",
    "- 6. DT\n",
    "\n",
    "\n"
   ]
  },
  {
   "cell_type": "markdown",
   "id": "69934650",
   "metadata": {},
   "source": [
    "### Test-Train Split"
   ]
  },
  {
   "cell_type": "code",
   "execution_count": 10,
   "id": "80bb1629",
   "metadata": {},
   "outputs": [],
   "source": [
    "dep_var_name = 'won_game'\n",
    "\n",
    "dep_var = df_full[dep_var_name]\n",
    "ind_var = df_full.drop([dep_var_name], axis=1)\n",
    "\n",
    "# data partitioning\n",
    "from sklearn.model_selection import train_test_split\n",
    "train_X, test_X, train_y, test_y = train_test_split(ind_var, dep_var, test_size=0.2, random_state=42)\n",
    "\n",
    "# Perform Mean Encoding\n",
    "# from feature_engine.encoding import MeanEncoder\n",
    "# mean_enc = MeanEncoder().fit(train_X, train_y)\n",
    "\n",
    "# mean_enc_train = mean_enc.transform(train_X)\n",
    "# mean_enc_test = mean_enc.transform(test_X)\n",
    "\n",
    "# Standardize Data for the Models\n",
    "from sklearn.preprocessing import StandardScaler\n",
    "scaler = StandardScaler().fit(train_X)\n",
    "\n",
    "std_train = pd.DataFrame(scaler.transform(train_X), columns=train_X.columns)\n",
    "std_test = pd.DataFrame(scaler.transform(test_X), columns=test_X.columns)"
   ]
  },
  {
   "cell_type": "code",
   "execution_count": 11,
   "id": "31c4995d",
   "metadata": {},
   "outputs": [],
   "source": [
    "from sklearn.metrics import accuracy_score, roc_auc_score, roc_curve"
   ]
  },
  {
   "cell_type": "markdown",
   "id": "ed8f97af",
   "metadata": {},
   "source": [
    "### Logistic Regression Model"
   ]
  },
  {
   "cell_type": "code",
   "execution_count": 12,
   "id": "14a8a079",
   "metadata": {},
   "outputs": [],
   "source": [
    "from sklearn.linear_model import LogisticRegression\n",
    "lr_model = LogisticRegression(solver='liblinear', random_state=42).fit(std_train, train_y)\n",
    "\n",
    "lr_class = lr_model.predict(std_test)\n",
    "lr_acc = accuracy_score(test_y, lr_class)\n",
    "lr_mis = 1 - lr_acc"
   ]
  },
  {
   "cell_type": "markdown",
   "id": "4f7f2441",
   "metadata": {},
   "source": [
    "### Decision Tree Model"
   ]
  },
  {
   "cell_type": "code",
   "execution_count": 13,
   "id": "7353760d",
   "metadata": {},
   "outputs": [],
   "source": [
    "from sklearn.tree import DecisionTreeClassifier\n",
    "dt_model = DecisionTreeClassifier(random_state=42, max_depth=3).fit(std_train, train_y)\n",
    "dt_class = dt_model.predict(std_test)\n",
    "dt_acc = accuracy_score(test_y, dt_class)\n",
    "dt_mis = 1 - dt_acc"
   ]
  },
  {
   "cell_type": "markdown",
   "id": "62b36550",
   "metadata": {},
   "source": [
    "### Random Forest Model"
   ]
  },
  {
   "cell_type": "code",
   "execution_count": 14,
   "id": "1bcf916e",
   "metadata": {},
   "outputs": [],
   "source": [
    "from sklearn.ensemble import RandomForestClassifier\n",
    "rf_model = RandomForestClassifier(random_state=42, max_depth=3).fit(std_train, train_y)\n",
    "\n",
    "rf_class = rf_model.predict(std_test)\n",
    "rf_acc = accuracy_score(test_y, rf_class)\n",
    "rf_mis = 1 - rf_acc"
   ]
  },
  {
   "cell_type": "markdown",
   "id": "30393e8e",
   "metadata": {},
   "source": [
    "### SVM Model"
   ]
  },
  {
   "cell_type": "code",
   "execution_count": 15,
   "id": "58415514",
   "metadata": {},
   "outputs": [],
   "source": [
    "from sklearn.svm import SVC\n",
    "svm_model = SVC(random_state=50).fit(std_train, train_y)\n",
    "\n",
    "svm_class = svm_model.predict(std_test)\n",
    "svm_acc = accuracy_score(test_y, svm_class)\n",
    "svm_mis = 1 - svm_acc"
   ]
  },
  {
   "cell_type": "markdown",
   "id": "db95476f",
   "metadata": {},
   "source": [
    "### ANN Model"
   ]
  },
  {
   "cell_type": "code",
   "execution_count": 16,
   "id": "685bd4bb",
   "metadata": {},
   "outputs": [],
   "source": [
    "from sklearn.neural_network import MLPClassifier\n",
    "ann_model = MLPClassifier(hidden_layer_sizes=3,\n",
    "                    random_state=50,\n",
    "                    activation='logistic',\n",
    "                    solver='sgd',\n",
    "                    max_iter=400).fit(std_train, train_y)\n",
    "\n",
    "ann_class = ann_model.predict(std_test)\n",
    "ann_acc = accuracy_score(test_y, ann_class)\n",
    "ann_mis = 1 - ann_acc"
   ]
  },
  {
   "cell_type": "markdown",
   "id": "65024e83",
   "metadata": {},
   "source": [
    "### XGBoost Model"
   ]
  },
  {
   "cell_type": "code",
   "execution_count": 17,
   "id": "ecd5031e",
   "metadata": {},
   "outputs": [],
   "source": [
    "from xgboost import XGBClassifier\n",
    "xgb_model = XGBClassifier(eval_metric='logloss',\n",
    "                          n_estimators=5, \n",
    "                          max_depth=5, \n",
    "                          learning_rate=.1).fit(std_train, train_y)\n",
    "\n",
    "xgb_class = xgb_model.predict(std_test)\n",
    "xgb_acc = accuracy_score(test_y, xgb_class)\n",
    "xgb_mis = 1 - xgb_acc"
   ]
  },
  {
   "cell_type": "markdown",
   "id": "217f6fd6",
   "metadata": {},
   "source": [
    "## Model Evaluation"
   ]
  },
  {
   "cell_type": "markdown",
   "id": "1bc10ab0",
   "metadata": {},
   "source": [
    "### Accuracy and Misclassification Table\n",
    "\n"
   ]
  },
  {
   "cell_type": "code",
   "execution_count": 18,
   "id": "840280e9",
   "metadata": {},
   "outputs": [
    {
     "data": {
      "text/html": [
       "<div>\n",
       "<style scoped>\n",
       "    .dataframe tbody tr th:only-of-type {\n",
       "        vertical-align: middle;\n",
       "    }\n",
       "\n",
       "    .dataframe tbody tr th {\n",
       "        vertical-align: top;\n",
       "    }\n",
       "\n",
       "    .dataframe thead th {\n",
       "        text-align: right;\n",
       "    }\n",
       "</style>\n",
       "<table border=\"1\" class=\"dataframe\">\n",
       "  <thead>\n",
       "    <tr style=\"text-align: right;\">\n",
       "      <th></th>\n",
       "      <th>Model</th>\n",
       "      <th>Accuracy</th>\n",
       "      <th>Misclassification Rate</th>\n",
       "    </tr>\n",
       "  </thead>\n",
       "  <tbody>\n",
       "    <tr>\n",
       "      <th>0</th>\n",
       "      <td>Logistic Regression</td>\n",
       "      <td>0.741184</td>\n",
       "      <td>0.258816</td>\n",
       "    </tr>\n",
       "    <tr>\n",
       "      <th>1</th>\n",
       "      <td>Decision Tree</td>\n",
       "      <td>0.654857</td>\n",
       "      <td>0.345143</td>\n",
       "    </tr>\n",
       "    <tr>\n",
       "      <th>2</th>\n",
       "      <td>Random Forest</td>\n",
       "      <td>0.685130</td>\n",
       "      <td>0.314870</td>\n",
       "    </tr>\n",
       "    <tr>\n",
       "      <th>3</th>\n",
       "      <td>SVM</td>\n",
       "      <td>0.744844</td>\n",
       "      <td>0.255156</td>\n",
       "    </tr>\n",
       "    <tr>\n",
       "      <th>4</th>\n",
       "      <td>ANN</td>\n",
       "      <td>0.737359</td>\n",
       "      <td>0.262641</td>\n",
       "    </tr>\n",
       "    <tr>\n",
       "      <th>5</th>\n",
       "      <td>XGBoost</td>\n",
       "      <td>0.694444</td>\n",
       "      <td>0.305556</td>\n",
       "    </tr>\n",
       "  </tbody>\n",
       "</table>\n",
       "</div>"
      ],
      "text/plain": [
       "                 Model  Accuracy  Misclassification Rate\n",
       "0  Logistic Regression  0.741184                0.258816\n",
       "1        Decision Tree  0.654857                0.345143\n",
       "2        Random Forest  0.685130                0.314870\n",
       "3                  SVM  0.744844                0.255156\n",
       "4                  ANN  0.737359                0.262641\n",
       "5              XGBoost  0.694444                0.305556"
      ]
     },
     "execution_count": 18,
     "metadata": {},
     "output_type": "execute_result"
    }
   ],
   "source": [
    "data = {\n",
    "    'Model': ['Logistic Regression', 'Decision Tree', 'Random Forest', 'SVM', 'ANN', 'XGBoost'],\n",
    "    'Accuracy': [lr_acc, dt_acc, rf_acc, svm_acc, ann_acc, xgb_acc],\n",
    "    'Misclassification Rate': [lr_mis, dt_mis, rf_mis, svm_mis, ann_mis, xgb_mis]\n",
    "}\n",
    "\n",
    "df_acc_mis = pd.DataFrame(data)\n",
    "df_acc_mis\n"
   ]
  },
  {
   "cell_type": "markdown",
   "id": "1718dbc9",
   "metadata": {},
   "source": [
    "### ROC Curves and AUC Score"
   ]
  },
  {
   "cell_type": "code",
   "execution_count": 28,
   "id": "7be51bd7",
   "metadata": {},
   "outputs": [],
   "source": [
    "lr_auc = roc_auc_score(test_y, lr_class)\n",
    "dt_auc = roc_auc_score(test_y, dt_class)\n",
    "rf_auc = roc_auc_score(test_y, rf_class)\n",
    "svm_auc = roc_auc_score(test_y, svm_class)\n",
    "ann_auc = roc_auc_score(test_y, ann_class)\n",
    "xgb_auc = roc_auc_score(test_y, xgb_class)\n",
    "\n",
    "lr_fpr, lr_tpr, _ = roc_curve(test_y, lr_class)\n",
    "dt_fpr, dt_tpr, _ = roc_curve(test_y, dt_class)\n",
    "rf_fpr, rf_tpr, _ = roc_curve(test_y, rf_class)\n",
    "svm_fpr, svm_tpr, _ = roc_curve(test_y, svm_class)\n",
    "ann_fpr, ann_tpr, _ = roc_curve(test_y, ann_class)\n",
    "xgb_fpr, xgb_tpr, _ = roc_curve(test_y, xgb_class)\n",
    "\n",
    "df_lr_roc = pd.DataFrame({'False Positive Rate': lr_fpr, 'True Positive Rate': lr_tpr})\n",
    "df_ann_roc = pd.DataFrame({'False Positive Rate': ann_fpr, 'True Positive Rate': ann_tpr})\n",
    "df_xgb_roc = pd.DataFrame({'False Positive Rate': xgb_fpr, 'True Positive Rate': xgb_tpr})\n",
    "\n",
    "path = '/Users/dB/Documents/repos/github/bint-capstone/data-sources/exported-cp3-data'\n",
    "df_lr_roc.to_csv(f'{path}/lr_roc.csv', index=False)\n",
    "df_ann_roc.to_csv(f'{path}/ann_roc.csv', index=False)\n",
    "df_xgb_roc.to_csv(f'{path}/xgb_roc.csv', index=False)"
   ]
  },
  {
   "cell_type": "code",
   "execution_count": null,
   "id": "ae4a3e13",
   "metadata": {},
   "outputs": [
    {
     "data": {
      "image/png": "[encoded data removed]",
      "text/plain": [
       "<Figure size 640x480 with 1 Axes>"
      ]
     },
     "metadata": {},
     "output_type": "display_data"
    }
   ],
   "source": [
    "import matplotlib.pyplot as plt\n",
    "\n",
    "plt.plot(lr_fpr, lr_tpr, linestyle='--', label='{}{:.3f}'.format(\"LR AUC=\", lr_auc))\n",
    "plt.plot(dt_fpr, dt_tpr, linestyle='--', label='{}{:.3f}'.format(\"DT AUC=\", dt_auc))\n",
    "plt.plot(rf_fpr, rf_tpr, linestyle='--', label='{}{:.3f}'.format(\"RF AUC=\", rf_auc))\n",
    "plt.plot(svm_fpr, svm_tpr, linestyle='--', label='{}{:.3f}'.format(\"SVM AUC=\", svm_auc))\n",
    "plt.plot(ann_fpr, ann_tpr, linestyle='--', label='{}{:.3f}'.format(\"ANN AUC=\", ann_auc))\n",
    "plt.plot(xgb_fpr, xgb_tpr, linestyle='--', label='{}{:.3f}'.format(\"XGB AUC=\", xgb_auc))\n",
    "plt.plot([0,1], [0,1], linestyle='solid', c='k')\n",
    "\n",
    "\n",
    "plt.title('Comparing Models predicting won_game')\n",
    "plt.xlabel('False Positive Rate')\n",
    "plt.ylabel('True Positive Rate')\n",
    "plt.legend(loc='lower right')\n",
    "plt.show()"
   ]
  },
  {
   "cell_type": "markdown",
   "id": "426dda34",
   "metadata": {},
   "source": [
    "### Learning Rates"
   ]
  },
  {
   "cell_type": "markdown",
   "id": "ce8224a9",
   "metadata": {},
   "source": [
    "### Logistic Regression"
   ]
  },
  {
   "cell_type": "code",
   "execution_count": null,
   "id": "596c13eb",
   "metadata": {},
   "outputs": [
    {
     "data": {
      "image/png": "[encoded data removed]",
      "text/plain": [
       "<Figure size 640x480 with 1 Axes>"
      ]
     },
     "metadata": {},
     "output_type": "display_data"
    }
   ],
   "source": [
    "from sklearn.model_selection import learning_curve\n",
    "\n",
    "size, train_scores, test_scores = learning_curve(estimator=lr_model, \n",
    "                                                 X=std_train, \n",
    "                                                 y=train_y, \n",
    "                                                 train_sizes=np.linspace(.1,1,10),cv=5,\n",
    "                                                 n_jobs=-1)\n",
    "\n",
    "train_mean = np.mean(train_scores, axis=1)\n",
    "test_mean = np.mean(test_scores, axis=1)\n",
    "\n",
    "plt.plot(size, train_mean, color='r',marker='o',label='Train accuracy')\n",
    "plt.plot(size, test_mean, color='b',marker='o',label='Train accuracy')\n",
    "plt.xlabel('Training Sample', fontsize=15)\n",
    "plt.grid()\n",
    "plt.legend(loc='upper right')\n",
    "plt.show()"
   ]
  },
  {
   "cell_type": "code",
   "execution_count": null,
   "id": "e3818b01",
   "metadata": {},
   "outputs": [
    {
     "data": {
      "image/png": "[encoded data removed]",
      "text/plain": [
       "<Figure size 640x480 with 1 Axes>"
      ]
     },
     "metadata": {},
     "output_type": "display_data"
    }
   ],
   "source": [
    "size, train_scores, test_scores = learning_curve(estimator=dt_model, \n",
    "                                                 X=std_train, \n",
    "                                                 y=train_y, \n",
    "                                                 train_sizes=np.linspace(.1,1,10),cv=5,\n",
    "                                                 n_jobs=-1)\n",
    "\n",
    "train_mean = np.mean(train_scores, axis=1)\n",
    "test_mean = np.mean(test_scores, axis=1)\n",
    "\n",
    "plt.plot(size, train_mean, color='r',marker='o',label='Train accuracy')\n",
    "plt.plot(size, test_mean, color='b',marker='o',label='Train accuracy')\n",
    "plt.xlabel('Training Sample', fontsize=15)\n",
    "plt.grid()\n",
    "plt.legend(loc='upper right')\n",
    "plt.show()"
   ]
  },
  {
   "cell_type": "code",
   "execution_count": null,
   "id": "525c3880",
   "metadata": {},
   "outputs": [
    {
     "data": {
      "image/png": "[encoded data removed]",
      "text/plain": [
       "<Figure size 640x480 with 1 Axes>"
      ]
     },
     "metadata": {},
     "output_type": "display_data"
    }
   ],
   "source": [
    "from sklearn.model_selection import learning_curve\n",
    "\n",
    "size, train_scores, test_scores = learning_curve(estimator=rf_model, \n",
    "                                                 X=std_train, \n",
    "                                                 y=train_y, \n",
    "                                                 train_sizes=np.linspace(.1,1,10),cv=5,\n",
    "                                                 n_jobs=-1)\n",
    "\n",
    "train_mean = np.mean(train_scores, axis=1)\n",
    "test_mean = np.mean(test_scores, axis=1)\n",
    "\n",
    "plt.plot(size, train_mean, color='r',marker='o',label='Train accuracy')\n",
    "plt.plot(size, test_mean, color='b',marker='o',label='Train accuracy')\n",
    "plt.xlabel('Training Sample', fontsize=15)\n",
    "plt.grid()\n",
    "plt.legend(loc='upper right')\n",
    "plt.show()"
   ]
  },
  {
   "cell_type": "code",
   "execution_count": null,
   "id": "27aba3d2",
   "metadata": {},
   "outputs": [
    {
     "data": {
      "image/png": "[encoded data removed]",
      "text/plain": [
       "<Figure size 640x480 with 1 Axes>"
      ]
     },
     "metadata": {},
     "output_type": "display_data"
    }
   ],
   "source": [
    "from sklearn.model_selection import learning_curve\n",
    "\n",
    "size, train_scores, test_scores = learning_curve(estimator=svm_model, \n",
    "                                                 X=std_train, \n",
    "                                                 y=train_y, \n",
    "                                                 train_sizes=np.linspace(.1,1,10),\n",
    "                                                 cv=5,\n",
    "                                                 n_jobs=-1)\n",
    "\n",
    "train_mean = np.mean(train_scores, axis=1)\n",
    "test_mean = np.mean(test_scores, axis=1)\n",
    "\n",
    "plt.plot(size, train_mean, color='r',marker='o',label='Train accuracy')\n",
    "plt.plot(size, test_mean, color='b',marker='o',label='Train accuracy')\n",
    "plt.xlabel('Training Sample', fontsize=15)\n",
    "plt.grid()\n",
    "plt.legend(loc='upper right')\n",
    "plt.show()"
   ]
  },
  {
   "cell_type": "code",
   "execution_count": null,
   "id": "66865126",
   "metadata": {},
   "outputs": [
    {
     "name": "stderr",
     "output_type": "stream",
     "text": [
      "/Users/dB/Documents/repos/github/bint-capstone/.venv/lib/python3.11/site-packages/sklearn/neural_network/_multilayer_perceptron.py:691: ConvergenceWarning: Stochastic Optimizer: Maximum iterations (400) reached and the optimization hasn't converged yet.\n",
      "  warnings.warn(\n",
      "/Users/dB/Documents/repos/github/bint-capstone/.venv/lib/python3.11/site-packages/sklearn/neural_network/_multilayer_perceptron.py:691: ConvergenceWarning: Stochastic Optimizer: Maximum iterations (400) reached and the optimization hasn't converged yet.\n",
      "  warnings.warn(\n",
      "/Users/dB/Documents/repos/github/bint-capstone/.venv/lib/python3.11/site-packages/sklearn/neural_network/_multilayer_perceptron.py:691: ConvergenceWarning: Stochastic Optimizer: Maximum iterations (400) reached and the optimization hasn't converged yet.\n",
      "  warnings.warn(\n",
      "/Users/dB/Documents/repos/github/bint-capstone/.venv/lib/python3.11/site-packages/sklearn/neural_network/_multilayer_perceptron.py:691: ConvergenceWarning: Stochastic Optimizer: Maximum iterations (400) reached and the optimization hasn't converged yet.\n",
      "  warnings.warn(\n",
      "/Users/dB/Documents/repos/github/bint-capstone/.venv/lib/python3.11/site-packages/sklearn/neural_network/_multilayer_perceptron.py:691: ConvergenceWarning: Stochastic Optimizer: Maximum iterations (400) reached and the optimization hasn't converged yet.\n",
      "  warnings.warn(\n",
      "/Users/dB/Documents/repos/github/bint-capstone/.venv/lib/python3.11/site-packages/sklearn/neural_network/_multilayer_perceptron.py:691: ConvergenceWarning: Stochastic Optimizer: Maximum iterations (400) reached and the optimization hasn't converged yet.\n",
      "  warnings.warn(\n",
      "/Users/dB/Documents/repos/github/bint-capstone/.venv/lib/python3.11/site-packages/sklearn/neural_network/_multilayer_perceptron.py:691: ConvergenceWarning: Stochastic Optimizer: Maximum iterations (400) reached and the optimization hasn't converged yet.\n",
      "  warnings.warn(\n",
      "/Users/dB/Documents/repos/github/bint-capstone/.venv/lib/python3.11/site-packages/sklearn/neural_network/_multilayer_perceptron.py:691: ConvergenceWarning: Stochastic Optimizer: Maximum iterations (400) reached and the optimization hasn't converged yet.\n",
      "  warnings.warn(\n",
      "/Users/dB/Documents/repos/github/bint-capstone/.venv/lib/python3.11/site-packages/sklearn/neural_network/_multilayer_perceptron.py:691: ConvergenceWarning: Stochastic Optimizer: Maximum iterations (400) reached and the optimization hasn't converged yet.\n",
      "  warnings.warn(\n",
      "/Users/dB/Documents/repos/github/bint-capstone/.venv/lib/python3.11/site-packages/sklearn/neural_network/_multilayer_perceptron.py:691: ConvergenceWarning: Stochastic Optimizer: Maximum iterations (400) reached and the optimization hasn't converged yet.\n",
      "  warnings.warn(\n"
     ]
    },
    {
     "data": {
      "image/png": "[encoded data removed]",
      "text/plain": [
       "<Figure size 640x480 with 1 Axes>"
      ]
     },
     "metadata": {},
     "output_type": "display_data"
    }
   ],
   "source": [
    "from sklearn.model_selection import learning_curve\n",
    "\n",
    "size, train_scores, test_scores = learning_curve(estimator=ann_model, \n",
    "                                                 X=std_train, \n",
    "                                                 y=train_y, \n",
    "                                                 train_sizes=np.linspace(.1,1,10),cv=5,\n",
    "                                                 n_jobs=-1)\n",
    "\n",
    "train_mean = np.mean(train_scores, axis=1)\n",
    "test_mean = np.mean(test_scores, axis=1)\n",
    "\n",
    "plt.plot(size, train_mean, color='r',marker='o',label='Train accuracy')\n",
    "plt.plot(size, test_mean, color='b',marker='o',label='Train accuracy')\n",
    "plt.xlabel('Training Sample', fontsize=15)\n",
    "plt.grid()\n",
    "plt.legend(loc='upper right')\n",
    "plt.show()"
   ]
  },
  {
   "cell_type": "code",
   "execution_count": null,
   "id": "eb668ccf",
   "metadata": {},
   "outputs": [
    {
     "data": {
      "image/png": "[encoded data removed]",
      "text/plain": [
       "<Figure size 640x480 with 1 Axes>"
      ]
     },
     "metadata": {},
     "output_type": "display_data"
    }
   ],
   "source": [
    "from sklearn.model_selection import learning_curve\n",
    "\n",
    "size, train_scores, test_scores = learning_curve(estimator=xgb_model, \n",
    "                                                 X=std_train, \n",
    "                                                 y=train_y, \n",
    "                                                 train_sizes=np.linspace(.1,1,10),cv=5,\n",
    "                                                 n_jobs=-1)\n",
    "\n",
    "train_mean = np.mean(train_scores, axis=1)\n",
    "test_mean = np.mean(test_scores, axis=1)\n",
    "\n",
    "plt.plot(size, train_mean, color='r',marker='o',label='Train accuracy')\n",
    "plt.plot(size, test_mean, color='b',marker='o',label='Train accuracy')\n",
    "plt.xlabel('Training Sample', fontsize=15)\n",
    "plt.grid()\n",
    "plt.legend(loc='upper right')\n",
    "plt.show()"
   ]
  },
  {
   "cell_type": "markdown",
   "id": "5480b86d",
   "metadata": {},
   "source": [
    "## Examining Feature Importance\n",
    "\n",
    "~~We are currently getting around 96% accuracy for all models, indicating extreme overfitting. We need to examine the feature importance of the training data to make sure each feature is relatively predictive, without an extreme outlier.~~\n",
    "\n",
    "Now the models are returning closer to 75%, which aligns with usual accuracy metrics for win classification models and doesn't seem to indicate overfitting. Additionally, features only have a maximum predictive weight of around 50%, much lower than the initial 90+% we were seeing before."
   ]
  },
  {
   "cell_type": "markdown",
   "id": "344bcae4",
   "metadata": {},
   "source": [
    "### LR Importances"
   ]
  },
  {
   "cell_type": "code",
   "execution_count": null,
   "id": "537187e0",
   "metadata": {},
   "outputs": [
    {
     "data": {
      "text/html": [
       "<div>\n",
       "<style scoped>\n",
       "    .dataframe tbody tr th:only-of-type {\n",
       "        vertical-align: middle;\n",
       "    }\n",
       "\n",
       "    .dataframe tbody tr th {\n",
       "        vertical-align: top;\n",
       "    }\n",
       "\n",
       "    .dataframe thead th {\n",
       "        text-align: right;\n",
       "    }\n",
       "</style>\n",
       "<table border=\"1\" class=\"dataframe\">\n",
       "  <thead>\n",
       "    <tr style=\"text-align: right;\">\n",
       "      <th></th>\n",
       "      <th>Feature</th>\n",
       "      <th>Importance</th>\n",
       "    </tr>\n",
       "  </thead>\n",
       "  <tbody>\n",
       "    <tr>\n",
       "      <th>0</th>\n",
       "      <td>rebounds_defensive</td>\n",
       "      <td>1.370777</td>\n",
       "    </tr>\n",
       "    <tr>\n",
       "      <th>1</th>\n",
       "      <td>pace</td>\n",
       "      <td>1.065092</td>\n",
       "    </tr>\n",
       "    <tr>\n",
       "      <th>2</th>\n",
       "      <td>field_goals_attempted</td>\n",
       "      <td>0.877331</td>\n",
       "    </tr>\n",
       "    <tr>\n",
       "      <th>3</th>\n",
       "      <td>turnovers</td>\n",
       "      <td>0.813633</td>\n",
       "    </tr>\n",
       "    <tr>\n",
       "      <th>4</th>\n",
       "      <td>steals</td>\n",
       "      <td>0.786665</td>\n",
       "    </tr>\n",
       "  </tbody>\n",
       "</table>\n",
       "</div>"
      ],
      "text/plain": [
       "                 Feature  Importance\n",
       "0     rebounds_defensive    1.370777\n",
       "1                   pace    1.065092\n",
       "2  field_goals_attempted    0.877331\n",
       "3              turnovers    0.813633\n",
       "4                 steals    0.786665"
      ]
     },
     "execution_count": 27,
     "metadata": {},
     "output_type": "execute_result"
    }
   ],
   "source": [
    "def top5_logistic_regression(model, X_train):\n",
    "    feature_importance = np.abs(model.coef_[0])\n",
    "    top5_idx = np.argsort(feature_importance)[-5:][::-1]\n",
    "    top5_features = X_train.columns[top5_idx]\n",
    "    importance_values = feature_importance[top5_idx]\n",
    "    return pd.DataFrame({'Feature': top5_features, 'Importance': importance_values})\n",
    "\n",
    "top5_logistic_regression(lr_model, std_train)"
   ]
  },
  {
   "cell_type": "markdown",
   "id": "12564dcd",
   "metadata": {},
   "source": [
    "**Use Odds Ratio to interpret coeffs**"
   ]
  },
  {
   "cell_type": "markdown",
   "id": "f9c8b256",
   "metadata": {},
   "source": [
    "### DT Importances"
   ]
  },
  {
   "cell_type": "code",
   "execution_count": null,
   "id": "af5f1869",
   "metadata": {},
   "outputs": [
    {
     "data": {
      "text/html": [
       "<div>\n",
       "<style scoped>\n",
       "    .dataframe tbody tr th:only-of-type {\n",
       "        vertical-align: middle;\n",
       "    }\n",
       "\n",
       "    .dataframe tbody tr th {\n",
       "        vertical-align: top;\n",
       "    }\n",
       "\n",
       "    .dataframe thead th {\n",
       "        text-align: right;\n",
       "    }\n",
       "</style>\n",
       "<table border=\"1\" class=\"dataframe\">\n",
       "  <thead>\n",
       "    <tr style=\"text-align: right;\">\n",
       "      <th></th>\n",
       "      <th>Feature</th>\n",
       "      <th>Importance</th>\n",
       "    </tr>\n",
       "  </thead>\n",
       "  <tbody>\n",
       "    <tr>\n",
       "      <th>0</th>\n",
       "      <td>rebounds_defensive</td>\n",
       "      <td>0.831672</td>\n",
       "    </tr>\n",
       "    <tr>\n",
       "      <th>1</th>\n",
       "      <td>steals</td>\n",
       "      <td>0.134540</td>\n",
       "    </tr>\n",
       "    <tr>\n",
       "      <th>2</th>\n",
       "      <td>distance</td>\n",
       "      <td>0.020445</td>\n",
       "    </tr>\n",
       "    <tr>\n",
       "      <th>3</th>\n",
       "      <td>secondary_assists</td>\n",
       "      <td>0.013343</td>\n",
       "    </tr>\n",
       "    <tr>\n",
       "      <th>4</th>\n",
       "      <td>is_regular_game</td>\n",
       "      <td>0.000000</td>\n",
       "    </tr>\n",
       "  </tbody>\n",
       "</table>\n",
       "</div>"
      ],
      "text/plain": [
       "              Feature  Importance\n",
       "0  rebounds_defensive    0.831672\n",
       "1              steals    0.134540\n",
       "2            distance    0.020445\n",
       "3   secondary_assists    0.013343\n",
       "4     is_regular_game    0.000000"
      ]
     },
     "execution_count": 28,
     "metadata": {},
     "output_type": "execute_result"
    }
   ],
   "source": [
    "def top5_decision_tree(model, X_train):\n",
    "    feature_importance = model.feature_importances_\n",
    "    top5_idx = np.argsort(feature_importance)[-5:][::-1]\n",
    "    top5_features = X_train.columns[top5_idx]\n",
    "    importance_values = feature_importance[top5_idx]\n",
    "    return pd.DataFrame({'Feature': top5_features, 'Importance': importance_values})\n",
    "\n",
    "top5_decision_tree(dt_model, std_train)"
   ]
  },
  {
   "cell_type": "markdown",
   "id": "fa4e1905",
   "metadata": {},
   "source": [
    "### RF Importances"
   ]
  },
  {
   "cell_type": "code",
   "execution_count": null,
   "id": "4dea5eec",
   "metadata": {},
   "outputs": [
    {
     "data": {
      "text/html": [
       "<div>\n",
       "<style scoped>\n",
       "    .dataframe tbody tr th:only-of-type {\n",
       "        vertical-align: middle;\n",
       "    }\n",
       "\n",
       "    .dataframe tbody tr th {\n",
       "        vertical-align: top;\n",
       "    }\n",
       "\n",
       "    .dataframe thead th {\n",
       "        text-align: right;\n",
       "    }\n",
       "</style>\n",
       "<table border=\"1\" class=\"dataframe\">\n",
       "  <thead>\n",
       "    <tr style=\"text-align: right;\">\n",
       "      <th></th>\n",
       "      <th>Feature</th>\n",
       "      <th>Importance</th>\n",
       "    </tr>\n",
       "  </thead>\n",
       "  <tbody>\n",
       "    <tr>\n",
       "      <th>0</th>\n",
       "      <td>rebounds_defensive</td>\n",
       "      <td>0.528422</td>\n",
       "    </tr>\n",
       "    <tr>\n",
       "      <th>1</th>\n",
       "      <td>blocks</td>\n",
       "      <td>0.112602</td>\n",
       "    </tr>\n",
       "    <tr>\n",
       "      <th>2</th>\n",
       "      <td>secondary_assists</td>\n",
       "      <td>0.104200</td>\n",
       "    </tr>\n",
       "    <tr>\n",
       "      <th>3</th>\n",
       "      <td>is_home_team</td>\n",
       "      <td>0.086957</td>\n",
       "    </tr>\n",
       "    <tr>\n",
       "      <th>4</th>\n",
       "      <td>steals</td>\n",
       "      <td>0.061521</td>\n",
       "    </tr>\n",
       "  </tbody>\n",
       "</table>\n",
       "</div>"
      ],
      "text/plain": [
       "              Feature  Importance\n",
       "0  rebounds_defensive    0.528422\n",
       "1              blocks    0.112602\n",
       "2   secondary_assists    0.104200\n",
       "3        is_home_team    0.086957\n",
       "4              steals    0.061521"
      ]
     },
     "execution_count": 29,
     "metadata": {},
     "output_type": "execute_result"
    }
   ],
   "source": [
    "def top5_random_forest(model, X_train):\n",
    "    feature_importance = model.feature_importances_\n",
    "    top5_idx = np.argsort(feature_importance)[-5:][::-1]\n",
    "    top5_features = X_train.columns[top5_idx]\n",
    "    importance_values = feature_importance[top5_idx]\n",
    "    return pd.DataFrame({'Feature': top5_features, 'Importance': importance_values})\n",
    "\n",
    "\n",
    "top5_random_forest(rf_model, std_train)"
   ]
  },
  {
   "cell_type": "markdown",
   "id": "05d3b6bf",
   "metadata": {},
   "source": [
    "### SVM and ANN Importances\n",
    "\n",
    "The SVM and ANN Models use the same function to get their feature importances."
   ]
  },
  {
   "cell_type": "code",
   "execution_count": null,
   "id": "5cf9e250",
   "metadata": {},
   "outputs": [],
   "source": [
    "from sklearn.inspection import permutation_importance\n",
    "\n",
    "def top5_permutation_importance(model, X_train, y_train):\n",
    "    result = permutation_importance(model, X_train, y_train, n_repeats=10, random_state=42)\n",
    "    feature_importance = result.importances_mean\n",
    "    top5_idx = np.argsort(feature_importance)[-10:][::-1]\n",
    "    top5_features = X_train.columns[top5_idx]\n",
    "    importance_values = feature_importance[top5_idx]\n",
    "    return pd.DataFrame({'Feature': top5_features, 'Importance': importance_values})\n",
    "\n",
    "top5_permutation_importance(svm_model, std_train, train_y)"
   ]
  },
  {
   "cell_type": "code",
   "execution_count": null,
   "id": "f6494daa",
   "metadata": {},
   "outputs": [
    {
     "data": {
      "text/html": [
       "<div>\n",
       "<style scoped>\n",
       "    .dataframe tbody tr th:only-of-type {\n",
       "        vertical-align: middle;\n",
       "    }\n",
       "\n",
       "    .dataframe tbody tr th {\n",
       "        vertical-align: top;\n",
       "    }\n",
       "\n",
       "    .dataframe thead th {\n",
       "        text-align: right;\n",
       "    }\n",
       "</style>\n",
       "<table border=\"1\" class=\"dataframe\">\n",
       "  <thead>\n",
       "    <tr style=\"text-align: right;\">\n",
       "      <th></th>\n",
       "      <th>Feature</th>\n",
       "      <th>Importance</th>\n",
       "    </tr>\n",
       "  </thead>\n",
       "  <tbody>\n",
       "    <tr>\n",
       "      <th>0</th>\n",
       "      <td>rebounds_defensive</td>\n",
       "      <td>0.151676</td>\n",
       "    </tr>\n",
       "    <tr>\n",
       "      <th>1</th>\n",
       "      <td>steals</td>\n",
       "      <td>0.055481</td>\n",
       "    </tr>\n",
       "    <tr>\n",
       "      <th>2</th>\n",
       "      <td>turnovers</td>\n",
       "      <td>0.037616</td>\n",
       "    </tr>\n",
       "    <tr>\n",
       "      <th>3</th>\n",
       "      <td>field_goals_attempted</td>\n",
       "      <td>0.024821</td>\n",
       "    </tr>\n",
       "    <tr>\n",
       "      <th>4</th>\n",
       "      <td>rebound_chances_offensive</td>\n",
       "      <td>0.022646</td>\n",
       "    </tr>\n",
       "    <tr>\n",
       "      <th>5</th>\n",
       "      <td>secondary_assists</td>\n",
       "      <td>0.020405</td>\n",
       "    </tr>\n",
       "    <tr>\n",
       "      <th>6</th>\n",
       "      <td>rebounds_offensive</td>\n",
       "      <td>0.015269</td>\n",
       "    </tr>\n",
       "    <tr>\n",
       "      <th>7</th>\n",
       "      <td>free_throws_attempted</td>\n",
       "      <td>0.010870</td>\n",
       "    </tr>\n",
       "    <tr>\n",
       "      <th>8</th>\n",
       "      <td>blocks</td>\n",
       "      <td>0.008807</td>\n",
       "    </tr>\n",
       "    <tr>\n",
       "      <th>9</th>\n",
       "      <td>is_home_team</td>\n",
       "      <td>0.006213</td>\n",
       "    </tr>\n",
       "  </tbody>\n",
       "</table>\n",
       "</div>"
      ],
      "text/plain": [
       "                     Feature  Importance\n",
       "0         rebounds_defensive    0.151676\n",
       "1                     steals    0.055481\n",
       "2                  turnovers    0.037616\n",
       "3      field_goals_attempted    0.024821\n",
       "4  rebound_chances_offensive    0.022646\n",
       "5          secondary_assists    0.020405\n",
       "6         rebounds_offensive    0.015269\n",
       "7      free_throws_attempted    0.010870\n",
       "8                     blocks    0.008807\n",
       "9               is_home_team    0.006213"
      ]
     },
     "execution_count": 53,
     "metadata": {},
     "output_type": "execute_result"
    }
   ],
   "source": [
    "top5_permutation_importance(ann_model, std_train, train_y)"
   ]
  },
  {
   "cell_type": "markdown",
   "id": "4c0ba3df",
   "metadata": {},
   "source": [
    "**IMPORTANT NOTE:**\n",
    "\n",
    "**This is Wrong**. Use predict_proba() with the testing split to find the probability of a win. Use these probabilities somehow to tie this in with home/away games.\n",
    "\n",
    "- This will give you a probability of getting a 0 or a 1, make sure sklearn is assigning the correct probability\n",
    "\n",
    "- Use models on the entire dataset, this gets you probability of winning or losing, giving you a column of the probability of winning a home or an away game. Then split the data into home/away games and compare.\n",
    "\n",
    "- Either omit the SVM results or argue in the presentation that the training accuracy between it and the LR model is negiglible, and the team chose the logistic regression model due to interpretability and speed to train.\n",
    "\n",
    "\n",
    "\n",
    "Look at how turnovers and field_goals_attempted appear here, tie this back in with the 2nd presentation."
   ]
  },
  {
   "cell_type": "markdown",
   "id": "f41c73f0",
   "metadata": {},
   "source": [
    "### XGBoost Importances"
   ]
  },
  {
   "cell_type": "code",
   "execution_count": null,
   "id": "2d34d55d",
   "metadata": {},
   "outputs": [
    {
     "data": {
      "text/html": [
       "<div>\n",
       "<style scoped>\n",
       "    .dataframe tbody tr th:only-of-type {\n",
       "        vertical-align: middle;\n",
       "    }\n",
       "\n",
       "    .dataframe tbody tr th {\n",
       "        vertical-align: top;\n",
       "    }\n",
       "\n",
       "    .dataframe thead th {\n",
       "        text-align: right;\n",
       "    }\n",
       "</style>\n",
       "<table border=\"1\" class=\"dataframe\">\n",
       "  <thead>\n",
       "    <tr style=\"text-align: right;\">\n",
       "      <th></th>\n",
       "      <th>Feature</th>\n",
       "      <th>Importance</th>\n",
       "    </tr>\n",
       "  </thead>\n",
       "  <tbody>\n",
       "    <tr>\n",
       "      <th>0</th>\n",
       "      <td>rebounds_defensive</td>\n",
       "      <td>0.440824</td>\n",
       "    </tr>\n",
       "    <tr>\n",
       "      <th>1</th>\n",
       "      <td>steals</td>\n",
       "      <td>0.077226</td>\n",
       "    </tr>\n",
       "    <tr>\n",
       "      <th>2</th>\n",
       "      <td>estimated_pace</td>\n",
       "      <td>0.066900</td>\n",
       "    </tr>\n",
       "    <tr>\n",
       "      <th>3</th>\n",
       "      <td>pace</td>\n",
       "      <td>0.059858</td>\n",
       "    </tr>\n",
       "    <tr>\n",
       "      <th>4</th>\n",
       "      <td>secondary_assists</td>\n",
       "      <td>0.056588</td>\n",
       "    </tr>\n",
       "  </tbody>\n",
       "</table>\n",
       "</div>"
      ],
      "text/plain": [
       "              Feature  Importance\n",
       "0  rebounds_defensive    0.440824\n",
       "1              steals    0.077226\n",
       "2      estimated_pace    0.066900\n",
       "3                pace    0.059858\n",
       "4   secondary_assists    0.056588"
      ]
     },
     "execution_count": 54,
     "metadata": {},
     "output_type": "execute_result"
    }
   ],
   "source": [
    "def top5_xgboost(model, X_train):\n",
    "    feature_importance = model.feature_importances_\n",
    "    top5_idx = np.argsort(feature_importance)[-5:][::-1]\n",
    "    top5_features = X_train.columns[top5_idx]\n",
    "    importance_values = feature_importance[top5_idx]\n",
    "    return pd.DataFrame({'Feature': top5_features, 'Importance': importance_values})\n",
    "\n",
    "top5_xgboost(xgb_model, std_train)"
   ]
  },
  {
   "cell_type": "markdown",
   "id": "c91c4b47",
   "metadata": {},
   "source": [
    "## TODOs:\n",
    "\n",
    "- Check Feature Importance, Remove most important features to see if we can fix the prediction accuracy\n",
    "    - **Estimated Net Rating seems too predictive, remove and rerun?**\n",
    "    - **DONE**, removed offensive, defensive, and estimated ratings\n",
    "- Add Writeups\n",
    "    - Add Outside Stats, connect back to home/away games somehow?\n",
    "- Get summary Statistics of predictors to create insights\n",
    "    - Def Reb\n",
    "- Streamlit App?"
   ]
  },
  {
   "cell_type": "markdown",
   "id": "bd3738c3",
   "metadata": {},
   "source": [
    "### Export Models to PKL"
   ]
  },
  {
   "cell_type": "code",
   "execution_count": null,
   "id": "22dfac07",
   "metadata": {},
   "outputs": [
    {
     "data": {
      "text/plain": [
       "['/Users/dB/Documents/repos/github/bint-capstone/projects/client-presentation-3/streamlit/modelsxgb_model.pkl']"
      ]
     },
     "execution_count": 55,
     "metadata": {},
     "output_type": "execute_result"
    }
   ],
   "source": [
    "path = '/Users/dB/Documents/repos/github/bint-capstone/projects/client-presentation-3/streamlit/models'\n",
    "\n",
    "import joblib\n",
    "joblib.dump(lr_model, f'{path}lr_model.pkl', compress=3)\n",
    "joblib.dump(dt_model, f'{path}dt_model.pkl', compress=3)\n",
    "joblib.dump(rf_model, f'{path}rf_model.pkl', compress=3)\n",
    "joblib.dump(svm_model, f'{path}svm_model.pkl', compress=3)\n",
    "joblib.dump(ann_model, f'{path}ann_model.pkl', compress=3)\n",
    "joblib.dump(xgb_model, f'{path}xgb_model.pkl', compress=3)\n",
    "\n",
    "# To read these, use joblib.load('path/to/file.pkl')"
   ]
  },
  {
   "cell_type": "markdown",
   "id": "ebe92792",
   "metadata": {},
   "source": [
    "Use predict_proba for feature importance in SVM/ANN, see if def rebounds "
   ]
  }
 ],
 "metadata": {
  "kernelspec": {
   "display_name": ".venv",
   "language": "python",
   "name": "python3"
  },
  "language_info": {
   "codemirror_mode": {
    "name": "ipython",
    "version": 3
   },
   "file_extension": ".py",
   "mimetype": "text/x-python",
   "name": "python",
   "nbconvert_exporter": "python",
   "pygments_lexer": "ipython3",
   "version": "3.11.11"
  }
 },
 "nbformat": 4,
 "nbformat_minor": 5
}
