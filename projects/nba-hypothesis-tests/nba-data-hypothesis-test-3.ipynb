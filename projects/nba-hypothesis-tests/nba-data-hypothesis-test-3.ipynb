{
 "cells": [
  {
   "cell_type": "markdown",
   "metadata": {},
   "source": [
    "# Additional Preprocessing"
   ]
  },
  {
   "cell_type": "markdown",
   "metadata": {},
   "source": [
    "## Import and setup"
   ]
  },
  {
   "cell_type": "markdown",
   "metadata": {},
   "source": [
    "first import the pkl dataset and convert to pandas dataframe"
   ]
  },
  {
   "cell_type": "code",
   "execution_count": 1,
   "metadata": {},
   "outputs": [
    {
     "name": "stdout",
     "output_type": "stream",
     "text": [
      "<class 'pandas.core.frame.DataFrame'>\n",
      "RangeIndex: 4231262 entries, 0 to 4231261\n",
      "Data columns (total 26 columns):\n",
      " #   Column          Dtype                \n",
      "---  ------          -----                \n",
      " 0   SEASON_1        int64[pyarrow]       \n",
      " 1   SEASON_2        large_string[pyarrow]\n",
      " 2   TEAM_ID         int64[pyarrow]       \n",
      " 3   TEAM_NAME       large_string[pyarrow]\n",
      " 4   PLAYER_ID       int64[pyarrow]       \n",
      " 5   PLAYER_NAME     large_string[pyarrow]\n",
      " 6   POSITION_GROUP  large_string[pyarrow]\n",
      " 7   POSITION        large_string[pyarrow]\n",
      " 8   GAME_DATE       large_string[pyarrow]\n",
      " 9   GAME_ID         int64[pyarrow]       \n",
      " 10  HOME_TEAM       large_string[pyarrow]\n",
      " 11  AWAY_TEAM       large_string[pyarrow]\n",
      " 12  EVENT_TYPE      large_string[pyarrow]\n",
      " 13  SHOT_MADE       bool[pyarrow]        \n",
      " 14  ACTION_TYPE     large_string[pyarrow]\n",
      " 15  SHOT_TYPE       large_string[pyarrow]\n",
      " 16  BASIC_ZONE      large_string[pyarrow]\n",
      " 17  ZONE_NAME       large_string[pyarrow]\n",
      " 18  ZONE_ABB        large_string[pyarrow]\n",
      " 19  ZONE_RANGE      large_string[pyarrow]\n",
      " 20  LOC_X           double[pyarrow]      \n",
      " 21  LOC_Y           double[pyarrow]      \n",
      " 22  SHOT_DISTANCE   int64[pyarrow]       \n",
      " 23  QUARTER         int64[pyarrow]       \n",
      " 24  MINS_LEFT       int64[pyarrow]       \n",
      " 25  SECS_LEFT       int64[pyarrow]       \n",
      "dtypes: bool[pyarrow](1), double[pyarrow](2), int64[pyarrow](8), large_string[pyarrow](15)\n",
      "memory usage: 1.3 GB\n"
     ]
    }
   ],
   "source": [
    "import pandas as pd\n",
    "df = pd.read_pickle('all-shots.pkl') \n",
    "df = df.to_pandas(use_pyarrow_extension_array=True)\n",
    "df.info()"
   ]
  },
  {
   "cell_type": "markdown",
   "metadata": {},
   "source": [
    "## Aggregating Win Rates\n",
    "\n",
    "Going to aggregate by season by team"
   ]
  },
  {
   "cell_type": "code",
   "execution_count": 2,
   "metadata": {},
   "outputs": [],
   "source": [
    "def calc_points(row):\n",
    "    if not row['SHOT_MADE']:\n",
    "        return 0\n",
    "    else:\n",
    "        if row['SHOT_TYPE'] == '3PT Field Goal':\n",
    "            return 3\n",
    "        else:\n",
    "            return 2\n",
    "        # perhaps use elif for returning 2 and else to Raise some error\n",
    "\n",
    "df['points'] = df.apply(calc_points, axis=1)"
   ]
  },
  {
   "cell_type": "markdown",
   "metadata": {},
   "source": [
    "for each season - each game  there are two teams each with summed score"
   ]
  },
  {
   "cell_type": "code",
   "execution_count": 3,
   "metadata": {},
   "outputs": [
    {
     "data": {
      "text/html": [
       "<div>\n",
       "<style scoped>\n",
       "    .dataframe tbody tr th:only-of-type {\n",
       "        vertical-align: middle;\n",
       "    }\n",
       "\n",
       "    .dataframe tbody tr th {\n",
       "        vertical-align: top;\n",
       "    }\n",
       "\n",
       "    .dataframe thead th {\n",
       "        text-align: right;\n",
       "    }\n",
       "</style>\n",
       "<table border=\"1\" class=\"dataframe\">\n",
       "  <thead>\n",
       "    <tr style=\"text-align: right;\">\n",
       "      <th></th>\n",
       "      <th>SEASON_1</th>\n",
       "      <th>GAME_ID</th>\n",
       "      <th>TEAM_NAME</th>\n",
       "      <th>team_points</th>\n",
       "    </tr>\n",
       "  </thead>\n",
       "  <tbody>\n",
       "    <tr>\n",
       "      <th>0</th>\n",
       "      <td>2004</td>\n",
       "      <td>20300001</td>\n",
       "      <td>Miami Heat</td>\n",
       "      <td>60</td>\n",
       "    </tr>\n",
       "    <tr>\n",
       "      <th>1</th>\n",
       "      <td>2004</td>\n",
       "      <td>20300001</td>\n",
       "      <td>Philadelphia 76ers</td>\n",
       "      <td>73</td>\n",
       "    </tr>\n",
       "    <tr>\n",
       "      <th>2</th>\n",
       "      <td>2004</td>\n",
       "      <td>20300002</td>\n",
       "      <td>Phoenix Suns</td>\n",
       "      <td>65</td>\n",
       "    </tr>\n",
       "    <tr>\n",
       "      <th>3</th>\n",
       "      <td>2004</td>\n",
       "      <td>20300002</td>\n",
       "      <td>San Antonio Spurs</td>\n",
       "      <td>63</td>\n",
       "    </tr>\n",
       "    <tr>\n",
       "      <th>4</th>\n",
       "      <td>2004</td>\n",
       "      <td>20300003</td>\n",
       "      <td>Dallas Mavericks</td>\n",
       "      <td>71</td>\n",
       "    </tr>\n",
       "  </tbody>\n",
       "</table>\n",
       "</div>"
      ],
      "text/plain": [
       "   SEASON_1   GAME_ID           TEAM_NAME  team_points\n",
       "0      2004  20300001          Miami Heat           60\n",
       "1      2004  20300001  Philadelphia 76ers           73\n",
       "2      2004  20300002        Phoenix Suns           65\n",
       "3      2004  20300002   San Antonio Spurs           63\n",
       "4      2004  20300003    Dallas Mavericks           71"
      ]
     },
     "execution_count": 3,
     "metadata": {},
     "output_type": "execute_result"
    }
   ],
   "source": [
    "df_game_team = (\n",
    "    df\n",
    "    .groupby(['SEASON_1','GAME_ID', 'TEAM_NAME'], as_index=False)\n",
    "    .agg(team_points=('points', 'sum'))\n",
    ")\n",
    "df_game_team.head()"
   ]
  },
  {
   "cell_type": "markdown",
   "metadata": {},
   "source": [
    "identify the winner for each "
   ]
  },
  {
   "cell_type": "code",
   "execution_count": 4,
   "metadata": {},
   "outputs": [
    {
     "data": {
      "text/html": [
       "<div>\n",
       "<style scoped>\n",
       "    .dataframe tbody tr th:only-of-type {\n",
       "        vertical-align: middle;\n",
       "    }\n",
       "\n",
       "    .dataframe tbody tr th {\n",
       "        vertical-align: top;\n",
       "    }\n",
       "\n",
       "    .dataframe thead th {\n",
       "        text-align: right;\n",
       "    }\n",
       "</style>\n",
       "<table border=\"1\" class=\"dataframe\">\n",
       "  <thead>\n",
       "    <tr style=\"text-align: right;\">\n",
       "      <th></th>\n",
       "      <th>SEASON_1</th>\n",
       "      <th>GAME_ID</th>\n",
       "      <th>TEAM_NAME</th>\n",
       "      <th>team_points</th>\n",
       "      <th>max_points_in_game</th>\n",
       "      <th>won_game</th>\n",
       "    </tr>\n",
       "  </thead>\n",
       "  <tbody>\n",
       "    <tr>\n",
       "      <th>0</th>\n",
       "      <td>2004</td>\n",
       "      <td>20300001</td>\n",
       "      <td>Miami Heat</td>\n",
       "      <td>60</td>\n",
       "      <td>73</td>\n",
       "      <td>0</td>\n",
       "    </tr>\n",
       "    <tr>\n",
       "      <th>1</th>\n",
       "      <td>2004</td>\n",
       "      <td>20300001</td>\n",
       "      <td>Philadelphia 76ers</td>\n",
       "      <td>73</td>\n",
       "      <td>73</td>\n",
       "      <td>1</td>\n",
       "    </tr>\n",
       "    <tr>\n",
       "      <th>2</th>\n",
       "      <td>2004</td>\n",
       "      <td>20300002</td>\n",
       "      <td>Phoenix Suns</td>\n",
       "      <td>65</td>\n",
       "      <td>65</td>\n",
       "      <td>1</td>\n",
       "    </tr>\n",
       "    <tr>\n",
       "      <th>3</th>\n",
       "      <td>2004</td>\n",
       "      <td>20300002</td>\n",
       "      <td>San Antonio Spurs</td>\n",
       "      <td>63</td>\n",
       "      <td>65</td>\n",
       "      <td>0</td>\n",
       "    </tr>\n",
       "    <tr>\n",
       "      <th>4</th>\n",
       "      <td>2004</td>\n",
       "      <td>20300003</td>\n",
       "      <td>Dallas Mavericks</td>\n",
       "      <td>71</td>\n",
       "      <td>97</td>\n",
       "      <td>0</td>\n",
       "    </tr>\n",
       "  </tbody>\n",
       "</table>\n",
       "</div>"
      ],
      "text/plain": [
       "   SEASON_1   GAME_ID           TEAM_NAME  team_points  max_points_in_game  \\\n",
       "0      2004  20300001          Miami Heat           60                  73   \n",
       "1      2004  20300001  Philadelphia 76ers           73                  73   \n",
       "2      2004  20300002        Phoenix Suns           65                  65   \n",
       "3      2004  20300002   San Antonio Spurs           63                  65   \n",
       "4      2004  20300003    Dallas Mavericks           71                  97   \n",
       "\n",
       "   won_game  \n",
       "0         0  \n",
       "1         1  \n",
       "2         1  \n",
       "3         0  \n",
       "4         0  "
      ]
     },
     "execution_count": 4,
     "metadata": {},
     "output_type": "execute_result"
    }
   ],
   "source": [
    "df_game_team['max_points_in_game'] = (\n",
    "    df_game_team\n",
    "    .groupby('GAME_ID')['team_points']\n",
    "    .transform('max')\n",
    ")\n",
    "\n",
    "df_game_team['won_game'] = (df_game_team['team_points'] == df_game_team['max_points_in_game']).astype(int)\n",
    "df_game_team.head()"
   ]
  },
  {
   "cell_type": "markdown",
   "metadata": {},
   "source": [
    "aggregate to team level win rates for each season"
   ]
  },
  {
   "cell_type": "code",
   "execution_count": 5,
   "metadata": {},
   "outputs": [
    {
     "data": {
      "text/html": [
       "<div>\n",
       "<style scoped>\n",
       "    .dataframe tbody tr th:only-of-type {\n",
       "        vertical-align: middle;\n",
       "    }\n",
       "\n",
       "    .dataframe tbody tr th {\n",
       "        vertical-align: top;\n",
       "    }\n",
       "\n",
       "    .dataframe thead th {\n",
       "        text-align: right;\n",
       "    }\n",
       "</style>\n",
       "<table border=\"1\" class=\"dataframe\">\n",
       "  <thead>\n",
       "    <tr style=\"text-align: right;\">\n",
       "      <th></th>\n",
       "      <th>SEASON_1</th>\n",
       "      <th>TEAM_NAME</th>\n",
       "      <th>total_games</th>\n",
       "      <th>total_wins</th>\n",
       "      <th>win_rate</th>\n",
       "    </tr>\n",
       "  </thead>\n",
       "  <tbody>\n",
       "    <tr>\n",
       "      <th>0</th>\n",
       "      <td>2004</td>\n",
       "      <td>Atlanta Hawks</td>\n",
       "      <td>82</td>\n",
       "      <td>35</td>\n",
       "      <td>0.426829</td>\n",
       "    </tr>\n",
       "    <tr>\n",
       "      <th>1</th>\n",
       "      <td>2004</td>\n",
       "      <td>Boston Celtics</td>\n",
       "      <td>82</td>\n",
       "      <td>34</td>\n",
       "      <td>0.414634</td>\n",
       "    </tr>\n",
       "    <tr>\n",
       "      <th>2</th>\n",
       "      <td>2004</td>\n",
       "      <td>Chicago Bulls</td>\n",
       "      <td>82</td>\n",
       "      <td>33</td>\n",
       "      <td>0.402439</td>\n",
       "    </tr>\n",
       "    <tr>\n",
       "      <th>3</th>\n",
       "      <td>2004</td>\n",
       "      <td>Cleveland Cavaliers</td>\n",
       "      <td>82</td>\n",
       "      <td>33</td>\n",
       "      <td>0.402439</td>\n",
       "    </tr>\n",
       "    <tr>\n",
       "      <th>4</th>\n",
       "      <td>2004</td>\n",
       "      <td>Dallas Mavericks</td>\n",
       "      <td>82</td>\n",
       "      <td>54</td>\n",
       "      <td>0.658537</td>\n",
       "    </tr>\n",
       "  </tbody>\n",
       "</table>\n",
       "</div>"
      ],
      "text/plain": [
       "   SEASON_1            TEAM_NAME  total_games  total_wins  win_rate\n",
       "0      2004        Atlanta Hawks           82          35  0.426829\n",
       "1      2004       Boston Celtics           82          34  0.414634\n",
       "2      2004        Chicago Bulls           82          33  0.402439\n",
       "3      2004  Cleveland Cavaliers           82          33  0.402439\n",
       "4      2004     Dallas Mavericks           82          54  0.658537"
      ]
     },
     "execution_count": 5,
     "metadata": {},
     "output_type": "execute_result"
    }
   ],
   "source": [
    "df_win_rate = (\n",
    "    df_game_team\n",
    "    .groupby(['SEASON_1','TEAM_NAME'], as_index=False)\n",
    "    .agg(\n",
    "        total_games=('GAME_ID', 'nunique'), #or .count()\n",
    "        total_wins=('won_game', 'sum')\n",
    "    )\n",
    ")\n",
    "df_win_rate['win_rate'] = df_win_rate['total_wins']/df_win_rate['total_games']\n",
    "df_win_rate.head()"
   ]
  },
  {
   "cell_type": "markdown",
   "metadata": {},
   "source": [
    "this time around you should have more than 30 datapoints "
   ]
  },
  {
   "cell_type": "code",
   "execution_count": 6,
   "metadata": {},
   "outputs": [
    {
     "name": "stdout",
     "output_type": "stream",
     "text": [
      "<class 'pandas.core.frame.DataFrame'>\n",
      "RangeIndex: 629 entries, 0 to 628\n",
      "Data columns (total 5 columns):\n",
      " #   Column       Non-Null Count  Dtype                \n",
      "---  ------       --------------  -----                \n",
      " 0   SEASON_1     629 non-null    int64[pyarrow]       \n",
      " 1   TEAM_NAME    629 non-null    large_string[pyarrow]\n",
      " 2   total_games  629 non-null    int64                \n",
      " 3   total_wins   629 non-null    int64                \n",
      " 4   win_rate     629 non-null    float64              \n",
      "dtypes: float64(1), int64(2), int64[pyarrow](1), large_string[pyarrow](1)\n",
      "memory usage: 34.6 KB\n"
     ]
    }
   ],
   "source": [
    "df_win_rate.info()"
   ]
  },
  {
   "cell_type": "markdown",
   "metadata": {},
   "source": [
    "## Aggregating 3pt Attempt Rates\n",
    "\n",
    "going to aggregate by season by team"
   ]
  },
  {
   "cell_type": "code",
   "execution_count": 8,
   "metadata": {},
   "outputs": [
    {
     "data": {
      "text/html": [
       "<div>\n",
       "<style scoped>\n",
       "    .dataframe tbody tr th:only-of-type {\n",
       "        vertical-align: middle;\n",
       "    }\n",
       "\n",
       "    .dataframe tbody tr th {\n",
       "        vertical-align: top;\n",
       "    }\n",
       "\n",
       "    .dataframe thead th {\n",
       "        text-align: right;\n",
       "    }\n",
       "</style>\n",
       "<table border=\"1\" class=\"dataframe\">\n",
       "  <thead>\n",
       "    <tr style=\"text-align: right;\">\n",
       "      <th></th>\n",
       "      <th>SEASON_1</th>\n",
       "      <th>TEAM_NAME</th>\n",
       "      <th>total_attempts</th>\n",
       "      <th>three_pt_attempts</th>\n",
       "      <th>three_pt_attempt_rate</th>\n",
       "    </tr>\n",
       "  </thead>\n",
       "  <tbody>\n",
       "    <tr>\n",
       "      <th>0</th>\n",
       "      <td>2004</td>\n",
       "      <td>Atlanta Hawks</td>\n",
       "      <td>6529</td>\n",
       "      <td>1249</td>\n",
       "      <td>0.1913</td>\n",
       "    </tr>\n",
       "    <tr>\n",
       "      <th>1</th>\n",
       "      <td>2004</td>\n",
       "      <td>Boston Celtics</td>\n",
       "      <td>6415</td>\n",
       "      <td>1599</td>\n",
       "      <td>0.24926</td>\n",
       "    </tr>\n",
       "    <tr>\n",
       "      <th>2</th>\n",
       "      <td>2004</td>\n",
       "      <td>Chicago Bulls</td>\n",
       "      <td>6753</td>\n",
       "      <td>1256</td>\n",
       "      <td>0.185991</td>\n",
       "    </tr>\n",
       "    <tr>\n",
       "      <th>3</th>\n",
       "      <td>2004</td>\n",
       "      <td>Cleveland Cavaliers</td>\n",
       "      <td>6753</td>\n",
       "      <td>786</td>\n",
       "      <td>0.116393</td>\n",
       "    </tr>\n",
       "    <tr>\n",
       "      <th>4</th>\n",
       "      <td>2004</td>\n",
       "      <td>Dallas Mavericks</td>\n",
       "      <td>7230</td>\n",
       "      <td>1456</td>\n",
       "      <td>0.201383</td>\n",
       "    </tr>\n",
       "  </tbody>\n",
       "</table>\n",
       "</div>"
      ],
      "text/plain": [
       "   SEASON_1            TEAM_NAME  total_attempts  three_pt_attempts  \\\n",
       "0      2004        Atlanta Hawks            6529               1249   \n",
       "1      2004       Boston Celtics            6415               1599   \n",
       "2      2004        Chicago Bulls            6753               1256   \n",
       "3      2004  Cleveland Cavaliers            6753                786   \n",
       "4      2004     Dallas Mavericks            7230               1456   \n",
       "\n",
       "   three_pt_attempt_rate  \n",
       "0                 0.1913  \n",
       "1                0.24926  \n",
       "2               0.185991  \n",
       "3               0.116393  \n",
       "4               0.201383  "
      ]
     },
     "execution_count": 8,
     "metadata": {},
     "output_type": "execute_result"
    }
   ],
   "source": [
    "df_attempt = (\n",
    "    df\n",
    "    .groupby(['SEASON_1','TEAM_NAME'])\n",
    "    .agg(\n",
    "        total_attempts=('SHOT_TYPE', 'size'),\n",
    "        three_pt_attempts=('SHOT_TYPE', lambda x: (x=='3PT Field Goal').sum())\n",
    "    )\n",
    "    .reset_index()\n",
    ")\n",
    "\n",
    "df_attempt['three_pt_attempts'] = (df_attempt['three_pt_attempts']).astype(int)\n",
    "\n",
    "# creating three pt attempt rate column\n",
    "df_attempt['three_pt_attempt_rate'] = df_attempt['three_pt_attempts']/df_attempt['total_attempts']\n",
    "\n",
    "df_attempt.head()"
   ]
  },
  {
   "cell_type": "code",
   "execution_count": 10,
   "metadata": {},
   "outputs": [
    {
     "data": {
      "text/html": [
       "<div>\n",
       "<style scoped>\n",
       "    .dataframe tbody tr th:only-of-type {\n",
       "        vertical-align: middle;\n",
       "    }\n",
       "\n",
       "    .dataframe tbody tr th {\n",
       "        vertical-align: top;\n",
       "    }\n",
       "\n",
       "    .dataframe thead th {\n",
       "        text-align: right;\n",
       "    }\n",
       "</style>\n",
       "<table border=\"1\" class=\"dataframe\">\n",
       "  <thead>\n",
       "    <tr style=\"text-align: right;\">\n",
       "      <th></th>\n",
       "      <th>SEASON_1</th>\n",
       "      <th>TEAM_NAME</th>\n",
       "      <th>total_attempts</th>\n",
       "      <th>three_pt_attempts</th>\n",
       "      <th>three_pt_attempt_rate</th>\n",
       "    </tr>\n",
       "  </thead>\n",
       "  <tbody>\n",
       "    <tr>\n",
       "      <th>0</th>\n",
       "      <td>2004</td>\n",
       "      <td>Atlanta Hawks</td>\n",
       "      <td>6529</td>\n",
       "      <td>1249</td>\n",
       "      <td>0.1913</td>\n",
       "    </tr>\n",
       "    <tr>\n",
       "      <th>1</th>\n",
       "      <td>2004</td>\n",
       "      <td>Boston Celtics</td>\n",
       "      <td>6415</td>\n",
       "      <td>1599</td>\n",
       "      <td>0.24926</td>\n",
       "    </tr>\n",
       "    <tr>\n",
       "      <th>2</th>\n",
       "      <td>2004</td>\n",
       "      <td>Chicago Bulls</td>\n",
       "      <td>6753</td>\n",
       "      <td>1256</td>\n",
       "      <td>0.185991</td>\n",
       "    </tr>\n",
       "    <tr>\n",
       "      <th>3</th>\n",
       "      <td>2004</td>\n",
       "      <td>Cleveland Cavaliers</td>\n",
       "      <td>6753</td>\n",
       "      <td>786</td>\n",
       "      <td>0.116393</td>\n",
       "    </tr>\n",
       "    <tr>\n",
       "      <th>4</th>\n",
       "      <td>2004</td>\n",
       "      <td>Dallas Mavericks</td>\n",
       "      <td>7230</td>\n",
       "      <td>1456</td>\n",
       "      <td>0.201383</td>\n",
       "    </tr>\n",
       "  </tbody>\n",
       "</table>\n",
       "</div>"
      ],
      "text/plain": [
       "   SEASON_1            TEAM_NAME  total_attempts  three_pt_attempts  \\\n",
       "0      2004        Atlanta Hawks            6529               1249   \n",
       "1      2004       Boston Celtics            6415               1599   \n",
       "2      2004        Chicago Bulls            6753               1256   \n",
       "3      2004  Cleveland Cavaliers            6753                786   \n",
       "4      2004     Dallas Mavericks            7230               1456   \n",
       "\n",
       "   three_pt_attempt_rate  \n",
       "0                 0.1913  \n",
       "1                0.24926  \n",
       "2               0.185991  \n",
       "3               0.116393  \n",
       "4               0.201383  "
      ]
     },
     "execution_count": 10,
     "metadata": {},
     "output_type": "execute_result"
    }
   ],
   "source": [
    "df_attempt.head()"
   ]
  },
  {
   "cell_type": "markdown",
   "metadata": {},
   "source": [
    "## Merging Aggregations"
   ]
  },
  {
   "cell_type": "markdown",
   "metadata": {},
   "source": [
    "make sure the win rates and attempt dataframes have the same number of instances"
   ]
  },
  {
   "cell_type": "code",
   "execution_count": 14,
   "metadata": {},
   "outputs": [],
   "source": [
    "assert df_attempt.shape[0] == df_win_rate.shape[0]"
   ]
  },
  {
   "cell_type": "markdown",
   "metadata": {},
   "source": [
    "merge on season_1, team_name columns. keeping relevant columns for hypothesis testing"
   ]
  },
  {
   "cell_type": "code",
   "execution_count": 18,
   "metadata": {},
   "outputs": [
    {
     "name": "stdout",
     "output_type": "stream",
     "text": [
      "<class 'pandas.core.frame.DataFrame'>\n",
      "RangeIndex: 629 entries, 0 to 628\n",
      "Data columns (total 4 columns):\n",
      " #   Column                 Non-Null Count  Dtype                \n",
      "---  ------                 --------------  -----                \n",
      " 0   SEASON_1               629 non-null    int64[pyarrow]       \n",
      " 1   TEAM_NAME              629 non-null    large_string[pyarrow]\n",
      " 2   three_pt_attempt_rate  629 non-null    double[pyarrow]      \n",
      " 3   win_rate               629 non-null    float64              \n",
      "dtypes: double[pyarrow](1), float64(1), int64[pyarrow](1), large_string[pyarrow](1)\n",
      "memory usage: 29.8 KB\n",
      "None\n"
     ]
    },
    {
     "data": {
      "text/html": [
       "<div>\n",
       "<style scoped>\n",
       "    .dataframe tbody tr th:only-of-type {\n",
       "        vertical-align: middle;\n",
       "    }\n",
       "\n",
       "    .dataframe tbody tr th {\n",
       "        vertical-align: top;\n",
       "    }\n",
       "\n",
       "    .dataframe thead th {\n",
       "        text-align: right;\n",
       "    }\n",
       "</style>\n",
       "<table border=\"1\" class=\"dataframe\">\n",
       "  <thead>\n",
       "    <tr style=\"text-align: right;\">\n",
       "      <th></th>\n",
       "      <th>SEASON_1</th>\n",
       "      <th>TEAM_NAME</th>\n",
       "      <th>three_pt_attempt_rate</th>\n",
       "      <th>win_rate</th>\n",
       "    </tr>\n",
       "  </thead>\n",
       "  <tbody>\n",
       "    <tr>\n",
       "      <th>0</th>\n",
       "      <td>2004</td>\n",
       "      <td>Atlanta Hawks</td>\n",
       "      <td>0.1913</td>\n",
       "      <td>0.426829</td>\n",
       "    </tr>\n",
       "    <tr>\n",
       "      <th>1</th>\n",
       "      <td>2004</td>\n",
       "      <td>Boston Celtics</td>\n",
       "      <td>0.24926</td>\n",
       "      <td>0.414634</td>\n",
       "    </tr>\n",
       "    <tr>\n",
       "      <th>2</th>\n",
       "      <td>2004</td>\n",
       "      <td>Chicago Bulls</td>\n",
       "      <td>0.185991</td>\n",
       "      <td>0.402439</td>\n",
       "    </tr>\n",
       "    <tr>\n",
       "      <th>3</th>\n",
       "      <td>2004</td>\n",
       "      <td>Cleveland Cavaliers</td>\n",
       "      <td>0.116393</td>\n",
       "      <td>0.402439</td>\n",
       "    </tr>\n",
       "    <tr>\n",
       "      <th>4</th>\n",
       "      <td>2004</td>\n",
       "      <td>Dallas Mavericks</td>\n",
       "      <td>0.201383</td>\n",
       "      <td>0.658537</td>\n",
       "    </tr>\n",
       "  </tbody>\n",
       "</table>\n",
       "</div>"
      ],
      "text/plain": [
       "   SEASON_1            TEAM_NAME  three_pt_attempt_rate  win_rate\n",
       "0      2004        Atlanta Hawks                 0.1913  0.426829\n",
       "1      2004       Boston Celtics                0.24926  0.414634\n",
       "2      2004        Chicago Bulls               0.185991  0.402439\n",
       "3      2004  Cleveland Cavaliers               0.116393  0.402439\n",
       "4      2004     Dallas Mavericks               0.201383  0.658537"
      ]
     },
     "execution_count": 18,
     "metadata": {},
     "output_type": "execute_result"
    }
   ],
   "source": [
    "df_merged = df_attempt.merge(df_win_rate, on=['SEASON_1', 'TEAM_NAME'], how='inner')\n",
    "df_merged = df_merged[['SEASON_1', 'TEAM_NAME', 'three_pt_attempt_rate', 'win_rate']]\n",
    "print(df_merged.info())\n",
    "df_merged.head()"
   ]
  },
  {
   "cell_type": "markdown",
   "metadata": {},
   "source": [
    "merge looks good with no null entries"
   ]
  },
  {
   "cell_type": "code",
   "execution_count": 19,
   "metadata": {},
   "outputs": [],
   "source": [
    "three_pt_attempt_rate = df_merged['three_pt_attempt_rate']\n",
    "win_rate = df_merged['win_rate']"
   ]
  },
  {
   "cell_type": "markdown",
   "metadata": {},
   "source": [
    "# Normality Testing"
   ]
  },
  {
   "cell_type": "code",
   "execution_count": 25,
   "metadata": {},
   "outputs": [],
   "source": [
    "# for visuals\n",
    "import statsmodels.api as sm\n",
    "from matplotlib import pyplot as plt\n",
    "\n",
    "\n",
    "# for normality tests\n",
    "from scipy.stats import anderson, shapiro, kstest, normaltest\n",
    "\n",
    "\n",
    "alpha = 0.05"
   ]
  },
  {
   "cell_type": "markdown",
   "metadata": {},
   "source": [
    "## Basic Histograms"
   ]
  },
  {
   "cell_type": "code",
   "execution_count": 23,
   "metadata": {},
   "outputs": [
    {
     "data": {
      "image/png": "[encoded data removed]",
      "text/plain": [
       "<Figure size 640x480 with 1 Axes>"
      ]
     },
     "metadata": {},
     "output_type": "display_data"
    }
   ],
   "source": [
    "plt.hist(three_pt_attempt_rate)\n",
    "plt.show()"
   ]
  },
  {
   "cell_type": "code",
   "execution_count": 24,
   "metadata": {},
   "outputs": [
    {
     "data": {
      "image/png": "[encoded data removed]",
      "text/plain": [
       "<Figure size 640x480 with 1 Axes>"
      ]
     },
     "metadata": {},
     "output_type": "display_data"
    }
   ],
   "source": [
    "plt.hist(win_rate)\n",
    "plt.show()"
   ]
  },
  {
   "cell_type": "markdown",
   "metadata": {},
   "source": [
    "## QQ Plot for three_pt_attempt_rate"
   ]
  },
  {
   "cell_type": "code",
   "execution_count": 21,
   "metadata": {},
   "outputs": [
    {
     "data": {
      "image/png": "[encoded data removed]",
      "text/plain": [
       "<Figure size 640x480 with 1 Axes>"
      ]
     },
     "metadata": {},
     "output_type": "display_data"
    }
   ],
   "source": [
    "sm.qqplot(\n",
    "    data=three_pt_attempt_rate,\n",
    "    line='s'\n",
    ")\n",
    "plt.show()"
   ]
  },
  {
   "cell_type": "markdown",
   "metadata": {},
   "source": [
    "## QQ Plot for win_rate"
   ]
  },
  {
   "cell_type": "code",
   "execution_count": 22,
   "metadata": {},
   "outputs": [
    {
     "data": {
      "image/png": "[encoded data removed]",
      "text/plain": [
       "<Figure size 640x480 with 1 Axes>"
      ]
     },
     "metadata": {},
     "output_type": "display_data"
    }
   ],
   "source": [
    "sm.qqplot(\n",
    "    data=win_rate,\n",
    "    line='s'\n",
    ")\n",
    "plt.show()"
   ]
  },
  {
   "cell_type": "markdown",
   "metadata": {},
   "source": [
    "## Shapiro-Wilk Test\n",
    "\n",
    "H0: the sample follows normal distribution\n",
    "\n",
    "\n",
    "H1: the sample does not follow normal distribution."
   ]
  },
  {
   "cell_type": "code",
   "execution_count": 28,
   "metadata": {},
   "outputs": [
    {
     "name": "stdout",
     "output_type": "stream",
     "text": [
      "statistic: 0.9721470659033769\n",
      "p-value: 1.4518866472576583e-09\n",
      "\n"
     ]
    },
    {
     "data": {
      "text/plain": [
       "'sample does not follow normal distribution (Reject H0)'"
      ]
     },
     "execution_count": 28,
     "metadata": {},
     "output_type": "execute_result"
    }
   ],
   "source": [
    "# Testing three_pt_attempt_rate\n",
    "stat, p = shapiro(three_pt_attempt_rate)\n",
    "print(f'statistic: {stat}\\np-value: {p}\\n')\n",
    "'sample follows normal distribution (Fail to reject H0)' if p > alpha else 'sample does not follow normal distribution (Reject H0)'"
   ]
  },
  {
   "cell_type": "code",
   "execution_count": 29,
   "metadata": {},
   "outputs": [
    {
     "name": "stdout",
     "output_type": "stream",
     "text": [
      "statistic: 0.9945683670112669\n",
      "p-value: 0.02457922165138332\n",
      "\n"
     ]
    },
    {
     "data": {
      "text/plain": [
       "'sample does not follow normal distribution (Reject H0)'"
      ]
     },
     "execution_count": 29,
     "metadata": {},
     "output_type": "execute_result"
    }
   ],
   "source": [
    "# Testing win_rate\n",
    "stat, p = shapiro(win_rate)\n",
    "print(f'statistic: {stat}\\np-value: {p}\\n')\n",
    "'sample follows normal distribution (Fail to reject H0)' if p > alpha else 'sample does not follow normal distribution (Reject H0)'"
   ]
  },
  {
   "cell_type": "markdown",
   "metadata": {},
   "source": [
    "## DAgostino's K^2 Test\n",
    "\n",
    "H0: the sample follows normal distribution\n",
    "\n",
    "\n",
    "H1: the sample does not follow normal distribution."
   ]
  },
  {
   "cell_type": "code",
   "execution_count": 30,
   "metadata": {},
   "outputs": [
    {
     "name": "stdout",
     "output_type": "stream",
     "text": [
      "statistic: 64.55732383216143\n",
      "p-value: 9.58418629039721e-15\n",
      "\n"
     ]
    },
    {
     "data": {
      "text/plain": [
       "'sample does not follow normal distribution (Reject H0)'"
      ]
     },
     "execution_count": 30,
     "metadata": {},
     "output_type": "execute_result"
    }
   ],
   "source": [
    "# Testing three_pt_attempt_rate\n",
    "stat, p = normaltest(three_pt_attempt_rate)\n",
    "print(f'statistic: {stat}\\np-value: {p}\\n')\n",
    "'sample follows normal distribution (Fail to reject H0)' if p > alpha else 'sample does not follow normal distribution (Reject H0)'"
   ]
  },
  {
   "cell_type": "code",
   "execution_count": 31,
   "metadata": {},
   "outputs": [
    {
     "name": "stdout",
     "output_type": "stream",
     "text": [
      "statistic: 7.624196297793584\n",
      "p-value: 0.022101757496390696\n",
      "\n"
     ]
    },
    {
     "data": {
      "text/plain": [
       "'sample does not follow normal distribution (Reject H0)'"
      ]
     },
     "execution_count": 31,
     "metadata": {},
     "output_type": "execute_result"
    }
   ],
   "source": [
    "# Testing win_rate\n",
    "stat, p = normaltest(win_rate)\n",
    "print(f'statistic: {stat}\\np-value: {p}\\n')\n",
    "'sample follows normal distribution (Fail to reject H0)' if p > alpha else 'sample does not follow normal distribution (Reject H0)'"
   ]
  },
  {
   "cell_type": "markdown",
   "metadata": {},
   "source": [
    "## Anderson-Darling Test\n",
    "\n",
    "H0: the sample follows normal distribution\n",
    "\n",
    "\n",
    "H1: the sample does not follow normal distribution."
   ]
  },
  {
   "cell_type": "code",
   "execution_count": 36,
   "metadata": {},
   "outputs": [
    {
     "name": "stdout",
     "output_type": "stream",
     "text": [
      "sample does not follow normal distribution (Reject H0) at sig level 15.0\n",
      "sample does not follow normal distribution (Reject H0) at sig level 10.0\n",
      "sample does not follow normal distribution (Reject H0) at sig level 5.0\n",
      "sample does not follow normal distribution (Reject H0) at sig level 2.5\n",
      "sample does not follow normal distribution (Reject H0) at sig level 1.0\n"
     ]
    }
   ],
   "source": [
    "ad_3pt = anderson(three_pt_attempt_rate, 'norm')\n",
    "\n",
    "for i in range(len(ad_3pt.critical_values)):\n",
    "    sl, cv = ad_3pt.significance_level[i], ad_3pt.critical_values[i]\n",
    "    result = f'sample follows normal distribution (Fail to reject H0) at sig level {sl}' if ad_3pt.statistic < ad_3pt.critical_values[i] else f'sample does not follow normal distribution (Reject H0) at sig level {sl}'\n",
    "    print(result)"
   ]
  },
  {
   "cell_type": "code",
   "execution_count": 37,
   "metadata": {},
   "outputs": [
    {
     "name": "stdout",
     "output_type": "stream",
     "text": [
      "sample does not follow normal distribution (Reject H0) at sig level 15.0\n",
      "sample does not follow normal distribution (Reject H0) at sig level 10.0\n",
      "sample does not follow normal distribution (Reject H0) at sig level 5.0\n",
      "sample does not follow normal distribution (Reject H0) at sig level 2.5\n",
      "sample does not follow normal distribution (Reject H0) at sig level 1.0\n"
     ]
    }
   ],
   "source": [
    "# Testing win_rate\n",
    "ad_wr = anderson(win_rate, 'norm')\n",
    "\n",
    "for i in range(len(ad_wr.critical_values)):\n",
    "    sl, cv = ad_wr.significance_level[i], ad_wr.critical_values[i]\n",
    "    result = f'sample follows normal distribution (Fail to reject H0) at sig level {sl}' if ad_wr.statistic < ad_wr.critical_values[i] else f'sample does not follow normal distribution (Reject H0) at sig level {sl}'\n",
    "    print(result)"
   ]
  },
  {
   "cell_type": "markdown",
   "metadata": {},
   "source": [
    "## Conclusion: ..."
   ]
  },
  {
   "cell_type": "markdown",
   "metadata": {},
   "source": [
    "# Nonparametric Correlation Testing"
   ]
  },
  {
   "cell_type": "code",
   "execution_count": 38,
   "metadata": {},
   "outputs": [],
   "source": [
    "from scipy.stats import spearmanr, kendalltau"
   ]
  },
  {
   "cell_type": "markdown",
   "metadata": {},
   "source": [
    "## Spearman's Rank Correlation\n",
    "\n",
    "H0: two samples are independent\n",
    "\n",
    "\n",
    "H1: two samples are not independent"
   ]
  },
  {
   "cell_type": "code",
   "execution_count": 41,
   "metadata": {},
   "outputs": [
    {
     "name": "stdout",
     "output_type": "stream",
     "text": [
      "Spearman's rank correlation: 0.137, p-value=0.000554\n"
     ]
    },
    {
     "data": {
      "text/plain": [
       "'dependent samples (Reject H0)'"
      ]
     },
     "execution_count": 41,
     "metadata": {},
     "output_type": "execute_result"
    }
   ],
   "source": [
    "corr, p = spearmanr(three_pt_attempt_rate, win_rate)\n",
    "print(f\"Spearman's rank correlation: {corr:.3f}, p-value={p:.3g}\")\n",
    "'indepent samples (Fail to reject H0)' if p > alpha else 'dependent samples (Reject H0)'"
   ]
  },
  {
   "cell_type": "markdown",
   "metadata": {},
   "source": [
    "## Kendall's Rank Correlation\n",
    "\n",
    "H0: two samples are independent\n",
    "\n",
    "\n",
    "H1: two samples are not independent"
   ]
  },
  {
   "cell_type": "code",
   "execution_count": 42,
   "metadata": {},
   "outputs": [
    {
     "name": "stdout",
     "output_type": "stream",
     "text": [
      "Kendall's tau: 0.094, p-value=0.000465\n"
     ]
    },
    {
     "data": {
      "text/plain": [
       "'dependent samples (Reject H0)'"
      ]
     },
     "execution_count": 42,
     "metadata": {},
     "output_type": "execute_result"
    }
   ],
   "source": [
    "corr, p = kendalltau(three_pt_attempt_rate, win_rate)\n",
    "print(f\"Kendall's tau: {corr:.3f}, p-value={p:.3g}\")\n",
    "'indepent samples (Fail to reject H0)' if p > alpha else 'dependent samples (Reject H0)'"
   ]
  }
 ],
 "metadata": {
  "kernelspec": {
   "display_name": "capstone",
   "language": "python",
   "name": "python3"
  },
  "language_info": {
   "codemirror_mode": {
    "name": "ipython",
    "version": 3
   },
   "file_extension": ".py",
   "mimetype": "text/x-python",
   "name": "python",
   "nbconvert_exporter": "python",
   "pygments_lexer": "ipython3",
   "version": "3.13.1"
  }
 },
 "nbformat": 4,
 "nbformat_minor": 2
}
