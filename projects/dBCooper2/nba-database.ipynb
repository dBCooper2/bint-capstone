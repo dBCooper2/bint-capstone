{
 "cells": [
  {
   "cell_type": "markdown",
   "metadata": {},
   "source": [
    "# NBA Data :: Converting Files to Databases\n",
    "\n",
    "To create interactive demos of our project, we will need to shrink the size of the files to store them online. This "
   ]
  },
  {
   "cell_type": "code",
   "execution_count": 1,
   "metadata": {},
   "outputs": [],
   "source": [
    "# Get all column names and types to plug into Claude\n",
    "\n",
    "import pandas as pd\n",
    "\n",
    "shots = pd.read_pickle('/home/arch-db/Documents/github/bint-capstone/data-sources/all-shots.pkl')\n",
    "games = pd.read_pickle('/home/arch-db/Documents/github/bint-capstone/data-sources/all-games.pkl')\n",
    "players = pd.read_pickle('/home/arch-db/Documents/github/bint-capstone/data-sources/new-player-data.pkl')"
   ]
  },
  {
   "cell_type": "markdown",
   "metadata": {},
   "source": []
  }
 ],
 "metadata": {
  "kernelspec": {
   "display_name": ".venv",
   "language": "python",
   "name": "python3"
  },
  "language_info": {
   "codemirror_mode": {
    "name": "ipython",
    "version": 3
   },
   "file_extension": ".py",
   "mimetype": "text/x-python",
   "name": "python",
   "nbconvert_exporter": "python",
   "pygments_lexer": "ipython3",
   "version": "3.11.11"
  }
 },
 "nbformat": 4,
 "nbformat_minor": 2
}
