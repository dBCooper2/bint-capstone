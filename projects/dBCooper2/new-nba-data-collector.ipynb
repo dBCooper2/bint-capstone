{
 "cells": [
  {
   "cell_type": "markdown",
   "metadata": {},
   "source": [
    "# NBA Data :: Getting Datasets (Again...)\n",
    "\n",
    "This notebook contains functions to get Team, Player and Game Data from the `nba_api` package."
   ]
  },
  {
   "cell_type": "markdown",
   "metadata": {},
   "source": [
    "# 1. Importing Packages\n",
    "\n",
    "The following packages can be installed using `pip install pkg1 pkg2 ... pkgN`."
   ]
  },
  {
   "cell_type": "code",
   "execution_count": 47,
   "metadata": {},
   "outputs": [],
   "source": [
    "import nba_api\n",
    "import numpy as np\n",
    "import pandas as pd\n",
    "import polars as pl\n",
    "import seaborn as sns\n",
    "import matplotlib.pyplot as plt\n",
    "import requests as req\n",
    "from tqdm import tqdm\n",
    "import time"
   ]
  },
  {
   "cell_type": "markdown",
   "metadata": {},
   "source": [
    "We will also need the following headers to connect to the NBA API."
   ]
  },
  {
   "cell_type": "code",
   "execution_count": 29,
   "metadata": {},
   "outputs": [],
   "source": [
    "headers = {\n",
    "        \"Host\": \"stats.nba.com\",\n",
    "        \"User-Agent\": \"Mozilla/5.0 (Windows NT 10.0; Win64; x64; rv:72.0) Gecko/20100101 Firefox/72.0\",\n",
    "        \"Accept\": \"application/json, text/plain, */*\",\n",
    "        \"Accept-Language\": \"en-US,en;q=0.5\",\n",
    "        \"Accept-Encoding\": \"gzip, deflate, br\",\n",
    "        \"x-nba-stats-origin\": \"stats\",\n",
    "        \"x-nba-stats-token\": \"true\",\n",
    "        \"Connection\": \"keep-alive\",\n",
    "        \"Referer\": \"https://stats.nba.com/\",\n",
    "        \"Pragma\": \"no-cache\",\n",
    "        \"Cache-Control\": \"no-cache\",\n",
    "    }\n"
   ]
  },
  {
   "cell_type": "markdown",
   "metadata": {},
   "source": [
    "# 2. NBA API Data Outline\n",
    "\n",
    "The data needed are games, teams and players. The data will be collected from swar's `nba_api` [package](<https://github.com/swar/nba_api>)\n",
    "\n",
    "### Team Data\n",
    "\n",
    "Team data should be a dataframe of each NBA team's season average statistics for a given season, a column `made_playoffs` that is 1 when a team made the playoffs that season, and 0 when a team did not make the playoffs.\n",
    "\n",
    "For the Team Data, we must first collect the teams in the NBA."
   ]
  },
  {
   "cell_type": "code",
   "execution_count": 5,
   "metadata": {},
   "outputs": [
    {
     "data": {
      "text/plain": [
       "[{'id': 1610612737,\n",
       "  'full_name': 'Atlanta Hawks',\n",
       "  'abbreviation': 'ATL',\n",
       "  'nickname': 'Hawks',\n",
       "  'city': 'Atlanta',\n",
       "  'state': 'Georgia',\n",
       "  'year_founded': 1949}]"
      ]
     },
     "execution_count": 5,
     "metadata": {},
     "output_type": "execute_result"
    }
   ],
   "source": [
    "from nba_api.stats.static import teams\n",
    "\n",
    "t = teams.get_teams()\n",
    "t[:1]"
   ]
  },
  {
   "cell_type": "code",
   "execution_count": 6,
   "metadata": {},
   "outputs": [
    {
     "data": {
      "text/plain": [
       "30"
      ]
     },
     "execution_count": 6,
     "metadata": {},
     "output_type": "execute_result"
    }
   ],
   "source": [
    "len(t)"
   ]
  },
  {
   "cell_type": "code",
   "execution_count": 24,
   "metadata": {},
   "outputs": [
    {
     "data": {
      "text/plain": [
       "[1610612737,\n",
       " 1610612738,\n",
       " 1610612739,\n",
       " 1610612740,\n",
       " 1610612741,\n",
       " 1610612742,\n",
       " 1610612743,\n",
       " 1610612744,\n",
       " 1610612745,\n",
       " 1610612746,\n",
       " 1610612747,\n",
       " 1610612748,\n",
       " 1610612749,\n",
       " 1610612750,\n",
       " 1610612751,\n",
       " 1610612752,\n",
       " 1610612753,\n",
       " 1610612754,\n",
       " 1610612755,\n",
       " 1610612756,\n",
       " 1610612757,\n",
       " 1610612758,\n",
       " 1610612759,\n",
       " 1610612760,\n",
       " 1610612761,\n",
       " 1610612762,\n",
       " 1610612763,\n",
       " 1610612764,\n",
       " 1610612765,\n",
       " 1610612766]"
      ]
     },
     "execution_count": 24,
     "metadata": {},
     "output_type": "execute_result"
    }
   ],
   "source": [
    "# Get all league ids\n",
    "ids = []\n",
    "t[0]['id']\n",
    "for idx in t:\n",
    "    ids.append(idx['id'])\n",
    "\n",
    "ids"
   ]
  },
  {
   "cell_type": "markdown",
   "metadata": {},
   "source": [
    "Once the NBA Team Data has been accessed from the API, we can process the data to turn it into a DataFrame."
   ]
  },
  {
   "cell_type": "code",
   "execution_count": 48,
   "metadata": {},
   "outputs": [
    {
     "name": "stderr",
     "output_type": "stream",
     "text": [
      " 40%|████      | 8/20 [06:40<10:00, 50.07s/it]\n"
     ]
    },
    {
     "data": {
      "text/plain": [
       "{'2012-10': Empty DataFrame\n",
       " Columns: [TEAM_ID, TEAM_NAME, GP, W, L, W_PCT, MIN, FGM, FGA, FG_PCT, FG3M, FG3A, FG3_PCT, FTM, FTA, FT_PCT, OREB, DREB, REB, AST, TOV, STL, BLK, BLKA, PF, PFD, PTS, PLUS_MINUS, GP_RANK, W_RANK, L_RANK, W_PCT_RANK, MIN_RANK, FGM_RANK, FGA_RANK, FG_PCT_RANK, FG3M_RANK, FG3A_RANK, FG3_PCT_RANK, FTM_RANK, FTA_RANK, FT_PCT_RANK, OREB_RANK, DREB_RANK, REB_RANK, AST_RANK, TOV_RANK, STL_RANK, BLK_RANK, BLKA_RANK, PF_RANK, PFD_RANK, PTS_RANK, PLUS_MINUS_RANK]\n",
       " Index: []\n",
       " \n",
       " [0 rows x 54 columns]}"
      ]
     },
     "execution_count": 48,
     "metadata": {},
     "output_type": "execute_result"
    }
   ],
   "source": [
    "from nba_api.stats.endpoints import leaguedashteamstats\n",
    "\n",
    "all_team_data = {}\n",
    "\n",
    "measure_type_detailed_defense = ['Base', 'Advanced']\n",
    "per_mode = 'Totals'\n",
    "\n",
    "for i in tqdm(range(20)):\n",
    "    # Create the str for each season (2004-2024)\n",
    "    season = f'{2004+i}-{2+i:02d}'\n",
    "\n",
    "    # try-catch block to attempt to pull team stats\n",
    "    try:\n",
    "        team_data = leaguedashteamstats.LeagueDashTeamStats(season=season).get_data_frames()\n",
    "\n",
    "        all_team_data[season] = team_data\n",
    "    except:\n",
    "        time.sleep(20)\n",
    "    else:\n",
    "        break\n",
    "all_team_data\n"
   ]
  },
  {
   "cell_type": "markdown",
   "metadata": {},
   "source": [
    "### Player Data\n",
    "\n",
    "Player Data should be a dataframe of each NBA Player's season average statistics for a given season, with columns describing their position, whether they made the All-Star Game and their team ID (to link the data with the teams dataset)."
   ]
  },
  {
   "cell_type": "markdown",
   "metadata": {},
   "source": [
    "### Game Data\n",
    "\n",
    "Game Data should be a dataframe of every NBA game that took place in a given season or seasons. The games should have the teams that played, the home/away team statistics, the team IDs, and whether the game was a playoff game or not."
   ]
  },
  {
   "cell_type": "markdown",
   "metadata": {},
   "source": []
  }
 ],
 "metadata": {
  "kernelspec": {
   "display_name": ".venv",
   "language": "python",
   "name": "python3"
  },
  "language_info": {
   "codemirror_mode": {
    "name": "ipython",
    "version": 3
   },
   "file_extension": ".py",
   "mimetype": "text/x-python",
   "name": "python",
   "nbconvert_exporter": "python",
   "pygments_lexer": "ipython3",
   "version": "3.11.11"
  }
 },
 "nbformat": 4,
 "nbformat_minor": 2
}
