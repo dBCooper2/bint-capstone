{
 "cells": [
  {
   "cell_type": "markdown",
   "metadata": {},
   "source": [
    "# NBA Shot Data 4 :: NBA-API connector\n",
    "\n",
    "## Trevor Rowland :: 2/2/2025\n",
    "\n",
    "This notebook will take the cleaned NBA shot data and create a data source of team and player statistic aggregations. There is also an API package to connect to [basketball-reference.com](<basketball-reference.com>) available on PyPi that we will try to connect to for aggregations."
   ]
  },
  {
   "cell_type": "markdown",
   "metadata": {},
   "source": [
    "## 1. Importing Packages and Data"
   ]
  },
  {
   "cell_type": "code",
   "execution_count": 1,
   "metadata": {},
   "outputs": [],
   "source": [
    "import pandas as pd\n",
    "import polars as pl\n",
    "import numpy as np\n",
    "\n",
    "df = pd.read_pickle('/Users/dB/Documents/repos/github/bint-capstone/data-sources/nba/all-shots.pkl')\n",
    "df = df.to_pandas(use_pyarrow_extension_array=True)"
   ]
  },
  {
   "cell_type": "markdown",
   "metadata": {},
   "source": [
    "## 2. Attempting to Connect to Basketball-Reference"
   ]
  },
  {
   "cell_type": "markdown",
   "metadata": {},
   "source": [
    "### 1.a. Importing Packages"
   ]
  },
  {
   "cell_type": "code",
   "execution_count": 1,
   "metadata": {},
   "outputs": [],
   "source": [
    "import pandas as pd\n",
    "import polars as pl\n",
    "import numpy as np\n",
    "from nba_api.stats.static import teams, players\n",
    "from nba_api.stats.endpoints import (\n",
    "    teamyearbyyearstats,\n",
    "    leaguedashteamstats,\n",
    "    leaguedashplayerstats,\n",
    "    commonteamroster\n",
    ")\n",
    "from tqdm import tqdm\n",
    "import time\n",
    "import random"
   ]
  },
  {
   "cell_type": "markdown",
   "metadata": {},
   "source": [
    "### 1.b. Team Data"
   ]
  },
  {
   "cell_type": "markdown",
   "metadata": {},
   "source": [
    "`get_all_teams()`\n",
    "\n",
    "Retrieve all NBA teams as a pandas DataFrame.\n",
    "    \n",
    "_Returns_:\n",
    "\n",
    "pd.DataFrame: DataFrame of NBA teams with their details"
   ]
  },
  {
   "cell_type": "code",
   "execution_count": 4,
   "metadata": {},
   "outputs": [],
   "source": [
    "def get_all_teams()->pd.DataFrame:\n",
    "    teams_list = teams.get_teams()\n",
    "    return pd.DataFrame(teams_list)"
   ]
  },
  {
   "cell_type": "markdown",
   "metadata": {},
   "source": [
    "`get_team_ids()`\n",
    "\n",
    "Extract active team IDs as a pandas Series.\n",
    "    \n",
    "_Returns_:\n",
    "\n",
    "pd.Series: Series of active team IDs"
   ]
  },
  {
   "cell_type": "code",
   "execution_count": 5,
   "metadata": {},
   "outputs": [],
   "source": [
    "def get_team_ids():\n",
    "    return pd.Series([team['id'] for team in teams.get_teams()])"
   ]
  },
  {
   "cell_type": "markdown",
   "metadata": {},
   "source": [
    "`collect_team_stats(start_year:int, end_year:int)`\n",
    "\n",
    "Collect yearly team statistics.\n",
    "    \n",
    "Args:\n",
    "\n",
    "start_year (int): Starting year for data collection\n",
    "\n",
    "end_year (int): Ending year for data collection\n",
    "    \n",
    "_Returns_:\n",
    "\n",
    "pd.DataFrame: Comprehensive team statistics across seasons\n"
   ]
  },
  {
   "cell_type": "code",
   "execution_count": 6,
   "metadata": {},
   "outputs": [],
   "source": [
    "def collect_team_stats(start_year=2004, end_year=2024):\n",
    "    \"\"\"\n",
    "    Collect yearly team statistics with robust error handling.\n",
    "    \n",
    "    Args:\n",
    "    start_year (int): Starting year for data collection\n",
    "    end_year (int): Ending year for data collection\n",
    "    \n",
    "    Returns:\n",
    "    pd.DataFrame: Comprehensive team statistics across seasons\n",
    "    \"\"\"\n",
    "    team_stats_list = []\n",
    "    team_ids = get_team_ids()\n",
    "    \n",
    "    for team_id in tqdm(team_ids, desc=\"Collecting Team Stats\"):\n",
    "        for season in range(start_year, end_year + 1):\n",
    "            try:\n",
    "                # Convert year to NBA season format (e.g., 2020-21)\n",
    "                season_str = f\"{season}-{str(season+1)[-2:]}\"\n",
    "                \n",
    "                # Collect team stats\n",
    "                team_stats = leaguedashteamstats.LeagueDashTeamStats(\n",
    "                    season=season_str\n",
    "                )\n",
    "                \n",
    "                # Directly convert to DataFrame\n",
    "                df = team_stats.get_data_frames()[0]\n",
    "                \n",
    "                # Add team_id and season columns\n",
    "                df['TEAM_ID'] = team_id\n",
    "                df['SEASON'] = season_str\n",
    "                \n",
    "                team_stats_list.append(df)\n",
    "                \n",
    "                # Randomized rate limiting to avoid predictable patterns\n",
    "                time.sleep(random.uniform(1.5, 3.5))\n",
    "            \n",
    "            except Exception as e:\n",
    "                print(f\"Error collecting stats for team {team_id} in season {season_str}: {e}\")\n",
    "                # Wait longer on failure with some randomness\n",
    "                time.sleep(random.uniform(4, 7))\n",
    "                continue\n",
    "    \n",
    "    # Combine all team stats into a single DataFrame\n",
    "    if team_stats_list:\n",
    "        final_df = pd.concat(team_stats_list, ignore_index=True)\n",
    "        \n",
    "        # Clean column names\n",
    "        final_df.columns = [col.lower().replace(' ', '_') for col in final_df.columns]\n",
    "        \n",
    "        return final_df\n",
    "    else:\n",
    "        print(\"No team stats collected. Check network or API issues.\")\n",
    "        return pd.DataFrame()"
   ]
  },
  {
   "cell_type": "markdown",
   "metadata": {},
   "source": [
    "`get_team_roster(team_id:int, season:str)`\n",
    "\n",
    "Retrieve team roster for a specific season.\n",
    "    \n",
    "Args:\n",
    "\n",
    "team_id (int): NBA team ID\n",
    "\n",
    "season (str): NBA season in format 'YYYY-YY'\n",
    "    \n",
    "Returns:\n",
    "\n",
    "pd.DataFrame: Team roster details"
   ]
  },
  {
   "cell_type": "code",
   "execution_count": 7,
   "metadata": {},
   "outputs": [],
   "source": [
    "def get_team_roster(team_id, season):\n",
    "    try:\n",
    "        roster = commonteamroster.CommonTeamRoster(team_id=team_id, season=season)\n",
    "        \n",
    "        # Get DataFrame directly and clean column names\n",
    "        df = roster.get_data_frames()[0]\n",
    "        df.columns = [col.lower().replace(' ', '_') for col in df.columns]\n",
    "        \n",
    "        # Add team_id and season columns\n",
    "        df['team_id'] = team_id\n",
    "        df['season'] = season\n",
    "        \n",
    "        return df\n",
    "    except Exception as e:\n",
    "        print(f\"Error collecting roster for team {team_id} in season {season}: {e}\")\n",
    "        return pd.DataFrame()"
   ]
  },
  {
   "cell_type": "markdown",
   "metadata": {},
   "source": [
    "### 1.c. Player Data"
   ]
  },
  {
   "cell_type": "markdown",
   "metadata": {},
   "source": [
    "`collect_player_stats(start_year:int, end_year:int)`\n",
    "    \n",
    "Collect comprehensive player statistics.\n",
    "    \n",
    "Args:\n",
    "    \n",
    "start_year (int): Starting year for data collection\n",
    "    \n",
    "end_year (int): Ending year for data collection\n",
    "    \n",
    "    \n",
    "Returns:\n",
    "    \n",
    "pd.DataFrame: Comprehensive player statistics across seasons\n"
   ]
  },
  {
   "cell_type": "code",
   "execution_count": 8,
   "metadata": {},
   "outputs": [],
   "source": [
    "def collect_player_stats(start_year=2004, end_year=2024):\n",
    "    \"\"\"\n",
    "    Collect comprehensive player statistics with robust error handling.\n",
    "    \n",
    "    Args:\n",
    "    start_year (int): Starting year for data collection\n",
    "    end_year (int): Ending year for data collection\n",
    "    \n",
    "    Returns:\n",
    "    pd.DataFrame: Comprehensive player statistics across seasons\n",
    "    \"\"\"\n",
    "    player_stats_list = []\n",
    "    \n",
    "    for season in tqdm(range(start_year, end_year + 1), desc=\"Collecting Player Stats\"):\n",
    "        try:\n",
    "            # Convert year to NBA season format (e.g., 2020-21)\n",
    "            season_str = f\"{season}-{str(season+1)[-2:]}\"\n",
    "            \n",
    "            # Collect player stats for the season\n",
    "            player_stats = leaguedashplayerstats.LeagueDashPlayerStats(\n",
    "                season=season_str\n",
    "            )\n",
    "            \n",
    "            # Get DataFrame directly\n",
    "            df = player_stats.get_data_frames()[0]\n",
    "            \n",
    "            # Add season column and clean column names\n",
    "            df['SEASON'] = season_str\n",
    "            df.columns = [col.lower().replace(' ', '_') for col in df.columns]\n",
    "            \n",
    "            player_stats_list.append(df)\n",
    "            \n",
    "            # Randomized rate limiting\n",
    "            time.sleep(random.uniform(1.5, 3.5))\n",
    "        \n",
    "        except Exception as e:\n",
    "            print(f\"Error collecting player stats for season {season_str}: {e}\")\n",
    "            # Wait longer on failure with some randomness\n",
    "            time.sleep(random.uniform(4, 7))\n",
    "            continue\n",
    "    \n",
    "    # Combine all player stats into a single DataFrame\n",
    "    if player_stats_list:\n",
    "        final_df = pd.concat(player_stats_list, ignore_index=True)\n",
    "        return final_df\n",
    "    else:\n",
    "        print(\"No player stats collected. Check network or API issues.\")\n",
    "        return pd.DataFrame()"
   ]
  },
  {
   "cell_type": "markdown",
   "metadata": {},
   "source": [
    "### 1.d. Testing"
   ]
  },
  {
   "cell_type": "code",
   "execution_count": 9,
   "metadata": {},
   "outputs": [
    {
     "name": "stdout",
     "output_type": "stream",
     "text": [
      "Talking to the API...\n",
      "Collecting Team Statistics...\n"
     ]
    },
    {
     "name": "stderr",
     "output_type": "stream",
     "text": [
      "Collecting Team Stats: 100%|██████████| 30/30 [26:44<00:00, 53.49s/it]\n"
     ]
    },
    {
     "name": "stdout",
     "output_type": "stream",
     "text": [
      "Collecting Player Statistics...\n"
     ]
    },
    {
     "name": "stderr",
     "output_type": "stream",
     "text": [
      "Collecting Player Stats: 100%|██████████| 21/21 [01:19<00:00,  3.80s/it]"
     ]
    },
    {
     "name": "stdout",
     "output_type": "stream",
     "text": [
      "Data pulled from API.\n"
     ]
    },
    {
     "name": "stderr",
     "output_type": "stream",
     "text": [
      "\n"
     ]
    }
   ],
   "source": [
    "# Collect team stats\n",
    "data_dir = '/Users/dB/Documents/repos/github/bint-capstone/data-sources/nba'\n",
    "print(\"Talking to the API...\")\n",
    "print(\"Collecting Team Statistics...\")\n",
    "team_stats = collect_team_stats()\n",
    "    \n",
    "# Collect player stats\n",
    "print(\"Collecting Player Statistics...\")\n",
    "player_stats = collect_player_stats()\n",
    "\n",
    "print(\"Data pulled from API.\")"
   ]
  },
  {
   "cell_type": "markdown",
   "metadata": {},
   "source": [
    "## 2. Writing to CSV and PKL\n",
    "\n",
    "These files will be saved to the OneDrive"
   ]
  },
  {
   "cell_type": "code",
   "execution_count": 11,
   "metadata": {},
   "outputs": [
    {
     "name": "stdout",
     "output_type": "stream",
     "text": [
      "Writing Player Stats to Folder\n",
      "Writing Player Stats to Folder\n"
     ]
    }
   ],
   "source": [
    "print('Writing Player Stats to Folder')\n",
    "team_stats.to_csv(f'{data_dir}/nba_team_stats_2004_2024.csv')\n",
    "team_stats.to_pickle(f'{data_dir}/nba_team_stats_2004_2024.pkl')\n",
    "\n",
    "print('Writing Player Stats to Folder')\n",
    "player_stats.to_csv(f'{data_dir}/nba_player_stats_2004_2024.csv')\n",
    "player_stats.to_pickle(f'{data_dir}/nba_player_stats_2004_2024.pkl')"
   ]
  },
  {
   "cell_type": "markdown",
   "metadata": {},
   "source": [
    "Now we have player and team stats from 2004 to 2024. The following notebook will perform an EDA on the collected API data"
   ]
  }
 ],
 "metadata": {
  "kernelspec": {
   "display_name": ".venv",
   "language": "python",
   "name": "python3"
  },
  "language_info": {
   "codemirror_mode": {
    "name": "ipython",
    "version": 3
   },
   "file_extension": ".py",
   "mimetype": "text/x-python",
   "name": "python",
   "nbconvert_exporter": "python",
   "pygments_lexer": "ipython3",
   "version": "3.11.10"
  }
 },
 "nbformat": 4,
 "nbformat_minor": 2
}
