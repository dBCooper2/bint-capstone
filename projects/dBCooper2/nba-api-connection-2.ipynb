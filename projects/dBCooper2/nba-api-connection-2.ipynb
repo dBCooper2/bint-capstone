{
 "cells": [
  {
   "cell_type": "markdown",
   "metadata": {},
   "source": [
    "# NBA Data Analysis :: API Connection Part 2\n",
    "\n",
    "## Trevor Rowland :: 2-5-2025\n",
    "\n",
    "This notebook aims to collect all teams that made the playoffs in the 2004-2024 seasons, and also a Play-by-Play data grabber to use for later projects."
   ]
  },
  {
   "cell_type": "markdown",
   "metadata": {},
   "source": [
    "## 1. Collecting Playoff Teams\n",
    "\n",
    "This function uses the PlayoffPicture endpoint from `nba_api` to get a glimpse of the playoffs in each season. This glimpse contains all of the teams who made the playoffs, which will be used in our 4th hypothesis test using MANOVA to compare playoff teams to non-playoff-making teams.\n",
    "\n",
    "**Edit:** We are no longer using the `nba_api` endpoints because that is stupid overengineering. Instead, we can just write down every playoff team from wikipedia instead of wrestling with the API.\n",
    "\n",
    "**Edit 2:** Even Better! All `game_id` values contain whether the game is a playoff game or not.\n",
    "\n",
    "Playoff Games will start off with the numbers 00...\n",
    "\n",
    "- 1: Pre-Season Games\n",
    "- 2: Regular Season Games\n",
    "- 3: All-Star Games\n",
    "- 4: Playoff Games\n",
    "\n",
    "**[Source](<https://github.com/swar/nba_api/issues/220>)**\n",
    "\n",
    "This means that we are still waiting to get the game data but at least we have an elegant solution when we get those `game_id` datasets."
   ]
  },
  {
   "cell_type": "markdown",
   "metadata": {},
   "source": [
    "### 1.a. Playoff Teams\n",
    "\n",
    "The following is a dictionary of each playoff team that made the NBA playoffs since 2004."
   ]
  },
  {
   "cell_type": "code",
   "execution_count": null,
   "metadata": {},
   "outputs": [],
   "source": [
    "import pandas as pd\n",
    "import numpy as np"
   ]
  },
  {
   "cell_type": "markdown",
   "metadata": {},
   "source": [
    "### 1.a. Importing Packages"
   ]
  },
  {
   "cell_type": "code",
   "execution_count": null,
   "metadata": {},
   "outputs": [],
   "source": []
  },
  {
   "cell_type": "markdown",
   "metadata": {},
   "source": []
  }
 ],
 "metadata": {
  "kernelspec": {
   "display_name": ".venv",
   "language": "python",
   "name": "python3"
  },
  "language_info": {
   "codemirror_mode": {
    "name": "ipython",
    "version": 3
   },
   "file_extension": ".py",
   "mimetype": "text/x-python",
   "name": "python",
   "nbconvert_exporter": "python",
   "pygments_lexer": "ipython3",
   "version": "3.11.10"
  }
 },
 "nbformat": 4,
 "nbformat_minor": 2
}
