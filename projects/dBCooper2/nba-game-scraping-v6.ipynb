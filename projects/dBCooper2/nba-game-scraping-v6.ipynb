{
 "cells": [
  {
   "cell_type": "markdown",
   "metadata": {},
   "source": [
    "nba-game-scraping-V5 used boxscoretraditionalv3 endpoint. This notebook aims to try using the boxscoreadvancedv3 and boxscoreplayertrackv3 endpoints"
   ]
  },
  {
   "cell_type": "markdown",
   "metadata": {},
   "source": [
    "# Prep work"
   ]
  },
  {
   "cell_type": "markdown",
   "metadata": {},
   "source": [
    "## Extracting unique game_ids\n",
    "\n",
    "Cobbled together from Trevor's nba-api-connection-2.ipynb\n",
    "\n",
    "Using nba-api package to get a complete list of game_ids from 2004 to 2024 (so run on capstone2 environment)\n",
    "\n",
    "\n",
    "This version wont have season ids, but since the plan is to merge on `GAME_ID` that shouldnt matter"
   ]
  },
  {
   "cell_type": "markdown",
   "metadata": {},
   "source": [
    "import libraries and setup logging"
   ]
  },
  {
   "cell_type": "code",
   "execution_count": 1,
   "metadata": {},
   "outputs": [],
   "source": [
    "from nba_api.stats.endpoints import LeagueGameFinder, BoxScoreTraditionalV2\n",
    "import pandas as pd\n",
    "import time\n",
    "from datetime import datetime\n",
    "from tqdm.auto import tqdm\n",
    "import logging\n",
    "import random\n",
    "\n",
    "# Configure logging\n",
    "logging.basicConfig(\n",
    "    level=logging.INFO,\n",
    "    format='%(asctime)s - %(levelname)s - %(message)s',\n",
    "    handlers=[logging.FileHandler('nba_data_collection.log'),\n",
    "             logging.StreamHandler()]\n",
    ")\n",
    "logger = logging.getLogger(__name__)\n",
    "\n",
    "def log_message(message):\n",
    "    \"\"\"Log message to both file and tqdm\"\"\"\n",
    "    tqdm.write(message)\n",
    "    logger.info(message)"
   ]
  },
  {
   "cell_type": "markdown",
   "metadata": {},
   "source": [
    "Function to get all games for a single season "
   ]
  },
  {
   "cell_type": "code",
   "execution_count": 2,
   "metadata": {},
   "outputs": [],
   "source": [
    "def get_season_games(season):\n",
    "    \"\"\"Get games for a single season with error handling\"\"\"\n",
    "    game_finder = LeagueGameFinder(\n",
    "        season_nullable=season,\n",
    "        league_id_nullable='00',\n",
    "        timeout=60\n",
    "    )\n",
    "    \n",
    "    # Get the raw response first\n",
    "    response_frames = game_finder.get_data_frames()\n",
    "    \n",
    "    # Debug logging\n",
    "    log_message(f\"Response for season {season}: got {len(response_frames)} DataFrames\")\n",
    "    if not response_frames:\n",
    "        raise ValueError(f\"Empty response for season {season}\")\n",
    "    \n",
    "    games = response_frames[0]\n",
    "    if len(games) == 0:\n",
    "        raise ValueError(f\"No games found for season {season}\")\n",
    "        \n",
    "    log_message(f\"Retrieved {len(games)} game entries for season {season}\")\n",
    "    return games"
   ]
  },
  {
   "cell_type": "markdown",
   "metadata": {},
   "source": [
    "Function that takes a `start_year` and `end_year` and compiles all the game_ids for games that happened between them"
   ]
  },
  {
   "cell_type": "code",
   "execution_count": 3,
   "metadata": {},
   "outputs": [],
   "source": [
    "def compile_game_ids(start_year, end_year):\n",
    "    game_ids = []\n",
    "    seasons = [f\"{year}-{str(year + 1)[-2:]}\" for year in range(start_year, end_year)]\n",
    "\n",
    "    for season in seasons:\n",
    "        game_ids.extend(get_season_games(season)['GAME_ID'].unique())\n",
    "        time.sleep(1)\n",
    "    return game_ids"
   ]
  },
  {
   "cell_type": "markdown",
   "metadata": {},
   "source": [
    "Establish `game_ids` list"
   ]
  },
  {
   "cell_type": "code",
   "execution_count": 14,
   "metadata": {},
   "outputs": [
    {
     "name": "stderr",
     "output_type": "stream",
     "text": [
      "2025-02-16 14:13:49,695 - INFO - Response for season 2004-05: got 1 DataFrames\n",
      "2025-02-16 14:13:49,729 - INFO - Retrieved 2728 game entries for season 2004-05\n"
     ]
    },
    {
     "name": "stdout",
     "output_type": "stream",
     "text": [
      "Response for season 2004-05: got 1 DataFrames\n",
      "Retrieved 2728 game entries for season 2004-05\n"
     ]
    },
    {
     "name": "stderr",
     "output_type": "stream",
     "text": [
      "2025-02-16 14:13:51,303 - INFO - Response for season 2005-06: got 1 DataFrames\n",
      "2025-02-16 14:13:51,304 - INFO - Retrieved 2871 game entries for season 2005-06\n"
     ]
    },
    {
     "name": "stdout",
     "output_type": "stream",
     "text": [
      "Response for season 2005-06: got 1 DataFrames\n",
      "Retrieved 2871 game entries for season 2005-06\n"
     ]
    },
    {
     "name": "stderr",
     "output_type": "stream",
     "text": [
      "2025-02-16 14:13:53,148 - INFO - Response for season 2006-07: got 1 DataFrames\n",
      "2025-02-16 14:13:53,151 - INFO - Retrieved 2867 game entries for season 2006-07\n"
     ]
    },
    {
     "name": "stdout",
     "output_type": "stream",
     "text": [
      "Response for season 2006-07: got 1 DataFrames\n",
      "Retrieved 2867 game entries for season 2006-07\n"
     ]
    },
    {
     "name": "stderr",
     "output_type": "stream",
     "text": [
      "2025-02-16 14:13:55,163 - INFO - Response for season 2007-08: got 1 DataFrames\n",
      "2025-02-16 14:13:55,164 - INFO - Retrieved 2852 game entries for season 2007-08\n"
     ]
    },
    {
     "name": "stdout",
     "output_type": "stream",
     "text": [
      "Response for season 2007-08: got 1 DataFrames\n",
      "Retrieved 2852 game entries for season 2007-08\n"
     ]
    },
    {
     "name": "stderr",
     "output_type": "stream",
     "text": [
      "2025-02-16 14:13:57,139 - INFO - Response for season 2008-09: got 1 DataFrames\n",
      "2025-02-16 14:13:57,148 - INFO - Retrieved 2866 game entries for season 2008-09\n"
     ]
    },
    {
     "name": "stdout",
     "output_type": "stream",
     "text": [
      "Response for season 2008-09: got 1 DataFrames\n",
      "Retrieved 2866 game entries for season 2008-09\n"
     ]
    },
    {
     "name": "stderr",
     "output_type": "stream",
     "text": [
      "2025-02-16 14:13:58,597 - INFO - Response for season 2009-10: got 1 DataFrames\n",
      "2025-02-16 14:13:58,599 - INFO - Retrieved 2871 game entries for season 2009-10\n"
     ]
    },
    {
     "name": "stdout",
     "output_type": "stream",
     "text": [
      "Response for season 2009-10: got 1 DataFrames\n",
      "Retrieved 2871 game entries for season 2009-10\n"
     ]
    },
    {
     "name": "stderr",
     "output_type": "stream",
     "text": [
      "2025-02-16 14:14:00,004 - INFO - Response for season 2010-11: got 1 DataFrames\n",
      "2025-02-16 14:14:00,005 - INFO - Retrieved 2866 game entries for season 2010-11\n"
     ]
    },
    {
     "name": "stdout",
     "output_type": "stream",
     "text": [
      "Response for season 2010-11: got 1 DataFrames\n",
      "Retrieved 2866 game entries for season 2010-11\n"
     ]
    },
    {
     "name": "stderr",
     "output_type": "stream",
     "text": [
      "2025-02-16 14:14:01,460 - INFO - Response for season 2011-12: got 1 DataFrames\n",
      "2025-02-16 14:14:01,462 - INFO - Retrieved 2214 game entries for season 2011-12\n"
     ]
    },
    {
     "name": "stdout",
     "output_type": "stream",
     "text": [
      "Response for season 2011-12: got 1 DataFrames\n",
      "Retrieved 2214 game entries for season 2011-12\n"
     ]
    },
    {
     "name": "stderr",
     "output_type": "stream",
     "text": [
      "2025-02-16 14:14:04,947 - INFO - Response for season 2012-13: got 1 DataFrames\n",
      "2025-02-16 14:14:04,950 - INFO - Retrieved 2866 game entries for season 2012-13\n"
     ]
    },
    {
     "name": "stdout",
     "output_type": "stream",
     "text": [
      "Response for season 2012-13: got 1 DataFrames\n",
      "Retrieved 2866 game entries for season 2012-13\n"
     ]
    },
    {
     "name": "stderr",
     "output_type": "stream",
     "text": [
      "2025-02-16 14:14:06,879 - INFO - Response for season 2013-14: got 1 DataFrames\n",
      "2025-02-16 14:14:06,880 - INFO - Retrieved 2874 game entries for season 2013-14\n"
     ]
    },
    {
     "name": "stdout",
     "output_type": "stream",
     "text": [
      "Response for season 2013-14: got 1 DataFrames\n",
      "Retrieved 2874 game entries for season 2013-14\n"
     ]
    },
    {
     "name": "stderr",
     "output_type": "stream",
     "text": [
      "2025-02-16 14:14:08,329 - INFO - Response for season 2014-15: got 1 DataFrames\n",
      "2025-02-16 14:14:08,330 - INFO - Retrieved 2864 game entries for season 2014-15\n"
     ]
    },
    {
     "name": "stdout",
     "output_type": "stream",
     "text": [
      "Response for season 2014-15: got 1 DataFrames\n",
      "Retrieved 2864 game entries for season 2014-15\n"
     ]
    },
    {
     "name": "stderr",
     "output_type": "stream",
     "text": [
      "2025-02-16 14:14:10,242 - INFO - Response for season 2015-16: got 1 DataFrames\n",
      "2025-02-16 14:14:10,242 - INFO - Retrieved 2856 game entries for season 2015-16\n"
     ]
    },
    {
     "name": "stdout",
     "output_type": "stream",
     "text": [
      "Response for season 2015-16: got 1 DataFrames\n",
      "Retrieved 2856 game entries for season 2015-16\n"
     ]
    },
    {
     "name": "stderr",
     "output_type": "stream",
     "text": [
      "2025-02-16 14:14:11,638 - INFO - Response for season 2016-17: got 1 DataFrames\n",
      "2025-02-16 14:14:11,639 - INFO - Retrieved 2829 game entries for season 2016-17\n"
     ]
    },
    {
     "name": "stdout",
     "output_type": "stream",
     "text": [
      "Response for season 2016-17: got 1 DataFrames\n",
      "Retrieved 2829 game entries for season 2016-17\n"
     ]
    },
    {
     "name": "stderr",
     "output_type": "stream",
     "text": [
      "2025-02-16 14:14:13,064 - INFO - Response for season 2017-18: got 1 DataFrames\n",
      "2025-02-16 14:14:13,065 - INFO - Retrieved 2785 game entries for season 2017-18\n"
     ]
    },
    {
     "name": "stdout",
     "output_type": "stream",
     "text": [
      "Response for season 2017-18: got 1 DataFrames\n",
      "Retrieved 2785 game entries for season 2017-18\n"
     ]
    },
    {
     "name": "stderr",
     "output_type": "stream",
     "text": [
      "2025-02-16 14:14:14,931 - INFO - Response for season 2018-19: got 1 DataFrames\n",
      "2025-02-16 14:14:14,931 - INFO - Retrieved 2788 game entries for season 2018-19\n"
     ]
    },
    {
     "name": "stdout",
     "output_type": "stream",
     "text": [
      "Response for season 2018-19: got 1 DataFrames\n",
      "Retrieved 2788 game entries for season 2018-19\n"
     ]
    },
    {
     "name": "stderr",
     "output_type": "stream",
     "text": [
      "2025-02-16 14:14:16,829 - INFO - Response for season 2019-20: got 1 DataFrames\n",
      "2025-02-16 14:14:16,829 - INFO - Retrieved 2516 game entries for season 2019-20\n"
     ]
    },
    {
     "name": "stdout",
     "output_type": "stream",
     "text": [
      "Response for season 2019-20: got 1 DataFrames\n",
      "Retrieved 2516 game entries for season 2019-20\n"
     ]
    },
    {
     "name": "stderr",
     "output_type": "stream",
     "text": [
      "2025-02-16 14:14:18,198 - INFO - Response for season 2020-21: got 1 DataFrames\n",
      "2025-02-16 14:14:18,199 - INFO - Retrieved 2442 game entries for season 2020-21\n"
     ]
    },
    {
     "name": "stdout",
     "output_type": "stream",
     "text": [
      "Response for season 2020-21: got 1 DataFrames\n",
      "Retrieved 2442 game entries for season 2020-21\n"
     ]
    },
    {
     "name": "stderr",
     "output_type": "stream",
     "text": [
      "2025-02-16 14:14:19,618 - INFO - Response for season 2021-22: got 1 DataFrames\n",
      "2025-02-16 14:14:19,619 - INFO - Retrieved 2788 game entries for season 2021-22\n"
     ]
    },
    {
     "name": "stdout",
     "output_type": "stream",
     "text": [
      "Response for season 2021-22: got 1 DataFrames\n",
      "Retrieved 2788 game entries for season 2021-22\n"
     ]
    },
    {
     "name": "stderr",
     "output_type": "stream",
     "text": [
      "2025-02-16 14:14:21,088 - INFO - Response for season 2022-23: got 1 DataFrames\n",
      "2025-02-16 14:14:21,089 - INFO - Retrieved 2790 game entries for season 2022-23\n"
     ]
    },
    {
     "name": "stdout",
     "output_type": "stream",
     "text": [
      "Response for season 2022-23: got 1 DataFrames\n",
      "Retrieved 2790 game entries for season 2022-23\n"
     ]
    },
    {
     "name": "stderr",
     "output_type": "stream",
     "text": [
      "2025-02-16 14:14:22,245 - INFO - Response for season 2023-24: got 1 DataFrames\n",
      "2025-02-16 14:14:22,247 - INFO - Retrieved 2795 game entries for season 2023-24\n"
     ]
    },
    {
     "name": "stdout",
     "output_type": "stream",
     "text": [
      "Response for season 2023-24: got 1 DataFrames\n",
      "Retrieved 2795 game entries for season 2023-24\n"
     ]
    },
    {
     "data": {
      "text/plain": [
       "'Game ids found from 2004 - 2024: 27660'"
      ]
     },
     "execution_count": 14,
     "metadata": {},
     "output_type": "execute_result"
    }
   ],
   "source": [
    "game_ids = compile_game_ids(2004, 2024)\n",
    "f\"Game ids found from 2004 - 2024: {len(game_ids)}\""
   ]
  },
  {
   "cell_type": "markdown",
   "metadata": {},
   "source": [
    "## Imports and Helper functions for continual scraping"
   ]
  },
  {
   "cell_type": "markdown",
   "metadata": {},
   "source": [
    "import necessary libs"
   ]
  },
  {
   "cell_type": "code",
   "execution_count": 4,
   "metadata": {},
   "outputs": [],
   "source": [
    "import requests\n",
    "import pickle\n",
    "import time\n",
    "from pathlib import Path\n",
    "from typing import Dict, Optional, List\n",
    "import logging\n",
    "from tqdm import tqdm\n",
    "from requests.exceptions import Timeout, RequestException\n",
    "import random"
   ]
  },
  {
   "cell_type": "markdown",
   "metadata": {},
   "source": [
    "functions to load/save the pkl cache to/from disk"
   ]
  },
  {
   "cell_type": "code",
   "execution_count": 5,
   "metadata": {},
   "outputs": [],
   "source": [
    "def load_or_create_cache(cache_path: str) -> Dict[str, dict]:\n",
    "    \"\"\"Load existing cache or create new one if it doesn't exist.\"\"\"\n",
    "    if Path(cache_path).exists():\n",
    "        with open(cache_path, 'rb') as f:\n",
    "            return pickle.load(f)\n",
    "    return {}"
   ]
  },
  {
   "cell_type": "code",
   "execution_count": 6,
   "metadata": {},
   "outputs": [],
   "source": [
    "def save_cache(cache: Dict[str, dict], cache_path: str) -> None:\n",
    "    \"\"\"Save the cache to disk.\"\"\"\n",
    "    with open(cache_path, 'wb') as f:\n",
    "        pickle.dump(cache, f)"
   ]
  },
  {
   "cell_type": "markdown",
   "metadata": {},
   "source": [
    "# Scraping BoxScoreAdvancedV3"
   ]
  },
  {
   "cell_type": "markdown",
   "metadata": {},
   "source": [
    "Function that uses BoxScoreAdvancedV3 to get info about a *single* game "
   ]
  },
  {
   "cell_type": "code",
   "execution_count": 9,
   "metadata": {},
   "outputs": [],
   "source": [
    "def create_row_boxscoreadvanced(game_id: str, timeout: int = 30, max_retries: int = 3) -> Optional[dict]:\n",
    "    \"\"\"\n",
    "    Fetch game stats from NBA API with timeout handling and automatic retries.\n",
    "    \n",
    "    Args:\n",
    "        game_id: NBA game identifier\n",
    "        timeout: Request timeout in seconds\n",
    "        max_retries: Maximum number of retry attempts for timeout errors\n",
    "    \"\"\"\n",
    "    headers = {\n",
    "        \"Host\": \"stats.nba.com\",\n",
    "        \"User-Agent\": \"Mozilla/5.0 (Windows NT 10.0; Win64; x64; rv:72.0) Gecko/20100101 Firefox/72.0\",\n",
    "        \"Accept\": \"application/json, text/plain, */*\",\n",
    "        \"Accept-Language\": \"en-US,en;q=0.5\",\n",
    "        \"Accept-Encoding\": \"gzip, deflate, br\",\n",
    "        \"x-nba-stats-origin\": \"stats\",\n",
    "        \"x-nba-stats-token\": \"true\",\n",
    "        \"Connection\": \"keep-alive\",\n",
    "        \"Referer\": \"https://stats.nba.com/\",\n",
    "        \"Pragma\": \"no-cache\",\n",
    "        \"Cache-Control\": \"no-cache\",\n",
    "    }\n",
    "    \n",
    "    #url = f'https://stats.nba.com/stats/boxscoretraditionalv3?EndPeriod=0&EndRange=0&GameID={'00'+str(game_id)}&RangeType=0&StartPeriod=0&StartRange=0'\n",
    "    url = f'https://stats.nba.com/stats/boxscoreadvancedv3?EndPeriod=0&EndRange=0&GameID={game_id}&RangeType=0&StartPeriod=0&StartRange=0'\n",
    "    #url = f'https://stats.nba.com/stats/boxscoretraditionalv3?EndPeriod=0&EndRange=0&GameID={game_id}&RangeType=0&StartPeriod=0&StartRange=0'\n",
    "    \n",
    "    for attempt in range(max_retries):\n",
    "        try:\n",
    "            response = requests.get(url, headers=headers, timeout=timeout)\n",
    "            response.raise_for_status()\n",
    "            return response.json()\n",
    "            \n",
    "        except Timeout:\n",
    "            wait_time = (attempt + 1) * 5 + random.uniform(1, 3)  # Exponential backoff with jitter\n",
    "            logging.warning(f\"Timeout for game {game_id} (attempt {attempt + 1}/{max_retries}). \"\n",
    "                          f\"Waiting {wait_time:.1f} seconds before retry...\")\n",
    "            time.sleep(wait_time)\n",
    "            \n",
    "        except RequestException as e:\n",
    "            logging.error(f\"Error fetching game {game_id}: {str(e)}\")\n",
    "            return None\n",
    "            \n",
    "    logging.error(f\"Max retries ({max_retries}) reached for game {game_id}\")\n",
    "    return None"
   ]
  },
  {
   "cell_type": "markdown",
   "metadata": {},
   "source": [
    "function that uses above to scrape info for all the game ids. Also incorporates logging, tqdm progress bar, pkl cache (in case of crash)"
   ]
  },
  {
   "cell_type": "code",
   "execution_count": 10,
   "metadata": {},
   "outputs": [],
   "source": [
    "def scrape_game_stats_boxscoreadvanced(game_ids: List[str], cache_path: str = 'nba_games_cache.pkl', \n",
    "                     delay: float = 1.0, save_frequency: int = 10,\n",
    "                     timeout: int = 30, max_retries: int = 3) -> Dict[str, dict]:\n",
    "    \"\"\"\n",
    "    Scrape game stats with progress bar, timeout handling, and automatic retries.\n",
    "    \n",
    "    Args:\n",
    "        game_ids: List of NBA game IDs to scrape\n",
    "        cache_path: Path to save/load the pickle cache file\n",
    "        delay: Time to wait between requests in seconds\n",
    "        save_frequency: How often to save the cache (every N successful requests)\n",
    "        timeout: Request timeout in seconds\n",
    "        max_retries: Maximum number of retry attempts for timeout errors\n",
    "    \n",
    "    Returns:\n",
    "        Dictionary mapping game IDs to their stats data\n",
    "    \"\"\"\n",
    "    # Setup logging\n",
    "    logging.basicConfig(\n",
    "        level=logging.INFO,\n",
    "        format='%(asctime)s - %(levelname)s - %(message)s'\n",
    "    )\n",
    "    \n",
    "    # Load existing cache\n",
    "    cache = load_or_create_cache(cache_path)\n",
    "    logging.info(f\"Loaded cache with {len(cache)} existing games\")\n",
    "    \n",
    "    # Filter out already cached games\n",
    "    games_to_scrape = [gid for gid in game_ids if gid not in cache]\n",
    "    logging.info(f\"Found {len(games_to_scrape)} new games to scrape\")\n",
    "    \n",
    "    successful_requests = 0\n",
    "    \n",
    "    # Create progress bar\n",
    "    pbar = tqdm(games_to_scrape, desc=\"Scraping games\", unit=\"game\")\n",
    "    \n",
    "    for game_id in pbar:\n",
    "        try:\n",
    "            # Update progress bar description with current game\n",
    "            pbar.set_description(f\"Scraping game {game_id}\")\n",
    "            \n",
    "            # Fetch game data with timeout handling and retries\n",
    "            game_data = create_row_boxscoreadvanced(game_id, timeout=timeout, max_retries=max_retries)\n",
    "            \n",
    "            if game_data is not None:\n",
    "                cache[game_id] = game_data\n",
    "                successful_requests += 1\n",
    "                \n",
    "                # Update progress bar postfix with success count\n",
    "                pbar.set_postfix(\n",
    "                    successful=successful_requests,\n",
    "                    cached_total=len(cache)\n",
    "                )\n",
    "                \n",
    "                # Save periodically\n",
    "                if successful_requests % save_frequency == 0:\n",
    "                    save_cache(cache, cache_path)\n",
    "                    logging.info(f\"Saved cache with {len(cache)} games\")\n",
    "            \n",
    "            # Wait between requests\n",
    "            time.sleep(delay)\n",
    "            \n",
    "        except Exception as e:\n",
    "            logging.error(f\"Unexpected error processing game {game_id}: {str(e)}\")\n",
    "            # Save cache on error to preserve progress\n",
    "            save_cache(cache, cache_path)\n",
    "            logging.info(\"Saved cache due to error\")\n",
    "            raise\n",
    "    \n",
    "    # Close progress bar\n",
    "    pbar.close()\n",
    "    \n",
    "    # Final save\n",
    "    save_cache(cache, cache_path)\n",
    "    logging.info(f\"Scraping completed. Final cache contains {len(cache)} games\")\n",
    "    \n",
    "    return cache"
   ]
  },
  {
   "cell_type": "markdown",
   "metadata": {},
   "source": [
    "Run the scraping with 0.5s request delay (use 1sec if running into excessive timeout errors/notable skips)"
   ]
  },
  {
   "cell_type": "code",
   "execution_count": null,
   "metadata": {},
   "outputs": [],
   "source": [
    "# Since I plan on running for ~20 min as a trial run, I want to randomize the game ids as a way to maximize the chance of running into bugs \n",
    "#random.shuffle(game_ids)"
   ]
  },
  {
   "cell_type": "code",
   "execution_count": 16,
   "metadata": {},
   "outputs": [
    {
     "name": "stderr",
     "output_type": "stream",
     "text": [
      "2025-02-16 14:14:37,446 - INFO - Loaded cache with 0 existing games\n",
      "2025-02-16 14:14:37,450 - INFO - Found 27660 new games to scrape\n",
      "Scraping game 0021800631:   0%|          | 9/27660 [00:16<12:13:44,  1.59s/game, cached_total=10, successful=10]2025-02-16 14:14:54,035 - INFO - Saved cache with 10 games\n",
      "Scraping game 0022101044:   0%|          | 19/27660 [00:31<11:48:15,  1.54s/game, cached_total=20, successful=20]2025-02-16 14:15:09,314 - INFO - Saved cache with 20 games\n",
      "Scraping game 0021300243:   0%|          | 29/27660 [00:45<10:43:29,  1.40s/game, cached_total=30, successful=30]2025-02-16 14:15:22,586 - INFO - Saved cache with 30 games\n",
      "Scraping game 0021701214:   0%|          | 39/27660 [01:05<17:55:56,  2.34s/game, cached_total=40, successful=40]2025-02-16 14:15:42,568 - INFO - Saved cache with 40 games\n",
      "Scraping game 0020500455:   0%|          | 49/27660 [01:23<14:20:19,  1.87s/game, cached_total=50, successful=50]2025-02-16 14:16:00,927 - INFO - Saved cache with 50 games\n",
      "Scraping game 0022000870:   0%|          | 59/27660 [01:39<11:47:20,  1.54s/game, cached_total=60, successful=60]2025-02-16 14:16:16,488 - INFO - Saved cache with 60 games\n",
      "Scraping game 0020700161:   0%|          | 69/27660 [01:52<10:15:03,  1.34s/game, cached_total=70, successful=70]2025-02-16 14:16:30,251 - INFO - Saved cache with 70 games\n",
      "Scraping game 0021200911:   0%|          | 79/27660 [02:08<10:56:38,  1.43s/game, cached_total=80, successful=80]2025-02-16 14:16:45,790 - INFO - Saved cache with 80 games\n",
      "Scraping game 0022200012:   0%|          | 89/27660 [02:23<11:35:17,  1.51s/game, cached_total=90, successful=90]2025-02-16 14:17:00,657 - INFO - Saved cache with 90 games\n",
      "Scraping game 0021900028:   0%|          | 99/27660 [02:39<11:35:46,  1.51s/game, cached_total=100, successful=100]2025-02-16 14:17:16,564 - INFO - Saved cache with 100 games\n",
      "Scraping game 0021200209:   0%|          | 109/27660 [02:55<11:38:13,  1.52s/game, cached_total=110, successful=110]2025-02-16 14:17:32,600 - INFO - Saved cache with 110 games\n",
      "Scraping game 0021600875:   0%|          | 119/27660 [03:09<12:03:48,  1.58s/game, cached_total=120, successful=120]2025-02-16 14:17:47,257 - INFO - Saved cache with 120 games\n",
      "Scraping game 0021200714:   0%|          | 129/27660 [03:25<11:31:48,  1.51s/game, cached_total=130, successful=130]2025-02-16 14:18:02,732 - INFO - Saved cache with 130 games\n",
      "Scraping game 0021000118:   1%|          | 139/27660 [03:39<10:13:59,  1.34s/game, cached_total=140, successful=140]2025-02-16 14:18:16,636 - INFO - Saved cache with 140 games\n",
      "Scraping game 0020500211:   1%|          | 149/27660 [03:54<12:48:06,  1.68s/game, cached_total=150, successful=150]2025-02-16 14:18:31,755 - INFO - Saved cache with 150 games\n",
      "Scraping game 0021000224:   1%|          | 159/27660 [04:08<10:46:30,  1.41s/game, cached_total=160, successful=160]2025-02-16 14:18:45,761 - INFO - Saved cache with 160 games\n",
      "Scraping game 0020700340:   1%|          | 169/27660 [04:23<11:49:34,  1.55s/game, cached_total=170, successful=170]2025-02-16 14:19:00,988 - INFO - Saved cache with 170 games\n",
      "Scraping game 0020800192:   1%|          | 179/27660 [04:38<11:24:36,  1.49s/game, cached_total=180, successful=180]2025-02-16 14:19:16,087 - INFO - Saved cache with 180 games\n",
      "Scraping game 0031200002:   1%|          | 189/27660 [04:53<11:07:57,  1.46s/game, cached_total=190, successful=190]2025-02-16 14:19:30,612 - INFO - Saved cache with 190 games\n",
      "Scraping game 0021900083:   1%|          | 199/27660 [05:06<9:58:49,  1.31s/game, cached_total=200, successful=200] 2025-02-16 14:19:44,189 - INFO - Saved cache with 200 games\n",
      "Scraping game 0040400177:   1%|          | 209/27660 [05:20<10:36:55,  1.39s/game, cached_total=210, successful=210]2025-02-16 14:19:58,267 - INFO - Saved cache with 210 games\n",
      "Scraping game 0021500529:   1%|          | 219/27660 [05:36<11:16:30,  1.48s/game, cached_total=220, successful=220]2025-02-16 14:20:13,646 - INFO - Saved cache with 220 games\n",
      "Scraping game 0020900613:   1%|          | 229/27660 [05:51<11:00:09,  1.44s/game, cached_total=230, successful=230]2025-02-16 14:20:28,621 - INFO - Saved cache with 230 games\n",
      "Scraping game 0021500760:   1%|          | 239/27660 [06:05<10:57:57,  1.44s/game, cached_total=240, successful=240]2025-02-16 14:20:43,187 - INFO - Saved cache with 240 games\n",
      "Scraping game 0021000140:   1%|          | 249/27660 [06:22<12:54:22,  1.70s/game, cached_total=250, successful=250]2025-02-16 14:21:00,033 - INFO - Saved cache with 250 games\n",
      "Scraping game 0021200884:   1%|          | 259/27660 [06:37<11:25:11,  1.50s/game, cached_total=260, successful=260]2025-02-16 14:21:15,242 - INFO - Saved cache with 260 games\n",
      "Scraping game 0021201021:   1%|          | 269/27660 [06:53<12:30:31,  1.64s/game, cached_total=270, successful=270]2025-02-16 14:21:31,348 - INFO - Saved cache with 270 games\n",
      "Scraping game 0021300272:   1%|          | 279/27660 [07:09<12:22:06,  1.63s/game, cached_total=280, successful=280]2025-02-16 14:21:46,723 - INFO - Saved cache with 280 games\n",
      "Scraping game 0021900301:   1%|          | 289/27660 [07:28<14:24:48,  1.90s/game, cached_total=290, successful=290]2025-02-16 14:22:05,571 - INFO - Saved cache with 290 games\n",
      "Scraping game 0022000244:   1%|          | 299/27660 [07:48<11:33:13,  1.52s/game, cached_total=300, successful=300]2025-02-16 14:22:26,221 - INFO - Saved cache with 300 games\n",
      "Scraping game 0020800988:   1%|          | 309/27660 [08:02<10:28:29,  1.38s/game, cached_total=310, successful=310]2025-02-16 14:22:40,386 - INFO - Saved cache with 310 games\n",
      "Scraping game 0021600603:   1%|          | 319/27660 [08:16<10:52:09,  1.43s/game, cached_total=320, successful=320]2025-02-16 14:22:54,251 - INFO - Saved cache with 320 games\n",
      "Scraping game 0021100401:   1%|          | 329/27660 [08:30<10:56:22,  1.44s/game, cached_total=330, successful=330]2025-02-16 14:23:08,374 - INFO - Saved cache with 330 games\n",
      "Scraping game 0021600302:   1%|          | 339/27660 [08:49<13:07:45,  1.73s/game, cached_total=340, successful=340]2025-02-16 14:23:27,244 - INFO - Saved cache with 340 games\n",
      "Scraping game 0021300544:   1%|▏         | 349/27660 [09:04<11:19:01,  1.49s/game, cached_total=350, successful=350]2025-02-16 14:23:42,193 - INFO - Saved cache with 350 games\n",
      "Scraping game 0021201205:   1%|▏         | 359/27660 [09:18<9:52:08,  1.30s/game, cached_total=360, successful=360] 2025-02-16 14:23:55,571 - INFO - Saved cache with 360 games\n",
      "Scraping game 0021400324:   1%|▏         | 369/27660 [09:32<10:37:44,  1.40s/game, cached_total=370, successful=370]2025-02-16 14:24:09,909 - INFO - Saved cache with 370 games\n",
      "Scraping game 0020800129:   1%|▏         | 379/27660 [09:47<11:22:32,  1.50s/game, cached_total=380, successful=380]2025-02-16 14:24:25,174 - INFO - Saved cache with 380 games\n",
      "Scraping game 0022200680:   1%|▏         | 389/27660 [10:01<10:23:54,  1.37s/game, cached_total=390, successful=390]2025-02-16 14:24:39,327 - INFO - Saved cache with 390 games\n",
      "Scraping game 0020500030:   1%|▏         | 399/27660 [10:21<11:27:23,  1.51s/game, cached_total=400, successful=400]2025-02-16 14:24:59,301 - INFO - Saved cache with 400 games\n",
      "Scraping game 0020900062:   1%|▏         | 409/27660 [10:42<16:13:05,  2.14s/game, cached_total=410, successful=410]2025-02-16 14:25:19,987 - INFO - Saved cache with 410 games\n",
      "Scraping game 0021100579:   2%|▏         | 419/27660 [11:02<12:11:57,  1.61s/game, cached_total=420, successful=420]2025-02-16 14:25:39,603 - INFO - Saved cache with 420 games\n",
      "Scraping game 0021100930:   2%|▏         | 429/27660 [11:22<12:31:50,  1.66s/game, cached_total=430, successful=430]2025-02-16 14:25:59,826 - INFO - Saved cache with 430 games\n",
      "Scraping game 0020801179:   2%|▏         | 439/27660 [11:35<9:20:00,  1.23s/game, cached_total=440, successful=440] 2025-02-16 14:26:13,189 - INFO - Saved cache with 440 games\n",
      "Scraping game 0021800334:   2%|▏         | 449/27660 [11:49<10:12:32,  1.35s/game, cached_total=450, successful=450]2025-02-16 14:26:26,703 - INFO - Saved cache with 450 games\n",
      "Scraping game 0021300666:   2%|▏         | 459/27660 [12:03<10:41:25,  1.41s/game, cached_total=460, successful=460]2025-02-16 14:26:41,289 - INFO - Saved cache with 460 games\n",
      "Scraping game 0021700527:   2%|▏         | 469/27660 [12:17<10:49:36,  1.43s/game, cached_total=470, successful=470]2025-02-16 14:26:55,138 - INFO - Saved cache with 470 games\n",
      "Scraping game 0022000497:   2%|▏         | 479/27660 [12:37<11:08:57,  1.48s/game, cached_total=480, successful=480]2025-02-16 14:27:15,281 - INFO - Saved cache with 480 games\n",
      "Scraping game 0010800096:   2%|▏         | 489/27660 [12:50<11:21:05,  1.50s/game, cached_total=490, successful=490]2025-02-16 14:27:28,183 - INFO - Saved cache with 490 games\n",
      "Scraping game 0020800349:   2%|▏         | 499/27660 [13:17<21:12:19,  2.81s/game, cached_total=500, successful=500]2025-02-16 14:27:54,778 - INFO - Saved cache with 500 games\n",
      "Scraping game 0021900258:   2%|▏         | 509/27660 [13:35<20:40:45,  2.74s/game, cached_total=510, successful=510]2025-02-16 14:28:13,420 - INFO - Saved cache with 510 games\n",
      "Scraping game 0021300060:   2%|▏         | 519/27660 [13:49<10:16:39,  1.36s/game, cached_total=520, successful=520]2025-02-16 14:28:26,753 - INFO - Saved cache with 520 games\n",
      "Scraping game 0020901039:   2%|▏         | 529/27660 [14:07<17:37:03,  2.34s/game, cached_total=530, successful=530]2025-02-16 14:28:45,003 - INFO - Saved cache with 530 games\n",
      "Scraping game 0020600940:   2%|▏         | 539/27660 [14:22<11:07:27,  1.48s/game, cached_total=540, successful=540]2025-02-16 14:28:59,800 - INFO - Saved cache with 540 games\n",
      "Scraping game 0021400005:   2%|▏         | 549/27660 [14:36<10:56:30,  1.45s/game, cached_total=550, successful=550]2025-02-16 14:29:14,119 - INFO - Saved cache with 550 games\n",
      "Scraping game 0021700986:   2%|▏         | 559/27660 [14:54<17:31:05,  2.33s/game, cached_total=560, successful=560]2025-02-16 14:29:32,498 - INFO - Saved cache with 560 games\n",
      "Scraping game 0011200094:   2%|▏         | 569/27660 [15:08<10:45:48,  1.43s/game, cached_total=570, successful=570]2025-02-16 14:29:45,944 - INFO - Saved cache with 570 games\n",
      "Scraping game 0020900960:   2%|▏         | 579/27660 [15:22<10:49:14,  1.44s/game, cached_total=580, successful=580]2025-02-16 14:30:00,002 - INFO - Saved cache with 580 games\n",
      "Scraping game 0021200076:   2%|▏         | 589/27660 [15:38<10:56:50,  1.46s/game, cached_total=590, successful=590]2025-02-16 14:30:16,392 - INFO - Saved cache with 590 games\n",
      "Scraping game 0020800551:   2%|▏         | 599/27660 [15:53<11:23:02,  1.51s/game, cached_total=600, successful=600]2025-02-16 14:30:31,185 - INFO - Saved cache with 600 games\n",
      "Scraping game 0020600323:   2%|▏         | 609/27660 [16:09<12:22:50,  1.65s/game, cached_total=610, successful=610]2025-02-16 14:30:47,193 - INFO - Saved cache with 610 games\n",
      "Scraping game 0021400520:   2%|▏         | 619/27660 [16:23<10:31:31,  1.40s/game, cached_total=620, successful=620]2025-02-16 14:31:01,390 - INFO - Saved cache with 620 games\n",
      "Scraping game 0020900827:   2%|▏         | 629/27660 [16:42<11:31:01,  1.53s/game, cached_total=630, successful=630]2025-02-16 14:31:19,681 - INFO - Saved cache with 630 games\n",
      "Scraping game 0020800979:   2%|▏         | 639/27660 [16:56<10:41:11,  1.42s/game, cached_total=640, successful=640]2025-02-16 14:31:33,541 - INFO - Saved cache with 640 games\n",
      "Scraping game 0040900172:   2%|▏         | 649/27660 [17:10<10:50:52,  1.45s/game, cached_total=650, successful=650]2025-02-16 14:31:47,801 - INFO - Saved cache with 650 games\n",
      "Scraping game 0021300545:   2%|▏         | 659/27660 [17:25<11:12:03,  1.49s/game, cached_total=660, successful=660]2025-02-16 14:32:03,235 - INFO - Saved cache with 660 games\n",
      "Scraping game 0021000709:   2%|▏         | 669/27660 [17:40<12:14:58,  1.63s/game, cached_total=670, successful=670]2025-02-16 14:32:18,465 - INFO - Saved cache with 670 games\n",
      "Scraping game 0020400459:   2%|▏         | 679/27660 [17:55<11:02:44,  1.47s/game, cached_total=680, successful=680]2025-02-16 14:32:32,897 - INFO - Saved cache with 680 games\n",
      "Scraping game 0041600214:   2%|▏         | 689/27660 [18:09<10:47:52,  1.44s/game, cached_total=690, successful=690]2025-02-16 14:32:47,255 - INFO - Saved cache with 690 games\n",
      "Scraping game 0020901005:   3%|▎         | 699/27660 [18:23<10:21:51,  1.38s/game, cached_total=700, successful=700]2025-02-16 14:33:01,365 - INFO - Saved cache with 700 games\n",
      "Scraping game 0021000974:   3%|▎         | 709/27660 [18:45<12:33:35,  1.68s/game, cached_total=710, successful=710]2025-02-16 14:33:22,934 - INFO - Saved cache with 710 games\n",
      "Scraping game 0021500121:   3%|▎         | 719/27660 [18:59<10:34:22,  1.41s/game, cached_total=720, successful=720]2025-02-16 14:33:36,597 - INFO - Saved cache with 720 games\n",
      "Scraping game 0021200983:   3%|▎         | 729/27660 [19:14<10:57:25,  1.46s/game, cached_total=730, successful=730]2025-02-16 14:33:51,773 - INFO - Saved cache with 730 games\n",
      "Scraping game 0022000907:   3%|▎         | 739/27660 [19:28<12:32:19,  1.68s/game, cached_total=740, successful=740]2025-02-16 14:34:06,022 - INFO - Saved cache with 740 games\n",
      "Scraping game 0022300546:   3%|▎         | 749/27660 [19:43<11:09:59,  1.49s/game, cached_total=750, successful=750]2025-02-16 14:34:20,651 - INFO - Saved cache with 750 games\n",
      "Scraping game 0020700355:   3%|▎         | 759/27660 [19:57<10:55:54,  1.46s/game, cached_total=760, successful=760]2025-02-16 14:34:35,202 - INFO - Saved cache with 760 games\n",
      "Scraping game 0010800035:   3%|▎         | 769/27660 [20:10<10:15:01,  1.37s/game, cached_total=770, successful=770]2025-02-16 14:34:48,403 - INFO - Saved cache with 770 games\n",
      "Scraping game 0021800221:   3%|▎         | 779/27660 [20:30<12:02:29,  1.61s/game, cached_total=780, successful=780]2025-02-16 14:35:08,362 - INFO - Saved cache with 780 games\n",
      "Scraping game 0020800226:   3%|▎         | 789/27660 [20:45<12:04:32,  1.62s/game, cached_total=790, successful=790]2025-02-16 14:35:23,093 - INFO - Saved cache with 790 games\n",
      "Scraping game 0010500084:   3%|▎         | 799/27660 [20:59<11:06:20,  1.49s/game, cached_total=800, successful=800]2025-02-16 14:35:37,336 - INFO - Saved cache with 800 games\n",
      "Scraping game 0021600263:   3%|▎         | 809/27660 [21:14<10:27:51,  1.40s/game, cached_total=810, successful=810]2025-02-16 14:35:51,790 - INFO - Saved cache with 810 games\n",
      "Scraping game 0021600263:   3%|▎         | 809/27660 [21:14<11:45:12,  1.58s/game, cached_total=810, successful=810]\n"
     ]
    },
    {
     "ename": "KeyboardInterrupt",
     "evalue": "",
     "output_type": "error",
     "traceback": [
      "\u001b[1;31m---------------------------------------------------------------------------\u001b[0m",
      "\u001b[1;31mKeyboardInterrupt\u001b[0m                         Traceback (most recent call last)",
      "Cell \u001b[1;32mIn[16], line 2\u001b[0m\n\u001b[0;32m      1\u001b[0m \u001b[38;5;28;01mtry\u001b[39;00m:\n\u001b[1;32m----> 2\u001b[0m     game_stats_boxscoreadvanced \u001b[38;5;241m=\u001b[39m \u001b[43mscrape_game_stats_boxscoreadvanced\u001b[49m\u001b[43m(\u001b[49m\n\u001b[0;32m      3\u001b[0m \u001b[43m        \u001b[49m\u001b[43mgame_ids\u001b[49m\u001b[38;5;241;43m=\u001b[39;49m\u001b[43mgame_ids\u001b[49m\u001b[43m,\u001b[49m\n\u001b[0;32m      4\u001b[0m \u001b[43m        \u001b[49m\u001b[43mcache_path\u001b[49m\u001b[38;5;241;43m=\u001b[39;49m\u001b[38;5;124;43m'\u001b[39;49m\u001b[38;5;124;43mnba_games_cache_boxscoreadvanced.pkl\u001b[39;49m\u001b[38;5;124;43m'\u001b[39;49m\u001b[43m,\u001b[49m\n\u001b[0;32m      5\u001b[0m \u001b[43m        \u001b[49m\u001b[43mdelay\u001b[49m\u001b[38;5;241;43m=\u001b[39;49m\u001b[38;5;241;43m0.5\u001b[39;49m\u001b[43m,\u001b[49m\u001b[43m  \u001b[49m\u001b[38;5;66;43;03m# 1 second delay between requests\u001b[39;49;00m\n\u001b[0;32m      6\u001b[0m \u001b[43m        \u001b[49m\u001b[43msave_frequency\u001b[49m\u001b[38;5;241;43m=\u001b[39;49m\u001b[38;5;241;43m10\u001b[39;49m\u001b[43m,\u001b[49m\u001b[43m  \u001b[49m\u001b[38;5;66;43;03m# Save every 10 successful requests\u001b[39;49;00m\n\u001b[0;32m      7\u001b[0m \u001b[43m        \u001b[49m\u001b[43mtimeout\u001b[49m\u001b[38;5;241;43m=\u001b[39;49m\u001b[38;5;241;43m30\u001b[39;49m\u001b[43m,\u001b[49m\u001b[43m  \u001b[49m\u001b[38;5;66;43;03m# 30 second timeout\u001b[39;49;00m\n\u001b[0;32m      8\u001b[0m \u001b[43m        \u001b[49m\u001b[43mmax_retries\u001b[49m\u001b[38;5;241;43m=\u001b[39;49m\u001b[38;5;241;43m3\u001b[39;49m\u001b[43m  \u001b[49m\u001b[38;5;66;43;03m# Retry up to 3 times on timeout\u001b[39;49;00m\n\u001b[0;32m      9\u001b[0m \u001b[43m    \u001b[49m\u001b[43m)\u001b[49m\n\u001b[0;32m     10\u001b[0m \u001b[38;5;28;01mexcept\u001b[39;00m \u001b[38;5;167;01mException\u001b[39;00m \u001b[38;5;28;01mas\u001b[39;00m e:\n\u001b[0;32m     11\u001b[0m     logging\u001b[38;5;241m.\u001b[39merror(\u001b[38;5;124mf\u001b[39m\u001b[38;5;124m\"\u001b[39m\u001b[38;5;124mScraping stopped due to error: \u001b[39m\u001b[38;5;132;01m{\u001b[39;00m\u001b[38;5;28mstr\u001b[39m(e)\u001b[38;5;132;01m}\u001b[39;00m\u001b[38;5;124m\"\u001b[39m)\n",
      "Cell \u001b[1;32mIn[10], line 61\u001b[0m, in \u001b[0;36mscrape_game_stats_boxscoreadvanced\u001b[1;34m(game_ids, cache_path, delay, save_frequency, timeout, max_retries)\u001b[0m\n\u001b[0;32m     58\u001b[0m             logging\u001b[38;5;241m.\u001b[39minfo(\u001b[38;5;124mf\u001b[39m\u001b[38;5;124m\"\u001b[39m\u001b[38;5;124mSaved cache with \u001b[39m\u001b[38;5;132;01m{\u001b[39;00m\u001b[38;5;28mlen\u001b[39m(cache)\u001b[38;5;132;01m}\u001b[39;00m\u001b[38;5;124m games\u001b[39m\u001b[38;5;124m\"\u001b[39m)\n\u001b[0;32m     60\u001b[0m     \u001b[38;5;66;03m# Wait between requests\u001b[39;00m\n\u001b[1;32m---> 61\u001b[0m     time\u001b[38;5;241m.\u001b[39msleep(delay)\n\u001b[0;32m     63\u001b[0m \u001b[38;5;28;01mexcept\u001b[39;00m \u001b[38;5;167;01mException\u001b[39;00m \u001b[38;5;28;01mas\u001b[39;00m e:\n\u001b[0;32m     64\u001b[0m     logging\u001b[38;5;241m.\u001b[39merror(\u001b[38;5;124mf\u001b[39m\u001b[38;5;124m\"\u001b[39m\u001b[38;5;124mUnexpected error processing game \u001b[39m\u001b[38;5;132;01m{\u001b[39;00mgame_id\u001b[38;5;132;01m}\u001b[39;00m\u001b[38;5;124m: \u001b[39m\u001b[38;5;132;01m{\u001b[39;00m\u001b[38;5;28mstr\u001b[39m(e)\u001b[38;5;132;01m}\u001b[39;00m\u001b[38;5;124m\"\u001b[39m)\n",
      "\u001b[1;31mKeyboardInterrupt\u001b[0m: "
     ]
    }
   ],
   "source": [
    "try:\n",
    "    game_stats_boxscoreadvanced = scrape_game_stats_boxscoreadvanced(\n",
    "        game_ids=game_ids,\n",
    "        cache_path='nba_games_cache_boxscoreadvanced.pkl',\n",
    "        delay=0.5,  # 1 second delay between requests\n",
    "        save_frequency=10,  # Save every 10 successful requests\n",
    "        timeout=30,  # 30 second timeout\n",
    "        max_retries=3  # Retry up to 3 times on timeout\n",
    "    )\n",
    "except Exception as e:\n",
    "    logging.error(f\"Scraping stopped due to error: {str(e)}\")"
   ]
  },
  {
   "cell_type": "markdown",
   "metadata": {},
   "source": [
    "# Basic eval of trial run"
   ]
  },
  {
   "cell_type": "code",
   "execution_count": null,
   "metadata": {},
   "outputs": [
    {
     "name": "stdout",
     "output_type": "stream",
     "text": [
      "Num skipped: 0\n",
      "shape of dataset: (810, 68)\n"
     ]
    },
    {
     "data": {
      "text/html": [
       "<div>\n",
       "<style scoped>\n",
       "    .dataframe tbody tr th:only-of-type {\n",
       "        vertical-align: middle;\n",
       "    }\n",
       "\n",
       "    .dataframe tbody tr th {\n",
       "        vertical-align: top;\n",
       "    }\n",
       "\n",
       "    .dataframe thead th {\n",
       "        text-align: right;\n",
       "    }\n",
       "</style>\n",
       "<table border=\"1\" class=\"dataframe\">\n",
       "  <thead>\n",
       "    <tr style=\"text-align: right;\">\n",
       "      <th></th>\n",
       "      <th>meta.version</th>\n",
       "      <th>meta.request</th>\n",
       "      <th>meta.time</th>\n",
       "      <th>boxScoreAdvanced.gameId</th>\n",
       "      <th>boxScoreAdvanced.awayTeamId</th>\n",
       "      <th>boxScoreAdvanced.homeTeamId</th>\n",
       "      <th>boxScoreAdvanced.homeTeam.teamId</th>\n",
       "      <th>boxScoreAdvanced.homeTeam.teamCity</th>\n",
       "      <th>boxScoreAdvanced.homeTeam.teamName</th>\n",
       "      <th>boxScoreAdvanced.homeTeam.teamTricode</th>\n",
       "      <th>...</th>\n",
       "      <th>boxScoreAdvanced.awayTeam.statistics.trueShootingPercentage</th>\n",
       "      <th>boxScoreAdvanced.awayTeam.statistics.usagePercentage</th>\n",
       "      <th>boxScoreAdvanced.awayTeam.statistics.estimatedUsagePercentage</th>\n",
       "      <th>boxScoreAdvanced.awayTeam.statistics.estimatedPace</th>\n",
       "      <th>boxScoreAdvanced.awayTeam.statistics.pace</th>\n",
       "      <th>boxScoreAdvanced.awayTeam.statistics.pacePer40</th>\n",
       "      <th>boxScoreAdvanced.awayTeam.statistics.possessions</th>\n",
       "      <th>boxScoreAdvanced.awayTeam.statistics.PIE</th>\n",
       "      <th>boxScoreAdvanced.homeTeam.statistics</th>\n",
       "      <th>boxScoreAdvanced.awayTeam.statistics</th>\n",
       "    </tr>\n",
       "  </thead>\n",
       "  <tbody>\n",
       "    <tr>\n",
       "      <th>0</th>\n",
       "      <td>1</td>\n",
       "      <td>http://nba.cloud/games/0021800263/boxscoreadva...</td>\n",
       "      <td>2025-02-16T15:14:38.1438Z</td>\n",
       "      <td>0021800263</td>\n",
       "      <td>1610612758</td>\n",
       "      <td>1610612762</td>\n",
       "      <td>1610612762</td>\n",
       "      <td>Utah</td>\n",
       "      <td>Jazz</td>\n",
       "      <td>UTA</td>\n",
       "      <td>...</td>\n",
       "      <td>0.611</td>\n",
       "      <td>1.0</td>\n",
       "      <td>0.197</td>\n",
       "      <td>100.00</td>\n",
       "      <td>98.0</td>\n",
       "      <td>81.67</td>\n",
       "      <td>97.0</td>\n",
       "      <td>0.544</td>\n",
       "      <td>NaN</td>\n",
       "      <td>NaN</td>\n",
       "    </tr>\n",
       "    <tr>\n",
       "      <th>1</th>\n",
       "      <td>1</td>\n",
       "      <td>http://nba.cloud/games/0021800862/boxscoreadva...</td>\n",
       "      <td>2025-02-16T15:14:41.1441Z</td>\n",
       "      <td>0021800862</td>\n",
       "      <td>1610612744</td>\n",
       "      <td>1610612757</td>\n",
       "      <td>1610612757</td>\n",
       "      <td>Portland</td>\n",
       "      <td>Trail Blazers</td>\n",
       "      <td>POR</td>\n",
       "      <td>...</td>\n",
       "      <td>0.510</td>\n",
       "      <td>1.0</td>\n",
       "      <td>0.198</td>\n",
       "      <td>96.94</td>\n",
       "      <td>94.5</td>\n",
       "      <td>78.75</td>\n",
       "      <td>94.0</td>\n",
       "      <td>0.406</td>\n",
       "      <td>NaN</td>\n",
       "      <td>NaN</td>\n",
       "    </tr>\n",
       "    <tr>\n",
       "      <th>2</th>\n",
       "      <td>1</td>\n",
       "      <td>http://nba.cloud/games/0022300751/boxscoreadva...</td>\n",
       "      <td>2025-02-16T15:14:43.1443Z</td>\n",
       "      <td>0022300751</td>\n",
       "      <td>1610612763</td>\n",
       "      <td>1610612766</td>\n",
       "      <td>1610612766</td>\n",
       "      <td>Charlotte</td>\n",
       "      <td>Hornets</td>\n",
       "      <td>CHA</td>\n",
       "      <td>...</td>\n",
       "      <td>0.555</td>\n",
       "      <td>1.0</td>\n",
       "      <td>0.199</td>\n",
       "      <td>98.80</td>\n",
       "      <td>98.0</td>\n",
       "      <td>81.67</td>\n",
       "      <td>97.0</td>\n",
       "      <td>0.441</td>\n",
       "      <td>NaN</td>\n",
       "      <td>NaN</td>\n",
       "    </tr>\n",
       "    <tr>\n",
       "      <th>3</th>\n",
       "      <td>1</td>\n",
       "      <td>http://nba.cloud/games/0020900350/boxscoreadva...</td>\n",
       "      <td>2025-02-16T15:14:44.1444Z</td>\n",
       "      <td>0020900350</td>\n",
       "      <td>1610612764</td>\n",
       "      <td>1610612746</td>\n",
       "      <td>1610612746</td>\n",
       "      <td>Los Angeles</td>\n",
       "      <td>Clippers</td>\n",
       "      <td>LAC</td>\n",
       "      <td>...</td>\n",
       "      <td>0.488</td>\n",
       "      <td>1.0</td>\n",
       "      <td>0.198</td>\n",
       "      <td>100.48</td>\n",
       "      <td>98.5</td>\n",
       "      <td>82.08</td>\n",
       "      <td>99.0</td>\n",
       "      <td>0.467</td>\n",
       "      <td>NaN</td>\n",
       "      <td>NaN</td>\n",
       "    </tr>\n",
       "    <tr>\n",
       "      <th>4</th>\n",
       "      <td>1</td>\n",
       "      <td>http://nba.cloud/games/0020900869/boxscoreadva...</td>\n",
       "      <td>2025-02-16T15:14:46.1446Z</td>\n",
       "      <td>0020900869</td>\n",
       "      <td>1610612755</td>\n",
       "      <td>1610612747</td>\n",
       "      <td>1610612747</td>\n",
       "      <td>Los Angeles</td>\n",
       "      <td>Lakers</td>\n",
       "      <td>LAL</td>\n",
       "      <td>...</td>\n",
       "      <td>0.470</td>\n",
       "      <td>1.0</td>\n",
       "      <td>0.200</td>\n",
       "      <td>92.50</td>\n",
       "      <td>90.0</td>\n",
       "      <td>75.00</td>\n",
       "      <td>90.0</td>\n",
       "      <td>0.472</td>\n",
       "      <td>NaN</td>\n",
       "      <td>NaN</td>\n",
       "    </tr>\n",
       "  </tbody>\n",
       "</table>\n",
       "<p>5 rows × 68 columns</p>\n",
       "</div>"
      ],
      "text/plain": [
       "   meta.version                                       meta.request  \\\n",
       "0             1  http://nba.cloud/games/0021800263/boxscoreadva...   \n",
       "1             1  http://nba.cloud/games/0021800862/boxscoreadva...   \n",
       "2             1  http://nba.cloud/games/0022300751/boxscoreadva...   \n",
       "3             1  http://nba.cloud/games/0020900350/boxscoreadva...   \n",
       "4             1  http://nba.cloud/games/0020900869/boxscoreadva...   \n",
       "\n",
       "                   meta.time boxScoreAdvanced.gameId  \\\n",
       "0  2025-02-16T15:14:38.1438Z              0021800263   \n",
       "1  2025-02-16T15:14:41.1441Z              0021800862   \n",
       "2  2025-02-16T15:14:43.1443Z              0022300751   \n",
       "3  2025-02-16T15:14:44.1444Z              0020900350   \n",
       "4  2025-02-16T15:14:46.1446Z              0020900869   \n",
       "\n",
       "   boxScoreAdvanced.awayTeamId  boxScoreAdvanced.homeTeamId  \\\n",
       "0                   1610612758                   1610612762   \n",
       "1                   1610612744                   1610612757   \n",
       "2                   1610612763                   1610612766   \n",
       "3                   1610612764                   1610612746   \n",
       "4                   1610612755                   1610612747   \n",
       "\n",
       "   boxScoreAdvanced.homeTeam.teamId boxScoreAdvanced.homeTeam.teamCity  \\\n",
       "0                        1610612762                               Utah   \n",
       "1                        1610612757                           Portland   \n",
       "2                        1610612766                          Charlotte   \n",
       "3                        1610612746                        Los Angeles   \n",
       "4                        1610612747                        Los Angeles   \n",
       "\n",
       "  boxScoreAdvanced.homeTeam.teamName boxScoreAdvanced.homeTeam.teamTricode  \\\n",
       "0                               Jazz                                   UTA   \n",
       "1                      Trail Blazers                                   POR   \n",
       "2                            Hornets                                   CHA   \n",
       "3                           Clippers                                   LAC   \n",
       "4                             Lakers                                   LAL   \n",
       "\n",
       "   ... boxScoreAdvanced.awayTeam.statistics.trueShootingPercentage  \\\n",
       "0  ...                                              0.611            \n",
       "1  ...                                              0.510            \n",
       "2  ...                                              0.555            \n",
       "3  ...                                              0.488            \n",
       "4  ...                                              0.470            \n",
       "\n",
       "  boxScoreAdvanced.awayTeam.statistics.usagePercentage  \\\n",
       "0                                                1.0     \n",
       "1                                                1.0     \n",
       "2                                                1.0     \n",
       "3                                                1.0     \n",
       "4                                                1.0     \n",
       "\n",
       "  boxScoreAdvanced.awayTeam.statistics.estimatedUsagePercentage  \\\n",
       "0                                              0.197              \n",
       "1                                              0.198              \n",
       "2                                              0.199              \n",
       "3                                              0.198              \n",
       "4                                              0.200              \n",
       "\n",
       "   boxScoreAdvanced.awayTeam.statistics.estimatedPace  \\\n",
       "0                                             100.00    \n",
       "1                                              96.94    \n",
       "2                                              98.80    \n",
       "3                                             100.48    \n",
       "4                                              92.50    \n",
       "\n",
       "   boxScoreAdvanced.awayTeam.statistics.pace  \\\n",
       "0                                       98.0   \n",
       "1                                       94.5   \n",
       "2                                       98.0   \n",
       "3                                       98.5   \n",
       "4                                       90.0   \n",
       "\n",
       "   boxScoreAdvanced.awayTeam.statistics.pacePer40  \\\n",
       "0                                           81.67   \n",
       "1                                           78.75   \n",
       "2                                           81.67   \n",
       "3                                           82.08   \n",
       "4                                           75.00   \n",
       "\n",
       "   boxScoreAdvanced.awayTeam.statistics.possessions  \\\n",
       "0                                              97.0   \n",
       "1                                              94.0   \n",
       "2                                              97.0   \n",
       "3                                              99.0   \n",
       "4                                              90.0   \n",
       "\n",
       "   boxScoreAdvanced.awayTeam.statistics.PIE  \\\n",
       "0                                     0.544   \n",
       "1                                     0.406   \n",
       "2                                     0.441   \n",
       "3                                     0.467   \n",
       "4                                     0.472   \n",
       "\n",
       "   boxScoreAdvanced.homeTeam.statistics  boxScoreAdvanced.awayTeam.statistics  \n",
       "0                                   NaN                                   NaN  \n",
       "1                                   NaN                                   NaN  \n",
       "2                                   NaN                                   NaN  \n",
       "3                                   NaN                                   NaN  \n",
       "4                                   NaN                                   NaN  \n",
       "\n",
       "[5 rows x 68 columns]"
      ]
     },
     "metadata": {},
     "output_type": "display_data"
    }
   ],
   "source": [
    "import pandas as pd\n",
    "import pickle\n",
    "with open('nba_games_cache_boxscoreadvanced.pkl', 'rb') as f:\n",
    "    cache = pickle.load(f)\n",
    "\n",
    "\n",
    "all_games = []\n",
    "num_skipped = 0\n",
    "for game_id, game_data in cache.items():\n",
    "    try:\n",
    "        assert game_data is not None\n",
    "        df = pd.json_normalize(game_data)\n",
    "        all_games.append(df)\n",
    "    except:\n",
    "        num_skipped = num_skipped + 1\n",
    "        continue\n",
    "print(f'Num skipped: {num_skipped}')\n",
    "game_level_dataset = pd.concat(all_games, ignore_index=True)\n",
    "print(f'shape of dataset: {game_level_dataset.shape}')\n",
    "game_level_dataset.head()"
   ]
  },
  {
   "cell_type": "markdown",
   "metadata": {},
   "source": [
    "810 matches up with 810 successful requests for box score advanced"
   ]
  },
  {
   "cell_type": "code",
   "execution_count": 19,
   "metadata": {},
   "outputs": [
    {
     "name": "stdout",
     "output_type": "stream",
     "text": [
      "<class 'pandas.core.frame.DataFrame'>\n",
      "RangeIndex: 810 entries, 0 to 809\n",
      "Data columns (total 68 columns):\n",
      " #   Column                                                                Non-Null Count  Dtype  \n",
      "---  ------                                                                --------------  -----  \n",
      " 0   meta.version                                                          810 non-null    int64  \n",
      " 1   meta.request                                                          810 non-null    object \n",
      " 2   meta.time                                                             810 non-null    object \n",
      " 3   boxScoreAdvanced.gameId                                               810 non-null    object \n",
      " 4   boxScoreAdvanced.awayTeamId                                           810 non-null    int64  \n",
      " 5   boxScoreAdvanced.homeTeamId                                           810 non-null    int64  \n",
      " 6   boxScoreAdvanced.homeTeam.teamId                                      810 non-null    int64  \n",
      " 7   boxScoreAdvanced.homeTeam.teamCity                                    784 non-null    object \n",
      " 8   boxScoreAdvanced.homeTeam.teamName                                    784 non-null    object \n",
      " 9   boxScoreAdvanced.homeTeam.teamTricode                                 784 non-null    object \n",
      " 10  boxScoreAdvanced.homeTeam.teamSlug                                    784 non-null    object \n",
      " 11  boxScoreAdvanced.homeTeam.players                                     810 non-null    object \n",
      " 12  boxScoreAdvanced.homeTeam.statistics.minutes                          784 non-null    object \n",
      " 13  boxScoreAdvanced.homeTeam.statistics.estimatedOffensiveRating         784 non-null    float64\n",
      " 14  boxScoreAdvanced.homeTeam.statistics.offensiveRating                  784 non-null    float64\n",
      " 15  boxScoreAdvanced.homeTeam.statistics.estimatedDefensiveRating         784 non-null    float64\n",
      " 16  boxScoreAdvanced.homeTeam.statistics.defensiveRating                  784 non-null    float64\n",
      " 17  boxScoreAdvanced.homeTeam.statistics.estimatedNetRating               784 non-null    float64\n",
      " 18  boxScoreAdvanced.homeTeam.statistics.netRating                        784 non-null    float64\n",
      " 19  boxScoreAdvanced.homeTeam.statistics.assistPercentage                 784 non-null    float64\n",
      " 20  boxScoreAdvanced.homeTeam.statistics.assistToTurnover                 784 non-null    float64\n",
      " 21  boxScoreAdvanced.homeTeam.statistics.assistRatio                      784 non-null    float64\n",
      " 22  boxScoreAdvanced.homeTeam.statistics.offensiveReboundPercentage       784 non-null    float64\n",
      " 23  boxScoreAdvanced.homeTeam.statistics.defensiveReboundPercentage       784 non-null    float64\n",
      " 24  boxScoreAdvanced.homeTeam.statistics.reboundPercentage                784 non-null    float64\n",
      " 25  boxScoreAdvanced.homeTeam.statistics.estimatedTeamTurnoverPercentage  784 non-null    float64\n",
      " 26  boxScoreAdvanced.homeTeam.statistics.turnoverRatio                    784 non-null    float64\n",
      " 27  boxScoreAdvanced.homeTeam.statistics.effectiveFieldGoalPercentage     784 non-null    float64\n",
      " 28  boxScoreAdvanced.homeTeam.statistics.trueShootingPercentage           784 non-null    float64\n",
      " 29  boxScoreAdvanced.homeTeam.statistics.usagePercentage                  784 non-null    float64\n",
      " 30  boxScoreAdvanced.homeTeam.statistics.estimatedUsagePercentage         784 non-null    float64\n",
      " 31  boxScoreAdvanced.homeTeam.statistics.estimatedPace                    784 non-null    float64\n",
      " 32  boxScoreAdvanced.homeTeam.statistics.pace                             784 non-null    float64\n",
      " 33  boxScoreAdvanced.homeTeam.statistics.pacePer40                        784 non-null    float64\n",
      " 34  boxScoreAdvanced.homeTeam.statistics.possessions                      784 non-null    float64\n",
      " 35  boxScoreAdvanced.homeTeam.statistics.PIE                              784 non-null    float64\n",
      " 36  boxScoreAdvanced.awayTeam.teamId                                      810 non-null    int64  \n",
      " 37  boxScoreAdvanced.awayTeam.teamCity                                    784 non-null    object \n",
      " 38  boxScoreAdvanced.awayTeam.teamName                                    784 non-null    object \n",
      " 39  boxScoreAdvanced.awayTeam.teamTricode                                 784 non-null    object \n",
      " 40  boxScoreAdvanced.awayTeam.teamSlug                                    784 non-null    object \n",
      " 41  boxScoreAdvanced.awayTeam.players                                     810 non-null    object \n",
      " 42  boxScoreAdvanced.awayTeam.statistics.minutes                          784 non-null    object \n",
      " 43  boxScoreAdvanced.awayTeam.statistics.estimatedOffensiveRating         784 non-null    float64\n",
      " 44  boxScoreAdvanced.awayTeam.statistics.offensiveRating                  784 non-null    float64\n",
      " 45  boxScoreAdvanced.awayTeam.statistics.estimatedDefensiveRating         784 non-null    float64\n",
      " 46  boxScoreAdvanced.awayTeam.statistics.defensiveRating                  784 non-null    float64\n",
      " 47  boxScoreAdvanced.awayTeam.statistics.estimatedNetRating               784 non-null    float64\n",
      " 48  boxScoreAdvanced.awayTeam.statistics.netRating                        784 non-null    float64\n",
      " 49  boxScoreAdvanced.awayTeam.statistics.assistPercentage                 784 non-null    float64\n",
      " 50  boxScoreAdvanced.awayTeam.statistics.assistToTurnover                 784 non-null    float64\n",
      " 51  boxScoreAdvanced.awayTeam.statistics.assistRatio                      784 non-null    float64\n",
      " 52  boxScoreAdvanced.awayTeam.statistics.offensiveReboundPercentage       784 non-null    float64\n",
      " 53  boxScoreAdvanced.awayTeam.statistics.defensiveReboundPercentage       784 non-null    float64\n",
      " 54  boxScoreAdvanced.awayTeam.statistics.reboundPercentage                784 non-null    float64\n",
      " 55  boxScoreAdvanced.awayTeam.statistics.estimatedTeamTurnoverPercentage  784 non-null    float64\n",
      " 56  boxScoreAdvanced.awayTeam.statistics.turnoverRatio                    784 non-null    float64\n",
      " 57  boxScoreAdvanced.awayTeam.statistics.effectiveFieldGoalPercentage     784 non-null    float64\n",
      " 58  boxScoreAdvanced.awayTeam.statistics.trueShootingPercentage           784 non-null    float64\n",
      " 59  boxScoreAdvanced.awayTeam.statistics.usagePercentage                  784 non-null    float64\n",
      " 60  boxScoreAdvanced.awayTeam.statistics.estimatedUsagePercentage         784 non-null    float64\n",
      " 61  boxScoreAdvanced.awayTeam.statistics.estimatedPace                    784 non-null    float64\n",
      " 62  boxScoreAdvanced.awayTeam.statistics.pace                             784 non-null    float64\n",
      " 63  boxScoreAdvanced.awayTeam.statistics.pacePer40                        784 non-null    float64\n",
      " 64  boxScoreAdvanced.awayTeam.statistics.possessions                      784 non-null    float64\n",
      " 65  boxScoreAdvanced.awayTeam.statistics.PIE                              784 non-null    float64\n",
      " 66  boxScoreAdvanced.homeTeam.statistics                                  0 non-null      object \n",
      " 67  boxScoreAdvanced.awayTeam.statistics                                  0 non-null      object \n",
      "dtypes: float64(46), int64(5), object(17)\n",
      "memory usage: 430.4+ KB\n"
     ]
    }
   ],
   "source": [
    "game_level_dataset.info()"
   ]
  },
  {
   "cell_type": "markdown",
   "metadata": {},
   "source": [
    "# Scraping BoxScorePlayerTrackV3\n",
    "\n",
    "Copied code from Scraping BoxScoreAdvanced and modified accordingly"
   ]
  },
  {
   "cell_type": "markdown",
   "metadata": {},
   "source": [
    "Function that uses BoxScorePlayerTrackV3 to get info about a *single* game "
   ]
  },
  {
   "cell_type": "code",
   "execution_count": 11,
   "metadata": {},
   "outputs": [],
   "source": [
    "def create_row_playertrack(game_id: str, timeout: int = 30, max_retries: int = 3) -> Optional[dict]:\n",
    "    \"\"\"\n",
    "    Fetch game stats from NBA API with timeout handling and automatic retries.\n",
    "    \n",
    "    Args:\n",
    "        game_id: NBA game identifier\n",
    "        timeout: Request timeout in seconds\n",
    "        max_retries: Maximum number of retry attempts for timeout errors\n",
    "    \"\"\"\n",
    "    headers = {\n",
    "        \"Host\": \"stats.nba.com\",\n",
    "        \"User-Agent\": \"Mozilla/5.0 (Windows NT 10.0; Win64; x64; rv:72.0) Gecko/20100101 Firefox/72.0\",\n",
    "        \"Accept\": \"application/json, text/plain, */*\",\n",
    "        \"Accept-Language\": \"en-US,en;q=0.5\",\n",
    "        \"Accept-Encoding\": \"gzip, deflate, br\",\n",
    "        \"x-nba-stats-origin\": \"stats\",\n",
    "        \"x-nba-stats-token\": \"true\",\n",
    "        \"Connection\": \"keep-alive\",\n",
    "        \"Referer\": \"https://stats.nba.com/\",\n",
    "        \"Pragma\": \"no-cache\",\n",
    "        \"Cache-Control\": \"no-cache\",\n",
    "    }\n",
    "    \n",
    "    #url = f'https://stats.nba.com/stats/boxscoretraditionalv3?EndPeriod=0&EndRange=0&GameID={'00'+str(game_id)}&RangeType=0&StartPeriod=0&StartRange=0'\n",
    "    url = f'https://stats.nba.com/stats/boxscoreplayertrackv3?GameID={game_id}'\n",
    "    #url = f'https://stats.nba.com/stats/boxscoreadvancedv3?EndPeriod=0&EndRange=0&GameID={game_id}&RangeType=0&StartPeriod=0&StartRange=0'\n",
    "    #url = f'https://stats.nba.com/stats/boxscoretraditionalv3?EndPeriod=0&EndRange=0&GameID={game_id}&RangeType=0&StartPeriod=0&StartRange=0'\n",
    "    \n",
    "    for attempt in range(max_retries):\n",
    "        try:\n",
    "            response = requests.get(url, headers=headers, timeout=timeout)\n",
    "            response.raise_for_status()\n",
    "            return response.json()\n",
    "            \n",
    "        except Timeout:\n",
    "            wait_time = (attempt + 1) * 5 + random.uniform(1, 3)  # Exponential backoff with jitter\n",
    "            logging.warning(f\"Timeout for game {game_id} (attempt {attempt + 1}/{max_retries}). \"\n",
    "                          f\"Waiting {wait_time:.1f} seconds before retry...\")\n",
    "            time.sleep(wait_time)\n",
    "            \n",
    "        except RequestException as e:\n",
    "            logging.error(f\"Error fetching game {game_id}: {str(e)}\")\n",
    "            return None\n",
    "            \n",
    "    logging.error(f\"Max retries ({max_retries}) reached for game {game_id}\")\n",
    "    return None"
   ]
  },
  {
   "cell_type": "markdown",
   "metadata": {},
   "source": [
    "function that uses above to scrape info for all the game ids. Also incorporates logging, tqdm progress bar, pkl cache (in case of crash)"
   ]
  },
  {
   "cell_type": "code",
   "execution_count": 12,
   "metadata": {},
   "outputs": [],
   "source": [
    "def scrape_game_stats_playertrack(game_ids: List[str], cache_path: str = 'nba_games_cache.pkl', \n",
    "                     delay: float = 1.0, save_frequency: int = 10,\n",
    "                     timeout: int = 30, max_retries: int = 3) -> Dict[str, dict]:\n",
    "    \"\"\"\n",
    "    Scrape game stats with progress bar, timeout handling, and automatic retries.\n",
    "    \n",
    "    Args:\n",
    "        game_ids: List of NBA game IDs to scrape\n",
    "        cache_path: Path to save/load the pickle cache file\n",
    "        delay: Time to wait between requests in seconds\n",
    "        save_frequency: How often to save the cache (every N successful requests)\n",
    "        timeout: Request timeout in seconds\n",
    "        max_retries: Maximum number of retry attempts for timeout errors\n",
    "    \n",
    "    Returns:\n",
    "        Dictionary mapping game IDs to their stats data\n",
    "    \"\"\"\n",
    "    # Setup logging\n",
    "    logging.basicConfig(\n",
    "        level=logging.INFO,\n",
    "        format='%(asctime)s - %(levelname)s - %(message)s'\n",
    "    )\n",
    "    \n",
    "    # Load existing cache\n",
    "    cache = load_or_create_cache(cache_path)\n",
    "    logging.info(f\"Loaded cache with {len(cache)} existing games\")\n",
    "    \n",
    "    # Filter out already cached games\n",
    "    games_to_scrape = [gid for gid in game_ids if gid not in cache]\n",
    "    logging.info(f\"Found {len(games_to_scrape)} new games to scrape\")\n",
    "    \n",
    "    successful_requests = 0\n",
    "    \n",
    "    # Create progress bar\n",
    "    pbar = tqdm(games_to_scrape, desc=\"Scraping games\", unit=\"game\")\n",
    "    \n",
    "    for game_id in pbar:\n",
    "        try:\n",
    "            # Update progress bar description with current game\n",
    "            pbar.set_description(f\"Scraping game {game_id}\")\n",
    "            \n",
    "            # Fetch game data with timeout handling and retries\n",
    "            game_data = create_row_playertrack(game_id, timeout=timeout, max_retries=max_retries)\n",
    "            \n",
    "            if game_data is not None:\n",
    "                cache[game_id] = game_data\n",
    "                successful_requests += 1\n",
    "                \n",
    "                # Update progress bar postfix with success count\n",
    "                pbar.set_postfix(\n",
    "                    successful=successful_requests,\n",
    "                    cached_total=len(cache)\n",
    "                )\n",
    "                \n",
    "                # Save periodically\n",
    "                if successful_requests % save_frequency == 0:\n",
    "                    save_cache(cache, cache_path)\n",
    "                    logging.info(f\"Saved cache with {len(cache)} games\")\n",
    "            \n",
    "            # Wait between requests\n",
    "            time.sleep(delay)\n",
    "            \n",
    "        except Exception as e:\n",
    "            logging.error(f\"Unexpected error processing game {game_id}: {str(e)}\")\n",
    "            # Save cache on error to preserve progress\n",
    "            save_cache(cache, cache_path)\n",
    "            logging.info(\"Saved cache due to error\")\n",
    "            raise\n",
    "    \n",
    "    # Close progress bar\n",
    "    pbar.close()\n",
    "    \n",
    "    # Final save\n",
    "    save_cache(cache, cache_path)\n",
    "    logging.info(f\"Scraping completed. Final cache contains {len(cache)} games\")\n",
    "    \n",
    "    return cache"
   ]
  },
  {
   "cell_type": "markdown",
   "metadata": {},
   "source": [
    "Run the scraping with 0.5s request delay (use 1sec if running into excessive timeout errors/notable skips)"
   ]
  },
  {
   "cell_type": "code",
   "execution_count": 17,
   "metadata": {},
   "outputs": [],
   "source": [
    "# Since I plan on running for ~20 min as a trial run, I want to randomize the game ids as a way to maximize the chance of running into bugs \n",
    "random.shuffle(game_ids)"
   ]
  },
  {
   "cell_type": "code",
   "execution_count": null,
   "metadata": {},
   "outputs": [],
   "source": [
    "try:\n",
    "    game_stats_playertrack = scrape_game_stats_playertrack(\n",
    "        game_ids=game_ids,\n",
    "        cache_path='nba_games_cache_playertrack.pkl',\n",
    "        delay=0.5,  # 1 second delay between requests\n",
    "        save_frequency=10,  # Save every 10 successful requests\n",
    "        timeout=30,  # 30 second timeout\n",
    "        max_retries=3  # Retry up to 3 times on timeout\n",
    "    )\n",
    "except Exception as e:\n",
    "    logging.error(f\"Scraping stopped due to error: {str(e)}\")"
   ]
  }
 ],
 "metadata": {
  "kernelspec": {
   "display_name": ".venv",
   "language": "python",
   "name": "python3"
  },
  "language_info": {
   "codemirror_mode": {
    "name": "ipython",
    "version": 3
   },
   "file_extension": ".py",
   "mimetype": "text/x-python",
   "name": "python",
   "nbconvert_exporter": "python",
   "pygments_lexer": "ipython3",
   "version": "3.11.11"
  }
 },
 "nbformat": 4,
 "nbformat_minor": 2
}
