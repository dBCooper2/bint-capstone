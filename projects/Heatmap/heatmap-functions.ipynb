{
 "cells": [
  {
   "cell_type": "markdown",
   "metadata": {},
   "source": [
    "# Correlation Heatmaps\n",
    "\n",
    "## Trevor Rowland, Scott Campbell :: 2-4-2025\n",
    "\n",
    "This notebook serves as a repository of functions for creating correlation heatmaps, used to identify relationships between features in our datasets."
   ]
  },
  {
   "cell_type": "markdown",
   "metadata": {},
   "source": []
  }
 ],
 "metadata": {
  "language_info": {
   "name": "python"
  }
 },
 "nbformat": 4,
 "nbformat_minor": 2
}
