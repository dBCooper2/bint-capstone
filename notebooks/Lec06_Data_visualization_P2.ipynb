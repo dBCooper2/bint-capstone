{
  "cells": [
    {
      "cell_type": "markdown",
      "source": [
        "## $\\color{red}{\\text{Lecture Overview}}$\n",
        "1. **Data visualization**\n",
        "2. **Univariate charts for categorical data**\n",
        "3. **Univariate charts for numeric data**"
      ],
      "metadata": {
        "id": "xlUhvQSeOhBC"
      }
    },
    {
      "cell_type": "markdown",
      "metadata": {
        "id": "_NEs_AsiNpF7"
      },
      "source": [
        "## $\\color{red}{\\text{Data Visualization}}$\n",
        "1. **Data visualization** is the use of charts to form a basic understanding of data\n",
        "2. It is an effective part of any data analysis\n",
        "3. Often, the data type will dictate which chart to use\n",
        "    - Example: Numeric, Categorical, etc."
      ]
    },
    {
      "cell_type": "markdown",
      "metadata": {
        "id": "xmMSIPzhNpGA"
      },
      "source": [
        "## $\\color{red}{\\text{Categories of Data Visualization}}$\n",
        "### $\\color{blue}{\\text{Univariate and Multivariate Charts}}$\n",
        "\n",
        "1. **Univariate charts**\n",
        "    - Displays the behavior of a single variable\n",
        "2. **Multivariate charts**\n",
        "    - Displays the relationship between two or more variables"
      ]
    },
    {
      "cell_type": "markdown",
      "metadata": {
        "id": "kphkO1ZWNpGA"
      },
      "source": [
        "## $\\color{red}{\\text{Import Required Packages}}$"
      ]
    },
    {
      "cell_type": "code",
      "source": [],
      "metadata": {
        "id": "saV1ghvG7RrV"
      },
      "execution_count": null,
      "outputs": []
    },
    {
      "cell_type": "markdown",
      "metadata": {
        "id": "4uAaZ2ksNpGC"
      },
      "source": [
        "## $\\color{red}{\\text{Import Data}}$"
      ]
    },
    {
      "cell_type": "code",
      "execution_count": null,
      "metadata": {
        "id": "XDapghgsNpGD"
      },
      "outputs": [],
      "source": []
    },
    {
      "cell_type": "code",
      "source": [],
      "metadata": {
        "id": "n1nO-WTXQYyq"
      },
      "execution_count": null,
      "outputs": []
    },
    {
      "cell_type": "markdown",
      "metadata": {
        "id": "58c7tXHMNpGE"
      },
      "source": [
        "## $\\color{red}{\\text{Multivariate Charts For Categorical Data}}$\n",
        "### $\\color{blue}{\\text{Displaying Counts With CrossTabs}}$\n",
        "\n",
        "1. For categorical data, there are limited options for visualization\n",
        "2. Counts and percentages to display values in categories"
      ]
    },
    {
      "cell_type": "markdown",
      "metadata": {
        "id": "GYTAdh3GNpGF"
      },
      "source": [
        "### $\\color{green}{\\text{Example 1}}$\n",
        "\n",
        "1. Provide a cross tabulation of the following:\n",
        "    - **Attrition** by **Gender**\n",
        "    - **Attrition** by **EducationField**\n",
        "    - **Attrition** by **MaritalStatus**\n",
        "2. Comment on it"
      ]
    },
    {
      "cell_type": "code",
      "execution_count": null,
      "metadata": {
        "id": "mU0YKsv_NpGG"
      },
      "outputs": [],
      "source": []
    },
    {
      "cell_type": "markdown",
      "metadata": {
        "id": "8O-Wa48ENpGH"
      },
      "source": [
        "## $\\color{red}{\\text{Multivariate Charts For Numeric Data}}$\n",
        "### $\\color{blue}{\\text{Displaying Relationships With Scatterplots}}$\n",
        "\n",
        "1. Scatterplots shows the relationship between two numeric variables\n",
        "2. It serves as the basis for correlation analysis"
      ]
    },
    {
      "cell_type": "markdown",
      "metadata": {
        "id": "R3FbtYh2NpGH"
      },
      "source": [
        "### $\\color{green}{\\text{Example 2}}$\n",
        "1. Provide a scatterplot of the following: **Age** and **DistanceFromHome**\n",
        "2. Comment on it"
      ]
    },
    {
      "cell_type": "code",
      "execution_count": null,
      "metadata": {
        "id": "NexqQBH0NpGI"
      },
      "outputs": [],
      "source": []
    },
    {
      "cell_type": "markdown",
      "metadata": {
        "id": "72YFI0WZNpGI"
      },
      "source": [
        "### $\\color{blue}{\\text{Displaying Relationships with a Scatterplot Matrix}}$\n",
        "1. Displays a matrix of scatterplots\n",
        "2. Allows to analyse multiple relationships"
      ]
    },
    {
      "cell_type": "markdown",
      "metadata": {
        "id": "Z6IcBIVoNpGI"
      },
      "source": [
        "### $\\color{green}{\\text{Example 3}}$\n",
        "1. Provide a scatterplot matrix of the following: **Age**, **TotalWorkingYears**, and **TrainingTimesLastYear**\n",
        "2. Comment on it"
      ]
    },
    {
      "cell_type": "code",
      "execution_count": null,
      "metadata": {
        "id": "gVyUruuCNpGJ"
      },
      "outputs": [],
      "source": []
    },
    {
      "cell_type": "markdown",
      "metadata": {
        "id": "S-hPW9plNpGJ"
      },
      "source": [
        "### $\\color{blue}{\\text{Displaying Correlations With a HeatMap}}$\n",
        "1. Correlation heatmap shows the correlation between numeric variables\n",
        "2. Darker colors signify high correlation and vice versa"
      ]
    },
    {
      "cell_type": "markdown",
      "metadata": {
        "id": "S7lGXr_RNpGK"
      },
      "source": [
        "### $\\color{green}{\\text{Example 4}}$\n",
        "1. Provide a correlation heatmap for variables in the data\n",
        "2. Comment on it\n",
        "    - Which variables are highly correlated?\n",
        "    - Which variables are not highly correlated?"
      ]
    },
    {
      "cell_type": "code",
      "execution_count": null,
      "metadata": {
        "id": "KG3cWaTtNpGK"
      },
      "outputs": [],
      "source": []
    },
    {
      "cell_type": "markdown",
      "metadata": {
        "id": "TZNWwX0kNpGK"
      },
      "source": [
        "## $\\color{red}{\\text{Multivariate Charts Between Numeric and Categorical Data}}$\n",
        "### $\\color{blue}{\\text{Displaying Relationships With Bar Graphs}}$\n",
        "\n",
        "1. Shows relationship between a numeric variable per category\n",
        "    - Example: Average age per gender, minimum wage per department, etc"
      ]
    },
    {
      "cell_type": "markdown",
      "metadata": {
        "id": "XTJAdPUhNpGK"
      },
      "source": [
        "### $\\color{green}{\\text{Example 5}}$\n",
        "1. Provide bar graphs for the following scenarios and **comment on it**\n",
        "    - Average **NumCompaniesWorked** per **Department**\n",
        "    - Median **JobSatisfation** per **MaritalStatus**"
      ]
    },
    {
      "cell_type": "code",
      "execution_count": null,
      "metadata": {
        "id": "YO55zIDyNpGL"
      },
      "outputs": [],
      "source": []
    },
    {
      "cell_type": "code",
      "execution_count": null,
      "metadata": {
        "id": "68-kKvyGNpGL"
      },
      "outputs": [],
      "source": []
    }
  ],
  "metadata": {
    "kernelspec": {
      "display_name": "Python 3 (ipykernel)",
      "language": "python",
      "name": "python3"
    },
    "language_info": {
      "codemirror_mode": {
        "name": "ipython",
        "version": 3
      },
      "file_extension": ".py",
      "mimetype": "text/x-python",
      "name": "python",
      "nbconvert_exporter": "python",
      "pygments_lexer": "ipython3",
      "version": "3.8.10"
    },
    "colab": {
      "provenance": []
    }
  },
  "nbformat": 4,
  "nbformat_minor": 0
}