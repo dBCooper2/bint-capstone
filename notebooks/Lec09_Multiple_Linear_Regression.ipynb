{
  "cells": [
    {
      "cell_type": "markdown",
      "metadata": {
        "id": "YroIKpG9r-sF"
      },
      "source": [
        "## $\\color{red}{\\text{Lecture Overview}}$\n",
        "1. **Multiple Linear Regression**\n",
        "2. **Developing the Analytic Task**\n",
        "3. **Data Transformation**\n",
        "4. **Data Visualization**\n",
        "5. **Data Modeling**"
      ]
    },
    {
      "cell_type": "markdown",
      "metadata": {
        "id": "N9A6rHCerwGG"
      },
      "source": [
        "## $\\color{red}{\\text{Multiple Linear Regression}}$\n",
        "\n",
        "1. Used to describe a linear relationship between a dependent variable and independent variables\n",
        "2. **Simple linear regression** will be of the form: **$y=b_0 + b_1X_1$**\n",
        "3. **Multiple linear regression** will be of the form: $y=b_0 + b_1X_1 + ... + b_kX_k $\n",
        "    - $y$ is the **dependent variable** and $X_1, X_2, ..., X_k$ are the **independent variables**\n",
        "4. The goal is to determine the coefficients $b_0, b_1, ..., b_k$ in order to reduce prediction error"
      ]
    },
    {
      "cell_type": "markdown",
      "metadata": {
        "id": "ilCp__WmrwGJ"
      },
      "source": [
        "## $\\color{red}{\\text{Import Required Packages}}$"
      ]
    },
    {
      "cell_type": "code",
      "execution_count": null,
      "metadata": {
        "id": "oBfANGYYrwGK"
      },
      "outputs": [],
      "source": []
    },
    {
      "cell_type": "markdown",
      "metadata": {
        "id": "g_YuOITRrwGL"
      },
      "source": [
        "## $\\color{red}{\\text{Import Data}}$"
      ]
    },
    {
      "cell_type": "code",
      "execution_count": null,
      "metadata": {
        "id": "damfhprHrwGM"
      },
      "outputs": [],
      "source": []
    },
    {
      "cell_type": "code",
      "execution_count": null,
      "metadata": {
        "id": "w_Tjn_60mXin"
      },
      "outputs": [],
      "source": []
    },
    {
      "cell_type": "markdown",
      "metadata": {
        "id": "uTa1FsGcrwGM"
      },
      "source": [
        "## $\\color{red}{\\text{Analytic Task}}$\n",
        "1. Using the housing data, build a **multiple linear regression model** to predict **price**\n",
        "2. Perform data transformation methods wherever needed\n",
        "3. Perform data visualization tasks to develop a preliminary understanding of **price**\n",
        "4. Develop a model to predict **price**\n",
        "5. Assess the robustness of the model\n",
        "6. Interpret the model for insights"
      ]
    },
    {
      "cell_type": "markdown",
      "metadata": {
        "id": "SUJOhemLrwGM"
      },
      "source": [
        "## $\\color{red}{\\text{Data Transformation}}$\n"
      ]
    },
    {
      "cell_type": "markdown",
      "metadata": {
        "id": "mk4zjNpdnuvW"
      },
      "source": [
        "### $\\color{blue}{\\text{Missing Value Analysis}}$\n",
        "\n",
        "- Check missing values in the data"
      ]
    },
    {
      "cell_type": "code",
      "execution_count": null,
      "metadata": {
        "id": "wOO9N6nvrwGN"
      },
      "outputs": [],
      "source": []
    },
    {
      "cell_type": "markdown",
      "metadata": {
        "id": "VkYYGC8Ymdip"
      },
      "source": [
        "### $\\color{blue}{\\text{Multicollinearity}}$\n",
        "\n",
        "1. Using a correlation plot, find variables with strong association with the dependent variable, **price**\n",
        "2. **Multicollinearity** occurs when variables have similar information\n",
        "    - Variables with a correlation greater than 0.70 are considered to have similar information\n",
        "    - One of the variables should not be included in the analysis\n",
        "3. Which variables are closely related to each other?"
      ]
    },
    {
      "cell_type": "code",
      "execution_count": null,
      "metadata": {
        "id": "aoO-QtwDrwGP"
      },
      "outputs": [],
      "source": []
    },
    {
      "cell_type": "code",
      "execution_count": null,
      "metadata": {
        "id": "YxCr-H4C0yUC"
      },
      "outputs": [],
      "source": []
    },
    {
      "cell_type": "markdown",
      "metadata": {
        "id": "xaC64YQAoygr"
      },
      "source": [
        "### $\\color{blue}{\\text{Removing Colinear Variables}}$\n",
        "- If correlation between variables are greater than 0.7, one of the variables should be removed"
      ]
    },
    {
      "cell_type": "code",
      "execution_count": null,
      "metadata": {
        "id": "BfsZe54bozEy"
      },
      "outputs": [],
      "source": []
    },
    {
      "cell_type": "code",
      "execution_count": null,
      "metadata": {
        "id": "U9eunfpnwiXU"
      },
      "outputs": [],
      "source": []
    },
    {
      "cell_type": "markdown",
      "metadata": {
        "id": "2qnR5oN6TtM0"
      },
      "source": [
        "### $\\color{blue}{\\text{Removing Near Zero-Variance Variables}}$\n",
        "- Some variables have little or no variation. They do not add much value to the model"
      ]
    },
    {
      "cell_type": "code",
      "execution_count": null,
      "metadata": {
        "id": "DvsDobaLUPRT"
      },
      "outputs": [],
      "source": []
    },
    {
      "cell_type": "markdown",
      "metadata": {
        "id": "6t6i0EX-rwGP"
      },
      "source": [
        "## $\\color{red}{\\text{Model Building}}$"
      ]
    },
    {
      "cell_type": "markdown",
      "metadata": {
        "id": "N9NNIC0Xn-nO"
      },
      "source": [
        "### $\\color{blue}{\\text{Data Partitioning}}$\n",
        "\n",
        "1. Identify dependent and independent variables\n",
        "2. Partition the data such that 80% is used for training and 20% is used for testing"
      ]
    },
    {
      "cell_type": "code",
      "execution_count": null,
      "metadata": {
        "id": "bPjEdHCwrwGQ",
        "scrolled": false
      },
      "outputs": [],
      "source": []
    },
    {
      "cell_type": "markdown",
      "metadata": {
        "id": "9NlLj2FJoIS4"
      },
      "source": [
        "### $\\color{blue}{\\text{Model Fitting and Result}}$"
      ]
    },
    {
      "cell_type": "code",
      "execution_count": null,
      "metadata": {
        "id": "PetQ7AlXrwGQ"
      },
      "outputs": [],
      "source": []
    },
    {
      "cell_type": "markdown",
      "metadata": {
        "id": "vI2aCEekCuJQ"
      },
      "source": [
        "1. Explain the model coefficient. <br>\n",
        "In this case, I will explain the coefficient of the 'bedrooms' variable\n",
        "  - For one unit increase in **(ind. variable)**, the **(dep variable)** increases/ decreases by **(the coefficient of the ind variable)**, while holding all the independet variables constant\n",
        "  - For one unit increase in bedrooms, the price increases by 0.0121, while holding all the independet variables constant.\n",
        "\n",
        "------\n",
        "1. Explain the R-squared\n",
        "- The independent variables, explains (r-quared value) of the (dependent variable)\n",
        "- The independent variables, explains 43% of price\n"
      ]
    },
    {
      "cell_type": "markdown",
      "metadata": {
        "id": "IZBsH4ZvrwGQ"
      },
      "source": [
        "### $\\color{blue}{\\text{Model Prediction}}$\n",
        "\n",
        "- Predict the **price** of the testing data as a function of the independent variables"
      ]
    },
    {
      "cell_type": "code",
      "execution_count": null,
      "metadata": {
        "id": "3XITAkucejyf"
      },
      "outputs": [],
      "source": []
    },
    {
      "cell_type": "markdown",
      "metadata": {
        "id": "a3E4oXv4fR7z"
      },
      "source": [
        "## $\\color{red}{\\text{Model Diagnostics}}$"
      ]
    },
    {
      "cell_type": "markdown",
      "metadata": {
        "id": "E7Rxf6wdon3s"
      },
      "source": [
        "### $\\color{blue}{\\text{QQ Plot}}$"
      ]
    },
    {
      "cell_type": "code",
      "execution_count": null,
      "metadata": {
        "id": "Tb11v_BVikmC"
      },
      "outputs": [],
      "source": []
    },
    {
      "cell_type": "markdown",
      "metadata": {
        "id": "T_bwXZsSjPQb"
      },
      "source": [
        "### $\\color{blue}{\\text{Error Calculations}}$\n",
        "\n",
        "- Mean Error (ME), Root Mean Squared Error (RMSE)\n",
        "- Mean Absolute Error (MAE), Mean Percentage Error (MPE)\n",
        "- Mean Absolute Percentage Error (MAPE)"
      ]
    },
    {
      "cell_type": "code",
      "execution_count": null,
      "metadata": {
        "id": "Kh_6QaZNrwGQ"
      },
      "outputs": [],
      "source": []
    },
    {
      "cell_type": "code",
      "execution_count": null,
      "metadata": {
        "id": "fSc_1wtpj9KD"
      },
      "outputs": [],
      "source": []
    }
  ],
  "metadata": {
    "colab": {
      "provenance": [],
      "toc_visible": true
    },
    "kernelspec": {
      "display_name": "Python 3 (ipykernel)",
      "language": "python",
      "name": "python3"
    },
    "language_info": {
      "codemirror_mode": {
        "name": "ipython",
        "version": 3
      },
      "file_extension": ".py",
      "mimetype": "text/x-python",
      "name": "python",
      "nbconvert_exporter": "python",
      "pygments_lexer": "ipython3",
      "version": "3.8.10"
    }
  },
  "nbformat": 4,
  "nbformat_minor": 0
}
