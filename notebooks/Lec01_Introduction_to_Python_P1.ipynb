{
  "cells": [
    {
      "cell_type": "markdown",
      "metadata": {
        "id": "5AoIj0K3EI6O"
      },
      "source": [
        "## $\\color{red}{\\text{What is Python}}$\n",
        "1. Programming language released in 1991\n",
        "2. One of the most popular programming languages in the world for scientific computing"
      ]
    },
    {
      "cell_type": "markdown",
      "metadata": {
        "id": "Urn66CQlEI6R"
      },
      "source": [
        "## $\\color{red}{\\text{Why Python}}$\n",
        "\n",
        "1. Open source - free and available to everyone\n",
        "2. Compared to other languages, it is easier to learn\n",
        "3. Compared to other languages, it is easier to read and understand\n",
        "4. It is used extensively in many facets of education\n",
        "5. It is popular among the AI and Data Science communities"
      ]
    },
    {
      "cell_type": "markdown",
      "metadata": {
        "id": "dnpvbrDsEI6S"
      },
      "source": [
        "## $\\color{red}{\\text{Python Building Blocks}}$\n",
        "### $\\color{blue}{\\text{Arithmetic Computation}}$\n",
        "\n",
        "1. Addition and Subtraction\n",
        "3. Division and Multiplication\n",
        "5. Exponent"
      ]
    },
    {
      "cell_type": "markdown",
      "metadata": {
        "id": "k-pCt9W7EI6T"
      },
      "source": [
        "### $\\color{green}{\\text{Example 1}}$\n",
        "1. Do some computations with python"
      ]
    },
    {
      "cell_type": "code",
      "execution_count": 1,
      "metadata": {
        "id": "Bnw9xL7EEI6T"
      },
      "outputs": [
        {
          "data": {
            "text/plain": [
              "81.23076923076923"
            ]
          },
          "execution_count": 1,
          "metadata": {},
          "output_type": "execute_result"
        }
      ],
      "source": [
        "85-(96+100)/52"
      ]
    },
    {
      "cell_type": "markdown",
      "metadata": {
        "id": "Dfm_zQvlEI6V"
      },
      "source": [
        "## $\\color{red}{\\text{Python Building Blocks}}$\n",
        "### $\\color{blue}{\\text{Introduction to the Concept of Variables}}$\n",
        "\n",
        "1. **Variables** hold information about objects\n",
        "2. Creating a variable tells the computer to reserve memory space for that variable"
      ]
    },
    {
      "cell_type": "markdown",
      "metadata": {
        "id": "032geOCaEI6W"
      },
      "source": [
        "### $\\color{blue}{\\text{Introduction to the Concept of Functions}}$\n",
        "1. A **function** is a collection of codes that\n",
        "    - Receives input, does some computation and returns an output\n",
        "    - Not all functions return an output\n",
        "2. Functions are useful for repetetive taks\n",
        "3. A common example is the print function, \"print()\""
      ]
    },
    {
      "cell_type": "markdown",
      "metadata": {
        "id": "9aSpBb5VEI6W"
      },
      "source": [
        "### $\\color{green}{\\text{Example 2}}$\n",
        "1. Create a variable that stores a person's age and print it\n",
        "2. Create a variable that stores today's temperature and print it\n",
        "3. Create a variable that stores the color of a person's hair and print it"
      ]
    },
    {
      "cell_type": "code",
      "execution_count": 2,
      "metadata": {
        "id": "xGttfHGlEI6W"
      },
      "outputs": [
        {
          "name": "stdout",
          "output_type": "stream",
          "text": [
            "My age is 24 years old.\n",
            "The temperature today is 21.\n",
            "My hair is brown.\n",
            "The average of the temperature and age is 22.5\n"
          ]
        }
      ],
      "source": [
        "# 1. Age\n",
        "age = 24\n",
        "print(f'My age is {age} years old.')\n",
        "\n",
        "# 2. Today's Temperature\n",
        "temp = 21\n",
        "print(f'The temperature today is {temp}.')\n",
        "\n",
        "# 3. Color of a person's hair\n",
        "color = \"brown\"\n",
        "print(f'My hair is {color}.')\n",
        "\n",
        "print(f'The average of the temperature and age is {(temp + age)/2}')"
      ]
    },
    {
      "cell_type": "markdown",
      "metadata": {},
      "source": [
        "Recall that there are ways to operate on strings with numbers:"
      ]
    },
    {
      "cell_type": "code",
      "execution_count": 3,
      "metadata": {},
      "outputs": [
        {
          "data": {
            "text/plain": [
              "'brownbrown'"
            ]
          },
          "execution_count": 3,
          "metadata": {},
          "output_type": "execute_result"
        }
      ],
      "source": [
        "color*2"
      ]
    },
    {
      "cell_type": "markdown",
      "metadata": {
        "id": "RJ1JyUqWEI6X"
      },
      "source": [
        "## $\\color{red}{\\text{Python Building Blocks}}$\n",
        "### $\\color{blue}{\\text{Guidelines on Variable Names - Part I}}$\n",
        "\n",
        "1. Can we name variables anything we wish?\n",
        "  - NO - Example: Non-English characters\n",
        "2. Variable names should be descriptive but not TOO long - it should help in identifying what the variable does\n",
        "    - **camelCasing** is a good example\n",
        "    - Another example is to use **under_scores** - It makes for an easier read\n",
        "    - Generally variable names can be upper or lower case letters with numbers between 0 and 9\n",
        "    - Caution - Python is case sensitive. That means the following: **myBall** $\\neq$ **myball**"
      ]
    },
    {
      "cell_type": "markdown",
      "metadata": {
        "id": "THcEEi9bEI6Y"
      },
      "source": [
        "### $\\color{blue}{\\text{Guidelines on Variable Names - Part II}}$\n",
        "1. Not all names are created equal\n",
        "    - Some names are reserved for the python compiler. They appear as a different color (green)\n",
        "    - These words cannot be used as variable names\n",
        "    - Example include \"and\", \"print\", \"break\", \"def\", \"else\", \"elif\", \"True\", \"False\", \"except\", etc\n",
        "    - One way to get around that is to use underscore before or after the reserved word. Example \"True_1\"\n",
        "        - Not recommended"
      ]
    },
    {
      "cell_type": "markdown",
      "metadata": {
        "id": "30vGQQ4NEI6Y"
      },
      "source": [
        "## $\\color{red}{\\text{Python Building Blocks}}$\n",
        "### $\\color{blue}{\\text{Algebraic and Symbolic Compuation with Variables}}$\n",
        "\n",
        "1. We can perform arithmetic on variables as with numbers"
      ]
    },
    {
      "cell_type": "markdown",
      "metadata": {
        "id": "fO9m5ItoEI6Y"
      },
      "source": [
        "### $\\color{green}{\\text{Example 3}}$\n",
        "   1. A common mathematical expression is to compute: $y=mx + b$\n",
        "   2. Given $m=5, x=9$ and $b=-5$, compute $y$"
      ]
    },
    {
      "cell_type": "code",
      "execution_count": 4,
      "metadata": {
        "id": "54x0gXyIEI6Z"
      },
      "outputs": [
        {
          "data": {
            "text/plain": [
              "40"
            ]
          },
          "execution_count": 4,
          "metadata": {},
          "output_type": "execute_result"
        }
      ],
      "source": [
        "m = 5\n",
        "x = 9\n",
        "b = 0-5\n",
        "\n",
        "y = m*x + b\n",
        "y"
      ]
    },
    {
      "cell_type": "markdown",
      "metadata": {},
      "source": [
        "Now do the following:\n",
        "\n",
        "$$f(x) = x^2 sin^2(x)$$"
      ]
    },
    {
      "cell_type": "code",
      "execution_count": 5,
      "metadata": {},
      "outputs": [
        {
          "data": {
            "text/plain": [
              "13.757173316114756"
            ]
          },
          "execution_count": 5,
          "metadata": {},
          "output_type": "execute_result"
        }
      ],
      "source": [
        "from math import sin\n",
        "y = (x ** 2) * (sin(x) ** 2)\n",
        "y"
      ]
    },
    {
      "cell_type": "markdown",
      "metadata": {
        "id": "SxNVakHkEI6a"
      },
      "source": [
        "### $\\color{green}{\\text{Example 4}}$\n",
        "1. Create a variable for Newton's second law of motion: $M = v_0t-\\frac{1}{2}gt^2$\n",
        "    2. where $v_0=5$ is the initial velocity\n",
        "    3. $g=18$ is the acceleration due to gravity\n",
        "    4. $t=5$ is the time in hours"
      ]
    },
    {
      "cell_type": "code",
      "execution_count": 6,
      "metadata": {
        "id": "dpMsGgW8EI6a"
      },
      "outputs": [
        {
          "data": {
            "text/plain": [
              "-200.0"
            ]
          },
          "execution_count": 6,
          "metadata": {},
          "output_type": "execute_result"
        }
      ],
      "source": [
        "v_0 = 5\n",
        "g = 18\n",
        "t = 5\n",
        "\n",
        "m = v_0 * t - (1/2)*g*(t ** 2)\n",
        "m"
      ]
    },
    {
      "cell_type": "code",
      "execution_count": null,
      "metadata": {},
      "outputs": [],
      "source": []
    },
    {
      "cell_type": "markdown",
      "metadata": {
        "id": "xAU0-HWDEI6b"
      },
      "source": [
        "### $\\color{green}{\\text{Example 5}}$\n",
        "1. The future value of an investment is calculated as follows: $FV = PV(1 + r)^t$\n",
        "2. Where $FV$ is the future value\n",
        "    1. $PV=5000$ is the current value of the money\n",
        "    2. $r=0.05$ is the interest rate the money will accrue\n",
        "    3. $t=5$ is the time in years\n",
        "3. Create a variable for this scenario"
      ]
    },
    {
      "cell_type": "code",
      "execution_count": 7,
      "metadata": {
        "id": "x7rJgiQQEI6b"
      },
      "outputs": [
        {
          "data": {
            "text/plain": [
              "6381.4078125000015"
            ]
          },
          "execution_count": 7,
          "metadata": {},
          "output_type": "execute_result"
        }
      ],
      "source": [
        "pv = 5000\n",
        "r = .05\n",
        "t = 5\n",
        "\n",
        "fv = pv*((1+r) ** t)\n",
        "fv"
      ]
    },
    {
      "cell_type": "markdown",
      "metadata": {
        "id": "ADqc3lvEEI6c"
      },
      "source": [
        "## $\\color{red}{\\text{Python Building Blocks}}$\n",
        "### $\\color{blue}{\\text{Data Types}}$\n",
        "\n",
        "1. What is a data type?\n",
        "    1. It refers to the data that a variable can store\n",
        "    \n",
        "2. Selected default data types in python\n",
        "\n",
        "| Type              | Meaning   |\n",
        "|-------------------|-----------|\n",
        "| str               | Text      |\n",
        "| int               | Numerical |\n",
        "| float             | Numerical |"
      ]
    },
    {
      "cell_type": "markdown",
      "metadata": {
        "id": "hUAzkXQKEI6c"
      },
      "source": [
        "### $\\color{blue}{\\text{Comments}}$\n",
        "\n",
        "1. Comments provide additional information about a set of codes\n",
        "    - They explain the logic behind codes and why certain syntax was used\n",
        "    - They explain logic behind functions and variable names\n",
        "2. Comments in python begin with the **\"#\"** character\n",
        "    - Anything after the **\"#\"** character is ignored by the compiler\n",
        "    - Comments can be short or long\n",
        "    - Comments should provide clarity to a set of codes"
      ]
    },
    {
      "cell_type": "markdown",
      "metadata": {
        "id": "y7dTDtnaEI6c"
      },
      "source": [
        "### $\\color{green}{\\text{Example 6}}$\n",
        "\n",
        "1. Provide comments for variables in Newton's second law of motion: $y=v_0t-\\frac{1}{2}gt^2$\n",
        "    - where $v_0=5$ is the initial velocity\n",
        "    - $g=18$ is the acceleration due to gravity\n",
        "    - $t=5$ is the time in hours"
      ]
    },
    {
      "cell_type": "code",
      "execution_count": 12,
      "metadata": {
        "id": "dMIJZMIiEI6d"
      },
      "outputs": [
        {
          "data": {
            "text/plain": [
              "-200.0"
            ]
          },
          "execution_count": 12,
          "metadata": {},
          "output_type": "execute_result"
        }
      ],
      "source": [
        "'''\n",
        "This cell calculates the distance traveled using Newton's Second Law of Motion. \n",
        "\n",
        "It takes in arguments of:\n",
        "  - the initial velocity, in m/s\n",
        "  - the acceleration due to gravity, in m/s^2\n",
        "  - the time the object traveled, in s\n",
        "'''\n",
        "\n",
        "v_0 = 5 # initial velocity, m/s\n",
        "g = 18 # accel. due to gravity (shouldn't this be 1.8), m/s^2\n",
        "t = 5 # time, s\n",
        "\n",
        "y = v_0 * t - (1/2)*g*(t**2) # distance traveled in y direction\n",
        "y"
      ]
    },
    {
      "cell_type": "markdown",
      "metadata": {
        "id": "rDpkA7f8EI6d"
      },
      "source": [
        "## $\\color{red}{\\text{Python Building Blocks}}$\n",
        "### $\\color{blue}{\\text{Comparision Operators}}$\n",
        "\n",
        " 1. Comparison operators allows us to compare two or more quantities\n",
        "\n",
        "| Operator | Meaning                                                  | Output     | Example |\n",
        "|----------|----------------------------------------------------------|------------|---------|\n",
        "| ==       | Checks if two quantities are equal                       | True/False | 2 == 2  |\n",
        "| !=       | Checks if two quantities are not equal                   | True/False | 2 != 4  |\n",
        "| <        | Checks if a quantity is less than another                | True/False | 2 < 3   |\n",
        "| <=       | Checks if a quantity is less than or equal to another    | True/False | 2 <= 5  |\n",
        "| >        | Checks if a quantity is greater than another             | True/False | 5 > 2   |\n",
        "| >=       | Checks if a quantity is greater than or equal to another | True/False | 5 >= 2  |"
      ]
    },
    {
      "cell_type": "code",
      "execution_count": 9,
      "metadata": {
        "id": "ISG-_CHzEI6e"
      },
      "outputs": [
        {
          "name": "stdout",
          "output_type": "stream",
          "text": [
            "False\n",
            "True\n",
            "False\n",
            "True\n",
            "True\n",
            "False\n"
          ]
        }
      ],
      "source": [
        "x = 0\n",
        "y = 1\n",
        "\n",
        "print(x==y)\n",
        "print(x!=y)\n",
        "print(x>y)\n",
        "print(x<y)\n",
        "print(x<=y)\n",
        "print(x>=y)"
      ]
    },
    {
      "cell_type": "markdown",
      "metadata": {},
      "source": [
        "These can be used with `if statements`:"
      ]
    },
    {
      "cell_type": "code",
      "execution_count": 10,
      "metadata": {
        "id": "p2fm585hEI6e"
      },
      "outputs": [],
      "source": [
        "def check_x_and_y(x:int, y:int)->int:\n",
        "    if x > y:\n",
        "        print(\"x is greater than y\")\n",
        "        return 1\n",
        "    elif x < y:\n",
        "        print(\"x is less than y\")\n",
        "        return -1\n",
        "    else: \n",
        "        print(\"x equals y\")\n",
        "        return 0"
      ]
    },
    {
      "cell_type": "code",
      "execution_count": 11,
      "metadata": {},
      "outputs": [
        {
          "name": "stdout",
          "output_type": "stream",
          "text": [
            "x is greater than y\n",
            "x is less than y\n",
            "x equals y\n"
          ]
        },
        {
          "data": {
            "text/plain": [
              "0"
            ]
          },
          "execution_count": 11,
          "metadata": {},
          "output_type": "execute_result"
        }
      ],
      "source": [
        "check_x_and_y(2,1)\n",
        "check_x_and_y(1,2)\n",
        "check_x_and_y(2,2)"
      ]
    }
  ],
  "metadata": {
    "colab": {
      "provenance": [],
      "toc_visible": true
    },
    "kernelspec": {
      "display_name": "local-venv-kernel",
      "language": "python",
      "name": "local-venv-kernel"
    },
    "language_info": {
      "codemirror_mode": {
        "name": "ipython",
        "version": 3
      },
      "file_extension": ".py",
      "mimetype": "text/x-python",
      "name": "python",
      "nbconvert_exporter": "python",
      "pygments_lexer": "ipython3",
      "version": "3.11.10"
    }
  },
  "nbformat": 4,
  "nbformat_minor": 0
}
