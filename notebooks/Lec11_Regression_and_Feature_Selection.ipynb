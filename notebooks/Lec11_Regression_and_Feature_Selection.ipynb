{
  "cells": [
    {
      "cell_type": "markdown",
      "metadata": {
        "id": "YroIKpG9r-sF"
      },
      "source": [
        "## $\\color{red}{\\text{Lecture Overview}}$\n",
        "\n",
        "There are 3 ways to feature select\n",
        "\n",
        "1. **Feature selection**\n",
        "2. **Feature selection techniques in regression**\n",
        "3. **Model diagnostics**\n",
        "\n",
        "Forward Elmination, Backwards Selection and Stepwise Regression are ways to select features via regression"
      ]
    },
    {
      "cell_type": "markdown",
      "metadata": {
        "id": "N9A6rHCerwGG"
      },
      "source": [
        "## $\\color{red}{\\text{Feature Selection}}$\n",
        "\n",
        "1. The process of selecting a subset of relevant variables for modeling\n",
        "2. Feature selection techniques operate under the principal of **parsimony**\n",
        "  - The simpler the model, the better - use fewer variables\n",
        "  - Fewer variables mean decreased computational time"
      ]
    },
    {
      "cell_type": "markdown",
      "metadata": {
        "id": "ilCp__WmrwGJ"
      },
      "source": [
        "## $\\color{red}{\\text{Import Required Packages}}$"
      ]
    },
    {
      "cell_type": "code",
      "execution_count": 2,
      "metadata": {
        "id": "oBfANGYYrwGK"
      },
      "outputs": [],
      "source": [
        "import pandas as pd\n",
        "import numpy as np\n",
        "\n",
        "%matplotlib inline\n",
        "import matplotlib.pylab as plt"
      ]
    },
    {
      "cell_type": "markdown",
      "metadata": {
        "id": "g_YuOITRrwGL"
      },
      "source": [
        "## $\\color{red}{\\text{Import Data}}$"
      ]
    },
    {
      "cell_type": "code",
      "execution_count": 4,
      "metadata": {
        "id": "jTABhjeJhSwY"
      },
      "outputs": [
        {
          "data": {
            "text/html": [
              "<div>\n",
              "<style scoped>\n",
              "    .dataframe tbody tr th:only-of-type {\n",
              "        vertical-align: middle;\n",
              "    }\n",
              "\n",
              "    .dataframe tbody tr th {\n",
              "        vertical-align: top;\n",
              "    }\n",
              "\n",
              "    .dataframe thead th {\n",
              "        text-align: right;\n",
              "    }\n",
              "</style>\n",
              "<table border=\"1\" class=\"dataframe\">\n",
              "  <thead>\n",
              "    <tr style=\"text-align: right;\">\n",
              "      <th></th>\n",
              "      <th>id</th>\n",
              "      <th>date</th>\n",
              "      <th>bedrooms</th>\n",
              "      <th>bathrooms</th>\n",
              "      <th>sqft_living</th>\n",
              "      <th>sqft_lot</th>\n",
              "      <th>floors</th>\n",
              "      <th>waterfront</th>\n",
              "      <th>view</th>\n",
              "      <th>condition</th>\n",
              "      <th>...</th>\n",
              "      <th>sqft_above</th>\n",
              "      <th>sqft_basement</th>\n",
              "      <th>yr_built</th>\n",
              "      <th>yr_renovated</th>\n",
              "      <th>zipcode</th>\n",
              "      <th>lat</th>\n",
              "      <th>long</th>\n",
              "      <th>sqft_living15</th>\n",
              "      <th>sqft_lot15</th>\n",
              "      <th>price</th>\n",
              "    </tr>\n",
              "  </thead>\n",
              "  <tbody>\n",
              "    <tr>\n",
              "      <th>0</th>\n",
              "      <td>7129300520</td>\n",
              "      <td>20141013T000000</td>\n",
              "      <td>3</td>\n",
              "      <td>1.00</td>\n",
              "      <td>1180</td>\n",
              "      <td>5650</td>\n",
              "      <td>1.0</td>\n",
              "      <td>0</td>\n",
              "      <td>0</td>\n",
              "      <td>3</td>\n",
              "      <td>...</td>\n",
              "      <td>1180</td>\n",
              "      <td>0</td>\n",
              "      <td>1955</td>\n",
              "      <td>0</td>\n",
              "      <td>98178</td>\n",
              "      <td>47.5112</td>\n",
              "      <td>-122.257</td>\n",
              "      <td>1340</td>\n",
              "      <td>5650</td>\n",
              "      <td>221900.0</td>\n",
              "    </tr>\n",
              "    <tr>\n",
              "      <th>1</th>\n",
              "      <td>6414100192</td>\n",
              "      <td>20141209T000000</td>\n",
              "      <td>3</td>\n",
              "      <td>2.25</td>\n",
              "      <td>2570</td>\n",
              "      <td>7242</td>\n",
              "      <td>2.0</td>\n",
              "      <td>0</td>\n",
              "      <td>0</td>\n",
              "      <td>3</td>\n",
              "      <td>...</td>\n",
              "      <td>2170</td>\n",
              "      <td>400</td>\n",
              "      <td>1951</td>\n",
              "      <td>1991</td>\n",
              "      <td>98125</td>\n",
              "      <td>47.7210</td>\n",
              "      <td>-122.319</td>\n",
              "      <td>1690</td>\n",
              "      <td>7639</td>\n",
              "      <td>538000.0</td>\n",
              "    </tr>\n",
              "    <tr>\n",
              "      <th>2</th>\n",
              "      <td>5631500400</td>\n",
              "      <td>20150225T000000</td>\n",
              "      <td>2</td>\n",
              "      <td>1.00</td>\n",
              "      <td>770</td>\n",
              "      <td>10000</td>\n",
              "      <td>1.0</td>\n",
              "      <td>0</td>\n",
              "      <td>0</td>\n",
              "      <td>3</td>\n",
              "      <td>...</td>\n",
              "      <td>770</td>\n",
              "      <td>0</td>\n",
              "      <td>1933</td>\n",
              "      <td>0</td>\n",
              "      <td>98028</td>\n",
              "      <td>47.7379</td>\n",
              "      <td>-122.233</td>\n",
              "      <td>2720</td>\n",
              "      <td>8062</td>\n",
              "      <td>180000.0</td>\n",
              "    </tr>\n",
              "    <tr>\n",
              "      <th>3</th>\n",
              "      <td>2487200875</td>\n",
              "      <td>20141209T000000</td>\n",
              "      <td>4</td>\n",
              "      <td>3.00</td>\n",
              "      <td>1960</td>\n",
              "      <td>5000</td>\n",
              "      <td>1.0</td>\n",
              "      <td>0</td>\n",
              "      <td>0</td>\n",
              "      <td>5</td>\n",
              "      <td>...</td>\n",
              "      <td>1050</td>\n",
              "      <td>910</td>\n",
              "      <td>1965</td>\n",
              "      <td>0</td>\n",
              "      <td>98136</td>\n",
              "      <td>47.5208</td>\n",
              "      <td>-122.393</td>\n",
              "      <td>1360</td>\n",
              "      <td>5000</td>\n",
              "      <td>604000.0</td>\n",
              "    </tr>\n",
              "    <tr>\n",
              "      <th>4</th>\n",
              "      <td>1954400510</td>\n",
              "      <td>20150218T000000</td>\n",
              "      <td>3</td>\n",
              "      <td>2.00</td>\n",
              "      <td>1680</td>\n",
              "      <td>8080</td>\n",
              "      <td>1.0</td>\n",
              "      <td>0</td>\n",
              "      <td>0</td>\n",
              "      <td>3</td>\n",
              "      <td>...</td>\n",
              "      <td>1680</td>\n",
              "      <td>0</td>\n",
              "      <td>1987</td>\n",
              "      <td>0</td>\n",
              "      <td>98074</td>\n",
              "      <td>47.6168</td>\n",
              "      <td>-122.045</td>\n",
              "      <td>1800</td>\n",
              "      <td>7503</td>\n",
              "      <td>510000.0</td>\n",
              "    </tr>\n",
              "  </tbody>\n",
              "</table>\n",
              "<p>5 rows × 21 columns</p>\n",
              "</div>"
            ],
            "text/plain": [
              "           id             date  bedrooms  bathrooms  sqft_living  sqft_lot  \\\n",
              "0  7129300520  20141013T000000         3       1.00         1180      5650   \n",
              "1  6414100192  20141209T000000         3       2.25         2570      7242   \n",
              "2  5631500400  20150225T000000         2       1.00          770     10000   \n",
              "3  2487200875  20141209T000000         4       3.00         1960      5000   \n",
              "4  1954400510  20150218T000000         3       2.00         1680      8080   \n",
              "\n",
              "   floors  waterfront  view  condition  ...  sqft_above  sqft_basement  \\\n",
              "0     1.0           0     0          3  ...        1180              0   \n",
              "1     2.0           0     0          3  ...        2170            400   \n",
              "2     1.0           0     0          3  ...         770              0   \n",
              "3     1.0           0     0          5  ...        1050            910   \n",
              "4     1.0           0     0          3  ...        1680              0   \n",
              "\n",
              "   yr_built  yr_renovated  zipcode      lat     long  sqft_living15  \\\n",
              "0      1955             0    98178  47.5112 -122.257           1340   \n",
              "1      1951          1991    98125  47.7210 -122.319           1690   \n",
              "2      1933             0    98028  47.7379 -122.233           2720   \n",
              "3      1965             0    98136  47.5208 -122.393           1360   \n",
              "4      1987             0    98074  47.6168 -122.045           1800   \n",
              "\n",
              "   sqft_lot15     price  \n",
              "0        5650  221900.0  \n",
              "1        7639  538000.0  \n",
              "2        8062  180000.0  \n",
              "3        5000  604000.0  \n",
              "4        7503  510000.0  \n",
              "\n",
              "[5 rows x 21 columns]"
            ]
          },
          "execution_count": 4,
          "metadata": {},
          "output_type": "execute_result"
        }
      ],
      "source": [
        "df = pd.read_csv('/Users/dB/Documents/repos/github/bint-capstone/notebooks/data/housingData.csv')\n",
        "df.head()"
      ]
    },
    {
      "cell_type": "code",
      "execution_count": 5,
      "metadata": {
        "id": "rSlcuUK6hXRL"
      },
      "outputs": [
        {
          "data": {
            "text/plain": [
              "['id',\n",
              " 'date',\n",
              " 'bedrooms',\n",
              " 'bathrooms',\n",
              " 'sqft_living',\n",
              " 'sqft_lot',\n",
              " 'floors',\n",
              " 'waterfront',\n",
              " 'view',\n",
              " 'condition',\n",
              " 'grade',\n",
              " 'sqft_above',\n",
              " 'sqft_basement',\n",
              " 'yr_built',\n",
              " 'yr_renovated',\n",
              " 'zipcode',\n",
              " 'lat',\n",
              " 'long',\n",
              " 'sqft_living15',\n",
              " 'sqft_lot15',\n",
              " 'price']"
            ]
          },
          "execution_count": 5,
          "metadata": {},
          "output_type": "execute_result"
        }
      ],
      "source": [
        "df.columns.tolist()"
      ]
    },
    {
      "cell_type": "markdown",
      "metadata": {
        "id": "uTa1FsGcrwGM"
      },
      "source": [
        "## $\\color{red}{\\text{Analytic Task}}$\n",
        "1. Using the housing data, build a **multiple linear regression model** to predict **price**\n",
        "2. Use feature selection techniques\n",
        "  - Forward regression\n",
        "  - Backward regression\n",
        "  - Stepwise regression\n",
        "3. Model diagnostics to select the best model"
      ]
    },
    {
      "cell_type": "markdown",
      "metadata": {
        "id": "8drSvyNxLtzo"
      },
      "source": [
        "## $\\color{red}{\\text{Data Preparation}}$\n",
        "1. Excluding some variables from the analysis\n",
        "2. Splitting data into train and testing"
      ]
    },
    {
      "cell_type": "code",
      "execution_count": 8,
      "metadata": {
        "id": "8HYRFXuZLprH"
      },
      "outputs": [
        {
          "data": {
            "text/html": [
              "<div>\n",
              "<style scoped>\n",
              "    .dataframe tbody tr th:only-of-type {\n",
              "        vertical-align: middle;\n",
              "    }\n",
              "\n",
              "    .dataframe tbody tr th {\n",
              "        vertical-align: top;\n",
              "    }\n",
              "\n",
              "    .dataframe thead th {\n",
              "        text-align: right;\n",
              "    }\n",
              "</style>\n",
              "<table border=\"1\" class=\"dataframe\">\n",
              "  <thead>\n",
              "    <tr style=\"text-align: right;\">\n",
              "      <th></th>\n",
              "      <th>bedrooms</th>\n",
              "      <th>bathrooms</th>\n",
              "      <th>sqft_living</th>\n",
              "      <th>sqft_lot</th>\n",
              "      <th>floors</th>\n",
              "      <th>waterfront</th>\n",
              "      <th>view</th>\n",
              "      <th>condition</th>\n",
              "      <th>grade</th>\n",
              "      <th>sqft_above</th>\n",
              "      <th>sqft_basement</th>\n",
              "      <th>yr_built</th>\n",
              "      <th>lat</th>\n",
              "      <th>long</th>\n",
              "      <th>sqft_living15</th>\n",
              "      <th>sqft_lot15</th>\n",
              "      <th>price</th>\n",
              "      <th>building_age</th>\n",
              "    </tr>\n",
              "  </thead>\n",
              "  <tbody>\n",
              "    <tr>\n",
              "      <th>0</th>\n",
              "      <td>3</td>\n",
              "      <td>1.00</td>\n",
              "      <td>1180</td>\n",
              "      <td>5650</td>\n",
              "      <td>1.0</td>\n",
              "      <td>0</td>\n",
              "      <td>0</td>\n",
              "      <td>3</td>\n",
              "      <td>7</td>\n",
              "      <td>1180</td>\n",
              "      <td>0</td>\n",
              "      <td>1955</td>\n",
              "      <td>47.5112</td>\n",
              "      <td>-122.257</td>\n",
              "      <td>1340</td>\n",
              "      <td>5650</td>\n",
              "      <td>221900.0</td>\n",
              "      <td>70</td>\n",
              "    </tr>\n",
              "    <tr>\n",
              "      <th>1</th>\n",
              "      <td>3</td>\n",
              "      <td>2.25</td>\n",
              "      <td>2570</td>\n",
              "      <td>7242</td>\n",
              "      <td>2.0</td>\n",
              "      <td>0</td>\n",
              "      <td>0</td>\n",
              "      <td>3</td>\n",
              "      <td>7</td>\n",
              "      <td>2170</td>\n",
              "      <td>400</td>\n",
              "      <td>1951</td>\n",
              "      <td>47.7210</td>\n",
              "      <td>-122.319</td>\n",
              "      <td>1690</td>\n",
              "      <td>7639</td>\n",
              "      <td>538000.0</td>\n",
              "      <td>74</td>\n",
              "    </tr>\n",
              "    <tr>\n",
              "      <th>2</th>\n",
              "      <td>2</td>\n",
              "      <td>1.00</td>\n",
              "      <td>770</td>\n",
              "      <td>10000</td>\n",
              "      <td>1.0</td>\n",
              "      <td>0</td>\n",
              "      <td>0</td>\n",
              "      <td>3</td>\n",
              "      <td>6</td>\n",
              "      <td>770</td>\n",
              "      <td>0</td>\n",
              "      <td>1933</td>\n",
              "      <td>47.7379</td>\n",
              "      <td>-122.233</td>\n",
              "      <td>2720</td>\n",
              "      <td>8062</td>\n",
              "      <td>180000.0</td>\n",
              "      <td>92</td>\n",
              "    </tr>\n",
              "    <tr>\n",
              "      <th>3</th>\n",
              "      <td>4</td>\n",
              "      <td>3.00</td>\n",
              "      <td>1960</td>\n",
              "      <td>5000</td>\n",
              "      <td>1.0</td>\n",
              "      <td>0</td>\n",
              "      <td>0</td>\n",
              "      <td>5</td>\n",
              "      <td>7</td>\n",
              "      <td>1050</td>\n",
              "      <td>910</td>\n",
              "      <td>1965</td>\n",
              "      <td>47.5208</td>\n",
              "      <td>-122.393</td>\n",
              "      <td>1360</td>\n",
              "      <td>5000</td>\n",
              "      <td>604000.0</td>\n",
              "      <td>60</td>\n",
              "    </tr>\n",
              "    <tr>\n",
              "      <th>4</th>\n",
              "      <td>3</td>\n",
              "      <td>2.00</td>\n",
              "      <td>1680</td>\n",
              "      <td>8080</td>\n",
              "      <td>1.0</td>\n",
              "      <td>0</td>\n",
              "      <td>0</td>\n",
              "      <td>3</td>\n",
              "      <td>8</td>\n",
              "      <td>1680</td>\n",
              "      <td>0</td>\n",
              "      <td>1987</td>\n",
              "      <td>47.6168</td>\n",
              "      <td>-122.045</td>\n",
              "      <td>1800</td>\n",
              "      <td>7503</td>\n",
              "      <td>510000.0</td>\n",
              "      <td>38</td>\n",
              "    </tr>\n",
              "  </tbody>\n",
              "</table>\n",
              "</div>"
            ],
            "text/plain": [
              "   bedrooms  bathrooms  sqft_living  sqft_lot  floors  waterfront  view  \\\n",
              "0         3       1.00         1180      5650     1.0           0     0   \n",
              "1         3       2.25         2570      7242     2.0           0     0   \n",
              "2         2       1.00          770     10000     1.0           0     0   \n",
              "3         4       3.00         1960      5000     1.0           0     0   \n",
              "4         3       2.00         1680      8080     1.0           0     0   \n",
              "\n",
              "   condition  grade  sqft_above  sqft_basement  yr_built      lat     long  \\\n",
              "0          3      7        1180              0      1955  47.5112 -122.257   \n",
              "1          3      7        2170            400      1951  47.7210 -122.319   \n",
              "2          3      6         770              0      1933  47.7379 -122.233   \n",
              "3          5      7        1050            910      1965  47.5208 -122.393   \n",
              "4          3      8        1680              0      1987  47.6168 -122.045   \n",
              "\n",
              "   sqft_living15  sqft_lot15     price  building_age  \n",
              "0           1340        5650  221900.0            70  \n",
              "1           1690        7639  538000.0            74  \n",
              "2           2720        8062  180000.0            92  \n",
              "3           1360        5000  604000.0            60  \n",
              "4           1800        7503  510000.0            38  "
            ]
          },
          "execution_count": 8,
          "metadata": {},
          "output_type": "execute_result"
        }
      ],
      "source": [
        "from sklearn.model_selection import train_test_split\n",
        "current_year = pd.Timestamp.now().year\n",
        "df['building_age'] = current_year - df['yr_built']\n",
        "\n",
        "to_drop = ['id','date','zipcode','yr_renovated']\n",
        "df2 = df.drop(to_drop, axis=1)\n",
        "df2.head()"
      ]
    },
    {
      "cell_type": "code",
      "execution_count": 9,
      "metadata": {},
      "outputs": [],
      "source": [
        "preds = df2.drop('price', axis=1)\n",
        "resp = df2['price']"
      ]
    },
    {
      "cell_type": "code",
      "execution_count": 10,
      "metadata": {},
      "outputs": [
        {
          "data": {
            "text/html": [
              "<div>\n",
              "<style scoped>\n",
              "    .dataframe tbody tr th:only-of-type {\n",
              "        vertical-align: middle;\n",
              "    }\n",
              "\n",
              "    .dataframe tbody tr th {\n",
              "        vertical-align: top;\n",
              "    }\n",
              "\n",
              "    .dataframe thead th {\n",
              "        text-align: right;\n",
              "    }\n",
              "</style>\n",
              "<table border=\"1\" class=\"dataframe\">\n",
              "  <thead>\n",
              "    <tr style=\"text-align: right;\">\n",
              "      <th></th>\n",
              "      <th>bedrooms</th>\n",
              "      <th>bathrooms</th>\n",
              "      <th>sqft_living</th>\n",
              "      <th>sqft_lot</th>\n",
              "      <th>floors</th>\n",
              "      <th>waterfront</th>\n",
              "      <th>view</th>\n",
              "      <th>condition</th>\n",
              "      <th>grade</th>\n",
              "      <th>sqft_above</th>\n",
              "      <th>sqft_basement</th>\n",
              "      <th>yr_built</th>\n",
              "      <th>lat</th>\n",
              "      <th>long</th>\n",
              "      <th>sqft_living15</th>\n",
              "      <th>sqft_lot15</th>\n",
              "      <th>building_age</th>\n",
              "    </tr>\n",
              "  </thead>\n",
              "  <tbody>\n",
              "    <tr>\n",
              "      <th>0</th>\n",
              "      <td>3</td>\n",
              "      <td>1.00</td>\n",
              "      <td>1180</td>\n",
              "      <td>5650</td>\n",
              "      <td>1.0</td>\n",
              "      <td>0</td>\n",
              "      <td>0</td>\n",
              "      <td>3</td>\n",
              "      <td>7</td>\n",
              "      <td>1180</td>\n",
              "      <td>0</td>\n",
              "      <td>1955</td>\n",
              "      <td>47.5112</td>\n",
              "      <td>-122.257</td>\n",
              "      <td>1340</td>\n",
              "      <td>5650</td>\n",
              "      <td>70</td>\n",
              "    </tr>\n",
              "    <tr>\n",
              "      <th>1</th>\n",
              "      <td>3</td>\n",
              "      <td>2.25</td>\n",
              "      <td>2570</td>\n",
              "      <td>7242</td>\n",
              "      <td>2.0</td>\n",
              "      <td>0</td>\n",
              "      <td>0</td>\n",
              "      <td>3</td>\n",
              "      <td>7</td>\n",
              "      <td>2170</td>\n",
              "      <td>400</td>\n",
              "      <td>1951</td>\n",
              "      <td>47.7210</td>\n",
              "      <td>-122.319</td>\n",
              "      <td>1690</td>\n",
              "      <td>7639</td>\n",
              "      <td>74</td>\n",
              "    </tr>\n",
              "    <tr>\n",
              "      <th>2</th>\n",
              "      <td>2</td>\n",
              "      <td>1.00</td>\n",
              "      <td>770</td>\n",
              "      <td>10000</td>\n",
              "      <td>1.0</td>\n",
              "      <td>0</td>\n",
              "      <td>0</td>\n",
              "      <td>3</td>\n",
              "      <td>6</td>\n",
              "      <td>770</td>\n",
              "      <td>0</td>\n",
              "      <td>1933</td>\n",
              "      <td>47.7379</td>\n",
              "      <td>-122.233</td>\n",
              "      <td>2720</td>\n",
              "      <td>8062</td>\n",
              "      <td>92</td>\n",
              "    </tr>\n",
              "    <tr>\n",
              "      <th>3</th>\n",
              "      <td>4</td>\n",
              "      <td>3.00</td>\n",
              "      <td>1960</td>\n",
              "      <td>5000</td>\n",
              "      <td>1.0</td>\n",
              "      <td>0</td>\n",
              "      <td>0</td>\n",
              "      <td>5</td>\n",
              "      <td>7</td>\n",
              "      <td>1050</td>\n",
              "      <td>910</td>\n",
              "      <td>1965</td>\n",
              "      <td>47.5208</td>\n",
              "      <td>-122.393</td>\n",
              "      <td>1360</td>\n",
              "      <td>5000</td>\n",
              "      <td>60</td>\n",
              "    </tr>\n",
              "    <tr>\n",
              "      <th>4</th>\n",
              "      <td>3</td>\n",
              "      <td>2.00</td>\n",
              "      <td>1680</td>\n",
              "      <td>8080</td>\n",
              "      <td>1.0</td>\n",
              "      <td>0</td>\n",
              "      <td>0</td>\n",
              "      <td>3</td>\n",
              "      <td>8</td>\n",
              "      <td>1680</td>\n",
              "      <td>0</td>\n",
              "      <td>1987</td>\n",
              "      <td>47.6168</td>\n",
              "      <td>-122.045</td>\n",
              "      <td>1800</td>\n",
              "      <td>7503</td>\n",
              "      <td>38</td>\n",
              "    </tr>\n",
              "  </tbody>\n",
              "</table>\n",
              "</div>"
            ],
            "text/plain": [
              "   bedrooms  bathrooms  sqft_living  sqft_lot  floors  waterfront  view  \\\n",
              "0         3       1.00         1180      5650     1.0           0     0   \n",
              "1         3       2.25         2570      7242     2.0           0     0   \n",
              "2         2       1.00          770     10000     1.0           0     0   \n",
              "3         4       3.00         1960      5000     1.0           0     0   \n",
              "4         3       2.00         1680      8080     1.0           0     0   \n",
              "\n",
              "   condition  grade  sqft_above  sqft_basement  yr_built      lat     long  \\\n",
              "0          3      7        1180              0      1955  47.5112 -122.257   \n",
              "1          3      7        2170            400      1951  47.7210 -122.319   \n",
              "2          3      6         770              0      1933  47.7379 -122.233   \n",
              "3          5      7        1050            910      1965  47.5208 -122.393   \n",
              "4          3      8        1680              0      1987  47.6168 -122.045   \n",
              "\n",
              "   sqft_living15  sqft_lot15  building_age  \n",
              "0           1340        5650            70  \n",
              "1           1690        7639            74  \n",
              "2           2720        8062            92  \n",
              "3           1360        5000            60  \n",
              "4           1800        7503            38  "
            ]
          },
          "execution_count": 10,
          "metadata": {},
          "output_type": "execute_result"
        }
      ],
      "source": [
        "preds.head()"
      ]
    },
    {
      "cell_type": "code",
      "execution_count": 11,
      "metadata": {},
      "outputs": [
        {
          "data": {
            "text/plain": [
              "0        221900.0\n",
              "1        538000.0\n",
              "2        180000.0\n",
              "3        604000.0\n",
              "4        510000.0\n",
              "           ...   \n",
              "21608    360000.0\n",
              "21609    400000.0\n",
              "21610    402101.0\n",
              "21611    400000.0\n",
              "21612    325000.0\n",
              "Name: price, Length: 21613, dtype: float64"
            ]
          },
          "execution_count": 11,
          "metadata": {},
          "output_type": "execute_result"
        }
      ],
      "source": [
        "resp"
      ]
    },
    {
      "cell_type": "code",
      "execution_count": 12,
      "metadata": {},
      "outputs": [],
      "source": [
        "train_X, test_X, train_y, test_y = train_test_split(preds, resp, test_size=.2, random_state=25)\n"
      ]
    },
    {
      "cell_type": "markdown",
      "metadata": {
        "id": "6t6i0EX-rwGP"
      },
      "source": [
        "## $\\color{red}{\\text{Model Building}}$"
      ]
    },
    {
      "cell_type": "markdown",
      "metadata": {
        "id": "N9NNIC0Xn-nO"
      },
      "source": [
        "### $\\color{blue}{\\text{Forward Elimination}}$\n",
        "- Starts with no predictors, only an intercept\n",
        "- **Step 1**: Compute p-values for each predictor in a univariate regression (one at a time).\n",
        "- **Step 2**: Add the predictor with the **lowest p-value**\n",
        "- **Step 3**: Recalculate the model and test remaining predictors again.\n",
        "- Repeat until no remaining predictor significantly improves the model\n",
        "- Useful for efficiently finding the most relevant predictors but can miss interactions since it never removes variables once added\n",
        "\n",
        "- Example of selection order:\n",
        "Start → Add X3 (lowest p-value) → Add X1 → Stop when no more p < 0.05"
      ]
    },
    {
      "cell_type": "code",
      "execution_count": null,
      "metadata": {
        "id": "aSIgvX2eKPJY"
      },
      "outputs": [
        {
          "data": {
            "text/plain": [
              "('bedrooms',\n",
              " 'bathrooms',\n",
              " 'sqft_living',\n",
              " 'sqft_lot',\n",
              " 'waterfront',\n",
              " 'view',\n",
              " 'condition',\n",
              " 'grade',\n",
              " 'sqft_above',\n",
              " 'sqft_basement',\n",
              " 'yr_built',\n",
              " 'lat',\n",
              " 'long',\n",
              " 'sqft_living15',\n",
              " 'sqft_lot15',\n",
              " 'building_age')"
            ]
          },
          "execution_count": 13,
          "metadata": {},
          "output_type": "execute_result"
        }
      ],
      "source": [
        "from mlxtend.feature_selection import SequentialFeatureSelector as SFS\n",
        "from sklearn.linear_model import LinearRegression\n",
        "\n",
        "# regrssion model\n",
        "model = LinearRegression()\n",
        "\n",
        "# SFS (turn this into a function later!)\n",
        "forward_reg = SFS(model, k_features='best',forward=True, floating=False,scoring='r2', cv=5) # to do forward elimination\n",
        "forward_reg.fit(train_X, train_y)\n",
        "\n",
        "forward_reg.k_feature_names_"
      ]
    },
    {
      "cell_type": "markdown",
      "metadata": {
        "id": "9NlLj2FJoIS4"
      },
      "source": [
        "### $\\color{blue}{\\text{Backward Elimination}}$\n",
        "\n",
        "- Start with all predictors included in the model\n",
        "- **Step 1**: Compute p-values for all predictors in the full model\n",
        "- **Step 2**: Remove the predictor with the highest p-value\n",
        "- **Step 3**: Refit model and recalculate p-values.\n",
        "- Repeat until all remaining predictors are significant (p < threshold).\n",
        "\n",
        "- Example Removal Order:\n",
        "\n",
        "Start with X1, X2, X3, X4 → Remove X2 (highest p) → Remove X4 → Stop when all p-values are significant."
      ]
    },
    {
      "cell_type": "code",
      "execution_count": null,
      "metadata": {
        "id": "tOPAyuedi9tG"
      },
      "outputs": [],
      "source": [
        "# do the same "
      ]
    },
    {
      "cell_type": "markdown",
      "metadata": {
        "id": "IZBsH4ZvrwGQ"
      },
      "source": [
        "### $\\color{blue}{\\text{Stepwise Regression}}$\n",
        "\n",
        "1. Starts with no predictors, **like forward selection**\n",
        "2. **Step 1**: Add the predictor with the lowest p-value\n",
        "3. **Step 2**: After adding a new predictor, check all included variables and remove any with high p-vaue\n",
        "4. **Step 3**: Continue adding/removing predictors until no further changes improve the model\n",
        "5. Balances simplicity and accuracy, allowing variables to be removed if they become insignificant after adding others.\n",
        "6. More flexible than forward or backward methods but prone to overfitting if too many variables are considered."
      ]
    },
    {
      "cell_type": "code",
      "execution_count": null,
      "metadata": {
        "id": "3XITAkucejyf"
      },
      "outputs": [],
      "source": [
        "def stepwise_reg():\n",
        "    pass\n",
        "\n",
        "# get forward and backward vars"
      ]
    },
    {
      "cell_type": "markdown",
      "metadata": {
        "id": "a3E4oXv4fR7z"
      },
      "source": [
        "\n",
        "## $\\color{red}{\\text{Model Diagnostics}}$"
      ]
    },
    {
      "cell_type": "code",
      "execution_count": null,
      "metadata": {
        "id": "Tb11v_BVikmC"
      },
      "outputs": [],
      "source": []
    },
    {
      "cell_type": "code",
      "execution_count": null,
      "metadata": {
        "id": "U6PqOkVUl7Jz"
      },
      "outputs": [],
      "source": []
    }
  ],
  "metadata": {
    "colab": {
      "provenance": [],
      "toc_visible": true
    },
    "kernelspec": {
      "display_name": ".venv",
      "language": "python",
      "name": "python3"
    },
    "language_info": {
      "codemirror_mode": {
        "name": "ipython",
        "version": 3
      },
      "file_extension": ".py",
      "mimetype": "text/x-python",
      "name": "python",
      "nbconvert_exporter": "python",
      "pygments_lexer": "ipython3",
      "version": "3.11.11"
    }
  },
  "nbformat": 4,
  "nbformat_minor": 0
}
