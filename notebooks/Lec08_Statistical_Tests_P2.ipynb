{
  "cells": [
    {
      "cell_type": "markdown",
      "metadata": {
        "id": "01q9Ek9qssXh"
      },
      "source": [
        "## $\\color{red}{\\text{Analysis of variance (ANOVA)}}$\n",
        "---\n",
        "- **Purpose**: To determine whether the means of three or more groups are equal. ANOVA requires one numeric and categorical variable\n",
        "- **Structure**: \n",
        "\n",
        "$$\n",
        "\\begin{equation}\n",
        "  \\begin{array}{l}\n",
        "    H_0: \\mu_{g1} = \\mu_{g2} = \\mu_{g3} = ⋯ \\mu_{g_k}\\\\\n",
        "    H_1: At \\:least \\:one \\:group \\:has \\:a \\:different \\:mean\n",
        "  \\end{array}\n",
        "\\end{equation}\n",
        "$$\n",
        "- **The alternative hypothesis does not say that ALL group means are different, only that AT LEAST ONE IS DIFFERENT**\n",
        "  - Example: it could be that there's no difference between $g1$ and $g2$ but there's a statistical difference between $g1$ and $g3$\n",
        "- **Assumptions**:\n",
        "  - The numeric variable is normally distributed in each group\n",
        "    - We can test this with a QQ-plot or a hypothesis tests\n",
        "  - The samples are independent\n",
        "  - The variance is equal across groups"
      ]
    },
    {
      "cell_type": "markdown",
      "metadata": {
        "id": "Ld8ALeLIg6A_"
      },
      "source": [
        "## $\\color{red}{\\text{Import Required Packages}}$"
      ]
    },
    {
      "cell_type": "code",
      "execution_count": 4,
      "metadata": {
        "id": "gOqsTqwhg8im"
      },
      "outputs": [],
      "source": [
        "import numpy as np\n",
        "import pandas as pd\n",
        "\n",
        "import matplotlib.pyplot as plt\n",
        "%matplotlib inline"
      ]
    },
    {
      "cell_type": "markdown",
      "metadata": {
        "id": "uVHiPH2Bg_fK"
      },
      "source": [
        "## $\\color{red}{\\text{Import Data}}$"
      ]
    },
    {
      "cell_type": "code",
      "execution_count": 3,
      "metadata": {
        "id": "2a8uBCBYhDlH"
      },
      "outputs": [
        {
          "ename": "NameError",
          "evalue": "name 'pd' is not defined",
          "output_type": "error",
          "traceback": [
            "\u001b[0;31m---------------------------------------------------------------------------\u001b[0m",
            "\u001b[0;31mNameError\u001b[0m                                 Traceback (most recent call last)",
            "Cell \u001b[0;32mIn[3], line 1\u001b[0m\n\u001b[0;32m----> 1\u001b[0m df \u001b[38;5;241m=\u001b[39m \u001b[43mpd\u001b[49m\u001b[38;5;241m.\u001b[39mread_excel(\u001b[38;5;124m'\u001b[39m\u001b[38;5;124mhr_data\u001b[39m\u001b[38;5;124m'\u001b[39m, sheet_name\u001b[38;5;241m=\u001b[39m\u001b[38;5;124m'\u001b[39m\u001b[38;5;124morigData\u001b[39m\u001b[38;5;124m'\u001b[39m)\n",
            "\u001b[0;31mNameError\u001b[0m: name 'pd' is not defined"
          ]
        }
      ],
      "source": [
        "df = pd.read_excel('hr_data', sheet_name='origData')"
      ]
    },
    {
      "cell_type": "code",
      "execution_count": null,
      "metadata": {
        "id": "9Yi0Wg3chDvm"
      },
      "outputs": [],
      "source": []
    },
    {
      "cell_type": "markdown",
      "metadata": {
        "id": "Y9qMnp7McUxF"
      },
      "source": [
        "#### $\\color{green}{\\text{Example 1}}$\n",
        "- Perform ANOVA on `MaritalStatus` and `HourlyRate`.\n",
        "  - Provide a grouped box-plot\n",
        "  - Check the ANOVA assumptions\n",
        "  - Interpret the ANOVA results"
      ]
    },
    {
      "cell_type": "code",
      "execution_count": null,
      "metadata": {
        "id": "hHojn866lLex"
      },
      "outputs": [],
      "source": [
        "import seaborn as sns\n",
        "\n",
        "sns.boxplot(x=df['Gender'], y=df['HourlyRate'], hue=df['Gender'])\n",
        "plt.show()"
      ]
    },
    {
      "cell_type": "markdown",
      "metadata": {
        "id": "3UxH58dzBiET"
      },
      "source": [
        "### $\\color{blue}{\\text{QQ-Plot for normality assumptions}}$\n",
        "---"
      ]
    },
    {
      "cell_type": "code",
      "execution_count": null,
      "metadata": {
        "id": "33lLMKp8mvNq"
      },
      "outputs": [],
      "source": [
        "import statsmodels.api as sm\n",
        "\n",
        "male_df = df[df.Gender == 'Male']['HourlyRate']\n",
        "female_df = df[df.Gender == 'Female']['HourlyRate']\n",
        "male_df.head()\n",
        "\n",
        "# Check ANOVA Assumptions\n",
        "sm.qqplot(male_df, line='45')\n",
        "sm.qqplot(female_df, line='45')\n",
        "plt.show()"
      ]
    },
    {
      "cell_type": "markdown",
      "metadata": {
        "id": "4KKuGCOGCzQQ"
      },
      "source": [
        "### $\\color{blue}{\\text{Hypothesis tests for normality assumptions}}$\n",
        "---\n",
        "- Shapiro-Wilkes test\n",
        "  \\begin{equation}\n",
        "    \\begin{array}{l}\n",
        "      H_0: The \\:data \\:follows \\:a \\:normal \\:distribution \\\\\n",
        "      H_1: The \\:data \\:does \\:NOT \\:follows \\:a \\:normal \\:distribution\n",
        "    \\end{array}\n",
        "  \\end{equation}"
      ]
    },
    {
      "cell_type": "code",
      "execution_count": 5,
      "metadata": {
        "id": "zlQgDB1eoKn5"
      },
      "outputs": [
        {
          "ename": "NameError",
          "evalue": "name 'male_df' is not defined",
          "output_type": "error",
          "traceback": [
            "\u001b[0;31m---------------------------------------------------------------------------\u001b[0m",
            "\u001b[0;31mNameError\u001b[0m                                 Traceback (most recent call last)",
            "Cell \u001b[0;32mIn[5], line 3\u001b[0m\n\u001b[1;32m      1\u001b[0m \u001b[38;5;28;01mfrom\u001b[39;00m\u001b[38;5;250m \u001b[39m\u001b[38;5;21;01mscipy\u001b[39;00m\u001b[38;5;21;01m.\u001b[39;00m\u001b[38;5;21;01mstats\u001b[39;00m\u001b[38;5;250m \u001b[39m\u001b[38;5;28;01mimport\u001b[39;00m shapiro\n\u001b[0;32m----> 3\u001b[0m _, male_pv \u001b[38;5;241m=\u001b[39m shapiro(\u001b[43mmale_df\u001b[49m) \u001b[38;5;66;03m# _, pv only assigns the P-value to male_pv, _ denotes to not assign the statistic to anything\u001b[39;00m\n",
            "\u001b[0;31mNameError\u001b[0m: name 'male_df' is not defined"
          ]
        }
      ],
      "source": [
        "from scipy.stats import shapiro\n",
        "\n",
        "_, male_pv = shapiro(male_df) # _, pv only assigns the P-value to male_pv, _ denotes to not assign the statistic to anything"
      ]
    },
    {
      "cell_type": "markdown",
      "metadata": {
        "id": "j1-w33p4ff9u"
      },
      "source": [
        "### $\\color{blue}{\\text{ANOVA}}$\n",
        "---\n",
        "- **Structure**: \n",
        "\n",
        "$$\\begin{equation}\n",
        "  \\begin{array}{l}\n",
        "    H_0: \\mu_{g1} = \\mu_{g2} = \\mu_{g3} = ⋯ \\mu_{g_k}\\\\\n",
        "    H_1: At \\:least \\:one \\:group \\:has \\:a \\:different \\:mean\n",
        "  \\end{array}\n",
        "\\end{equation}\n",
        "$$"
      ]
    },
    {
      "cell_type": "code",
      "execution_count": 6,
      "metadata": {
        "id": "KjUL88yALOps"
      },
      "outputs": [
        {
          "ename": "NameError",
          "evalue": "name 'male_hrate' is not defined",
          "output_type": "error",
          "traceback": [
            "\u001b[0;31m---------------------------------------------------------------------------\u001b[0m",
            "\u001b[0;31mNameError\u001b[0m                                 Traceback (most recent call last)",
            "Cell \u001b[0;32mIn[6], line 5\u001b[0m\n\u001b[1;32m      1\u001b[0m \u001b[38;5;28;01mfrom\u001b[39;00m\u001b[38;5;250m \u001b[39m\u001b[38;5;21;01mscipy\u001b[39;00m\u001b[38;5;21;01m.\u001b[39;00m\u001b[38;5;21;01mstats\u001b[39;00m\u001b[38;5;250m \u001b[39m\u001b[38;5;28;01mimport\u001b[39;00m f_oneway\n\u001b[1;32m      3\u001b[0m \u001b[38;5;66;03m# Conducting ANOVA\u001b[39;00m\n\u001b[0;32m----> 5\u001b[0m _, anova_pv \u001b[38;5;241m=\u001b[39m f_oneway(\u001b[43mmale_hrate\u001b[49m, female_hrate)\n\u001b[1;32m      6\u001b[0m anova_pv\n",
            "\u001b[0;31mNameError\u001b[0m: name 'male_hrate' is not defined"
          ]
        }
      ],
      "source": [
        "from scipy.stats import f_oneway\n",
        "\n",
        "# Conducting ANOVA\n",
        "\n",
        "_, anova_pv = f_oneway(male_hrate, female_hrate)\n",
        "anova_pv"
      ]
    },
    {
      "cell_type": "markdown",
      "metadata": {
        "id": "ukZQNnbaN3AJ"
      },
      "source": [
        "## $\\color{red}{\\text{ANOVA post hoc tests}}$\n",
        "---\n",
        "- Post hoc tests are used to decide *which* group is signifgicant\n",
        "- It is used after a statistical test involving three or more groups\n"
      ]
    },
    {
      "cell_type": "markdown",
      "metadata": {
        "id": "JsfJmSv3BDGa"
      },
      "source": [
        "### $\\color{blue}{\\text{Tukey's HSD test}}$\n",
        "---\n",
        "- Compares all groups to each other to decide which group is significant\n",
        "- It is done often as a follow-up to ANOVA\n",
        "- **Structure**: \n",
        "\n",
        "$$\\begin{equation}\n",
        "  \\begin{array}{l}\n",
        "    H_0: \\mu_{g1} = \\mu_{g2} \\\\\n",
        "    H_1: \\mu_{g1} \\neq \\mu_{g2}\n",
        "  \\end{array}\n",
        "\\end{equation}\n",
        "$$"
      ]
    },
    {
      "cell_type": "code",
      "execution_count": null,
      "metadata": {
        "id": "09-a6cKire2W"
      },
      "outputs": [],
      "source": []
    },
    {
      "cell_type": "markdown",
      "metadata": {
        "id": "Z0AST8sGkjGT"
      },
      "source": [
        "## $\\color{red}{\\text{Some common non-parametric tests}}$"
      ]
    },
    {
      "cell_type": "markdown",
      "metadata": {
        "id": "Wma5P2VGkqQJ"
      },
      "source": [
        "### $\\color{blue}{\\text{Kruskal-Wallis test}}$\n",
        "---\n",
        "- A non-parametric version of ANOVA\n",
        "  - We do not assume normality\n",
        "- **Structure**: \\begin{equation}\n",
        "  \\begin{array}{l}\n",
        "    H_0: \\mu_{g1} = \\mu_{g2} = \\mu_{g3} = ⋯ \\mu_{g_k}\\\\\n",
        "    H_1: At \\:least \\:one \\:group \\:has \\:a \\:different \\:mean\n",
        "  \\end{array}\n",
        "\\end{equation}"
      ]
    },
    {
      "cell_type": "markdown",
      "metadata": {
        "id": "c6ycjCmlXIis"
      },
      "source": [
        "### $\\color{blue}{\\text{Dunn's test}}$\n",
        "---\n",
        "- **Structure**: \\begin{equation}\n",
        "  \\begin{array}{l}\n",
        "    H_0: \\mu_{g1} = \\mu_{g2} \\\\\n",
        "    H_1: \\mu_{g1} \\neq \\mu_{g2}\n",
        "  \\end{array}\n",
        "\\end{equation}"
      ]
    },
    {
      "cell_type": "code",
      "execution_count": null,
      "metadata": {
        "id": "gKMj_2aLWL0T"
      },
      "outputs": [],
      "source": [
        "from scipy import stats\n",
        "\n",
        "# KW Test\n",
        "\n",
        "_, pv = stats.kruskal(male_hrate, female_hrate)"
      ]
    },
    {
      "cell_type": "code",
      "execution_count": 7,
      "metadata": {
        "id": "vMDedepsstc2"
      },
      "outputs": [
        {
          "ename": "NameError",
          "evalue": "name 'male_hrate' is not defined",
          "output_type": "error",
          "traceback": [
            "\u001b[0;31m---------------------------------------------------------------------------\u001b[0m",
            "\u001b[0;31mNameError\u001b[0m                                 Traceback (most recent call last)",
            "Cell \u001b[0;32mIn[7], line 4\u001b[0m\n\u001b[1;32m      1\u001b[0m \u001b[38;5;66;03m# Dunns test is Posthoc to KW Test\u001b[39;00m\n\u001b[1;32m      2\u001b[0m \u001b[38;5;28;01mimport\u001b[39;00m\u001b[38;5;250m \u001b[39m\u001b[38;5;21;01mscikit_posthocs\u001b[39;00m\u001b[38;5;250m \u001b[39m\u001b[38;5;28;01mas\u001b[39;00m\u001b[38;5;250m \u001b[39m\u001b[38;5;21;01msp\u001b[39;00m\n\u001b[0;32m----> 4\u001b[0m x \u001b[38;5;241m=\u001b[39m \u001b[43mmale_hrate\u001b[49m\u001b[38;5;241m.\u001b[39mtolist()\n\u001b[1;32m      5\u001b[0m y \u001b[38;5;241m=\u001b[39m female_hrate\u001b[38;5;241m.\u001b[39mtolist()\n\u001b[1;32m      7\u001b[0m l \u001b[38;5;241m=\u001b[39m [x,y] \u001b[38;5;66;03m# combine the groups\u001b[39;00m\n",
            "\u001b[0;31mNameError\u001b[0m: name 'male_hrate' is not defined"
          ]
        }
      ],
      "source": [
        "# Dunns test is Posthoc to KW Test\n",
        "import scikit_posthocs as sp\n",
        "\n",
        "x = male_hrate.tolist()\n",
        "y = female_hrate.tolist()\n",
        "\n",
        "l = [x,y] # combine the groups\n",
        "\n",
        "sp.posthoc_dunn(l, p_adjust='holm')"
      ]
    },
    {
      "cell_type": "markdown",
      "metadata": {},
      "source": [
        "This returns a crosstab of p-values, use these for your post-hoc tests to see which group means differ."
      ]
    },
    {
      "cell_type": "code",
      "execution_count": null,
      "metadata": {
        "id": "7pg-COPgIuDO"
      },
      "outputs": [],
      "source": []
    }
  ],
  "metadata": {
    "colab": {
      "provenance": [],
      "toc_visible": true
    },
    "kernelspec": {
      "display_name": ".venv",
      "language": "python",
      "name": "python3"
    },
    "language_info": {
      "codemirror_mode": {
        "name": "ipython",
        "version": 3
      },
      "file_extension": ".py",
      "mimetype": "text/x-python",
      "name": "python",
      "nbconvert_exporter": "python",
      "pygments_lexer": "ipython3",
      "version": "3.11.11"
    }
  },
  "nbformat": 4,
  "nbformat_minor": 0
}
