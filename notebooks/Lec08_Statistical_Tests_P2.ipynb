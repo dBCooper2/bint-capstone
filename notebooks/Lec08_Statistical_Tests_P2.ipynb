{
  "nbformat": 4,
  "nbformat_minor": 0,
  "metadata": {
    "colab": {
      "provenance": [],
      "toc_visible": true
    },
    "kernelspec": {
      "name": "python3",
      "display_name": "Python 3"
    },
    "language_info": {
      "name": "python"
    }
  },
  "cells": [
    {
      "cell_type": "markdown",
      "source": [
        "## $\\color{red}{\\text{Analysis of variance (ANOVA)}}$\n",
        "---\n",
        "- **Purpose**: To determine whether the means of three or more groups are equal. ANOVA requires one numeric and categorical variable\n",
        "- **Structure**: \\begin{equation}\n",
        "  \\begin{array}{l}\n",
        "    H_0: \\mu_{g1} = \\mu_{g2} = \\mu_{g3} = ⋯ \\mu_{g_k}\\\\\n",
        "    H_1: At \\:least \\:one \\:group \\:has \\:a \\:different \\:mean\n",
        "  \\end{array}\n",
        "\\end{equation}\n",
        "- The alternative hypothesis does not say that ALL group means are different\n",
        "  - Example: it could be that there's no difference between $g1$ and $g2$ but there's a statistical difference between $g1$ and $g3$\n",
        "- **Assumptions**:\n",
        "  - The numeric variable is normally distributed in each group\n",
        "    - We can test this with a QQ-plot or a hypothesis tests\n",
        "  - The samples are independent\n",
        "  - The variance is equal across groups"
      ],
      "metadata": {
        "id": "01q9Ek9qssXh"
      }
    },
    {
      "cell_type": "markdown",
      "source": [
        "## $\\color{red}{\\text{Import Required Packages}}$"
      ],
      "metadata": {
        "id": "Ld8ALeLIg6A_"
      }
    },
    {
      "cell_type": "code",
      "source": [],
      "metadata": {
        "id": "gOqsTqwhg8im"
      },
      "execution_count": null,
      "outputs": []
    },
    {
      "cell_type": "markdown",
      "source": [
        "## $\\color{red}{\\text{Import Data}}$"
      ],
      "metadata": {
        "id": "uVHiPH2Bg_fK"
      }
    },
    {
      "cell_type": "code",
      "source": [],
      "metadata": {
        "id": "2a8uBCBYhDlH"
      },
      "execution_count": null,
      "outputs": []
    },
    {
      "cell_type": "code",
      "source": [],
      "metadata": {
        "id": "9Yi0Wg3chDvm"
      },
      "execution_count": null,
      "outputs": []
    },
    {
      "cell_type": "markdown",
      "source": [
        "#### $\\color{green}{\\text{Example 1}}$\n",
        "- Perform ANOVA on `MaritalStatus` and `HourlyRate`.\n",
        "  - Provide a grouped box-plot\n",
        "  - Check the ANOVA assumptions\n",
        "  - Interpret the ANOVA results"
      ],
      "metadata": {
        "id": "Y9qMnp7McUxF"
      }
    },
    {
      "cell_type": "code",
      "source": [],
      "metadata": {
        "id": "hHojn866lLex"
      },
      "execution_count": null,
      "outputs": []
    },
    {
      "cell_type": "markdown",
      "source": [
        "###$\\color{blue}{\\text{QQ-Plot for normality assumptions}}$\n",
        "---"
      ],
      "metadata": {
        "id": "3UxH58dzBiET"
      }
    },
    {
      "cell_type": "code",
      "source": [],
      "metadata": {
        "id": "33lLMKp8mvNq"
      },
      "execution_count": null,
      "outputs": []
    },
    {
      "cell_type": "markdown",
      "source": [
        "###$\\color{blue}{\\text{Hypothesis tests for normality assumptions}}$\n",
        "---\n",
        "- Shapiro-Wikes test\n",
        "  \\begin{equation}\n",
        "    \\begin{array}{l}\n",
        "      H_0: The \\:data \\:follows \\:a \\:normal \\:distribution \\\\\n",
        "      H_1: The \\:data \\:does \\:NOT \\:follows \\:a \\:normal \\:distribution\n",
        "    \\end{array}\n",
        "  \\end{equation}"
      ],
      "metadata": {
        "id": "4KKuGCOGCzQQ"
      }
    },
    {
      "cell_type": "code",
      "source": [],
      "metadata": {
        "id": "zlQgDB1eoKn5"
      },
      "execution_count": null,
      "outputs": []
    },
    {
      "cell_type": "markdown",
      "source": [
        "###$\\color{blue}{\\text{ANOVA}}$\n",
        "---\n",
        "- **Structure**: \\begin{equation}\n",
        "  \\begin{array}{l}\n",
        "    H_0: \\mu_{g1} = \\mu_{g2} = \\mu_{g3} = ⋯ \\mu_{g_k}\\\\\n",
        "    H_1: At \\:least \\:one \\:group \\:has \\:a \\:different \\:mean\n",
        "  \\end{array}\n",
        "\\end{equation}"
      ],
      "metadata": {
        "id": "j1-w33p4ff9u"
      }
    },
    {
      "cell_type": "code",
      "source": [],
      "metadata": {
        "id": "KjUL88yALOps"
      },
      "execution_count": null,
      "outputs": []
    },
    {
      "cell_type": "markdown",
      "source": [
        "## $\\color{red}{\\text{ANOVA post hoc tests}}$\n",
        "---\n",
        "- Post hoc tests are used to decide *which* group is signifgicant\n",
        "- It is used after a statistical test involving three or more groups\n"
      ],
      "metadata": {
        "id": "ukZQNnbaN3AJ"
      }
    },
    {
      "cell_type": "markdown",
      "source": [
        "###$\\color{blue}{\\text{Tukey's HSD test}}$\n",
        "---\n",
        "- Compares all groups to each other to decide which group is significant\n",
        "- It is done often as a follow-up to ANOVA\n",
        "- **Structure**: \\begin{equation}\n",
        "  \\begin{array}{l}\n",
        "    H_0: \\mu_{g1} = \\mu_{g2} \\\\\n",
        "    H_1: \\mu_{g1} \\neq \\mu_{g2}\n",
        "  \\end{array}\n",
        "\\end{equation}"
      ],
      "metadata": {
        "id": "JsfJmSv3BDGa"
      }
    },
    {
      "cell_type": "code",
      "source": [],
      "metadata": {
        "id": "09-a6cKire2W"
      },
      "execution_count": null,
      "outputs": []
    },
    {
      "cell_type": "markdown",
      "source": [
        "## $\\color{red}{\\text{Some common non-parametric tests}}$"
      ],
      "metadata": {
        "id": "Z0AST8sGkjGT"
      }
    },
    {
      "cell_type": "markdown",
      "source": [
        "###$\\color{blue}{\\text{Kruskal-Wallis test}}$\n",
        "---\n",
        "- A non-parametric version of ANOVA\n",
        "  - We do not assume normality\n",
        "- **Structure**: \\begin{equation}\n",
        "  \\begin{array}{l}\n",
        "    H_0: \\mu_{g1} = \\mu_{g2} = \\mu_{g3} = ⋯ \\mu_{g_k}\\\\\n",
        "    H_1: At \\:least \\:one \\:group \\:has \\:a \\:different \\:mean\n",
        "  \\end{array}\n",
        "\\end{equation}"
      ],
      "metadata": {
        "id": "Wma5P2VGkqQJ"
      }
    },
    {
      "cell_type": "markdown",
      "source": [
        "###$\\color{blue}{\\text{Dunn's test}}$\n",
        "---\n",
        "- **Structure**: \\begin{equation}\n",
        "  \\begin{array}{l}\n",
        "    H_0: \\mu_{g1} = \\mu_{g2} \\\\\n",
        "    H_1: \\mu_{g1} \\neq \\mu_{g2}\n",
        "  \\end{array}\n",
        "\\end{equation}"
      ],
      "metadata": {
        "id": "c6ycjCmlXIis"
      }
    },
    {
      "cell_type": "code",
      "source": [],
      "metadata": {
        "id": "gKMj_2aLWL0T"
      },
      "execution_count": null,
      "outputs": []
    },
    {
      "cell_type": "code",
      "source": [],
      "metadata": {
        "id": "vMDedepsstc2"
      },
      "execution_count": null,
      "outputs": []
    },
    {
      "cell_type": "code",
      "source": [],
      "metadata": {
        "id": "7pg-COPgIuDO"
      },
      "execution_count": null,
      "outputs": []
    }
  ]
}