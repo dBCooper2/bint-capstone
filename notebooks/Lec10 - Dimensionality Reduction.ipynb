{
 "cells": [
  {
   "cell_type": "markdown",
   "metadata": {
    "id": "YroIKpG9r-sF"
   },
   "source": [
    "## $\\color{red}{\\text{Lecture Overview}}$\n",
    "1. **Dimensionality reduction**\n",
    "2. **Principal components analysis**"
   ]
  },
  {
   "cell_type": "markdown",
   "metadata": {
    "id": "N9A6rHCerwGG"
   },
   "source": [
    "## $\\color{red}{\\text{Dimensionality reduction}}$\n",
    "\n",
    "1. The **curse of dimensionality** arises when data analysis and modeling may be adversely affected by the explosion of data\n",
    "2. The curse of dimensionality has the following negative effects\n",
    "  - Datasets may have hundreds or thousands of variables\n",
    "  - It may be computationally expensive to analyze the data\n",
    "  - Some variables may capture noise\n",
    "  - Some independent variables may be irrelevant to the dependent variable\n",
    "3. **Dimensionality reduction** refers to the process of curbing the effects of the curse of dimensionality\n",
    "  - We use statistical and heuristic methods to obtain a subset of variables that may explain the phenomena\n",
    "  - We can also use dimensionality reduction techniques to visualize the data"
   ]
  },
  {
   "cell_type": "markdown",
   "metadata": {
    "id": "AS258Rng6A26"
   },
   "source": [
    "## $\\color{red}{\\text{Principal components analysis (PCA)}}$\n",
    "\n",
    "1. PCA reduces a set high-dimensional variables to a lower-dimensional set of variables called **principal components**\n",
    "2. **Principal components** are linear combination of the original variables and are uncorrelated with each other\n",
    "3. Initial principal components capture most variation in the data\n",
    "4. The **loadings** of each variable in the principal component may give an indication of its importance\n",
    "5. PCA is also used to visualize high-dimensional datasets\n",
    "\n",
    "The PCA creates an equation of components multiplied by weights:\n",
    "\n",
    "$$PCA = W_1 * x_1 + W_2 * x_2 + \\cdots + W_n * x_n$$"
   ]
  },
  {
   "cell_type": "markdown",
   "metadata": {
    "id": "kZN8qhFdA7xk"
   },
   "source": [
    "### $\\color{blue}{\\text{Advantages of PCA}}$\n",
    "\n",
    "- Principal components are uncorrelated\n",
    "- PCA has many applications, making it very versatile"
   ]
  },
  {
   "cell_type": "markdown",
   "metadata": {
    "id": "pnCkF0hIBM3S"
   },
   "source": [
    "### $\\color{blue}{\\text{Disadvantages of PCA}}$\n",
    "\n",
    "1. Does not seek to understand variable scales or distribution\n",
    "2. It is affected by variable scales or units\n",
    "  - Variables should be transformed\n",
    "  - Variables should be standardized or normalized before PCA"
   ]
  },
  {
   "cell_type": "markdown",
   "metadata": {
    "id": "ilCp__WmrwGJ"
   },
   "source": [
    "## $\\color{red}{\\text{Import Required Packages}}$"
   ]
  },
  {
   "cell_type": "code",
   "execution_count": 1,
   "metadata": {
    "executionInfo": {
     "elapsed": 2072,
     "status": "ok",
     "timestamp": 1741173669558,
     "user": {
      "displayName": "eddie",
      "userId": "06842710327189752667"
     },
     "user_tz": 360
    },
    "id": "oBfANGYYrwGK"
   },
   "outputs": [],
   "source": [
    "import numpy as np\n",
    "import pandas as pd\n",
    "\n",
    "import matplotlib.pyplot as plt\n",
    "import seaborn as sns\n",
    "%matplotlib inline"
   ]
  },
  {
   "cell_type": "markdown",
   "metadata": {
    "id": "g_YuOITRrwGL"
   },
   "source": [
    "## $\\color{red}{\\text{Import Data}}$"
   ]
  },
  {
   "cell_type": "code",
   "execution_count": 2,
   "metadata": {
    "colab": {
     "base_uri": "https://localhost:8080/"
    },
    "executionInfo": {
     "elapsed": 20438,
     "status": "ok",
     "timestamp": 1741173689997,
     "user": {
      "displayName": "eddie",
      "userId": "06842710327189752667"
     },
     "user_tz": 360
    },
    "id": "jTABhjeJhSwY",
    "outputId": "008db265-56ba-4786-96b7-5c1077448aa7"
   },
   "outputs": [],
   "source": [
    "df = pd.read_csv('/Users/dB/Documents/repos/github/bint-capstone/notebooks/data/housingData.csv')"
   ]
  },
  {
   "cell_type": "code",
   "execution_count": 3,
   "metadata": {
    "colab": {
     "base_uri": "https://localhost:8080/"
    },
    "executionInfo": {
     "elapsed": 11815,
     "status": "ok",
     "timestamp": 1741173701826,
     "user": {
      "displayName": "eddie",
      "userId": "06842710327189752667"
     },
     "user_tz": 360
    },
    "id": "rSlcuUK6hXRL",
    "outputId": "9eb51b4f-2e5a-47ff-bc5f-9a56f8f9c6ff"
   },
   "outputs": [
    {
     "data": {
      "text/html": [
       "<div>\n",
       "<style scoped>\n",
       "    .dataframe tbody tr th:only-of-type {\n",
       "        vertical-align: middle;\n",
       "    }\n",
       "\n",
       "    .dataframe tbody tr th {\n",
       "        vertical-align: top;\n",
       "    }\n",
       "\n",
       "    .dataframe thead th {\n",
       "        text-align: right;\n",
       "    }\n",
       "</style>\n",
       "<table border=\"1\" class=\"dataframe\">\n",
       "  <thead>\n",
       "    <tr style=\"text-align: right;\">\n",
       "      <th></th>\n",
       "      <th>id</th>\n",
       "      <th>date</th>\n",
       "      <th>bedrooms</th>\n",
       "      <th>bathrooms</th>\n",
       "      <th>sqft_living</th>\n",
       "      <th>sqft_lot</th>\n",
       "      <th>floors</th>\n",
       "      <th>waterfront</th>\n",
       "      <th>view</th>\n",
       "      <th>condition</th>\n",
       "      <th>...</th>\n",
       "      <th>sqft_above</th>\n",
       "      <th>sqft_basement</th>\n",
       "      <th>yr_built</th>\n",
       "      <th>yr_renovated</th>\n",
       "      <th>zipcode</th>\n",
       "      <th>lat</th>\n",
       "      <th>long</th>\n",
       "      <th>sqft_living15</th>\n",
       "      <th>sqft_lot15</th>\n",
       "      <th>price</th>\n",
       "    </tr>\n",
       "  </thead>\n",
       "  <tbody>\n",
       "    <tr>\n",
       "      <th>0</th>\n",
       "      <td>7129300520</td>\n",
       "      <td>20141013T000000</td>\n",
       "      <td>3</td>\n",
       "      <td>1.00</td>\n",
       "      <td>1180</td>\n",
       "      <td>5650</td>\n",
       "      <td>1.0</td>\n",
       "      <td>0</td>\n",
       "      <td>0</td>\n",
       "      <td>3</td>\n",
       "      <td>...</td>\n",
       "      <td>1180</td>\n",
       "      <td>0</td>\n",
       "      <td>1955</td>\n",
       "      <td>0</td>\n",
       "      <td>98178</td>\n",
       "      <td>47.5112</td>\n",
       "      <td>-122.257</td>\n",
       "      <td>1340</td>\n",
       "      <td>5650</td>\n",
       "      <td>221900.0</td>\n",
       "    </tr>\n",
       "    <tr>\n",
       "      <th>1</th>\n",
       "      <td>6414100192</td>\n",
       "      <td>20141209T000000</td>\n",
       "      <td>3</td>\n",
       "      <td>2.25</td>\n",
       "      <td>2570</td>\n",
       "      <td>7242</td>\n",
       "      <td>2.0</td>\n",
       "      <td>0</td>\n",
       "      <td>0</td>\n",
       "      <td>3</td>\n",
       "      <td>...</td>\n",
       "      <td>2170</td>\n",
       "      <td>400</td>\n",
       "      <td>1951</td>\n",
       "      <td>1991</td>\n",
       "      <td>98125</td>\n",
       "      <td>47.7210</td>\n",
       "      <td>-122.319</td>\n",
       "      <td>1690</td>\n",
       "      <td>7639</td>\n",
       "      <td>538000.0</td>\n",
       "    </tr>\n",
       "    <tr>\n",
       "      <th>2</th>\n",
       "      <td>5631500400</td>\n",
       "      <td>20150225T000000</td>\n",
       "      <td>2</td>\n",
       "      <td>1.00</td>\n",
       "      <td>770</td>\n",
       "      <td>10000</td>\n",
       "      <td>1.0</td>\n",
       "      <td>0</td>\n",
       "      <td>0</td>\n",
       "      <td>3</td>\n",
       "      <td>...</td>\n",
       "      <td>770</td>\n",
       "      <td>0</td>\n",
       "      <td>1933</td>\n",
       "      <td>0</td>\n",
       "      <td>98028</td>\n",
       "      <td>47.7379</td>\n",
       "      <td>-122.233</td>\n",
       "      <td>2720</td>\n",
       "      <td>8062</td>\n",
       "      <td>180000.0</td>\n",
       "    </tr>\n",
       "    <tr>\n",
       "      <th>3</th>\n",
       "      <td>2487200875</td>\n",
       "      <td>20141209T000000</td>\n",
       "      <td>4</td>\n",
       "      <td>3.00</td>\n",
       "      <td>1960</td>\n",
       "      <td>5000</td>\n",
       "      <td>1.0</td>\n",
       "      <td>0</td>\n",
       "      <td>0</td>\n",
       "      <td>5</td>\n",
       "      <td>...</td>\n",
       "      <td>1050</td>\n",
       "      <td>910</td>\n",
       "      <td>1965</td>\n",
       "      <td>0</td>\n",
       "      <td>98136</td>\n",
       "      <td>47.5208</td>\n",
       "      <td>-122.393</td>\n",
       "      <td>1360</td>\n",
       "      <td>5000</td>\n",
       "      <td>604000.0</td>\n",
       "    </tr>\n",
       "    <tr>\n",
       "      <th>4</th>\n",
       "      <td>1954400510</td>\n",
       "      <td>20150218T000000</td>\n",
       "      <td>3</td>\n",
       "      <td>2.00</td>\n",
       "      <td>1680</td>\n",
       "      <td>8080</td>\n",
       "      <td>1.0</td>\n",
       "      <td>0</td>\n",
       "      <td>0</td>\n",
       "      <td>3</td>\n",
       "      <td>...</td>\n",
       "      <td>1680</td>\n",
       "      <td>0</td>\n",
       "      <td>1987</td>\n",
       "      <td>0</td>\n",
       "      <td>98074</td>\n",
       "      <td>47.6168</td>\n",
       "      <td>-122.045</td>\n",
       "      <td>1800</td>\n",
       "      <td>7503</td>\n",
       "      <td>510000.0</td>\n",
       "    </tr>\n",
       "  </tbody>\n",
       "</table>\n",
       "<p>5 rows × 21 columns</p>\n",
       "</div>"
      ],
      "text/plain": [
       "           id             date  bedrooms  bathrooms  sqft_living  sqft_lot  \\\n",
       "0  7129300520  20141013T000000         3       1.00         1180      5650   \n",
       "1  6414100192  20141209T000000         3       2.25         2570      7242   \n",
       "2  5631500400  20150225T000000         2       1.00          770     10000   \n",
       "3  2487200875  20141209T000000         4       3.00         1960      5000   \n",
       "4  1954400510  20150218T000000         3       2.00         1680      8080   \n",
       "\n",
       "   floors  waterfront  view  condition  ...  sqft_above  sqft_basement  \\\n",
       "0     1.0           0     0          3  ...        1180              0   \n",
       "1     2.0           0     0          3  ...        2170            400   \n",
       "2     1.0           0     0          3  ...         770              0   \n",
       "3     1.0           0     0          5  ...        1050            910   \n",
       "4     1.0           0     0          3  ...        1680              0   \n",
       "\n",
       "   yr_built  yr_renovated  zipcode      lat     long  sqft_living15  \\\n",
       "0      1955             0    98178  47.5112 -122.257           1340   \n",
       "1      1951          1991    98125  47.7210 -122.319           1690   \n",
       "2      1933             0    98028  47.7379 -122.233           2720   \n",
       "3      1965             0    98136  47.5208 -122.393           1360   \n",
       "4      1987             0    98074  47.6168 -122.045           1800   \n",
       "\n",
       "   sqft_lot15     price  \n",
       "0        5650  221900.0  \n",
       "1        7639  538000.0  \n",
       "2        8062  180000.0  \n",
       "3        5000  604000.0  \n",
       "4        7503  510000.0  \n",
       "\n",
       "[5 rows x 21 columns]"
      ]
     },
     "execution_count": 3,
     "metadata": {},
     "output_type": "execute_result"
    }
   ],
   "source": [
    "df.head()"
   ]
  },
  {
   "cell_type": "markdown",
   "metadata": {
    "id": "uTa1FsGcrwGM"
   },
   "source": [
    "## $\\color{red}{\\text{Analytic task}}$\n",
    "1. Using the housing data, reduce the dimensions using PCA\n",
    "2. Obtain variables coming out of the PCA"
   ]
  },
  {
   "cell_type": "markdown",
   "metadata": {
    "id": "SUJOhemLrwGM"
   },
   "source": [
    "## $\\color{red}{\\text{Data transformation}}$\n"
   ]
  },
  {
   "cell_type": "markdown",
   "metadata": {
    "id": "mk4zjNpdnuvW"
   },
   "source": [
    "### $\\color{blue}{\\text{Standardization}}$"
   ]
  },
  {
   "cell_type": "code",
   "execution_count": 4,
   "metadata": {
    "executionInfo": {
     "elapsed": 3,
     "status": "ok",
     "timestamp": 1741174036376,
     "user": {
      "displayName": "eddie",
      "userId": "06842710327189752667"
     },
     "user_tz": 360
    },
    "id": "L4y4TH5tLjOr"
   },
   "outputs": [
    {
     "data": {
      "text/html": [
       "<div>\n",
       "<style scoped>\n",
       "    .dataframe tbody tr th:only-of-type {\n",
       "        vertical-align: middle;\n",
       "    }\n",
       "\n",
       "    .dataframe tbody tr th {\n",
       "        vertical-align: top;\n",
       "    }\n",
       "\n",
       "    .dataframe thead th {\n",
       "        text-align: right;\n",
       "    }\n",
       "</style>\n",
       "<table border=\"1\" class=\"dataframe\">\n",
       "  <thead>\n",
       "    <tr style=\"text-align: right;\">\n",
       "      <th></th>\n",
       "      <th>id</th>\n",
       "      <th>date</th>\n",
       "      <th>bedrooms</th>\n",
       "      <th>bathrooms</th>\n",
       "      <th>sqft_living</th>\n",
       "      <th>sqft_lot</th>\n",
       "      <th>floors</th>\n",
       "      <th>waterfront</th>\n",
       "      <th>view</th>\n",
       "      <th>condition</th>\n",
       "      <th>...</th>\n",
       "      <th>sqft_above</th>\n",
       "      <th>sqft_basement</th>\n",
       "      <th>yr_built</th>\n",
       "      <th>yr_renovated</th>\n",
       "      <th>zipcode</th>\n",
       "      <th>lat</th>\n",
       "      <th>long</th>\n",
       "      <th>sqft_living15</th>\n",
       "      <th>sqft_lot15</th>\n",
       "      <th>price</th>\n",
       "    </tr>\n",
       "  </thead>\n",
       "  <tbody>\n",
       "    <tr>\n",
       "      <th>0</th>\n",
       "      <td>7129300520</td>\n",
       "      <td>20141013T000000</td>\n",
       "      <td>3</td>\n",
       "      <td>1.00</td>\n",
       "      <td>1180</td>\n",
       "      <td>5650</td>\n",
       "      <td>1.0</td>\n",
       "      <td>0</td>\n",
       "      <td>0</td>\n",
       "      <td>3</td>\n",
       "      <td>...</td>\n",
       "      <td>1180</td>\n",
       "      <td>0</td>\n",
       "      <td>1955</td>\n",
       "      <td>0</td>\n",
       "      <td>98178</td>\n",
       "      <td>47.5112</td>\n",
       "      <td>-122.257</td>\n",
       "      <td>1340</td>\n",
       "      <td>5650</td>\n",
       "      <td>221900.0</td>\n",
       "    </tr>\n",
       "    <tr>\n",
       "      <th>1</th>\n",
       "      <td>6414100192</td>\n",
       "      <td>20141209T000000</td>\n",
       "      <td>3</td>\n",
       "      <td>2.25</td>\n",
       "      <td>2570</td>\n",
       "      <td>7242</td>\n",
       "      <td>2.0</td>\n",
       "      <td>0</td>\n",
       "      <td>0</td>\n",
       "      <td>3</td>\n",
       "      <td>...</td>\n",
       "      <td>2170</td>\n",
       "      <td>400</td>\n",
       "      <td>1951</td>\n",
       "      <td>1991</td>\n",
       "      <td>98125</td>\n",
       "      <td>47.7210</td>\n",
       "      <td>-122.319</td>\n",
       "      <td>1690</td>\n",
       "      <td>7639</td>\n",
       "      <td>538000.0</td>\n",
       "    </tr>\n",
       "    <tr>\n",
       "      <th>2</th>\n",
       "      <td>5631500400</td>\n",
       "      <td>20150225T000000</td>\n",
       "      <td>2</td>\n",
       "      <td>1.00</td>\n",
       "      <td>770</td>\n",
       "      <td>10000</td>\n",
       "      <td>1.0</td>\n",
       "      <td>0</td>\n",
       "      <td>0</td>\n",
       "      <td>3</td>\n",
       "      <td>...</td>\n",
       "      <td>770</td>\n",
       "      <td>0</td>\n",
       "      <td>1933</td>\n",
       "      <td>0</td>\n",
       "      <td>98028</td>\n",
       "      <td>47.7379</td>\n",
       "      <td>-122.233</td>\n",
       "      <td>2720</td>\n",
       "      <td>8062</td>\n",
       "      <td>180000.0</td>\n",
       "    </tr>\n",
       "    <tr>\n",
       "      <th>3</th>\n",
       "      <td>2487200875</td>\n",
       "      <td>20141209T000000</td>\n",
       "      <td>4</td>\n",
       "      <td>3.00</td>\n",
       "      <td>1960</td>\n",
       "      <td>5000</td>\n",
       "      <td>1.0</td>\n",
       "      <td>0</td>\n",
       "      <td>0</td>\n",
       "      <td>5</td>\n",
       "      <td>...</td>\n",
       "      <td>1050</td>\n",
       "      <td>910</td>\n",
       "      <td>1965</td>\n",
       "      <td>0</td>\n",
       "      <td>98136</td>\n",
       "      <td>47.5208</td>\n",
       "      <td>-122.393</td>\n",
       "      <td>1360</td>\n",
       "      <td>5000</td>\n",
       "      <td>604000.0</td>\n",
       "    </tr>\n",
       "    <tr>\n",
       "      <th>4</th>\n",
       "      <td>1954400510</td>\n",
       "      <td>20150218T000000</td>\n",
       "      <td>3</td>\n",
       "      <td>2.00</td>\n",
       "      <td>1680</td>\n",
       "      <td>8080</td>\n",
       "      <td>1.0</td>\n",
       "      <td>0</td>\n",
       "      <td>0</td>\n",
       "      <td>3</td>\n",
       "      <td>...</td>\n",
       "      <td>1680</td>\n",
       "      <td>0</td>\n",
       "      <td>1987</td>\n",
       "      <td>0</td>\n",
       "      <td>98074</td>\n",
       "      <td>47.6168</td>\n",
       "      <td>-122.045</td>\n",
       "      <td>1800</td>\n",
       "      <td>7503</td>\n",
       "      <td>510000.0</td>\n",
       "    </tr>\n",
       "  </tbody>\n",
       "</table>\n",
       "<p>5 rows × 21 columns</p>\n",
       "</div>"
      ],
      "text/plain": [
       "           id             date  bedrooms  bathrooms  sqft_living  sqft_lot  \\\n",
       "0  7129300520  20141013T000000         3       1.00         1180      5650   \n",
       "1  6414100192  20141209T000000         3       2.25         2570      7242   \n",
       "2  5631500400  20150225T000000         2       1.00          770     10000   \n",
       "3  2487200875  20141209T000000         4       3.00         1960      5000   \n",
       "4  1954400510  20150218T000000         3       2.00         1680      8080   \n",
       "\n",
       "   floors  waterfront  view  condition  ...  sqft_above  sqft_basement  \\\n",
       "0     1.0           0     0          3  ...        1180              0   \n",
       "1     2.0           0     0          3  ...        2170            400   \n",
       "2     1.0           0     0          3  ...         770              0   \n",
       "3     1.0           0     0          5  ...        1050            910   \n",
       "4     1.0           0     0          3  ...        1680              0   \n",
       "\n",
       "   yr_built  yr_renovated  zipcode      lat     long  sqft_living15  \\\n",
       "0      1955             0    98178  47.5112 -122.257           1340   \n",
       "1      1951          1991    98125  47.7210 -122.319           1690   \n",
       "2      1933             0    98028  47.7379 -122.233           2720   \n",
       "3      1965             0    98136  47.5208 -122.393           1360   \n",
       "4      1987             0    98074  47.6168 -122.045           1800   \n",
       "\n",
       "   sqft_lot15     price  \n",
       "0        5650  221900.0  \n",
       "1        7639  538000.0  \n",
       "2        8062  180000.0  \n",
       "3        5000  604000.0  \n",
       "4        7503  510000.0  \n",
       "\n",
       "[5 rows x 21 columns]"
      ]
     },
     "execution_count": 4,
     "metadata": {},
     "output_type": "execute_result"
    }
   ],
   "source": [
    "df.head()"
   ]
  },
  {
   "cell_type": "code",
   "execution_count": null,
   "metadata": {
    "executionInfo": {
     "elapsed": 2,
     "status": "ok",
     "timestamp": 1741174315110,
     "user": {
      "displayName": "eddie",
      "userId": "06842710327189752667"
     },
     "user_tz": 360
    },
    "id": "U6PqOkVUl7Jz"
   },
   "outputs": [
    {
     "data": {
      "text/html": [
       "<div>\n",
       "<style scoped>\n",
       "    .dataframe tbody tr th:only-of-type {\n",
       "        vertical-align: middle;\n",
       "    }\n",
       "\n",
       "    .dataframe tbody tr th {\n",
       "        vertical-align: top;\n",
       "    }\n",
       "\n",
       "    .dataframe thead th {\n",
       "        text-align: right;\n",
       "    }\n",
       "</style>\n",
       "<table border=\"1\" class=\"dataframe\">\n",
       "  <thead>\n",
       "    <tr style=\"text-align: right;\">\n",
       "      <th></th>\n",
       "      <th>id</th>\n",
       "      <th>date</th>\n",
       "      <th>bedrooms</th>\n",
       "      <th>bathrooms</th>\n",
       "      <th>sqft_living</th>\n",
       "      <th>sqft_lot</th>\n",
       "      <th>floors</th>\n",
       "      <th>waterfront</th>\n",
       "      <th>view</th>\n",
       "      <th>condition</th>\n",
       "      <th>...</th>\n",
       "      <th>sqft_basement</th>\n",
       "      <th>yr_built</th>\n",
       "      <th>yr_renovated</th>\n",
       "      <th>zipcode</th>\n",
       "      <th>lat</th>\n",
       "      <th>long</th>\n",
       "      <th>sqft_living15</th>\n",
       "      <th>sqft_lot15</th>\n",
       "      <th>price</th>\n",
       "      <th>building_age</th>\n",
       "    </tr>\n",
       "  </thead>\n",
       "  <tbody>\n",
       "    <tr>\n",
       "      <th>0</th>\n",
       "      <td>7129300520</td>\n",
       "      <td>20141013T000000</td>\n",
       "      <td>3</td>\n",
       "      <td>1.00</td>\n",
       "      <td>1180</td>\n",
       "      <td>5650</td>\n",
       "      <td>1.0</td>\n",
       "      <td>0</td>\n",
       "      <td>0</td>\n",
       "      <td>3</td>\n",
       "      <td>...</td>\n",
       "      <td>0</td>\n",
       "      <td>1955</td>\n",
       "      <td>0</td>\n",
       "      <td>98178</td>\n",
       "      <td>47.5112</td>\n",
       "      <td>-122.257</td>\n",
       "      <td>1340</td>\n",
       "      <td>5650</td>\n",
       "      <td>221900.0</td>\n",
       "      <td>70</td>\n",
       "    </tr>\n",
       "    <tr>\n",
       "      <th>1</th>\n",
       "      <td>6414100192</td>\n",
       "      <td>20141209T000000</td>\n",
       "      <td>3</td>\n",
       "      <td>2.25</td>\n",
       "      <td>2570</td>\n",
       "      <td>7242</td>\n",
       "      <td>2.0</td>\n",
       "      <td>0</td>\n",
       "      <td>0</td>\n",
       "      <td>3</td>\n",
       "      <td>...</td>\n",
       "      <td>400</td>\n",
       "      <td>1951</td>\n",
       "      <td>1991</td>\n",
       "      <td>98125</td>\n",
       "      <td>47.7210</td>\n",
       "      <td>-122.319</td>\n",
       "      <td>1690</td>\n",
       "      <td>7639</td>\n",
       "      <td>538000.0</td>\n",
       "      <td>74</td>\n",
       "    </tr>\n",
       "    <tr>\n",
       "      <th>2</th>\n",
       "      <td>5631500400</td>\n",
       "      <td>20150225T000000</td>\n",
       "      <td>2</td>\n",
       "      <td>1.00</td>\n",
       "      <td>770</td>\n",
       "      <td>10000</td>\n",
       "      <td>1.0</td>\n",
       "      <td>0</td>\n",
       "      <td>0</td>\n",
       "      <td>3</td>\n",
       "      <td>...</td>\n",
       "      <td>0</td>\n",
       "      <td>1933</td>\n",
       "      <td>0</td>\n",
       "      <td>98028</td>\n",
       "      <td>47.7379</td>\n",
       "      <td>-122.233</td>\n",
       "      <td>2720</td>\n",
       "      <td>8062</td>\n",
       "      <td>180000.0</td>\n",
       "      <td>92</td>\n",
       "    </tr>\n",
       "    <tr>\n",
       "      <th>3</th>\n",
       "      <td>2487200875</td>\n",
       "      <td>20141209T000000</td>\n",
       "      <td>4</td>\n",
       "      <td>3.00</td>\n",
       "      <td>1960</td>\n",
       "      <td>5000</td>\n",
       "      <td>1.0</td>\n",
       "      <td>0</td>\n",
       "      <td>0</td>\n",
       "      <td>5</td>\n",
       "      <td>...</td>\n",
       "      <td>910</td>\n",
       "      <td>1965</td>\n",
       "      <td>0</td>\n",
       "      <td>98136</td>\n",
       "      <td>47.5208</td>\n",
       "      <td>-122.393</td>\n",
       "      <td>1360</td>\n",
       "      <td>5000</td>\n",
       "      <td>604000.0</td>\n",
       "      <td>60</td>\n",
       "    </tr>\n",
       "    <tr>\n",
       "      <th>4</th>\n",
       "      <td>1954400510</td>\n",
       "      <td>20150218T000000</td>\n",
       "      <td>3</td>\n",
       "      <td>2.00</td>\n",
       "      <td>1680</td>\n",
       "      <td>8080</td>\n",
       "      <td>1.0</td>\n",
       "      <td>0</td>\n",
       "      <td>0</td>\n",
       "      <td>3</td>\n",
       "      <td>...</td>\n",
       "      <td>0</td>\n",
       "      <td>1987</td>\n",
       "      <td>0</td>\n",
       "      <td>98074</td>\n",
       "      <td>47.6168</td>\n",
       "      <td>-122.045</td>\n",
       "      <td>1800</td>\n",
       "      <td>7503</td>\n",
       "      <td>510000.0</td>\n",
       "      <td>38</td>\n",
       "    </tr>\n",
       "  </tbody>\n",
       "</table>\n",
       "<p>5 rows × 22 columns</p>\n",
       "</div>"
      ],
      "text/plain": [
       "           id             date  bedrooms  bathrooms  sqft_living  sqft_lot  \\\n",
       "0  7129300520  20141013T000000         3       1.00         1180      5650   \n",
       "1  6414100192  20141209T000000         3       2.25         2570      7242   \n",
       "2  5631500400  20150225T000000         2       1.00          770     10000   \n",
       "3  2487200875  20141209T000000         4       3.00         1960      5000   \n",
       "4  1954400510  20150218T000000         3       2.00         1680      8080   \n",
       "\n",
       "   floors  waterfront  view  condition  ...  sqft_basement  yr_built  \\\n",
       "0     1.0           0     0          3  ...              0      1955   \n",
       "1     2.0           0     0          3  ...            400      1951   \n",
       "2     1.0           0     0          3  ...              0      1933   \n",
       "3     1.0           0     0          5  ...            910      1965   \n",
       "4     1.0           0     0          3  ...              0      1987   \n",
       "\n",
       "   yr_renovated  zipcode      lat     long  sqft_living15  sqft_lot15  \\\n",
       "0             0    98178  47.5112 -122.257           1340        5650   \n",
       "1          1991    98125  47.7210 -122.319           1690        7639   \n",
       "2             0    98028  47.7379 -122.233           2720        8062   \n",
       "3             0    98136  47.5208 -122.393           1360        5000   \n",
       "4             0    98074  47.6168 -122.045           1800        7503   \n",
       "\n",
       "      price  building_age  \n",
       "0  221900.0            70  \n",
       "1  538000.0            74  \n",
       "2  180000.0            92  \n",
       "3  604000.0            60  \n",
       "4  510000.0            38  \n",
       "\n",
       "[5 rows x 22 columns]"
      ]
     },
     "execution_count": 6,
     "metadata": {},
     "output_type": "execute_result"
    }
   ],
   "source": [
    "curr_year = pd.Timestamp.now().year\n",
    "df['building_age'] = curr_year - df['yr_built']\n"
   ]
  },
  {
   "cell_type": "code",
   "execution_count": 7,
   "metadata": {},
   "outputs": [
    {
     "data": {
      "text/html": [
       "<div>\n",
       "<style scoped>\n",
       "    .dataframe tbody tr th:only-of-type {\n",
       "        vertical-align: middle;\n",
       "    }\n",
       "\n",
       "    .dataframe tbody tr th {\n",
       "        vertical-align: top;\n",
       "    }\n",
       "\n",
       "    .dataframe thead th {\n",
       "        text-align: right;\n",
       "    }\n",
       "</style>\n",
       "<table border=\"1\" class=\"dataframe\">\n",
       "  <thead>\n",
       "    <tr style=\"text-align: right;\">\n",
       "      <th></th>\n",
       "      <th>bedrooms</th>\n",
       "      <th>bathrooms</th>\n",
       "      <th>sqft_living</th>\n",
       "      <th>sqft_lot</th>\n",
       "      <th>floors</th>\n",
       "      <th>waterfront</th>\n",
       "      <th>view</th>\n",
       "      <th>condition</th>\n",
       "      <th>grade</th>\n",
       "      <th>sqft_above</th>\n",
       "      <th>sqft_basement</th>\n",
       "      <th>lat</th>\n",
       "      <th>long</th>\n",
       "      <th>sqft_living15</th>\n",
       "      <th>sqft_lot15</th>\n",
       "      <th>price</th>\n",
       "      <th>building_age</th>\n",
       "    </tr>\n",
       "  </thead>\n",
       "  <tbody>\n",
       "    <tr>\n",
       "      <th>0</th>\n",
       "      <td>3</td>\n",
       "      <td>1.00</td>\n",
       "      <td>1180</td>\n",
       "      <td>5650</td>\n",
       "      <td>1.0</td>\n",
       "      <td>0</td>\n",
       "      <td>0</td>\n",
       "      <td>3</td>\n",
       "      <td>7</td>\n",
       "      <td>1180</td>\n",
       "      <td>0</td>\n",
       "      <td>47.5112</td>\n",
       "      <td>-122.257</td>\n",
       "      <td>1340</td>\n",
       "      <td>5650</td>\n",
       "      <td>221900.0</td>\n",
       "      <td>70</td>\n",
       "    </tr>\n",
       "    <tr>\n",
       "      <th>1</th>\n",
       "      <td>3</td>\n",
       "      <td>2.25</td>\n",
       "      <td>2570</td>\n",
       "      <td>7242</td>\n",
       "      <td>2.0</td>\n",
       "      <td>0</td>\n",
       "      <td>0</td>\n",
       "      <td>3</td>\n",
       "      <td>7</td>\n",
       "      <td>2170</td>\n",
       "      <td>400</td>\n",
       "      <td>47.7210</td>\n",
       "      <td>-122.319</td>\n",
       "      <td>1690</td>\n",
       "      <td>7639</td>\n",
       "      <td>538000.0</td>\n",
       "      <td>74</td>\n",
       "    </tr>\n",
       "    <tr>\n",
       "      <th>2</th>\n",
       "      <td>2</td>\n",
       "      <td>1.00</td>\n",
       "      <td>770</td>\n",
       "      <td>10000</td>\n",
       "      <td>1.0</td>\n",
       "      <td>0</td>\n",
       "      <td>0</td>\n",
       "      <td>3</td>\n",
       "      <td>6</td>\n",
       "      <td>770</td>\n",
       "      <td>0</td>\n",
       "      <td>47.7379</td>\n",
       "      <td>-122.233</td>\n",
       "      <td>2720</td>\n",
       "      <td>8062</td>\n",
       "      <td>180000.0</td>\n",
       "      <td>92</td>\n",
       "    </tr>\n",
       "    <tr>\n",
       "      <th>3</th>\n",
       "      <td>4</td>\n",
       "      <td>3.00</td>\n",
       "      <td>1960</td>\n",
       "      <td>5000</td>\n",
       "      <td>1.0</td>\n",
       "      <td>0</td>\n",
       "      <td>0</td>\n",
       "      <td>5</td>\n",
       "      <td>7</td>\n",
       "      <td>1050</td>\n",
       "      <td>910</td>\n",
       "      <td>47.5208</td>\n",
       "      <td>-122.393</td>\n",
       "      <td>1360</td>\n",
       "      <td>5000</td>\n",
       "      <td>604000.0</td>\n",
       "      <td>60</td>\n",
       "    </tr>\n",
       "    <tr>\n",
       "      <th>4</th>\n",
       "      <td>3</td>\n",
       "      <td>2.00</td>\n",
       "      <td>1680</td>\n",
       "      <td>8080</td>\n",
       "      <td>1.0</td>\n",
       "      <td>0</td>\n",
       "      <td>0</td>\n",
       "      <td>3</td>\n",
       "      <td>8</td>\n",
       "      <td>1680</td>\n",
       "      <td>0</td>\n",
       "      <td>47.6168</td>\n",
       "      <td>-122.045</td>\n",
       "      <td>1800</td>\n",
       "      <td>7503</td>\n",
       "      <td>510000.0</td>\n",
       "      <td>38</td>\n",
       "    </tr>\n",
       "  </tbody>\n",
       "</table>\n",
       "</div>"
      ],
      "text/plain": [
       "   bedrooms  bathrooms  sqft_living  sqft_lot  floors  waterfront  view  \\\n",
       "0         3       1.00         1180      5650     1.0           0     0   \n",
       "1         3       2.25         2570      7242     2.0           0     0   \n",
       "2         2       1.00          770     10000     1.0           0     0   \n",
       "3         4       3.00         1960      5000     1.0           0     0   \n",
       "4         3       2.00         1680      8080     1.0           0     0   \n",
       "\n",
       "   condition  grade  sqft_above  sqft_basement      lat     long  \\\n",
       "0          3      7        1180              0  47.5112 -122.257   \n",
       "1          3      7        2170            400  47.7210 -122.319   \n",
       "2          3      6         770              0  47.7379 -122.233   \n",
       "3          5      7        1050            910  47.5208 -122.393   \n",
       "4          3      8        1680              0  47.6168 -122.045   \n",
       "\n",
       "   sqft_living15  sqft_lot15     price  building_age  \n",
       "0           1340        5650  221900.0            70  \n",
       "1           1690        7639  538000.0            74  \n",
       "2           2720        8062  180000.0            92  \n",
       "3           1360        5000  604000.0            60  \n",
       "4           1800        7503  510000.0            38  "
      ]
     },
     "execution_count": 7,
     "metadata": {},
     "output_type": "execute_result"
    }
   ],
   "source": [
    "from sklearn.preprocessing import StandardScaler\n",
    "\n",
    "# Drop IDs\n",
    "to_drop = ['id','date','zipcode','yr_built','yr_renovated']\n",
    "df2 = df.drop(to_drop, axis=1)\n",
    "\n",
    "df2.head()"
   ]
  },
  {
   "cell_type": "code",
   "execution_count": null,
   "metadata": {},
   "outputs": [
    {
     "data": {
      "text/plain": [
       "array([[-0.39873715, -1.44746357, -0.97983502, ..., -0.26071541,\n",
       "        -0.86641874,  0.54489777],\n",
       "       [-0.39873715,  0.1756067 ,  0.53363434, ..., -0.18786773,\n",
       "        -0.00594021,  0.6810785 ],\n",
       "       [-1.47395936, -1.44746357, -1.42625404, ..., -0.17237524,\n",
       "        -0.98047774,  1.29389179],\n",
       "       ...,\n",
       "       [-1.47395936, -1.77207762, -1.15404732, ..., -0.39414129,\n",
       "        -0.37588065, -1.29354209],\n",
       "       [-0.39873715,  0.50022075, -0.52252773, ..., -0.42051149,\n",
       "        -0.38159993, -1.12331618],\n",
       "       [-1.47395936, -1.77207762, -1.15404732, ..., -0.41794772,\n",
       "        -0.58576282, -1.25949691]])"
      ]
     },
     "execution_count": 9,
     "metadata": {},
     "output_type": "execute_result"
    }
   ],
   "source": [
    "scaler = StandardScaler()\n",
    "standardized_data = scaler.fit_transform(df2)\n",
    "\n",
    "standardized_data # dont we need to make this a df?"
   ]
  },
  {
   "cell_type": "markdown",
   "metadata": {},
   "source": []
  },
  {
   "cell_type": "markdown",
   "metadata": {
    "id": "nv0I93bpouqV"
   },
   "source": [
    "### $\\color{blue}{\\text{Component selection - explained variance approach}}$\n",
    "1. The **explained variance** approach determines the number of principal components needed to retain a chosen percentage (e.g., 95%) of the total variance in the dataset\n",
    "\n",
    "2. It ensures that enough components are selected to preserve most of the original data's information while reducing dimensionality.\n",
    "\n",
    "Additionally, recall that for a dataset of $N$ features, you can have up to $N$ principal components. Obviously we want fewer than $N$ features as our result, this is just a guide for the process.\n"
   ]
  },
  {
   "cell_type": "markdown",
   "metadata": {
    "id": "fM8BkboDwRoQ"
   },
   "source": [
    "#### $\\color{green}{\\text{Advantages and disadvantages}}$\n",
    "1. **Advantages**\n",
    "  - Provides a quantitative and objective method for component selection, ensuring minimal information loss\n",
    "2. **Disadvantages**\n",
    "  - The threshold (e.g., 95%) is arbitrary and may lead to either too many or too few components being retained."
   ]
  },
  {
   "cell_type": "code",
   "execution_count": 13,
   "metadata": {
    "id": "jn4vhD2HKutK"
   },
   "outputs": [
    {
     "data": {
      "text/plain": [
       "array([3.28656155e-01, 1.29294304e-01, 1.06159914e-01, 7.61496978e-02,\n",
       "       6.53816159e-02, 5.09440408e-02, 4.62552929e-02, 3.88173578e-02,\n",
       "       3.67291816e-02, 3.00585294e-02, 2.12131277e-02, 1.75315215e-02,\n",
       "       1.56807580e-02, 1.42224478e-02, 1.18250426e-02, 1.10810133e-02,\n",
       "       7.51174041e-17])"
      ]
     },
     "execution_count": 13,
     "metadata": {},
     "output_type": "execute_result"
    }
   ],
   "source": [
    "from sklearn.decomposition import PCA\n",
    "\n",
    "# Apply PCA without specifying number of components (keep all features)\n",
    "pca = PCA()\n",
    "pca.fit(standardized_data)\n",
    "\n",
    "# Compute Explained Variance\n",
    "explained_variance = pca.explained_variance_ratio_\n",
    "cumulative_variance = np.cumsum(explained_variance)\n",
    "\n",
    "explained_variance"
   ]
  },
  {
   "cell_type": "code",
   "execution_count": 14,
   "metadata": {},
   "outputs": [
    {
     "data": {
      "text/plain": [
       "array([0.32865616, 0.45795046, 0.56411037, 0.64026007, 0.70564169,\n",
       "       0.75658573, 0.80284102, 0.84165838, 0.87838756, 0.90844609,\n",
       "       0.92965922, 0.94719074, 0.9628715 , 0.97709394, 0.98891899,\n",
       "       1.        , 1.        ])"
      ]
     },
     "execution_count": 14,
     "metadata": {},
     "output_type": "execute_result"
    }
   ],
   "source": [
    "cumulative_variance"
   ]
  },
  {
   "cell_type": "markdown",
   "metadata": {},
   "source": [
    "Pick a value within this array that satisfies how much variance you want explained, and use that as a threshold to select a number of principal components that explain that threshold of variance."
   ]
  },
  {
   "cell_type": "code",
   "execution_count": 21,
   "metadata": {},
   "outputs": [],
   "source": [
    "threshold = .90\n",
    "n_components_thresh = np.argmax(cumulative_variance >= threshold) + 1 # find the max number of components"
   ]
  },
  {
   "cell_type": "markdown",
   "metadata": {},
   "source": [
    "Is this like using the PMF to find the median?"
   ]
  },
  {
   "cell_type": "code",
   "execution_count": 22,
   "metadata": {},
   "outputs": [
    {
     "data": {
      "image/png": "[encoded data removed]",
      "text/plain": [
       "<Figure size 800x600 with 1 Axes>"
      ]
     },
     "metadata": {},
     "output_type": "display_data"
    }
   ],
   "source": [
    "plt.figure(figsize=(8,6))\n",
    "plt.plot(range(1,len(cumulative_variance)+1), cumulative_variance, marker='o', linestyle='--')\n",
    "plt.axhline(y=threshold, color='red', linestyle='--', label=f'{threshold*100}% variance explained') # line showing variance-explained threshold\n",
    "plt.axvline(x=n_components_thresh, color='b', linestyle='--',label=f'Optimal PC\\'s - {n_components_thresh}') # line showing optimal num of components\n",
    "plt.legend()\n",
    "plt.show()"
   ]
  },
  {
   "cell_type": "markdown",
   "metadata": {},
   "source": [
    "We want **parsimony** - An explanation with as few variables as possible. This is known as the **Principle of Parsimony**"
   ]
  },
  {
   "cell_type": "markdown",
   "metadata": {
    "id": "NzxugCBLsKuN"
   },
   "source": [
    "### $\\color{blue}{\\text{Component selection - the scree plot}}$\n",
    "1. The **scree plot** visualizes the explained variance of each principal component, helping identify the optimal number of components to retain in PCA.\n",
    "\n",
    "2. It allows for **elbow detection**, where the variance gain diminishes, indicating an ideal cutoff point for dimensionality reduction."
   ]
  },
  {
   "cell_type": "markdown",
   "metadata": {
    "id": "0Vbsv_cAxR1q"
   },
   "source": [
    "#### $\\color{green}{\\text{Advantages and disadvantages}}$\n",
    "1. **Advantages**\n",
    "  - Simple to interpret, provides a visual way to determine how many components to keep\n",
    "2. **Disadvantages**\n",
    "  - The \"elbow\" point is subjective and may not always be clearly defined"
   ]
  },
  {
   "cell_type": "code",
   "execution_count": 27,
   "metadata": {
    "id": "LIqN7bnCK1cp"
   },
   "outputs": [
    {
     "data": {
      "text/plain": [
       "<function matplotlib.pyplot.show(close=None, block=None)>"
      ]
     },
     "execution_count": 27,
     "metadata": {},
     "output_type": "execute_result"
    },
    {
     "data": {
      "image/png": "[encoded data removed]",
      "text/plain": [
       "<Figure size 800x500 with 1 Axes>"
      ]
     },
     "metadata": {},
     "output_type": "display_data"
    }
   ],
   "source": [
    "from kneed import KneeLocator\n",
    "\n",
    "knee_locator = KneeLocator(range(1,len(explained_variance)+1), explained_variance,curve='convex', direction='decreasing')\n",
    "\n",
    "scree_components = knee_locator.knee\n",
    "\n",
    "# Plot\n",
    "\n",
    "plt.figure(figsize=(8,5))\n",
    "plt.plot(range(1,len(explained_variance)+1), explained_variance, marker='o', linestyle='--')\n",
    "plt.axhline(y=explained_variance[scree_components], color='blue', linestyle='--', label=f'Elbow Explained Variance') # line showing variance-explained threshold\n",
    "plt.axvline(x=scree_components, color='r', linestyle='--',label=f'KneeLocator Elbow - {scree_components}') # line showing optimal num of components\n",
    "plt.show\n"
   ]
  },
  {
   "cell_type": "markdown",
   "metadata": {},
   "source": [
    "This inversion of the plot creates a clearer \"elbow\" (where you see the sharpest decline). The axh/v lines also mathematically show where the \"elbow\" is."
   ]
  },
  {
   "cell_type": "code",
   "execution_count": 30,
   "metadata": {
    "id": "kaL7qDebxisj"
   },
   "outputs": [
    {
     "name": "stdout",
     "output_type": "stream",
     "text": [
      "Percentage of variance explained by 4 components: 64.03%\n",
      "Percentage of variance explained by 10 components: 90.84%\n"
     ]
    }
   ],
   "source": [
    "exp_var_scree_method = np.sum(explained_variance[:scree_components])\n",
    "exp_var_thresh = np.sum(explained_variance[:n_components_thresh])\n",
    "\n",
    "print(f'Percentage of variance explained by {scree_components} components: {exp_var_scree_method:.2%}')\n",
    "print(f'Percentage of variance explained by {n_components_thresh} components: {exp_var_thresh:.2%}')"
   ]
  },
  {
   "cell_type": "markdown",
   "metadata": {},
   "source": [
    "From these methods, we want to use the 10 components that explain 90.84%"
   ]
  },
  {
   "cell_type": "markdown",
   "metadata": {
    "id": "9oZTDheJ6Lv5"
   },
   "source": [
    "## $\\color{red}{\\text{Applying PCA}}$"
   ]
  },
  {
   "cell_type": "code",
   "execution_count": 36,
   "metadata": {
    "id": "cjAnvhSxyf3N"
   },
   "outputs": [
    {
     "data": {
      "text/html": [
       "<div>\n",
       "<style scoped>\n",
       "    .dataframe tbody tr th:only-of-type {\n",
       "        vertical-align: middle;\n",
       "    }\n",
       "\n",
       "    .dataframe tbody tr th {\n",
       "        vertical-align: top;\n",
       "    }\n",
       "\n",
       "    .dataframe thead th {\n",
       "        text-align: right;\n",
       "    }\n",
       "</style>\n",
       "<table border=\"1\" class=\"dataframe\">\n",
       "  <thead>\n",
       "    <tr style=\"text-align: right;\">\n",
       "      <th></th>\n",
       "      <th>PC1</th>\n",
       "      <th>PC2</th>\n",
       "      <th>PC3</th>\n",
       "      <th>PC4</th>\n",
       "      <th>PC5</th>\n",
       "      <th>PC6</th>\n",
       "      <th>PC7</th>\n",
       "      <th>PC8</th>\n",
       "      <th>PC9</th>\n",
       "      <th>PC10</th>\n",
       "    </tr>\n",
       "  </thead>\n",
       "  <tbody>\n",
       "    <tr>\n",
       "      <th>0</th>\n",
       "      <td>-2.559576</td>\n",
       "      <td>-0.390721</td>\n",
       "      <td>0.016333</td>\n",
       "      <td>0.282908</td>\n",
       "      <td>-0.112909</td>\n",
       "      <td>-0.271385</td>\n",
       "      <td>0.213558</td>\n",
       "      <td>-0.248320</td>\n",
       "      <td>-0.872573</td>\n",
       "      <td>-0.087185</td>\n",
       "    </tr>\n",
       "    <tr>\n",
       "      <th>1</th>\n",
       "      <td>-0.026299</td>\n",
       "      <td>0.299523</td>\n",
       "      <td>-0.843729</td>\n",
       "      <td>0.247204</td>\n",
       "      <td>1.280942</td>\n",
       "      <td>-0.471283</td>\n",
       "      <td>-0.590427</td>\n",
       "      <td>0.336089</td>\n",
       "      <td>-0.188552</td>\n",
       "      <td>-0.008823</td>\n",
       "    </tr>\n",
       "    <tr>\n",
       "      <th>2</th>\n",
       "      <td>-2.892039</td>\n",
       "      <td>0.102178</td>\n",
       "      <td>0.182927</td>\n",
       "      <td>0.686772</td>\n",
       "      <td>1.360391</td>\n",
       "      <td>-0.008250</td>\n",
       "      <td>1.451650</td>\n",
       "      <td>-0.501816</td>\n",
       "      <td>-0.783135</td>\n",
       "      <td>0.104251</td>\n",
       "    </tr>\n",
       "    <tr>\n",
       "      <th>3</th>\n",
       "      <td>-0.850740</td>\n",
       "      <td>2.161896</td>\n",
       "      <td>0.019423</td>\n",
       "      <td>-1.741151</td>\n",
       "      <td>-0.856692</td>\n",
       "      <td>0.275158</td>\n",
       "      <td>-1.155702</td>\n",
       "      <td>0.686873</td>\n",
       "      <td>1.508809</td>\n",
       "      <td>-0.412923</td>\n",
       "    </tr>\n",
       "    <tr>\n",
       "      <th>4</th>\n",
       "      <td>-0.390186</td>\n",
       "      <td>-0.960203</td>\n",
       "      <td>-0.064851</td>\n",
       "      <td>0.146920</td>\n",
       "      <td>0.231865</td>\n",
       "      <td>-0.016982</td>\n",
       "      <td>1.497014</td>\n",
       "      <td>0.087628</td>\n",
       "      <td>-0.088560</td>\n",
       "      <td>-0.063445</td>\n",
       "    </tr>\n",
       "  </tbody>\n",
       "</table>\n",
       "</div>"
      ],
      "text/plain": [
       "        PC1       PC2       PC3       PC4       PC5       PC6       PC7  \\\n",
       "0 -2.559576 -0.390721  0.016333  0.282908 -0.112909 -0.271385  0.213558   \n",
       "1 -0.026299  0.299523 -0.843729  0.247204  1.280942 -0.471283 -0.590427   \n",
       "2 -2.892039  0.102178  0.182927  0.686772  1.360391 -0.008250  1.451650   \n",
       "3 -0.850740  2.161896  0.019423 -1.741151 -0.856692  0.275158 -1.155702   \n",
       "4 -0.390186 -0.960203 -0.064851  0.146920  0.231865 -0.016982  1.497014   \n",
       "\n",
       "        PC8       PC9      PC10  \n",
       "0 -0.248320 -0.872573 -0.087185  \n",
       "1  0.336089 -0.188552 -0.008823  \n",
       "2 -0.501816 -0.783135  0.104251  \n",
       "3  0.686873  1.508809 -0.412923  \n",
       "4  0.087628 -0.088560 -0.063445  "
      ]
     },
     "execution_count": 36,
     "metadata": {},
     "output_type": "execute_result"
    }
   ],
   "source": [
    "# Conduct pca with optimal num of components\n",
    "pca = PCA(n_components_thresh)\n",
    "housing_pca = pca.fit_transform(standardized_data)\n",
    "\n",
    "# See what's happening, convert into df\n",
    "housing_pca_df = pd.DataFrame(housing_pca, columns=[f'PC{i+1}' for i in range(housing_pca.shape[1])]) # this is a list comprehension btw\n",
    "housing_pca_df.head()"
   ]
  },
  {
   "cell_type": "markdown",
   "metadata": {},
   "source": [
    "Now we have a named PCA df"
   ]
  },
  {
   "cell_type": "code",
   "execution_count": 34,
   "metadata": {},
   "outputs": [
    {
     "data": {
      "text/html": [
       "<div>\n",
       "<style scoped>\n",
       "    .dataframe tbody tr th:only-of-type {\n",
       "        vertical-align: middle;\n",
       "    }\n",
       "\n",
       "    .dataframe tbody tr th {\n",
       "        vertical-align: top;\n",
       "    }\n",
       "\n",
       "    .dataframe thead th {\n",
       "        text-align: right;\n",
       "    }\n",
       "</style>\n",
       "<table border=\"1\" class=\"dataframe\">\n",
       "  <thead>\n",
       "    <tr style=\"text-align: right;\">\n",
       "      <th></th>\n",
       "      <th>bedrooms</th>\n",
       "      <th>bathrooms</th>\n",
       "      <th>sqft_living</th>\n",
       "      <th>sqft_lot</th>\n",
       "      <th>floors</th>\n",
       "      <th>waterfront</th>\n",
       "      <th>view</th>\n",
       "      <th>condition</th>\n",
       "      <th>grade</th>\n",
       "      <th>sqft_above</th>\n",
       "      <th>sqft_basement</th>\n",
       "      <th>lat</th>\n",
       "      <th>long</th>\n",
       "      <th>sqft_living15</th>\n",
       "      <th>sqft_lot15</th>\n",
       "      <th>price</th>\n",
       "      <th>building_age</th>\n",
       "    </tr>\n",
       "  </thead>\n",
       "  <tbody>\n",
       "    <tr>\n",
       "      <th>0</th>\n",
       "      <td>3</td>\n",
       "      <td>1.00</td>\n",
       "      <td>1180</td>\n",
       "      <td>5650</td>\n",
       "      <td>1.0</td>\n",
       "      <td>0</td>\n",
       "      <td>0</td>\n",
       "      <td>3</td>\n",
       "      <td>7</td>\n",
       "      <td>1180</td>\n",
       "      <td>0</td>\n",
       "      <td>47.5112</td>\n",
       "      <td>-122.257</td>\n",
       "      <td>1340</td>\n",
       "      <td>5650</td>\n",
       "      <td>221900.0</td>\n",
       "      <td>70</td>\n",
       "    </tr>\n",
       "    <tr>\n",
       "      <th>1</th>\n",
       "      <td>3</td>\n",
       "      <td>2.25</td>\n",
       "      <td>2570</td>\n",
       "      <td>7242</td>\n",
       "      <td>2.0</td>\n",
       "      <td>0</td>\n",
       "      <td>0</td>\n",
       "      <td>3</td>\n",
       "      <td>7</td>\n",
       "      <td>2170</td>\n",
       "      <td>400</td>\n",
       "      <td>47.7210</td>\n",
       "      <td>-122.319</td>\n",
       "      <td>1690</td>\n",
       "      <td>7639</td>\n",
       "      <td>538000.0</td>\n",
       "      <td>74</td>\n",
       "    </tr>\n",
       "    <tr>\n",
       "      <th>2</th>\n",
       "      <td>2</td>\n",
       "      <td>1.00</td>\n",
       "      <td>770</td>\n",
       "      <td>10000</td>\n",
       "      <td>1.0</td>\n",
       "      <td>0</td>\n",
       "      <td>0</td>\n",
       "      <td>3</td>\n",
       "      <td>6</td>\n",
       "      <td>770</td>\n",
       "      <td>0</td>\n",
       "      <td>47.7379</td>\n",
       "      <td>-122.233</td>\n",
       "      <td>2720</td>\n",
       "      <td>8062</td>\n",
       "      <td>180000.0</td>\n",
       "      <td>92</td>\n",
       "    </tr>\n",
       "    <tr>\n",
       "      <th>3</th>\n",
       "      <td>4</td>\n",
       "      <td>3.00</td>\n",
       "      <td>1960</td>\n",
       "      <td>5000</td>\n",
       "      <td>1.0</td>\n",
       "      <td>0</td>\n",
       "      <td>0</td>\n",
       "      <td>5</td>\n",
       "      <td>7</td>\n",
       "      <td>1050</td>\n",
       "      <td>910</td>\n",
       "      <td>47.5208</td>\n",
       "      <td>-122.393</td>\n",
       "      <td>1360</td>\n",
       "      <td>5000</td>\n",
       "      <td>604000.0</td>\n",
       "      <td>60</td>\n",
       "    </tr>\n",
       "    <tr>\n",
       "      <th>4</th>\n",
       "      <td>3</td>\n",
       "      <td>2.00</td>\n",
       "      <td>1680</td>\n",
       "      <td>8080</td>\n",
       "      <td>1.0</td>\n",
       "      <td>0</td>\n",
       "      <td>0</td>\n",
       "      <td>3</td>\n",
       "      <td>8</td>\n",
       "      <td>1680</td>\n",
       "      <td>0</td>\n",
       "      <td>47.6168</td>\n",
       "      <td>-122.045</td>\n",
       "      <td>1800</td>\n",
       "      <td>7503</td>\n",
       "      <td>510000.0</td>\n",
       "      <td>38</td>\n",
       "    </tr>\n",
       "  </tbody>\n",
       "</table>\n",
       "</div>"
      ],
      "text/plain": [
       "   bedrooms  bathrooms  sqft_living  sqft_lot  floors  waterfront  view  \\\n",
       "0         3       1.00         1180      5650     1.0           0     0   \n",
       "1         3       2.25         2570      7242     2.0           0     0   \n",
       "2         2       1.00          770     10000     1.0           0     0   \n",
       "3         4       3.00         1960      5000     1.0           0     0   \n",
       "4         3       2.00         1680      8080     1.0           0     0   \n",
       "\n",
       "   condition  grade  sqft_above  sqft_basement      lat     long  \\\n",
       "0          3      7        1180              0  47.5112 -122.257   \n",
       "1          3      7        2170            400  47.7210 -122.319   \n",
       "2          3      6         770              0  47.7379 -122.233   \n",
       "3          5      7        1050            910  47.5208 -122.393   \n",
       "4          3      8        1680              0  47.6168 -122.045   \n",
       "\n",
       "   sqft_living15  sqft_lot15     price  building_age  \n",
       "0           1340        5650  221900.0            70  \n",
       "1           1690        7639  538000.0            74  \n",
       "2           2720        8062  180000.0            92  \n",
       "3           1360        5000  604000.0            60  \n",
       "4           1800        7503  510000.0            38  "
      ]
     },
     "execution_count": 34,
     "metadata": {},
     "output_type": "execute_result"
    }
   ],
   "source": [
    "df2.head()"
   ]
  },
  {
   "cell_type": "markdown",
   "metadata": {},
   "source": [
    "How do we use the PCA df to boil down our original DF into a more concise amount of columns?\n",
    "\n",
    "We can use the following methods:"
   ]
  },
  {
   "cell_type": "markdown",
   "metadata": {
    "id": "yJBffElwt3de"
   },
   "source": [
    "### $\\color{blue}{\\text{Finding influential variables}}$\n",
    "\n",
    "1. Compute the absolute **loadings** for each variable in the PCs\n",
    "  - **Loadings** are the coefficients (weights) that show how much each original variable contributes to a principal component (PC)\n",
    "  - The larger the absolute loadings, the more influence the variable has on the PC\n",
    "2. Select variables with consistently high loadings across multiple\n",
    "3. Set some selection criteria\n",
    "  - For us, a variable is important if the absolute value of its loading exceeds the median load across all PCS"
   ]
  },
  {
   "cell_type": "code",
   "execution_count": 35,
   "metadata": {
    "id": "S2dcUckb8d9B"
   },
   "outputs": [
    {
     "data": {
      "text/html": [
       "<div>\n",
       "<style scoped>\n",
       "    .dataframe tbody tr th:only-of-type {\n",
       "        vertical-align: middle;\n",
       "    }\n",
       "\n",
       "    .dataframe tbody tr th {\n",
       "        vertical-align: top;\n",
       "    }\n",
       "\n",
       "    .dataframe thead th {\n",
       "        text-align: right;\n",
       "    }\n",
       "</style>\n",
       "<table border=\"1\" class=\"dataframe\">\n",
       "  <thead>\n",
       "    <tr style=\"text-align: right;\">\n",
       "      <th></th>\n",
       "      <th>PC1</th>\n",
       "      <th>PC2</th>\n",
       "      <th>PC3</th>\n",
       "      <th>PC4</th>\n",
       "      <th>PC5</th>\n",
       "      <th>PC6</th>\n",
       "      <th>PC7</th>\n",
       "      <th>PC8</th>\n",
       "      <th>PC9</th>\n",
       "      <th>PC10</th>\n",
       "    </tr>\n",
       "  </thead>\n",
       "  <tbody>\n",
       "    <tr>\n",
       "      <th>bedrooms</th>\n",
       "      <td>0.237067</td>\n",
       "      <td>0.097978</td>\n",
       "      <td>-0.048910</td>\n",
       "      <td>-0.406783</td>\n",
       "      <td>-0.195498</td>\n",
       "      <td>-0.064896</td>\n",
       "      <td>-0.195892</td>\n",
       "      <td>0.477480</td>\n",
       "      <td>-0.427722</td>\n",
       "      <td>0.342102</td>\n",
       "    </tr>\n",
       "    <tr>\n",
       "      <th>bathrooms</th>\n",
       "      <td>0.352553</td>\n",
       "      <td>-0.020713</td>\n",
       "      <td>-0.106613</td>\n",
       "      <td>-0.109422</td>\n",
       "      <td>-0.090264</td>\n",
       "      <td>-0.134005</td>\n",
       "      <td>-0.153045</td>\n",
       "      <td>0.150956</td>\n",
       "      <td>0.265689</td>\n",
       "      <td>0.000409</td>\n",
       "    </tr>\n",
       "    <tr>\n",
       "      <th>sqft_living</th>\n",
       "      <td>0.393238</td>\n",
       "      <td>0.117294</td>\n",
       "      <td>0.017791</td>\n",
       "      <td>-0.141985</td>\n",
       "      <td>-0.030645</td>\n",
       "      <td>-0.023364</td>\n",
       "      <td>-0.010124</td>\n",
       "      <td>-0.054510</td>\n",
       "      <td>-0.081100</td>\n",
       "      <td>-0.118257</td>\n",
       "    </tr>\n",
       "    <tr>\n",
       "      <th>sqft_lot</th>\n",
       "      <td>0.091369</td>\n",
       "      <td>-0.108046</td>\n",
       "      <td>0.619673</td>\n",
       "      <td>0.041611</td>\n",
       "      <td>0.203139</td>\n",
       "      <td>-0.118322</td>\n",
       "      <td>-0.210498</td>\n",
       "      <td>0.061709</td>\n",
       "      <td>0.028028</td>\n",
       "      <td>0.012207</td>\n",
       "    </tr>\n",
       "    <tr>\n",
       "      <th>floors</th>\n",
       "      <td>0.222183</td>\n",
       "      <td>-0.272722</td>\n",
       "      <td>-0.256816</td>\n",
       "      <td>0.218370</td>\n",
       "      <td>0.119533</td>\n",
       "      <td>0.097117</td>\n",
       "      <td>-0.444442</td>\n",
       "      <td>0.140476</td>\n",
       "      <td>0.227256</td>\n",
       "      <td>0.214457</td>\n",
       "    </tr>\n",
       "  </tbody>\n",
       "</table>\n",
       "</div>"
      ],
      "text/plain": [
       "                  PC1       PC2       PC3       PC4       PC5       PC6  \\\n",
       "bedrooms     0.237067  0.097978 -0.048910 -0.406783 -0.195498 -0.064896   \n",
       "bathrooms    0.352553 -0.020713 -0.106613 -0.109422 -0.090264 -0.134005   \n",
       "sqft_living  0.393238  0.117294  0.017791 -0.141985 -0.030645 -0.023364   \n",
       "sqft_lot     0.091369 -0.108046  0.619673  0.041611  0.203139 -0.118322   \n",
       "floors       0.222183 -0.272722 -0.256816  0.218370  0.119533  0.097117   \n",
       "\n",
       "                  PC7       PC8       PC9      PC10  \n",
       "bedrooms    -0.195892  0.477480 -0.427722  0.342102  \n",
       "bathrooms   -0.153045  0.150956  0.265689  0.000409  \n",
       "sqft_living -0.010124 -0.054510 -0.081100 -0.118257  \n",
       "sqft_lot    -0.210498  0.061709  0.028028  0.012207  \n",
       "floors      -0.444442  0.140476  0.227256  0.214457  "
      ]
     },
     "execution_count": 35,
     "metadata": {},
     "output_type": "execute_result"
    }
   ],
   "source": [
    "# In our PCA df, each column represents the weight\n",
    "# The abs() value of the 'load', or weight, the more influential it is\n",
    "\n",
    "# Display the loadings of each variable in each PC\n",
    "var_names = df2.columns\n",
    "housing_loadings = pd.DataFrame(pca.components_.T, index=var_names, columns=[f'PC{i+1}' for i in range(pca.n_components_)])\n",
    "housing_loadings.head()"
   ]
  },
  {
   "cell_type": "code",
   "execution_count": 39,
   "metadata": {
    "id": "TI5M5RMns4vR"
   },
   "outputs": [
    {
     "name": "stdout",
     "output_type": "stream",
     "text": [
      "['bedrooms' 'bathrooms' 'sqft_living' 'sqft_lot' 'floors' 'waterfront'\n",
      " 'view' 'condition' 'grade' 'sqft_above' 'sqft_basement' 'lat' 'long'\n",
      " 'sqft_living15' 'sqft_lot15' 'price' 'building_age']\n"
     ]
    }
   ],
   "source": [
    "# Compute abs() of all loading\n",
    "abs_loadings = np.abs(pca.components_)\n",
    "\n",
    "# Compute median loading across all PCs\n",
    "med_loading = np.median(abs_loadings)\n",
    "\n",
    "# Identify Important Variables (important = have loadings that exceed the median loading)\n",
    "important_vars = np.any(abs_loadings > med_loading, axis=0)\n",
    "\n",
    "# Extract var_names\n",
    "important_features = np.array(var_names)[important_vars]\n",
    "print(important_features)"
   ]
  },
  {
   "cell_type": "markdown",
   "metadata": {},
   "source": [
    "Now evaluate the features. Do these make sense for evaluating the price of a house?"
   ]
  },
  {
   "cell_type": "markdown",
   "metadata": {},
   "source": [
    "Apply this to the NBA Dataset!!!"
   ]
  }
 ],
 "metadata": {
  "colab": {
   "provenance": [],
   "toc_visible": true
  },
  "kernelspec": {
   "display_name": ".venv",
   "language": "python",
   "name": "python3"
  },
  "language_info": {
   "codemirror_mode": {
    "name": "ipython",
    "version": 3
   },
   "file_extension": ".py",
   "mimetype": "text/x-python",
   "name": "python",
   "nbconvert_exporter": "python",
   "pygments_lexer": "ipython3",
   "version": "3.11.11"
  }
 },
 "nbformat": 4,
 "nbformat_minor": 0
}
