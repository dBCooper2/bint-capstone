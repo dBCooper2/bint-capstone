{
 "cells": [
  {
   "cell_type": "markdown",
   "metadata": {
    "id": "YroIKpG9r-sF"
   },
   "source": [
    "## $\\color{red}{\\text{Lecture Overview}}$\n",
    "1. **Dimensionality reduction**\n",
    "2. **Principal components analysis**"
   ]
  },
  {
   "cell_type": "markdown",
   "metadata": {
    "id": "N9A6rHCerwGG"
   },
   "source": [
    "## $\\color{red}{\\text{Dimensionality reduction}}$\n",
    "\n",
    "1. The **curse of dimensionality** arises when data analysis and modeling may be adversely affected by the explosion of data\n",
    "2. The curse of dimensionality has the following negative effects\n",
    "  - Datasets may have hundreds or thousands of variables\n",
    "  - It may be computationally expensive to analyze the data\n",
    "  - Some variables may capture noise\n",
    "  - Some independent variables may be irrelevant to the dependent variable\n",
    "3. **Dimensionality reduction** refers to the process of curbing the effects of the curse of dimensionality\n",
    "  - We use statistical and heuristic methods to obtain a subset of variables that may explain the phenomena\n",
    "  - We can also use dimensionality reduction techniques to visualize the data"
   ]
  },
  {
   "cell_type": "markdown",
   "metadata": {
    "id": "AS258Rng6A26"
   },
   "source": [
    "## $\\color{red}{\\text{Principal components analysis (PCA)}}$\n",
    "\n",
    "1. PCA reduces a set high-dimensional variables to a lower-dimensional set of variables called **principal components**\n",
    "2. **Principal components** are linear combination of the original variables and are uncorrelated with each other\n",
    "3. Initial principal components capture most variation in the data\n",
    "4. The **loadings** of each variable in the principal component may give an indication of its importance\n",
    "4. PCA is also used to visualize high-dimensional datasets"
   ]
  },
  {
   "cell_type": "markdown",
   "metadata": {
    "id": "kZN8qhFdA7xk"
   },
   "source": [
    "### $\\color{blue}{\\text{Advantages of PCA}}$\n",
    "\n",
    "- Principal components are uncorrelated\n",
    "- PCA has many applications, making it very versatile"
   ]
  },
  {
   "cell_type": "markdown",
   "metadata": {
    "id": "pnCkF0hIBM3S"
   },
   "source": [
    "### $\\color{blue}{\\text{Disadvantages of PCA}}$\n",
    "\n",
    "1. Does not seek to understand variable scales or distribution\n",
    "2. It is affected by variable scales or units\n",
    "  - Variables should be transformed\n",
    "  - Variables should be standardized or normalized before PCA"
   ]
  },
  {
   "cell_type": "markdown",
   "metadata": {
    "id": "ilCp__WmrwGJ"
   },
   "source": [
    "## $\\color{red}{\\text{Import Required Packages}}$"
   ]
  },
  {
   "cell_type": "code",
   "execution_count": 1,
   "metadata": {
    "executionInfo": {
     "elapsed": 2072,
     "status": "ok",
     "timestamp": 1741173669558,
     "user": {
      "displayName": "eddie",
      "userId": "06842710327189752667"
     },
     "user_tz": 360
    },
    "id": "oBfANGYYrwGK"
   },
   "outputs": [],
   "source": [
    "import pandas as pd \n",
    "import numpy as np\n",
    "\n",
    "# Set display options to show all columns and a large width\n",
    "pd.set_option('display.max_columns', None)  # Show all columns\n",
    "pd.set_option('display.width', 1000)  # Adjust the width as needed\n",
    "\n",
    "%matplotlib inline\n",
    "import matplotlib.pylab as plt\n",
    "\n",
    "\n",
    "from sklearn.preprocessing import StandardScaler\n",
    "from sklearn.decomposition import PCA\n",
    "\n",
    "from kneed import KneeLocator"
   ]
  },
  {
   "cell_type": "markdown",
   "metadata": {
    "id": "g_YuOITRrwGL"
   },
   "source": [
    "## $\\color{red}{\\text{Import Data}}$"
   ]
  },
  {
   "cell_type": "code",
   "execution_count": null,
   "metadata": {
    "colab": {
     "base_uri": "https://localhost:8080/"
    },
    "executionInfo": {
     "elapsed": 20438,
     "status": "ok",
     "timestamp": 1741173689997,
     "user": {
      "displayName": "eddie",
      "userId": "06842710327189752667"
     },
     "user_tz": 360
    },
    "id": "jTABhjeJhSwY",
    "outputId": "008db265-56ba-4786-96b7-5c1077448aa7"
   },
   "outputs": [],
   "source": [
    "housing_df = pd.read_csv('housingData.csv')"
   ]
  },
  {
   "cell_type": "markdown",
   "metadata": {
    "id": "uTa1FsGcrwGM"
   },
   "source": [
    "## $\\color{red}{\\text{Analytic task}}$\n",
    "1. Using the housing data, reduce the dimensions using PCA\n",
    "2. Obtain variables coming out of the PCA"
   ]
  },
  {
   "cell_type": "markdown",
   "metadata": {
    "id": "SUJOhemLrwGM"
   },
   "source": [
    "## $\\color{red}{\\text{Data transformation}}$\n"
   ]
  },
  {
   "cell_type": "markdown",
   "metadata": {
    "id": "mk4zjNpdnuvW"
   },
   "source": [
    "### $\\color{blue}{\\text{Standardization}}$"
   ]
  },
  {
   "cell_type": "code",
   "execution_count": 3,
   "metadata": {
    "executionInfo": {
     "elapsed": 3,
     "status": "ok",
     "timestamp": 1741174036376,
     "user": {
      "displayName": "eddie",
      "userId": "06842710327189752667"
     },
     "user_tz": 360
    },
    "id": "L4y4TH5tLjOr"
   },
   "outputs": [
    {
     "data": {
      "text/html": [
       "<div>\n",
       "<style scoped>\n",
       "    .dataframe tbody tr th:only-of-type {\n",
       "        vertical-align: middle;\n",
       "    }\n",
       "\n",
       "    .dataframe tbody tr th {\n",
       "        vertical-align: top;\n",
       "    }\n",
       "\n",
       "    .dataframe thead th {\n",
       "        text-align: right;\n",
       "    }\n",
       "</style>\n",
       "<table border=\"1\" class=\"dataframe\">\n",
       "  <thead>\n",
       "    <tr style=\"text-align: right;\">\n",
       "      <th></th>\n",
       "      <th>id</th>\n",
       "      <th>date</th>\n",
       "      <th>bedrooms</th>\n",
       "      <th>bathrooms</th>\n",
       "      <th>sqft_living</th>\n",
       "      <th>sqft_lot</th>\n",
       "      <th>floors</th>\n",
       "      <th>waterfront</th>\n",
       "      <th>view</th>\n",
       "      <th>condition</th>\n",
       "      <th>grade</th>\n",
       "      <th>sqft_above</th>\n",
       "      <th>sqft_basement</th>\n",
       "      <th>yr_built</th>\n",
       "      <th>yr_renovated</th>\n",
       "      <th>zipcode</th>\n",
       "      <th>lat</th>\n",
       "      <th>long</th>\n",
       "      <th>sqft_living15</th>\n",
       "      <th>sqft_lot15</th>\n",
       "      <th>price</th>\n",
       "    </tr>\n",
       "  </thead>\n",
       "  <tbody>\n",
       "    <tr>\n",
       "      <th>0</th>\n",
       "      <td>7129300520</td>\n",
       "      <td>20141013T000000</td>\n",
       "      <td>3</td>\n",
       "      <td>1.00</td>\n",
       "      <td>1180</td>\n",
       "      <td>5650</td>\n",
       "      <td>1.0</td>\n",
       "      <td>0</td>\n",
       "      <td>0</td>\n",
       "      <td>3</td>\n",
       "      <td>7</td>\n",
       "      <td>1180</td>\n",
       "      <td>0</td>\n",
       "      <td>1955</td>\n",
       "      <td>0</td>\n",
       "      <td>98178</td>\n",
       "      <td>47.5112</td>\n",
       "      <td>-122.257</td>\n",
       "      <td>1340</td>\n",
       "      <td>5650</td>\n",
       "      <td>221900.0</td>\n",
       "    </tr>\n",
       "    <tr>\n",
       "      <th>1</th>\n",
       "      <td>6414100192</td>\n",
       "      <td>20141209T000000</td>\n",
       "      <td>3</td>\n",
       "      <td>2.25</td>\n",
       "      <td>2570</td>\n",
       "      <td>7242</td>\n",
       "      <td>2.0</td>\n",
       "      <td>0</td>\n",
       "      <td>0</td>\n",
       "      <td>3</td>\n",
       "      <td>7</td>\n",
       "      <td>2170</td>\n",
       "      <td>400</td>\n",
       "      <td>1951</td>\n",
       "      <td>1991</td>\n",
       "      <td>98125</td>\n",
       "      <td>47.7210</td>\n",
       "      <td>-122.319</td>\n",
       "      <td>1690</td>\n",
       "      <td>7639</td>\n",
       "      <td>538000.0</td>\n",
       "    </tr>\n",
       "    <tr>\n",
       "      <th>2</th>\n",
       "      <td>5631500400</td>\n",
       "      <td>20150225T000000</td>\n",
       "      <td>2</td>\n",
       "      <td>1.00</td>\n",
       "      <td>770</td>\n",
       "      <td>10000</td>\n",
       "      <td>1.0</td>\n",
       "      <td>0</td>\n",
       "      <td>0</td>\n",
       "      <td>3</td>\n",
       "      <td>6</td>\n",
       "      <td>770</td>\n",
       "      <td>0</td>\n",
       "      <td>1933</td>\n",
       "      <td>0</td>\n",
       "      <td>98028</td>\n",
       "      <td>47.7379</td>\n",
       "      <td>-122.233</td>\n",
       "      <td>2720</td>\n",
       "      <td>8062</td>\n",
       "      <td>180000.0</td>\n",
       "    </tr>\n",
       "    <tr>\n",
       "      <th>3</th>\n",
       "      <td>2487200875</td>\n",
       "      <td>20141209T000000</td>\n",
       "      <td>4</td>\n",
       "      <td>3.00</td>\n",
       "      <td>1960</td>\n",
       "      <td>5000</td>\n",
       "      <td>1.0</td>\n",
       "      <td>0</td>\n",
       "      <td>0</td>\n",
       "      <td>5</td>\n",
       "      <td>7</td>\n",
       "      <td>1050</td>\n",
       "      <td>910</td>\n",
       "      <td>1965</td>\n",
       "      <td>0</td>\n",
       "      <td>98136</td>\n",
       "      <td>47.5208</td>\n",
       "      <td>-122.393</td>\n",
       "      <td>1360</td>\n",
       "      <td>5000</td>\n",
       "      <td>604000.0</td>\n",
       "    </tr>\n",
       "    <tr>\n",
       "      <th>4</th>\n",
       "      <td>1954400510</td>\n",
       "      <td>20150218T000000</td>\n",
       "      <td>3</td>\n",
       "      <td>2.00</td>\n",
       "      <td>1680</td>\n",
       "      <td>8080</td>\n",
       "      <td>1.0</td>\n",
       "      <td>0</td>\n",
       "      <td>0</td>\n",
       "      <td>3</td>\n",
       "      <td>8</td>\n",
       "      <td>1680</td>\n",
       "      <td>0</td>\n",
       "      <td>1987</td>\n",
       "      <td>0</td>\n",
       "      <td>98074</td>\n",
       "      <td>47.6168</td>\n",
       "      <td>-122.045</td>\n",
       "      <td>1800</td>\n",
       "      <td>7503</td>\n",
       "      <td>510000.0</td>\n",
       "    </tr>\n",
       "  </tbody>\n",
       "</table>\n",
       "</div>"
      ],
      "text/plain": [
       "           id             date  bedrooms  bathrooms  sqft_living  sqft_lot  floors  waterfront  view  condition  grade  sqft_above  sqft_basement  yr_built  yr_renovated  zipcode      lat     long  sqft_living15  sqft_lot15     price\n",
       "0  7129300520  20141013T000000         3       1.00         1180      5650     1.0           0     0          3      7        1180              0      1955             0    98178  47.5112 -122.257           1340        5650  221900.0\n",
       "1  6414100192  20141209T000000         3       2.25         2570      7242     2.0           0     0          3      7        2170            400      1951          1991    98125  47.7210 -122.319           1690        7639  538000.0\n",
       "2  5631500400  20150225T000000         2       1.00          770     10000     1.0           0     0          3      6         770              0      1933             0    98028  47.7379 -122.233           2720        8062  180000.0\n",
       "3  2487200875  20141209T000000         4       3.00         1960      5000     1.0           0     0          5      7        1050            910      1965             0    98136  47.5208 -122.393           1360        5000  604000.0\n",
       "4  1954400510  20150218T000000         3       2.00         1680      8080     1.0           0     0          3      8        1680              0      1987             0    98074  47.6168 -122.045           1800        7503  510000.0"
      ]
     },
     "execution_count": 3,
     "metadata": {},
     "output_type": "execute_result"
    }
   ],
   "source": [
    "housing_df.head()"
   ]
  },
  {
   "cell_type": "code",
   "execution_count": 4,
   "metadata": {
    "executionInfo": {
     "elapsed": 2,
     "status": "ok",
     "timestamp": 1741174315110,
     "user": {
      "displayName": "eddie",
      "userId": "06842710327189752667"
     },
     "user_tz": 360
    },
    "id": "U6PqOkVUl7Jz"
   },
   "outputs": [],
   "source": [
    "# Compute age of the building \n",
    "current_year = pd.Timestamp.now().year\n",
    "housing_df['building_age'] = current_year - housing_df['yr_built']\n",
    "#housing_df.head()"
   ]
  },
  {
   "cell_type": "code",
   "execution_count": 5,
   "metadata": {},
   "outputs": [
    {
     "data": {
      "text/plain": [
       "array([[-0.39873715, -1.44746357, -0.97983502, ..., -0.26071541,\n",
       "        -0.86641874,  0.54489777],\n",
       "       [-0.39873715,  0.1756067 ,  0.53363434, ..., -0.18786773,\n",
       "        -0.00594021,  0.6810785 ],\n",
       "       [-1.47395936, -1.44746357, -1.42625404, ..., -0.17237524,\n",
       "        -0.98047774,  1.29389179],\n",
       "       ...,\n",
       "       [-1.47395936, -1.77207762, -1.15404732, ..., -0.39414129,\n",
       "        -0.37588065, -1.29354209],\n",
       "       [-0.39873715,  0.50022075, -0.52252773, ..., -0.42051149,\n",
       "        -0.38159993, -1.12331618],\n",
       "       [-1.47395936, -1.77207762, -1.15404732, ..., -0.41794772,\n",
       "        -0.58576282, -1.25949691]])"
      ]
     },
     "execution_count": 5,
     "metadata": {},
     "output_type": "execute_result"
    }
   ],
   "source": [
    "# Drop the following variables from the data - they are not needed for analysis\n",
    "drop_vars = ['id', 'date', 'zipcode', 'yr_built', 'yr_renovated']\n",
    "new_housing = housing_df.drop(drop_vars, axis=1)\n",
    "\n",
    "\n",
    "# standardizing the data\n",
    "scaler = StandardScaler()\n",
    "standardized_data = scaler.fit_transform(new_housing)\n",
    "\n",
    "standardized_data # this is not a df; its a numpy array"
   ]
  },
  {
   "cell_type": "markdown",
   "metadata": {
    "id": "nv0I93bpouqV"
   },
   "source": [
    "### $\\color{blue}{\\text{Component selection - explained variance approach}}$\n",
    "1. The **explained variance** approach determines the number of principal components needed to retain a chosen percentage (e.g., 95%) of the total variance in the dataset\n",
    "\n",
    "2. It ensures that enough components are selected to preserve most of the original data's information while reducing dimensionality.\n"
   ]
  },
  {
   "cell_type": "markdown",
   "metadata": {
    "id": "fM8BkboDwRoQ"
   },
   "source": [
    "#### $\\color{green}{\\text{Advantages and disadvantages}}$\n",
    "1. **Advantages**\n",
    "  - Provides a quantitative and objective method for component selection, ensuring minimal information loss\n",
    "2. **Disadvantages**\n",
    "  - The threshold (e.g., 95%) is arbitrary and may lead to either too many or too few components being retained."
   ]
  },
  {
   "cell_type": "code",
   "execution_count": 6,
   "metadata": {
    "id": "jn4vhD2HKutK"
   },
   "outputs": [
    {
     "data": {
      "text/html": [
       "<div>\n",
       "<style scoped>\n",
       "    .dataframe tbody tr th:only-of-type {\n",
       "        vertical-align: middle;\n",
       "    }\n",
       "\n",
       "    .dataframe tbody tr th {\n",
       "        vertical-align: top;\n",
       "    }\n",
       "\n",
       "    .dataframe thead th {\n",
       "        text-align: right;\n",
       "    }\n",
       "</style>\n",
       "<table border=\"1\" class=\"dataframe\">\n",
       "  <thead>\n",
       "    <tr style=\"text-align: right;\">\n",
       "      <th></th>\n",
       "      <th>bedrooms</th>\n",
       "      <th>bathrooms</th>\n",
       "      <th>sqft_living</th>\n",
       "      <th>sqft_lot</th>\n",
       "      <th>floors</th>\n",
       "      <th>waterfront</th>\n",
       "      <th>view</th>\n",
       "      <th>condition</th>\n",
       "      <th>grade</th>\n",
       "      <th>sqft_above</th>\n",
       "      <th>sqft_basement</th>\n",
       "      <th>lat</th>\n",
       "      <th>long</th>\n",
       "      <th>sqft_living15</th>\n",
       "      <th>sqft_lot15</th>\n",
       "      <th>price</th>\n",
       "      <th>building_age</th>\n",
       "    </tr>\n",
       "  </thead>\n",
       "  <tbody>\n",
       "    <tr>\n",
       "      <th>0</th>\n",
       "      <td>3</td>\n",
       "      <td>1.00</td>\n",
       "      <td>1180</td>\n",
       "      <td>5650</td>\n",
       "      <td>1.0</td>\n",
       "      <td>0</td>\n",
       "      <td>0</td>\n",
       "      <td>3</td>\n",
       "      <td>7</td>\n",
       "      <td>1180</td>\n",
       "      <td>0</td>\n",
       "      <td>47.5112</td>\n",
       "      <td>-122.257</td>\n",
       "      <td>1340</td>\n",
       "      <td>5650</td>\n",
       "      <td>221900.0</td>\n",
       "      <td>70</td>\n",
       "    </tr>\n",
       "    <tr>\n",
       "      <th>1</th>\n",
       "      <td>3</td>\n",
       "      <td>2.25</td>\n",
       "      <td>2570</td>\n",
       "      <td>7242</td>\n",
       "      <td>2.0</td>\n",
       "      <td>0</td>\n",
       "      <td>0</td>\n",
       "      <td>3</td>\n",
       "      <td>7</td>\n",
       "      <td>2170</td>\n",
       "      <td>400</td>\n",
       "      <td>47.7210</td>\n",
       "      <td>-122.319</td>\n",
       "      <td>1690</td>\n",
       "      <td>7639</td>\n",
       "      <td>538000.0</td>\n",
       "      <td>74</td>\n",
       "    </tr>\n",
       "    <tr>\n",
       "      <th>2</th>\n",
       "      <td>2</td>\n",
       "      <td>1.00</td>\n",
       "      <td>770</td>\n",
       "      <td>10000</td>\n",
       "      <td>1.0</td>\n",
       "      <td>0</td>\n",
       "      <td>0</td>\n",
       "      <td>3</td>\n",
       "      <td>6</td>\n",
       "      <td>770</td>\n",
       "      <td>0</td>\n",
       "      <td>47.7379</td>\n",
       "      <td>-122.233</td>\n",
       "      <td>2720</td>\n",
       "      <td>8062</td>\n",
       "      <td>180000.0</td>\n",
       "      <td>92</td>\n",
       "    </tr>\n",
       "    <tr>\n",
       "      <th>3</th>\n",
       "      <td>4</td>\n",
       "      <td>3.00</td>\n",
       "      <td>1960</td>\n",
       "      <td>5000</td>\n",
       "      <td>1.0</td>\n",
       "      <td>0</td>\n",
       "      <td>0</td>\n",
       "      <td>5</td>\n",
       "      <td>7</td>\n",
       "      <td>1050</td>\n",
       "      <td>910</td>\n",
       "      <td>47.5208</td>\n",
       "      <td>-122.393</td>\n",
       "      <td>1360</td>\n",
       "      <td>5000</td>\n",
       "      <td>604000.0</td>\n",
       "      <td>60</td>\n",
       "    </tr>\n",
       "    <tr>\n",
       "      <th>4</th>\n",
       "      <td>3</td>\n",
       "      <td>2.00</td>\n",
       "      <td>1680</td>\n",
       "      <td>8080</td>\n",
       "      <td>1.0</td>\n",
       "      <td>0</td>\n",
       "      <td>0</td>\n",
       "      <td>3</td>\n",
       "      <td>8</td>\n",
       "      <td>1680</td>\n",
       "      <td>0</td>\n",
       "      <td>47.6168</td>\n",
       "      <td>-122.045</td>\n",
       "      <td>1800</td>\n",
       "      <td>7503</td>\n",
       "      <td>510000.0</td>\n",
       "      <td>38</td>\n",
       "    </tr>\n",
       "  </tbody>\n",
       "</table>\n",
       "</div>"
      ],
      "text/plain": [
       "   bedrooms  bathrooms  sqft_living  sqft_lot  floors  waterfront  view  condition  grade  sqft_above  sqft_basement      lat     long  sqft_living15  sqft_lot15     price  building_age\n",
       "0         3       1.00         1180      5650     1.0           0     0          3      7        1180              0  47.5112 -122.257           1340        5650  221900.0            70\n",
       "1         3       2.25         2570      7242     2.0           0     0          3      7        2170            400  47.7210 -122.319           1690        7639  538000.0            74\n",
       "2         2       1.00          770     10000     1.0           0     0          3      6         770              0  47.7379 -122.233           2720        8062  180000.0            92\n",
       "3         4       3.00         1960      5000     1.0           0     0          5      7        1050            910  47.5208 -122.393           1360        5000  604000.0            60\n",
       "4         3       2.00         1680      8080     1.0           0     0          3      8        1680              0  47.6168 -122.045           1800        7503  510000.0            38"
      ]
     },
     "execution_count": 6,
     "metadata": {},
     "output_type": "execute_result"
    }
   ],
   "source": [
    "new_housing.head()"
   ]
  },
  {
   "cell_type": "markdown",
   "metadata": {
    "id": "NzxugCBLsKuN"
   },
   "source": [
    "### $\\color{blue}{\\text{Component selection - the scree plot}}$\n",
    "1. The **scree plot** visualizes the explained variance of each principal component, helping identify the optimal number of components to retain in PCA.\n",
    "\n",
    "2. It allows for **elbow detection**, where the variance gain diminishes, indicating an ideal cutoff point for dimensionality reduction."
   ]
  },
  {
   "cell_type": "markdown",
   "metadata": {
    "id": "0Vbsv_cAxR1q"
   },
   "source": [
    "#### $\\color{green}{\\text{Advantages and disadvantages}}$\n",
    "1. **Advantages**\n",
    "  - Simple to interpret, provides a visual way to determine how many components to keep\n",
    "2. **Disadvantages**\n",
    "  - The \"elbow\" point is subjective and may not always be clearly defined"
   ]
  },
  {
   "cell_type": "code",
   "execution_count": 7,
   "metadata": {
    "id": "LIqN7bnCK1cp"
   },
   "outputs": [
    {
     "data": {
      "image/png": "[encoded data removed]",
      "text/plain": [
       "<Figure size 800x600 with 1 Axes>"
      ]
     },
     "metadata": {},
     "output_type": "display_data"
    }
   ],
   "source": [
    "# apply PCA without specifying the number of components keeps all\n",
    "pca = PCA()\n",
    "pca.fit(standardized_data)\n",
    "\n",
    "# compute the explained variance\n",
    "explained_variance = pca.explained_variance_ratio_\n",
    "cumulative_variance = np.cumsum(explained_variance)\n",
    "\n",
    "\n",
    "# fund the number of components that explains at least some threshold of variance\n",
    "threshold = 0.9\n",
    "n_components_thresh = np.argmax(cumulative_variance >= threshold) + 1\n",
    "#n_components_thresh\n",
    "\n",
    "# plot the cumulative explained variance\n",
    "plt.figure(figsize=(8,6))\n",
    "plt.plot(range(1,len(cumulative_variance ) + 1), cumulative_variance, marker='o', linestyle='--')\n",
    "plt.axhline(y=threshold, color='r', linestyle='--', label=f'{threshold*100}% Variance Explained')\n",
    "plt.axvline(x=n_components_thresh, color='b', linestyle='--', label=f'Optimal PCs = {n_components_thresh}')\n",
    "plt.xlabel(\"Number of Principal Components\")\n",
    "plt.ylabel(\"Cumulative Explained Variance\")\n",
    "plt.title(\"Explained Variance vs Number of Components\")\n",
    "plt.legend()\n",
    "plt.show()"
   ]
  },
  {
   "cell_type": "code",
   "execution_count": 12,
   "metadata": {
    "id": "kaL7qDebxisj"
   },
   "outputs": [
    {
     "data": {
      "image/png": "[encoded data removed]",
      "text/plain": [
       "<Figure size 800x500 with 1 Axes>"
      ]
     },
     "metadata": {},
     "output_type": "display_data"
    }
   ],
   "source": [
    "\n",
    "# Find the elbow point mathemetically\n",
    "knee_locator = KneeLocator(range(1, len(explained_variance) + 1), explained_variance, curve='convex', direction='decreasing')\n",
    "scree_components = knee_locator.knee\n",
    "\n",
    "# scree plot with knee locator\n",
    "plt.figure(figsize=(8,5))\n",
    "plt.plot(range(1,len(explained_variance ) + 1), explained_variance, marker='o', linestyle='--')\n",
    "plt.axvline(x=scree_components, color='r', linestyle='--', label=f'KneeLocator Elbow = {scree_components}')\n",
    "plt.axhline(y=explained_variance[scree_components-1], color='g', linestyle='--', label=f'Elbow Explained Variance')\n",
    "plt.xlabel(\"Principal Components\")\n",
    "plt.ylabel(\"Explained Variance Ratio\")\n",
    "plt.title(\"Scree Plot with KneeLocator\")\n",
    "plt.legend()\n",
    "plt.show()"
   ]
  },
  {
   "cell_type": "markdown",
   "metadata": {},
   "source": [
    "According to the knee locator, we're going to need 4 principal components. The pca method said to use 10 principal components to explain at least 90% vairance. what percent of cumulative variance does the 4 principal components have"
   ]
  },
  {
   "cell_type": "code",
   "execution_count": 13,
   "metadata": {},
   "outputs": [
    {
     "name": "stdout",
     "output_type": "stream",
     "text": [
      "Percentage of variance explained by 4 components: 64.03%\n",
      "Percentage of variance explained by 10 components: 90.84%\n"
     ]
    }
   ],
   "source": [
    "# compare cumulative explained variance for both methods\n",
    "exp_varScree = np.sum(explained_variance[:scree_components])\n",
    "exp_varThresh = np.sum(explained_variance[:n_components_thresh])\n",
    "\n",
    "print(f\"Percentage of variance explained by {scree_components} components: {exp_varScree:.2%}\")\n",
    "print(f\"Percentage of variance explained by {n_components_thresh} components: {exp_varThresh:.2%}\")"
   ]
  },
  {
   "cell_type": "markdown",
   "metadata": {
    "id": "9oZTDheJ6Lv5"
   },
   "source": [
    "## $\\color{red}{\\text{Applying PCA}}$"
   ]
  },
  {
   "cell_type": "code",
   "execution_count": 20,
   "metadata": {
    "id": "cjAnvhSxyf3N"
   },
   "outputs": [
    {
     "data": {
      "text/html": [
       "<div>\n",
       "<style scoped>\n",
       "    .dataframe tbody tr th:only-of-type {\n",
       "        vertical-align: middle;\n",
       "    }\n",
       "\n",
       "    .dataframe tbody tr th {\n",
       "        vertical-align: top;\n",
       "    }\n",
       "\n",
       "    .dataframe thead th {\n",
       "        text-align: right;\n",
       "    }\n",
       "</style>\n",
       "<table border=\"1\" class=\"dataframe\">\n",
       "  <thead>\n",
       "    <tr style=\"text-align: right;\">\n",
       "      <th></th>\n",
       "      <th>PC1</th>\n",
       "      <th>PC2</th>\n",
       "      <th>PC3</th>\n",
       "      <th>PC4</th>\n",
       "      <th>PC5</th>\n",
       "      <th>PC6</th>\n",
       "      <th>PC7</th>\n",
       "      <th>PC8</th>\n",
       "      <th>PC9</th>\n",
       "      <th>PC10</th>\n",
       "    </tr>\n",
       "  </thead>\n",
       "  <tbody>\n",
       "    <tr>\n",
       "      <th>0</th>\n",
       "      <td>-2.559576</td>\n",
       "      <td>-0.390721</td>\n",
       "      <td>0.016333</td>\n",
       "      <td>0.282908</td>\n",
       "      <td>-0.112909</td>\n",
       "      <td>-0.271385</td>\n",
       "      <td>0.213558</td>\n",
       "      <td>-0.248320</td>\n",
       "      <td>-0.872573</td>\n",
       "      <td>-0.087185</td>\n",
       "    </tr>\n",
       "    <tr>\n",
       "      <th>1</th>\n",
       "      <td>-0.026299</td>\n",
       "      <td>0.299523</td>\n",
       "      <td>-0.843729</td>\n",
       "      <td>0.247204</td>\n",
       "      <td>1.280942</td>\n",
       "      <td>-0.471283</td>\n",
       "      <td>-0.590427</td>\n",
       "      <td>0.336089</td>\n",
       "      <td>-0.188552</td>\n",
       "      <td>-0.008823</td>\n",
       "    </tr>\n",
       "    <tr>\n",
       "      <th>2</th>\n",
       "      <td>-2.892039</td>\n",
       "      <td>0.102178</td>\n",
       "      <td>0.182927</td>\n",
       "      <td>0.686772</td>\n",
       "      <td>1.360391</td>\n",
       "      <td>-0.008250</td>\n",
       "      <td>1.451650</td>\n",
       "      <td>-0.501816</td>\n",
       "      <td>-0.783135</td>\n",
       "      <td>0.104251</td>\n",
       "    </tr>\n",
       "    <tr>\n",
       "      <th>3</th>\n",
       "      <td>-0.850740</td>\n",
       "      <td>2.161896</td>\n",
       "      <td>0.019423</td>\n",
       "      <td>-1.741151</td>\n",
       "      <td>-0.856692</td>\n",
       "      <td>0.275158</td>\n",
       "      <td>-1.155702</td>\n",
       "      <td>0.686873</td>\n",
       "      <td>1.508809</td>\n",
       "      <td>-0.412923</td>\n",
       "    </tr>\n",
       "    <tr>\n",
       "      <th>4</th>\n",
       "      <td>-0.390186</td>\n",
       "      <td>-0.960203</td>\n",
       "      <td>-0.064851</td>\n",
       "      <td>0.146920</td>\n",
       "      <td>0.231865</td>\n",
       "      <td>-0.016982</td>\n",
       "      <td>1.497014</td>\n",
       "      <td>0.087628</td>\n",
       "      <td>-0.088560</td>\n",
       "      <td>-0.063445</td>\n",
       "    </tr>\n",
       "  </tbody>\n",
       "</table>\n",
       "</div>"
      ],
      "text/plain": [
       "        PC1       PC2       PC3       PC4       PC5       PC6       PC7       PC8       PC9      PC10\n",
       "0 -2.559576 -0.390721  0.016333  0.282908 -0.112909 -0.271385  0.213558 -0.248320 -0.872573 -0.087185\n",
       "1 -0.026299  0.299523 -0.843729  0.247204  1.280942 -0.471283 -0.590427  0.336089 -0.188552 -0.008823\n",
       "2 -2.892039  0.102178  0.182927  0.686772  1.360391 -0.008250  1.451650 -0.501816 -0.783135  0.104251\n",
       "3 -0.850740  2.161896  0.019423 -1.741151 -0.856692  0.275158 -1.155702  0.686873  1.508809 -0.412923\n",
       "4 -0.390186 -0.960203 -0.064851  0.146920  0.231865 -0.016982  1.497014  0.087628 -0.088560 -0.063445"
      ]
     },
     "execution_count": 20,
     "metadata": {},
     "output_type": "execute_result"
    }
   ],
   "source": [
    "# Conduct PCA using optimal number of components\n",
    "pca = PCA(n_components=n_components_thresh)\n",
    "housing_pca = pca.fit_transform(standardized_data)\n",
    "#housing_pca\n",
    "\n",
    "# Convert PCA results to dataframe\n",
    "housing_pca_df = pd.DataFrame(housing_pca, columns=[f'PC{i+1}' for i in range(housing_pca.shape[1])])\n",
    "housing_pca_df.head()"
   ]
  },
  {
   "cell_type": "markdown",
   "metadata": {
    "id": "yJBffElwt3de"
   },
   "source": [
    "### $\\color{blue}{\\text{Finding influential variables}}$\n",
    "\n",
    "1. Compute the absolute **loadings** for each variable in the PCs\n",
    "  - **Loadings** are the coefficients (weights) that show how much each original variable contributes to a principal component (PC)\n",
    "  - The larger the absolute loadings, the more influence the variable has on the PC\n",
    "2. Select variables with consistently high loadings across multiple\n",
    "3. Set some selection criteria\n",
    "  - For us, a variable is important if the absolute value of its loading exceeds the median load across all PCS"
   ]
  },
  {
   "cell_type": "code",
   "execution_count": 23,
   "metadata": {
    "id": "S2dcUckb8d9B"
   },
   "outputs": [
    {
     "data": {
      "text/html": [
       "<div>\n",
       "<style scoped>\n",
       "    .dataframe tbody tr th:only-of-type {\n",
       "        vertical-align: middle;\n",
       "    }\n",
       "\n",
       "    .dataframe tbody tr th {\n",
       "        vertical-align: top;\n",
       "    }\n",
       "\n",
       "    .dataframe thead th {\n",
       "        text-align: right;\n",
       "    }\n",
       "</style>\n",
       "<table border=\"1\" class=\"dataframe\">\n",
       "  <thead>\n",
       "    <tr style=\"text-align: right;\">\n",
       "      <th></th>\n",
       "      <th>PC1</th>\n",
       "      <th>PC2</th>\n",
       "      <th>PC3</th>\n",
       "      <th>PC4</th>\n",
       "      <th>PC5</th>\n",
       "      <th>PC6</th>\n",
       "      <th>PC7</th>\n",
       "      <th>PC8</th>\n",
       "      <th>PC9</th>\n",
       "      <th>PC10</th>\n",
       "    </tr>\n",
       "  </thead>\n",
       "  <tbody>\n",
       "    <tr>\n",
       "      <th>bedrooms</th>\n",
       "      <td>0.237067</td>\n",
       "      <td>0.097978</td>\n",
       "      <td>-0.048910</td>\n",
       "      <td>-0.406783</td>\n",
       "      <td>-0.195498</td>\n",
       "      <td>-0.064896</td>\n",
       "      <td>-0.195892</td>\n",
       "      <td>0.477480</td>\n",
       "      <td>-0.427722</td>\n",
       "      <td>0.342102</td>\n",
       "    </tr>\n",
       "    <tr>\n",
       "      <th>bathrooms</th>\n",
       "      <td>0.352553</td>\n",
       "      <td>-0.020713</td>\n",
       "      <td>-0.106613</td>\n",
       "      <td>-0.109422</td>\n",
       "      <td>-0.090264</td>\n",
       "      <td>-0.134005</td>\n",
       "      <td>-0.153045</td>\n",
       "      <td>0.150956</td>\n",
       "      <td>0.265689</td>\n",
       "      <td>0.000409</td>\n",
       "    </tr>\n",
       "    <tr>\n",
       "      <th>sqft_living</th>\n",
       "      <td>0.393238</td>\n",
       "      <td>0.117294</td>\n",
       "      <td>0.017791</td>\n",
       "      <td>-0.141985</td>\n",
       "      <td>-0.030645</td>\n",
       "      <td>-0.023364</td>\n",
       "      <td>-0.010124</td>\n",
       "      <td>-0.054510</td>\n",
       "      <td>-0.081100</td>\n",
       "      <td>-0.118257</td>\n",
       "    </tr>\n",
       "    <tr>\n",
       "      <th>sqft_lot</th>\n",
       "      <td>0.091369</td>\n",
       "      <td>-0.108046</td>\n",
       "      <td>0.619673</td>\n",
       "      <td>0.041611</td>\n",
       "      <td>0.203139</td>\n",
       "      <td>-0.118322</td>\n",
       "      <td>-0.210498</td>\n",
       "      <td>0.061709</td>\n",
       "      <td>0.028028</td>\n",
       "      <td>0.012207</td>\n",
       "    </tr>\n",
       "    <tr>\n",
       "      <th>floors</th>\n",
       "      <td>0.222183</td>\n",
       "      <td>-0.272722</td>\n",
       "      <td>-0.256816</td>\n",
       "      <td>0.218370</td>\n",
       "      <td>0.119533</td>\n",
       "      <td>0.097117</td>\n",
       "      <td>-0.444442</td>\n",
       "      <td>0.140476</td>\n",
       "      <td>0.227256</td>\n",
       "      <td>0.214457</td>\n",
       "    </tr>\n",
       "  </tbody>\n",
       "</table>\n",
       "</div>"
      ],
      "text/plain": [
       "                  PC1       PC2       PC3       PC4       PC5       PC6       PC7       PC8       PC9      PC10\n",
       "bedrooms     0.237067  0.097978 -0.048910 -0.406783 -0.195498 -0.064896 -0.195892  0.477480 -0.427722  0.342102\n",
       "bathrooms    0.352553 -0.020713 -0.106613 -0.109422 -0.090264 -0.134005 -0.153045  0.150956  0.265689  0.000409\n",
       "sqft_living  0.393238  0.117294  0.017791 -0.141985 -0.030645 -0.023364 -0.010124 -0.054510 -0.081100 -0.118257\n",
       "sqft_lot     0.091369 -0.108046  0.619673  0.041611  0.203139 -0.118322 -0.210498  0.061709  0.028028  0.012207\n",
       "floors       0.222183 -0.272722 -0.256816  0.218370  0.119533  0.097117 -0.444442  0.140476  0.227256  0.214457"
      ]
     },
     "execution_count": 23,
     "metadata": {},
     "output_type": "execute_result"
    }
   ],
   "source": [
    "# Display the loadings of each variable in each PC\n",
    "var_names = new_housing.columns\n",
    "housing_loadings = pd.DataFrame(pca.components_.T, index=var_names, columns=[f'PC{i+1}' for i in range(pca.n_components_)])\n",
    "housing_loadings.head()"
   ]
  },
  {
   "cell_type": "code",
   "execution_count": 24,
   "metadata": {
    "id": "TI5M5RMns4vR"
   },
   "outputs": [
    {
     "data": {
      "text/plain": [
       "array(['bedrooms', 'bathrooms', 'sqft_living', 'sqft_lot', 'floors',\n",
       "       'waterfront', 'view', 'condition', 'grade', 'sqft_above',\n",
       "       'sqft_basement', 'lat', 'long', 'sqft_living15', 'sqft_lot15',\n",
       "       'price', 'building_age'], dtype=object)"
      ]
     },
     "execution_count": 24,
     "metadata": {},
     "output_type": "execute_result"
    }
   ],
   "source": [
    "# Compute absolute loadings\n",
    "abs_loadings = np.abs(pca.components_)\n",
    "\n",
    "# compute median loading across all PCs\n",
    "median_loadings =  np.median(abs_loadings)\n",
    "\n",
    "# identify important variables (those loadings that exceed the median loading)\n",
    "important_vars = np.any(abs_loadings > median_loadings, axis=0)\n",
    "\n",
    "# extract var names\n",
    "important_features = np.array(var_names)[important_vars]\n",
    "important_features"
   ]
  },
  {
   "cell_type": "code",
   "execution_count": 28,
   "metadata": {},
   "outputs": [
    {
     "data": {
      "text/plain": [
       "22"
      ]
     },
     "execution_count": 28,
     "metadata": {},
     "output_type": "execute_result"
    }
   ],
   "source": [
    "len(important_features) + len(drop_vars)"
   ]
  },
  {
   "cell_type": "code",
   "execution_count": 30,
   "metadata": {
    "id": "C9zqF7Dw7Zmr"
   },
   "outputs": [
    {
     "data": {
      "text/plain": [
       "22"
      ]
     },
     "execution_count": 30,
     "metadata": {},
     "output_type": "execute_result"
    }
   ],
   "source": [
    "housing_df.shape[1]"
   ]
  },
  {
   "cell_type": "markdown",
   "metadata": {},
   "source": [
    "... that didnt reduce anything"
   ]
  }
 ],
 "metadata": {
  "colab": {
   "provenance": [],
   "toc_visible": true
  },
  "kernelspec": {
   "display_name": ".venv",
   "language": "python",
   "name": "python3"
  },
  "language_info": {
   "codemirror_mode": {
    "name": "ipython",
    "version": 3
   },
   "file_extension": ".py",
   "mimetype": "text/x-python",
   "name": "python",
   "nbconvert_exporter": "python",
   "pygments_lexer": "ipython3",
   "version": "3.11.11"
  }
 },
 "nbformat": 4,
 "nbformat_minor": 0
}
