{
 "cells": [
  {
   "cell_type": "markdown",
   "metadata": {
    "id": "YroIKpG9r-sF"
   },
   "source": [
    "## $\\color{red}{\\text{Lecture Overview}}$\n",
    "1. **Dimensionality reduction**\n",
    "2. **Principal components analysis**"
   ]
  },
  {
   "cell_type": "markdown",
   "metadata": {
    "id": "N9A6rHCerwGG"
   },
   "source": [
    "## $\\color{red}{\\text{Dimensionality reduction}}$\n",
    "\n",
    "1. The **curse of dimensionality** arises when data analysis and modeling may be adversely affected by the explosion of data\n",
    "2. The curse of dimensionality has the following negative effects\n",
    "  - Datasets may have hundreds or thousands of variables\n",
    "  - It may be computationally expensive to analyze the data\n",
    "  - Some variables may capture noise\n",
    "  - Some independent variables may be irrelevant to the dependent variable\n",
    "3. **Dimensionality reduction** refers to the process of curbing the effects of the curse of dimensionality\n",
    "  - We use statistical and heuristic methods to obtain a subset of variables that may explain the phenomena\n",
    "  - We can also use dimensionality reduction techniques to visualize the data"
   ]
  },
  {
   "cell_type": "markdown",
   "metadata": {
    "id": "AS258Rng6A26"
   },
   "source": [
    "## $\\color{red}{\\text{Principal components analysis (PCA)}}$\n",
    "\n",
    "1. PCA reduces a set high-dimensional variables to a lower-dimensional set of variables called **principal components**\n",
    "2. **Principal components** are linear combination of the original variables and are uncorrelated with each other\n",
    "3. Initial principal components capture most variation in the data\n",
    "4. The **loadings** of each variable in the principal component may give an indication of its importance\n",
<<<<<<< HEAD
    "5. PCA is also used to visualize high-dimensional datasets\n",
    "\n",
    "The PCA creates an equation of components multiplied by weights:\n",
    "\n",
    "$$PCA = W_1 * x_1 + W_2 * x_2 + \\cdots + W_n * x_n$$"
=======
    "4. PCA is also used to visualize high-dimensional datasets"
>>>>>>> 13ae57a1e22f9e5ce1b58554b8ef3a5cf9367dd1
   ]
  },
  {
   "cell_type": "markdown",
   "metadata": {
    "id": "kZN8qhFdA7xk"
   },
   "source": [
    "### $\\color{blue}{\\text{Advantages of PCA}}$\n",
    "\n",
    "- Principal components are uncorrelated\n",
    "- PCA has many applications, making it very versatile"
   ]
  },
  {
   "cell_type": "markdown",
   "metadata": {
    "id": "pnCkF0hIBM3S"
   },
   "source": [
    "### $\\color{blue}{\\text{Disadvantages of PCA}}$\n",
    "\n",
    "1. Does not seek to understand variable scales or distribution\n",
    "2. It is affected by variable scales or units\n",
    "  - Variables should be transformed\n",
    "  - Variables should be standardized or normalized before PCA"
   ]
  },
  {
   "cell_type": "markdown",
   "metadata": {
    "id": "ilCp__WmrwGJ"
   },
   "source": [
    "## $\\color{red}{\\text{Import Required Packages}}$"
   ]
  },
  {
   "cell_type": "code",
   "execution_count": 1,
   "metadata": {
    "executionInfo": {
     "elapsed": 2072,
     "status": "ok",
     "timestamp": 1741173669558,
     "user": {
      "displayName": "eddie",
      "userId": "06842710327189752667"
     },
     "user_tz": 360
    },
    "id": "oBfANGYYrwGK"
   },
   "outputs": [],
   "source": [
<<<<<<< HEAD
    "import numpy as np\n",
    "import pandas as pd\n",
    "\n",
    "import matplotlib.pyplot as plt\n",
    "import seaborn as sns\n",
    "%matplotlib inline"
=======
    "import pandas as pd \n",
    "import numpy as np\n",
    "\n",
    "# Set display options to show all columns and a large width\n",
    "pd.set_option('display.max_columns', None)  # Show all columns\n",
    "pd.set_option('display.width', 1000)  # Adjust the width as needed\n",
    "\n",
    "%matplotlib inline\n",
    "import matplotlib.pylab as plt\n",
    "\n",
    "\n",
    "from sklearn.preprocessing import StandardScaler\n",
    "from sklearn.decomposition import PCA\n",
    "\n",
    "from kneed import KneeLocator"
>>>>>>> 13ae57a1e22f9e5ce1b58554b8ef3a5cf9367dd1
   ]
  },
  {
   "cell_type": "markdown",
   "metadata": {
    "id": "g_YuOITRrwGL"
   },
   "source": [
    "## $\\color{red}{\\text{Import Data}}$"
   ]
  },
  {
   "cell_type": "code",
   "execution_count": 2,
   "metadata": {
    "colab": {
     "base_uri": "https://localhost:8080/"
    },
    "executionInfo": {
     "elapsed": 20438,
     "status": "ok",
     "timestamp": 1741173689997,
     "user": {
      "displayName": "eddie",
      "userId": "06842710327189752667"
     },
     "user_tz": 360
    },
    "id": "jTABhjeJhSwY",
    "outputId": "008db265-56ba-4786-96b7-5c1077448aa7"
   },
   "outputs": [],
   "source": [
<<<<<<< HEAD
    "df = pd.read_csv('/Users/dB/Documents/repos/github/bint-capstone/notebooks/data/housingData.csv')"
   ]
  },
  {
   "cell_type": "code",
   "execution_count": 3,
   "metadata": {
    "colab": {
     "base_uri": "https://localhost:8080/"
    },
    "executionInfo": {
     "elapsed": 11815,
     "status": "ok",
     "timestamp": 1741173701826,
     "user": {
      "displayName": "eddie",
      "userId": "06842710327189752667"
     },
     "user_tz": 360
    },
    "id": "rSlcuUK6hXRL",
    "outputId": "9eb51b4f-2e5a-47ff-bc5f-9a56f8f9c6ff"
   },
   "outputs": [
    {
     "data": {
      "text/html": [
       "<div>\n",
       "<style scoped>\n",
       "    .dataframe tbody tr th:only-of-type {\n",
       "        vertical-align: middle;\n",
       "    }\n",
       "\n",
       "    .dataframe tbody tr th {\n",
       "        vertical-align: top;\n",
       "    }\n",
       "\n",
       "    .dataframe thead th {\n",
       "        text-align: right;\n",
       "    }\n",
       "</style>\n",
       "<table border=\"1\" class=\"dataframe\">\n",
       "  <thead>\n",
       "    <tr style=\"text-align: right;\">\n",
       "      <th></th>\n",
       "      <th>id</th>\n",
       "      <th>date</th>\n",
       "      <th>bedrooms</th>\n",
       "      <th>bathrooms</th>\n",
       "      <th>sqft_living</th>\n",
       "      <th>sqft_lot</th>\n",
       "      <th>floors</th>\n",
       "      <th>waterfront</th>\n",
       "      <th>view</th>\n",
       "      <th>condition</th>\n",
       "      <th>...</th>\n",
       "      <th>sqft_above</th>\n",
       "      <th>sqft_basement</th>\n",
       "      <th>yr_built</th>\n",
       "      <th>yr_renovated</th>\n",
       "      <th>zipcode</th>\n",
       "      <th>lat</th>\n",
       "      <th>long</th>\n",
       "      <th>sqft_living15</th>\n",
       "      <th>sqft_lot15</th>\n",
       "      <th>price</th>\n",
       "    </tr>\n",
       "  </thead>\n",
       "  <tbody>\n",
       "    <tr>\n",
       "      <th>0</th>\n",
       "      <td>7129300520</td>\n",
       "      <td>20141013T000000</td>\n",
       "      <td>3</td>\n",
       "      <td>1.00</td>\n",
       "      <td>1180</td>\n",
       "      <td>5650</td>\n",
       "      <td>1.0</td>\n",
       "      <td>0</td>\n",
       "      <td>0</td>\n",
       "      <td>3</td>\n",
       "      <td>...</td>\n",
       "      <td>1180</td>\n",
       "      <td>0</td>\n",
       "      <td>1955</td>\n",
       "      <td>0</td>\n",
       "      <td>98178</td>\n",
       "      <td>47.5112</td>\n",
       "      <td>-122.257</td>\n",
       "      <td>1340</td>\n",
       "      <td>5650</td>\n",
       "      <td>221900.0</td>\n",
       "    </tr>\n",
       "    <tr>\n",
       "      <th>1</th>\n",
       "      <td>6414100192</td>\n",
       "      <td>20141209T000000</td>\n",
       "      <td>3</td>\n",
       "      <td>2.25</td>\n",
       "      <td>2570</td>\n",
       "      <td>7242</td>\n",
       "      <td>2.0</td>\n",
       "      <td>0</td>\n",
       "      <td>0</td>\n",
       "      <td>3</td>\n",
       "      <td>...</td>\n",
       "      <td>2170</td>\n",
       "      <td>400</td>\n",
       "      <td>1951</td>\n",
       "      <td>1991</td>\n",
       "      <td>98125</td>\n",
       "      <td>47.7210</td>\n",
       "      <td>-122.319</td>\n",
       "      <td>1690</td>\n",
       "      <td>7639</td>\n",
       "      <td>538000.0</td>\n",
       "    </tr>\n",
       "    <tr>\n",
       "      <th>2</th>\n",
       "      <td>5631500400</td>\n",
       "      <td>20150225T000000</td>\n",
       "      <td>2</td>\n",
       "      <td>1.00</td>\n",
       "      <td>770</td>\n",
       "      <td>10000</td>\n",
       "      <td>1.0</td>\n",
       "      <td>0</td>\n",
       "      <td>0</td>\n",
       "      <td>3</td>\n",
       "      <td>...</td>\n",
       "      <td>770</td>\n",
       "      <td>0</td>\n",
       "      <td>1933</td>\n",
       "      <td>0</td>\n",
       "      <td>98028</td>\n",
       "      <td>47.7379</td>\n",
       "      <td>-122.233</td>\n",
       "      <td>2720</td>\n",
       "      <td>8062</td>\n",
       "      <td>180000.0</td>\n",
       "    </tr>\n",
       "    <tr>\n",
       "      <th>3</th>\n",
       "      <td>2487200875</td>\n",
       "      <td>20141209T000000</td>\n",
       "      <td>4</td>\n",
       "      <td>3.00</td>\n",
       "      <td>1960</td>\n",
       "      <td>5000</td>\n",
       "      <td>1.0</td>\n",
       "      <td>0</td>\n",
       "      <td>0</td>\n",
       "      <td>5</td>\n",
       "      <td>...</td>\n",
       "      <td>1050</td>\n",
       "      <td>910</td>\n",
       "      <td>1965</td>\n",
       "      <td>0</td>\n",
       "      <td>98136</td>\n",
       "      <td>47.5208</td>\n",
       "      <td>-122.393</td>\n",
       "      <td>1360</td>\n",
       "      <td>5000</td>\n",
       "      <td>604000.0</td>\n",
       "    </tr>\n",
       "    <tr>\n",
       "      <th>4</th>\n",
       "      <td>1954400510</td>\n",
       "      <td>20150218T000000</td>\n",
       "      <td>3</td>\n",
       "      <td>2.00</td>\n",
       "      <td>1680</td>\n",
       "      <td>8080</td>\n",
       "      <td>1.0</td>\n",
       "      <td>0</td>\n",
       "      <td>0</td>\n",
       "      <td>3</td>\n",
       "      <td>...</td>\n",
       "      <td>1680</td>\n",
       "      <td>0</td>\n",
       "      <td>1987</td>\n",
       "      <td>0</td>\n",
       "      <td>98074</td>\n",
       "      <td>47.6168</td>\n",
       "      <td>-122.045</td>\n",
       "      <td>1800</td>\n",
       "      <td>7503</td>\n",
       "      <td>510000.0</td>\n",
       "    </tr>\n",
       "  </tbody>\n",
       "</table>\n",
       "<p>5 rows × 21 columns</p>\n",
       "</div>"
      ],
      "text/plain": [
       "           id             date  bedrooms  bathrooms  sqft_living  sqft_lot  \\\n",
       "0  7129300520  20141013T000000         3       1.00         1180      5650   \n",
       "1  6414100192  20141209T000000         3       2.25         2570      7242   \n",
       "2  5631500400  20150225T000000         2       1.00          770     10000   \n",
       "3  2487200875  20141209T000000         4       3.00         1960      5000   \n",
       "4  1954400510  20150218T000000         3       2.00         1680      8080   \n",
       "\n",
       "   floors  waterfront  view  condition  ...  sqft_above  sqft_basement  \\\n",
       "0     1.0           0     0          3  ...        1180              0   \n",
       "1     2.0           0     0          3  ...        2170            400   \n",
       "2     1.0           0     0          3  ...         770              0   \n",
       "3     1.0           0     0          5  ...        1050            910   \n",
       "4     1.0           0     0          3  ...        1680              0   \n",
       "\n",
       "   yr_built  yr_renovated  zipcode      lat     long  sqft_living15  \\\n",
       "0      1955             0    98178  47.5112 -122.257           1340   \n",
       "1      1951          1991    98125  47.7210 -122.319           1690   \n",
       "2      1933             0    98028  47.7379 -122.233           2720   \n",
       "3      1965             0    98136  47.5208 -122.393           1360   \n",
       "4      1987             0    98074  47.6168 -122.045           1800   \n",
       "\n",
       "   sqft_lot15     price  \n",
       "0        5650  221900.0  \n",
       "1        7639  538000.0  \n",
       "2        8062  180000.0  \n",
       "3        5000  604000.0  \n",
       "4        7503  510000.0  \n",
       "\n",
       "[5 rows x 21 columns]"
      ]
     },
     "execution_count": 3,
     "metadata": {},
     "output_type": "execute_result"
    }
   ],
   "source": [
    "df.head()"
=======
    "housing_df = pd.read_csv('housingData.csv')"
>>>>>>> 13ae57a1e22f9e5ce1b58554b8ef3a5cf9367dd1
   ]
  },
  {
   "cell_type": "markdown",
   "metadata": {
    "id": "uTa1FsGcrwGM"
   },
   "source": [
    "## $\\color{red}{\\text{Analytic task}}$\n",
    "1. Using the housing data, reduce the dimensions using PCA\n",
    "2. Obtain variables coming out of the PCA"
   ]
  },
  {
   "cell_type": "markdown",
   "metadata": {
    "id": "SUJOhemLrwGM"
   },
   "source": [
    "## $\\color{red}{\\text{Data transformation}}$\n"
   ]
  },
  {
   "cell_type": "markdown",
   "metadata": {
    "id": "mk4zjNpdnuvW"
   },
   "source": [
    "### $\\color{blue}{\\text{Standardization}}$"
   ]
  },
  {
   "cell_type": "code",
<<<<<<< HEAD
   "execution_count": 4,
=======
   "execution_count": 3,
>>>>>>> 13ae57a1e22f9e5ce1b58554b8ef3a5cf9367dd1
   "metadata": {
    "executionInfo": {
     "elapsed": 3,
     "status": "ok",
     "timestamp": 1741174036376,
     "user": {
      "displayName": "eddie",
      "userId": "06842710327189752667"
     },
     "user_tz": 360
    },
    "id": "L4y4TH5tLjOr"
   },
   "outputs": [
    {
     "data": {
      "text/html": [
       "<div>\n",
       "<style scoped>\n",
       "    .dataframe tbody tr th:only-of-type {\n",
       "        vertical-align: middle;\n",
       "    }\n",
       "\n",
       "    .dataframe tbody tr th {\n",
       "        vertical-align: top;\n",
       "    }\n",
       "\n",
       "    .dataframe thead th {\n",
       "        text-align: right;\n",
       "    }\n",
       "</style>\n",
       "<table border=\"1\" class=\"dataframe\">\n",
       "  <thead>\n",
       "    <tr style=\"text-align: right;\">\n",
       "      <th></th>\n",
       "      <th>id</th>\n",
       "      <th>date</th>\n",
       "      <th>bedrooms</th>\n",
       "      <th>bathrooms</th>\n",
       "      <th>sqft_living</th>\n",
       "      <th>sqft_lot</th>\n",
       "      <th>floors</th>\n",
       "      <th>waterfront</th>\n",
       "      <th>view</th>\n",
       "      <th>condition</th>\n",
<<<<<<< HEAD
       "      <th>...</th>\n",
=======
       "      <th>grade</th>\n",
>>>>>>> 13ae57a1e22f9e5ce1b58554b8ef3a5cf9367dd1
       "      <th>sqft_above</th>\n",
       "      <th>sqft_basement</th>\n",
       "      <th>yr_built</th>\n",
       "      <th>yr_renovated</th>\n",
       "      <th>zipcode</th>\n",
       "      <th>lat</th>\n",
       "      <th>long</th>\n",
       "      <th>sqft_living15</th>\n",
       "      <th>sqft_lot15</th>\n",
       "      <th>price</th>\n",
       "    </tr>\n",
       "  </thead>\n",
       "  <tbody>\n",
       "    <tr>\n",
       "      <th>0</th>\n",
       "      <td>7129300520</td>\n",
       "      <td>20141013T000000</td>\n",
       "      <td>3</td>\n",
       "      <td>1.00</td>\n",
       "      <td>1180</td>\n",
       "      <td>5650</td>\n",
       "      <td>1.0</td>\n",
       "      <td>0</td>\n",
       "      <td>0</td>\n",
       "      <td>3</td>\n",
<<<<<<< HEAD
       "      <td>...</td>\n",
=======
       "      <td>7</td>\n",
>>>>>>> 13ae57a1e22f9e5ce1b58554b8ef3a5cf9367dd1
       "      <td>1180</td>\n",
       "      <td>0</td>\n",
       "      <td>1955</td>\n",
       "      <td>0</td>\n",
       "      <td>98178</td>\n",
       "      <td>47.5112</td>\n",
       "      <td>-122.257</td>\n",
       "      <td>1340</td>\n",
       "      <td>5650</td>\n",
       "      <td>221900.0</td>\n",
       "    </tr>\n",
       "    <tr>\n",
       "      <th>1</th>\n",
       "      <td>6414100192</td>\n",
       "      <td>20141209T000000</td>\n",
       "      <td>3</td>\n",
       "      <td>2.25</td>\n",
       "      <td>2570</td>\n",
       "      <td>7242</td>\n",
       "      <td>2.0</td>\n",
       "      <td>0</td>\n",
       "      <td>0</td>\n",
       "      <td>3</td>\n",
<<<<<<< HEAD
       "      <td>...</td>\n",
=======
       "      <td>7</td>\n",
>>>>>>> 13ae57a1e22f9e5ce1b58554b8ef3a5cf9367dd1
       "      <td>2170</td>\n",
       "      <td>400</td>\n",
       "      <td>1951</td>\n",
       "      <td>1991</td>\n",
       "      <td>98125</td>\n",
       "      <td>47.7210</td>\n",
       "      <td>-122.319</td>\n",
       "      <td>1690</td>\n",
       "      <td>7639</td>\n",
       "      <td>538000.0</td>\n",
       "    </tr>\n",
       "    <tr>\n",
       "      <th>2</th>\n",
       "      <td>5631500400</td>\n",
       "      <td>20150225T000000</td>\n",
       "      <td>2</td>\n",
       "      <td>1.00</td>\n",
       "      <td>770</td>\n",
       "      <td>10000</td>\n",
       "      <td>1.0</td>\n",
       "      <td>0</td>\n",
       "      <td>0</td>\n",
       "      <td>3</td>\n",
<<<<<<< HEAD
       "      <td>...</td>\n",
=======
       "      <td>6</td>\n",
>>>>>>> 13ae57a1e22f9e5ce1b58554b8ef3a5cf9367dd1
       "      <td>770</td>\n",
       "      <td>0</td>\n",
       "      <td>1933</td>\n",
       "      <td>0</td>\n",
       "      <td>98028</td>\n",
       "      <td>47.7379</td>\n",
       "      <td>-122.233</td>\n",
       "      <td>2720</td>\n",
       "      <td>8062</td>\n",
       "      <td>180000.0</td>\n",
       "    </tr>\n",
       "    <tr>\n",
       "      <th>3</th>\n",
       "      <td>2487200875</td>\n",
       "      <td>20141209T000000</td>\n",
       "      <td>4</td>\n",
       "      <td>3.00</td>\n",
       "      <td>1960</td>\n",
       "      <td>5000</td>\n",
       "      <td>1.0</td>\n",
       "      <td>0</td>\n",
       "      <td>0</td>\n",
       "      <td>5</td>\n",
<<<<<<< HEAD
       "      <td>...</td>\n",
=======
       "      <td>7</td>\n",
>>>>>>> 13ae57a1e22f9e5ce1b58554b8ef3a5cf9367dd1
       "      <td>1050</td>\n",
       "      <td>910</td>\n",
       "      <td>1965</td>\n",
       "      <td>0</td>\n",
       "      <td>98136</td>\n",
       "      <td>47.5208</td>\n",
       "      <td>-122.393</td>\n",
       "      <td>1360</td>\n",
       "      <td>5000</td>\n",
       "      <td>604000.0</td>\n",
       "    </tr>\n",
       "    <tr>\n",
       "      <th>4</th>\n",
       "      <td>1954400510</td>\n",
       "      <td>20150218T000000</td>\n",
       "      <td>3</td>\n",
       "      <td>2.00</td>\n",
       "      <td>1680</td>\n",
       "      <td>8080</td>\n",
       "      <td>1.0</td>\n",
       "      <td>0</td>\n",
       "      <td>0</td>\n",
       "      <td>3</td>\n",
<<<<<<< HEAD
       "      <td>...</td>\n",
=======
       "      <td>8</td>\n",
>>>>>>> 13ae57a1e22f9e5ce1b58554b8ef3a5cf9367dd1
       "      <td>1680</td>\n",
       "      <td>0</td>\n",
       "      <td>1987</td>\n",
       "      <td>0</td>\n",
       "      <td>98074</td>\n",
       "      <td>47.6168</td>\n",
       "      <td>-122.045</td>\n",
       "      <td>1800</td>\n",
       "      <td>7503</td>\n",
       "      <td>510000.0</td>\n",
       "    </tr>\n",
       "  </tbody>\n",
       "</table>\n",
<<<<<<< HEAD
       "<p>5 rows × 21 columns</p>\n",
       "</div>"
      ],
      "text/plain": [
       "           id             date  bedrooms  bathrooms  sqft_living  sqft_lot  \\\n",
       "0  7129300520  20141013T000000         3       1.00         1180      5650   \n",
       "1  6414100192  20141209T000000         3       2.25         2570      7242   \n",
       "2  5631500400  20150225T000000         2       1.00          770     10000   \n",
       "3  2487200875  20141209T000000         4       3.00         1960      5000   \n",
       "4  1954400510  20150218T000000         3       2.00         1680      8080   \n",
       "\n",
       "   floors  waterfront  view  condition  ...  sqft_above  sqft_basement  \\\n",
       "0     1.0           0     0          3  ...        1180              0   \n",
       "1     2.0           0     0          3  ...        2170            400   \n",
       "2     1.0           0     0          3  ...         770              0   \n",
       "3     1.0           0     0          5  ...        1050            910   \n",
       "4     1.0           0     0          3  ...        1680              0   \n",
       "\n",
       "   yr_built  yr_renovated  zipcode      lat     long  sqft_living15  \\\n",
       "0      1955             0    98178  47.5112 -122.257           1340   \n",
       "1      1951          1991    98125  47.7210 -122.319           1690   \n",
       "2      1933             0    98028  47.7379 -122.233           2720   \n",
       "3      1965             0    98136  47.5208 -122.393           1360   \n",
       "4      1987             0    98074  47.6168 -122.045           1800   \n",
       "\n",
       "   sqft_lot15     price  \n",
       "0        5650  221900.0  \n",
       "1        7639  538000.0  \n",
       "2        8062  180000.0  \n",
       "3        5000  604000.0  \n",
       "4        7503  510000.0  \n",
       "\n",
       "[5 rows x 21 columns]"
      ]
     },
     "execution_count": 4,
=======
       "</div>"
      ],
      "text/plain": [
       "           id             date  bedrooms  bathrooms  sqft_living  sqft_lot  floors  waterfront  view  condition  grade  sqft_above  sqft_basement  yr_built  yr_renovated  zipcode      lat     long  sqft_living15  sqft_lot15     price\n",
       "0  7129300520  20141013T000000         3       1.00         1180      5650     1.0           0     0          3      7        1180              0      1955             0    98178  47.5112 -122.257           1340        5650  221900.0\n",
       "1  6414100192  20141209T000000         3       2.25         2570      7242     2.0           0     0          3      7        2170            400      1951          1991    98125  47.7210 -122.319           1690        7639  538000.0\n",
       "2  5631500400  20150225T000000         2       1.00          770     10000     1.0           0     0          3      6         770              0      1933             0    98028  47.7379 -122.233           2720        8062  180000.0\n",
       "3  2487200875  20141209T000000         4       3.00         1960      5000     1.0           0     0          5      7        1050            910      1965             0    98136  47.5208 -122.393           1360        5000  604000.0\n",
       "4  1954400510  20150218T000000         3       2.00         1680      8080     1.0           0     0          3      8        1680              0      1987             0    98074  47.6168 -122.045           1800        7503  510000.0"
      ]
     },
     "execution_count": 3,
>>>>>>> 13ae57a1e22f9e5ce1b58554b8ef3a5cf9367dd1
     "metadata": {},
     "output_type": "execute_result"
    }
   ],
   "source": [
<<<<<<< HEAD
    "df.head()"
=======
    "housing_df.head()"
>>>>>>> 13ae57a1e22f9e5ce1b58554b8ef3a5cf9367dd1
   ]
  },
  {
   "cell_type": "code",
<<<<<<< HEAD
   "execution_count": null,
=======
   "execution_count": 4,
>>>>>>> 13ae57a1e22f9e5ce1b58554b8ef3a5cf9367dd1
   "metadata": {
    "executionInfo": {
     "elapsed": 2,
     "status": "ok",
     "timestamp": 1741174315110,
     "user": {
      "displayName": "eddie",
      "userId": "06842710327189752667"
     },
     "user_tz": 360
    },
    "id": "U6PqOkVUl7Jz"
   },
<<<<<<< HEAD
   "outputs": [
    {
     "data": {
      "text/html": [
       "<div>\n",
       "<style scoped>\n",
       "    .dataframe tbody tr th:only-of-type {\n",
       "        vertical-align: middle;\n",
       "    }\n",
       "\n",
       "    .dataframe tbody tr th {\n",
       "        vertical-align: top;\n",
       "    }\n",
       "\n",
       "    .dataframe thead th {\n",
       "        text-align: right;\n",
       "    }\n",
       "</style>\n",
       "<table border=\"1\" class=\"dataframe\">\n",
       "  <thead>\n",
       "    <tr style=\"text-align: right;\">\n",
       "      <th></th>\n",
       "      <th>id</th>\n",
       "      <th>date</th>\n",
       "      <th>bedrooms</th>\n",
       "      <th>bathrooms</th>\n",
       "      <th>sqft_living</th>\n",
       "      <th>sqft_lot</th>\n",
       "      <th>floors</th>\n",
       "      <th>waterfront</th>\n",
       "      <th>view</th>\n",
       "      <th>condition</th>\n",
       "      <th>...</th>\n",
       "      <th>sqft_basement</th>\n",
       "      <th>yr_built</th>\n",
       "      <th>yr_renovated</th>\n",
       "      <th>zipcode</th>\n",
       "      <th>lat</th>\n",
       "      <th>long</th>\n",
       "      <th>sqft_living15</th>\n",
       "      <th>sqft_lot15</th>\n",
       "      <th>price</th>\n",
       "      <th>building_age</th>\n",
       "    </tr>\n",
       "  </thead>\n",
       "  <tbody>\n",
       "    <tr>\n",
       "      <th>0</th>\n",
       "      <td>7129300520</td>\n",
       "      <td>20141013T000000</td>\n",
       "      <td>3</td>\n",
       "      <td>1.00</td>\n",
       "      <td>1180</td>\n",
       "      <td>5650</td>\n",
       "      <td>1.0</td>\n",
       "      <td>0</td>\n",
       "      <td>0</td>\n",
       "      <td>3</td>\n",
       "      <td>...</td>\n",
       "      <td>0</td>\n",
       "      <td>1955</td>\n",
       "      <td>0</td>\n",
       "      <td>98178</td>\n",
       "      <td>47.5112</td>\n",
       "      <td>-122.257</td>\n",
       "      <td>1340</td>\n",
       "      <td>5650</td>\n",
       "      <td>221900.0</td>\n",
       "      <td>70</td>\n",
       "    </tr>\n",
       "    <tr>\n",
       "      <th>1</th>\n",
       "      <td>6414100192</td>\n",
       "      <td>20141209T000000</td>\n",
       "      <td>3</td>\n",
       "      <td>2.25</td>\n",
       "      <td>2570</td>\n",
       "      <td>7242</td>\n",
       "      <td>2.0</td>\n",
       "      <td>0</td>\n",
       "      <td>0</td>\n",
       "      <td>3</td>\n",
       "      <td>...</td>\n",
       "      <td>400</td>\n",
       "      <td>1951</td>\n",
       "      <td>1991</td>\n",
       "      <td>98125</td>\n",
       "      <td>47.7210</td>\n",
       "      <td>-122.319</td>\n",
       "      <td>1690</td>\n",
       "      <td>7639</td>\n",
       "      <td>538000.0</td>\n",
       "      <td>74</td>\n",
       "    </tr>\n",
       "    <tr>\n",
       "      <th>2</th>\n",
       "      <td>5631500400</td>\n",
       "      <td>20150225T000000</td>\n",
       "      <td>2</td>\n",
       "      <td>1.00</td>\n",
       "      <td>770</td>\n",
       "      <td>10000</td>\n",
       "      <td>1.0</td>\n",
       "      <td>0</td>\n",
       "      <td>0</td>\n",
       "      <td>3</td>\n",
       "      <td>...</td>\n",
       "      <td>0</td>\n",
       "      <td>1933</td>\n",
       "      <td>0</td>\n",
       "      <td>98028</td>\n",
       "      <td>47.7379</td>\n",
       "      <td>-122.233</td>\n",
       "      <td>2720</td>\n",
       "      <td>8062</td>\n",
       "      <td>180000.0</td>\n",
       "      <td>92</td>\n",
       "    </tr>\n",
       "    <tr>\n",
       "      <th>3</th>\n",
       "      <td>2487200875</td>\n",
       "      <td>20141209T000000</td>\n",
       "      <td>4</td>\n",
       "      <td>3.00</td>\n",
       "      <td>1960</td>\n",
       "      <td>5000</td>\n",
       "      <td>1.0</td>\n",
       "      <td>0</td>\n",
       "      <td>0</td>\n",
       "      <td>5</td>\n",
       "      <td>...</td>\n",
       "      <td>910</td>\n",
       "      <td>1965</td>\n",
       "      <td>0</td>\n",
       "      <td>98136</td>\n",
       "      <td>47.5208</td>\n",
       "      <td>-122.393</td>\n",
       "      <td>1360</td>\n",
       "      <td>5000</td>\n",
       "      <td>604000.0</td>\n",
       "      <td>60</td>\n",
       "    </tr>\n",
       "    <tr>\n",
       "      <th>4</th>\n",
       "      <td>1954400510</td>\n",
       "      <td>20150218T000000</td>\n",
       "      <td>3</td>\n",
       "      <td>2.00</td>\n",
       "      <td>1680</td>\n",
       "      <td>8080</td>\n",
       "      <td>1.0</td>\n",
       "      <td>0</td>\n",
       "      <td>0</td>\n",
       "      <td>3</td>\n",
       "      <td>...</td>\n",
       "      <td>0</td>\n",
       "      <td>1987</td>\n",
       "      <td>0</td>\n",
       "      <td>98074</td>\n",
       "      <td>47.6168</td>\n",
       "      <td>-122.045</td>\n",
       "      <td>1800</td>\n",
       "      <td>7503</td>\n",
       "      <td>510000.0</td>\n",
       "      <td>38</td>\n",
       "    </tr>\n",
       "  </tbody>\n",
       "</table>\n",
       "<p>5 rows × 22 columns</p>\n",
       "</div>"
      ],
      "text/plain": [
       "           id             date  bedrooms  bathrooms  sqft_living  sqft_lot  \\\n",
       "0  7129300520  20141013T000000         3       1.00         1180      5650   \n",
       "1  6414100192  20141209T000000         3       2.25         2570      7242   \n",
       "2  5631500400  20150225T000000         2       1.00          770     10000   \n",
       "3  2487200875  20141209T000000         4       3.00         1960      5000   \n",
       "4  1954400510  20150218T000000         3       2.00         1680      8080   \n",
       "\n",
       "   floors  waterfront  view  condition  ...  sqft_basement  yr_built  \\\n",
       "0     1.0           0     0          3  ...              0      1955   \n",
       "1     2.0           0     0          3  ...            400      1951   \n",
       "2     1.0           0     0          3  ...              0      1933   \n",
       "3     1.0           0     0          5  ...            910      1965   \n",
       "4     1.0           0     0          3  ...              0      1987   \n",
       "\n",
       "   yr_renovated  zipcode      lat     long  sqft_living15  sqft_lot15  \\\n",
       "0             0    98178  47.5112 -122.257           1340        5650   \n",
       "1          1991    98125  47.7210 -122.319           1690        7639   \n",
       "2             0    98028  47.7379 -122.233           2720        8062   \n",
       "3             0    98136  47.5208 -122.393           1360        5000   \n",
       "4             0    98074  47.6168 -122.045           1800        7503   \n",
       "\n",
       "      price  building_age  \n",
       "0  221900.0            70  \n",
       "1  538000.0            74  \n",
       "2  180000.0            92  \n",
       "3  604000.0            60  \n",
       "4  510000.0            38  \n",
       "\n",
       "[5 rows x 22 columns]"
      ]
     },
     "execution_count": 6,
=======
   "outputs": [],
   "source": [
    "# Compute age of the building \n",
    "current_year = pd.Timestamp.now().year\n",
    "housing_df['building_age'] = current_year - housing_df['yr_built']\n",
    "#housing_df.head()"
   ]
  },
  {
   "cell_type": "code",
   "execution_count": 5,
   "metadata": {},
   "outputs": [
    {
     "data": {
      "text/plain": [
       "array([[-0.39873715, -1.44746357, -0.97983502, ..., -0.26071541,\n",
       "        -0.86641874,  0.54489777],\n",
       "       [-0.39873715,  0.1756067 ,  0.53363434, ..., -0.18786773,\n",
       "        -0.00594021,  0.6810785 ],\n",
       "       [-1.47395936, -1.44746357, -1.42625404, ..., -0.17237524,\n",
       "        -0.98047774,  1.29389179],\n",
       "       ...,\n",
       "       [-1.47395936, -1.77207762, -1.15404732, ..., -0.39414129,\n",
       "        -0.37588065, -1.29354209],\n",
       "       [-0.39873715,  0.50022075, -0.52252773, ..., -0.42051149,\n",
       "        -0.38159993, -1.12331618],\n",
       "       [-1.47395936, -1.77207762, -1.15404732, ..., -0.41794772,\n",
       "        -0.58576282, -1.25949691]])"
      ]
     },
     "execution_count": 5,
>>>>>>> 13ae57a1e22f9e5ce1b58554b8ef3a5cf9367dd1
     "metadata": {},
     "output_type": "execute_result"
    }
   ],
   "source": [
<<<<<<< HEAD
    "curr_year = pd.Timestamp.now().year\n",
    "df['building_age'] = curr_year - df['yr_built']\n"
=======
    "# Drop the following variables from the data - they are not needed for analysis\n",
    "drop_vars = ['id', 'date', 'zipcode', 'yr_built', 'yr_renovated']\n",
    "new_housing = housing_df.drop(drop_vars, axis=1)\n",
    "\n",
    "\n",
    "# standardizing the data\n",
    "scaler = StandardScaler()\n",
    "standardized_data = scaler.fit_transform(new_housing)\n",
    "\n",
    "standardized_data # this is not a df; its a numpy array"
   ]
  },
  {
   "cell_type": "markdown",
   "metadata": {
    "id": "nv0I93bpouqV"
   },
   "source": [
    "### $\\color{blue}{\\text{Component selection - explained variance approach}}$\n",
    "1. The **explained variance** approach determines the number of principal components needed to retain a chosen percentage (e.g., 95%) of the total variance in the dataset\n",
    "\n",
    "2. It ensures that enough components are selected to preserve most of the original data's information while reducing dimensionality.\n"
   ]
  },
  {
   "cell_type": "markdown",
   "metadata": {
    "id": "fM8BkboDwRoQ"
   },
   "source": [
    "#### $\\color{green}{\\text{Advantages and disadvantages}}$\n",
    "1. **Advantages**\n",
    "  - Provides a quantitative and objective method for component selection, ensuring minimal information loss\n",
    "2. **Disadvantages**\n",
    "  - The threshold (e.g., 95%) is arbitrary and may lead to either too many or too few components being retained."
>>>>>>> 13ae57a1e22f9e5ce1b58554b8ef3a5cf9367dd1
   ]
  },
  {
   "cell_type": "code",
<<<<<<< HEAD
   "execution_count": 7,
   "metadata": {},
=======
   "execution_count": 6,
   "metadata": {
    "id": "jn4vhD2HKutK"
   },
>>>>>>> 13ae57a1e22f9e5ce1b58554b8ef3a5cf9367dd1
   "outputs": [
    {
     "data": {
      "text/html": [
       "<div>\n",
       "<style scoped>\n",
       "    .dataframe tbody tr th:only-of-type {\n",
       "        vertical-align: middle;\n",
       "    }\n",
       "\n",
       "    .dataframe tbody tr th {\n",
       "        vertical-align: top;\n",
       "    }\n",
       "\n",
       "    .dataframe thead th {\n",
       "        text-align: right;\n",
       "    }\n",
       "</style>\n",
       "<table border=\"1\" class=\"dataframe\">\n",
       "  <thead>\n",
       "    <tr style=\"text-align: right;\">\n",
       "      <th></th>\n",
       "      <th>bedrooms</th>\n",
       "      <th>bathrooms</th>\n",
       "      <th>sqft_living</th>\n",
       "      <th>sqft_lot</th>\n",
       "      <th>floors</th>\n",
       "      <th>waterfront</th>\n",
       "      <th>view</th>\n",
       "      <th>condition</th>\n",
       "      <th>grade</th>\n",
       "      <th>sqft_above</th>\n",
       "      <th>sqft_basement</th>\n",
       "      <th>lat</th>\n",
       "      <th>long</th>\n",
       "      <th>sqft_living15</th>\n",
       "      <th>sqft_lot15</th>\n",
       "      <th>price</th>\n",
       "      <th>building_age</th>\n",
       "    </tr>\n",
       "  </thead>\n",
       "  <tbody>\n",
       "    <tr>\n",
       "      <th>0</th>\n",
       "      <td>3</td>\n",
       "      <td>1.00</td>\n",
       "      <td>1180</td>\n",
       "      <td>5650</td>\n",
       "      <td>1.0</td>\n",
       "      <td>0</td>\n",
       "      <td>0</td>\n",
       "      <td>3</td>\n",
       "      <td>7</td>\n",
       "      <td>1180</td>\n",
       "      <td>0</td>\n",
       "      <td>47.5112</td>\n",
       "      <td>-122.257</td>\n",
       "      <td>1340</td>\n",
       "      <td>5650</td>\n",
       "      <td>221900.0</td>\n",
       "      <td>70</td>\n",
       "    </tr>\n",
       "    <tr>\n",
       "      <th>1</th>\n",
       "      <td>3</td>\n",
       "      <td>2.25</td>\n",
       "      <td>2570</td>\n",
       "      <td>7242</td>\n",
       "      <td>2.0</td>\n",
       "      <td>0</td>\n",
       "      <td>0</td>\n",
       "      <td>3</td>\n",
       "      <td>7</td>\n",
       "      <td>2170</td>\n",
       "      <td>400</td>\n",
       "      <td>47.7210</td>\n",
       "      <td>-122.319</td>\n",
       "      <td>1690</td>\n",
       "      <td>7639</td>\n",
       "      <td>538000.0</td>\n",
       "      <td>74</td>\n",
       "    </tr>\n",
       "    <tr>\n",
       "      <th>2</th>\n",
       "      <td>2</td>\n",
       "      <td>1.00</td>\n",
       "      <td>770</td>\n",
       "      <td>10000</td>\n",
       "      <td>1.0</td>\n",
       "      <td>0</td>\n",
       "      <td>0</td>\n",
       "      <td>3</td>\n",
       "      <td>6</td>\n",
       "      <td>770</td>\n",
       "      <td>0</td>\n",
       "      <td>47.7379</td>\n",
       "      <td>-122.233</td>\n",
       "      <td>2720</td>\n",
       "      <td>8062</td>\n",
       "      <td>180000.0</td>\n",
       "      <td>92</td>\n",
       "    </tr>\n",
       "    <tr>\n",
       "      <th>3</th>\n",
       "      <td>4</td>\n",
       "      <td>3.00</td>\n",
       "      <td>1960</td>\n",
       "      <td>5000</td>\n",
       "      <td>1.0</td>\n",
       "      <td>0</td>\n",
       "      <td>0</td>\n",
       "      <td>5</td>\n",
       "      <td>7</td>\n",
       "      <td>1050</td>\n",
       "      <td>910</td>\n",
       "      <td>47.5208</td>\n",
       "      <td>-122.393</td>\n",
       "      <td>1360</td>\n",
       "      <td>5000</td>\n",
       "      <td>604000.0</td>\n",
       "      <td>60</td>\n",
       "    </tr>\n",
       "    <tr>\n",
       "      <th>4</th>\n",
       "      <td>3</td>\n",
       "      <td>2.00</td>\n",
       "      <td>1680</td>\n",
       "      <td>8080</td>\n",
       "      <td>1.0</td>\n",
       "      <td>0</td>\n",
       "      <td>0</td>\n",
       "      <td>3</td>\n",
       "      <td>8</td>\n",
       "      <td>1680</td>\n",
       "      <td>0</td>\n",
       "      <td>47.6168</td>\n",
       "      <td>-122.045</td>\n",
       "      <td>1800</td>\n",
       "      <td>7503</td>\n",
       "      <td>510000.0</td>\n",
       "      <td>38</td>\n",
       "    </tr>\n",
       "  </tbody>\n",
       "</table>\n",
       "</div>"
      ],
      "text/plain": [
<<<<<<< HEAD
       "   bedrooms  bathrooms  sqft_living  sqft_lot  floors  waterfront  view  \\\n",
       "0         3       1.00         1180      5650     1.0           0     0   \n",
       "1         3       2.25         2570      7242     2.0           0     0   \n",
       "2         2       1.00          770     10000     1.0           0     0   \n",
       "3         4       3.00         1960      5000     1.0           0     0   \n",
       "4         3       2.00         1680      8080     1.0           0     0   \n",
       "\n",
       "   condition  grade  sqft_above  sqft_basement      lat     long  \\\n",
       "0          3      7        1180              0  47.5112 -122.257   \n",
       "1          3      7        2170            400  47.7210 -122.319   \n",
       "2          3      6         770              0  47.7379 -122.233   \n",
       "3          5      7        1050            910  47.5208 -122.393   \n",
       "4          3      8        1680              0  47.6168 -122.045   \n",
       "\n",
       "   sqft_living15  sqft_lot15     price  building_age  \n",
       "0           1340        5650  221900.0            70  \n",
       "1           1690        7639  538000.0            74  \n",
       "2           2720        8062  180000.0            92  \n",
       "3           1360        5000  604000.0            60  \n",
       "4           1800        7503  510000.0            38  "
      ]
     },
     "execution_count": 7,
=======
       "   bedrooms  bathrooms  sqft_living  sqft_lot  floors  waterfront  view  condition  grade  sqft_above  sqft_basement      lat     long  sqft_living15  sqft_lot15     price  building_age\n",
       "0         3       1.00         1180      5650     1.0           0     0          3      7        1180              0  47.5112 -122.257           1340        5650  221900.0            70\n",
       "1         3       2.25         2570      7242     2.0           0     0          3      7        2170            400  47.7210 -122.319           1690        7639  538000.0            74\n",
       "2         2       1.00          770     10000     1.0           0     0          3      6         770              0  47.7379 -122.233           2720        8062  180000.0            92\n",
       "3         4       3.00         1960      5000     1.0           0     0          5      7        1050            910  47.5208 -122.393           1360        5000  604000.0            60\n",
       "4         3       2.00         1680      8080     1.0           0     0          3      8        1680              0  47.6168 -122.045           1800        7503  510000.0            38"
      ]
     },
     "execution_count": 6,
>>>>>>> 13ae57a1e22f9e5ce1b58554b8ef3a5cf9367dd1
     "metadata": {},
     "output_type": "execute_result"
    }
   ],
   "source": [
<<<<<<< HEAD
    "from sklearn.preprocessing import StandardScaler\n",
    "\n",
    "# Drop IDs\n",
    "to_drop = ['id','date','zipcode','yr_built','yr_renovated']\n",
    "df2 = df.drop(to_drop, axis=1)\n",
    "\n",
    "df2.head()"
   ]
  },
  {
   "cell_type": "code",
   "execution_count": null,
   "metadata": {},
   "outputs": [
    {
     "data": {
      "text/plain": [
       "array([[-0.39873715, -1.44746357, -0.97983502, ..., -0.26071541,\n",
       "        -0.86641874,  0.54489777],\n",
       "       [-0.39873715,  0.1756067 ,  0.53363434, ..., -0.18786773,\n",
       "        -0.00594021,  0.6810785 ],\n",
       "       [-1.47395936, -1.44746357, -1.42625404, ..., -0.17237524,\n",
       "        -0.98047774,  1.29389179],\n",
       "       ...,\n",
       "       [-1.47395936, -1.77207762, -1.15404732, ..., -0.39414129,\n",
       "        -0.37588065, -1.29354209],\n",
       "       [-0.39873715,  0.50022075, -0.52252773, ..., -0.42051149,\n",
       "        -0.38159993, -1.12331618],\n",
       "       [-1.47395936, -1.77207762, -1.15404732, ..., -0.41794772,\n",
       "        -0.58576282, -1.25949691]])"
      ]
     },
     "execution_count": 9,
     "metadata": {},
     "output_type": "execute_result"
    }
   ],
   "source": [
    "scaler = StandardScaler()\n",
    "standardized_data = scaler.fit_transform(df2)\n",
    "\n",
    "standardized_data # dont we need to make this a df?"
   ]
  },
  {
   "cell_type": "markdown",
   "metadata": {},
   "source": []
  },
  {
   "cell_type": "markdown",
   "metadata": {
    "id": "nv0I93bpouqV"
   },
   "source": [
    "### $\\color{blue}{\\text{Component selection - explained variance approach}}$\n",
    "1. The **explained variance** approach determines the number of principal components needed to retain a chosen percentage (e.g., 95%) of the total variance in the dataset\n",
    "\n",
    "2. It ensures that enough components are selected to preserve most of the original data's information while reducing dimensionality.\n",
    "\n",
    "Additionally, recall that for a dataset of $N$ features, you can have up to $N$ principal components. Obviously we want fewer than $N$ features as our result, this is just a guide for the process.\n"
   ]
  },
  {
   "cell_type": "markdown",
   "metadata": {
    "id": "fM8BkboDwRoQ"
   },
   "source": [
    "#### $\\color{green}{\\text{Advantages and disadvantages}}$\n",
    "1. **Advantages**\n",
    "  - Provides a quantitative and objective method for component selection, ensuring minimal information loss\n",
    "2. **Disadvantages**\n",
    "  - The threshold (e.g., 95%) is arbitrary and may lead to either too many or too few components being retained."
   ]
  },
  {
   "cell_type": "code",
   "execution_count": 13,
   "metadata": {
    "id": "jn4vhD2HKutK"
   },
   "outputs": [
    {
     "data": {
      "text/plain": [
       "array([3.28656155e-01, 1.29294304e-01, 1.06159914e-01, 7.61496978e-02,\n",
       "       6.53816159e-02, 5.09440408e-02, 4.62552929e-02, 3.88173578e-02,\n",
       "       3.67291816e-02, 3.00585294e-02, 2.12131277e-02, 1.75315215e-02,\n",
       "       1.56807580e-02, 1.42224478e-02, 1.18250426e-02, 1.10810133e-02,\n",
       "       7.51174041e-17])"
      ]
     },
     "execution_count": 13,
     "metadata": {},
     "output_type": "execute_result"
    }
   ],
   "source": [
    "from sklearn.decomposition import PCA\n",
    "\n",
    "# Apply PCA without specifying number of components (keep all features)\n",
    "pca = PCA()\n",
    "pca.fit(standardized_data)\n",
    "\n",
    "# Compute Explained Variance\n",
    "explained_variance = pca.explained_variance_ratio_\n",
    "cumulative_variance = np.cumsum(explained_variance)\n",
    "\n",
    "explained_variance"
   ]
  },
  {
   "cell_type": "code",
   "execution_count": 14,
   "metadata": {},
   "outputs": [
    {
     "data": {
      "text/plain": [
       "array([0.32865616, 0.45795046, 0.56411037, 0.64026007, 0.70564169,\n",
       "       0.75658573, 0.80284102, 0.84165838, 0.87838756, 0.90844609,\n",
       "       0.92965922, 0.94719074, 0.9628715 , 0.97709394, 0.98891899,\n",
       "       1.        , 1.        ])"
      ]
     },
     "execution_count": 14,
     "metadata": {},
     "output_type": "execute_result"
    }
   ],
   "source": [
    "cumulative_variance"
   ]
  },
  {
   "cell_type": "markdown",
   "metadata": {},
   "source": [
    "Pick a value within this array that satisfies how much variance you want explained, and use that as a threshold to select a number of principal components that explain that threshold of variance."
   ]
  },
  {
   "cell_type": "code",
   "execution_count": 21,
   "metadata": {},
   "outputs": [],
   "source": [
    "threshold = .90\n",
    "n_components_thresh = np.argmax(cumulative_variance >= threshold) + 1 # find the max number of components"
   ]
  },
  {
   "cell_type": "markdown",
   "metadata": {},
   "source": [
    "Is this like using the PMF to find the median?"
   ]
  },
  {
   "cell_type": "code",
   "execution_count": 22,
   "metadata": {},
   "outputs": [
    {
     "data": {
      "image/png": "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",
      "text/plain": [
       "<Figure size 800x600 with 1 Axes>"
      ]
     },
     "metadata": {},
     "output_type": "display_data"
    }
   ],
   "source": [
    "plt.figure(figsize=(8,6))\n",
    "plt.plot(range(1,len(cumulative_variance)+1), cumulative_variance, marker='o', linestyle='--')\n",
    "plt.axhline(y=threshold, color='red', linestyle='--', label=f'{threshold*100}% variance explained') # line showing variance-explained threshold\n",
    "plt.axvline(x=n_components_thresh, color='b', linestyle='--',label=f'Optimal PC\\'s - {n_components_thresh}') # line showing optimal num of components\n",
    "plt.legend()\n",
    "plt.show()"
   ]
  },
  {
   "cell_type": "markdown",
   "metadata": {},
   "source": [
    "We want **parsimony** - An explanation with as few variables as possible. This is known as the **Principle of Parsimony**"
=======
    "new_housing.head()"
>>>>>>> 13ae57a1e22f9e5ce1b58554b8ef3a5cf9367dd1
   ]
  },
  {
   "cell_type": "markdown",
   "metadata": {
    "id": "NzxugCBLsKuN"
   },
   "source": [
    "### $\\color{blue}{\\text{Component selection - the scree plot}}$\n",
    "1. The **scree plot** visualizes the explained variance of each principal component, helping identify the optimal number of components to retain in PCA.\n",
    "\n",
    "2. It allows for **elbow detection**, where the variance gain diminishes, indicating an ideal cutoff point for dimensionality reduction."
   ]
  },
  {
   "cell_type": "markdown",
   "metadata": {
    "id": "0Vbsv_cAxR1q"
   },
   "source": [
    "#### $\\color{green}{\\text{Advantages and disadvantages}}$\n",
    "1. **Advantages**\n",
    "  - Simple to interpret, provides a visual way to determine how many components to keep\n",
    "2. **Disadvantages**\n",
    "  - The \"elbow\" point is subjective and may not always be clearly defined"
   ]
  },
  {
   "cell_type": "code",
<<<<<<< HEAD
   "execution_count": 27,
=======
   "execution_count": 7,
>>>>>>> 13ae57a1e22f9e5ce1b58554b8ef3a5cf9367dd1
   "metadata": {
    "id": "LIqN7bnCK1cp"
   },
   "outputs": [
    {
     "data": {
<<<<<<< HEAD
      "text/plain": [
       "<function matplotlib.pyplot.show(close=None, block=None)>"
      ]
     },
     "execution_count": 27,
     "metadata": {},
     "output_type": "execute_result"
    },
    {
     "data": {
      "image/png": "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",
=======
      "image/png": "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",
      "text/plain": [
       "<Figure size 800x600 with 1 Axes>"
      ]
     },
     "metadata": {},
     "output_type": "display_data"
    }
   ],
   "source": [
    "# apply PCA without specifying the number of components keeps all\n",
    "pca = PCA()\n",
    "pca.fit(standardized_data)\n",
    "\n",
    "# compute the explained variance\n",
    "explained_variance = pca.explained_variance_ratio_\n",
    "cumulative_variance = np.cumsum(explained_variance)\n",
    "\n",
    "\n",
    "# fund the number of components that explains at least some threshold of variance\n",
    "threshold = 0.9\n",
    "n_components_thresh = np.argmax(cumulative_variance >= threshold) + 1\n",
    "#n_components_thresh\n",
    "\n",
    "# plot the cumulative explained variance\n",
    "plt.figure(figsize=(8,6))\n",
    "plt.plot(range(1,len(cumulative_variance ) + 1), cumulative_variance, marker='o', linestyle='--')\n",
    "plt.axhline(y=threshold, color='r', linestyle='--', label=f'{threshold*100}% Variance Explained')\n",
    "plt.axvline(x=n_components_thresh, color='b', linestyle='--', label=f'Optimal PCs = {n_components_thresh}')\n",
    "plt.xlabel(\"Number of Principal Components\")\n",
    "plt.ylabel(\"Cumulative Explained Variance\")\n",
    "plt.title(\"Explained Variance vs Number of Components\")\n",
    "plt.legend()\n",
    "plt.show()"
   ]
  },
  {
   "cell_type": "code",
   "execution_count": 12,
   "metadata": {
    "id": "kaL7qDebxisj"
   },
   "outputs": [
    {
     "data": {
      "image/png": "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",
>>>>>>> 13ae57a1e22f9e5ce1b58554b8ef3a5cf9367dd1
      "text/plain": [
       "<Figure size 800x500 with 1 Axes>"
      ]
     },
     "metadata": {},
     "output_type": "display_data"
    }
   ],
   "source": [
<<<<<<< HEAD
    "from kneed import KneeLocator\n",
    "\n",
    "knee_locator = KneeLocator(range(1,len(explained_variance)+1), explained_variance,curve='convex', direction='decreasing')\n",
    "\n",
    "scree_components = knee_locator.knee\n",
    "\n",
    "# Plot\n",
    "\n",
    "plt.figure(figsize=(8,5))\n",
    "plt.plot(range(1,len(explained_variance)+1), explained_variance, marker='o', linestyle='--')\n",
    "plt.axhline(y=explained_variance[scree_components], color='blue', linestyle='--', label=f'Elbow Explained Variance') # line showing variance-explained threshold\n",
    "plt.axvline(x=scree_components, color='r', linestyle='--',label=f'KneeLocator Elbow - {scree_components}') # line showing optimal num of components\n",
    "plt.show\n"
=======
    "\n",
    "# Find the elbow point mathemetically\n",
    "knee_locator = KneeLocator(range(1, len(explained_variance) + 1), explained_variance, curve='convex', direction='decreasing')\n",
    "scree_components = knee_locator.knee\n",
    "\n",
    "# scree plot with knee locator\n",
    "plt.figure(figsize=(8,5))\n",
    "plt.plot(range(1,len(explained_variance ) + 1), explained_variance, marker='o', linestyle='--')\n",
    "plt.axvline(x=scree_components, color='r', linestyle='--', label=f'KneeLocator Elbow = {scree_components}')\n",
    "plt.axhline(y=explained_variance[scree_components-1], color='g', linestyle='--', label=f'Elbow Explained Variance')\n",
    "plt.xlabel(\"Principal Components\")\n",
    "plt.ylabel(\"Explained Variance Ratio\")\n",
    "plt.title(\"Scree Plot with KneeLocator\")\n",
    "plt.legend()\n",
    "plt.show()"
>>>>>>> 13ae57a1e22f9e5ce1b58554b8ef3a5cf9367dd1
   ]
  },
  {
   "cell_type": "markdown",
   "metadata": {},
   "source": [
<<<<<<< HEAD
    "This inversion of the plot creates a clearer \"elbow\" (where you see the sharpest decline). The axh/v lines also mathematically show where the \"elbow\" is."
=======
    "According to the knee locator, we're going to need 4 principal components. The pca method said to use 10 principal components to explain at least 90% vairance. what percent of cumulative variance does the 4 principal components have"
>>>>>>> 13ae57a1e22f9e5ce1b58554b8ef3a5cf9367dd1
   ]
  },
  {
   "cell_type": "code",
<<<<<<< HEAD
   "execution_count": 30,
   "metadata": {
    "id": "kaL7qDebxisj"
   },
=======
   "execution_count": 13,
   "metadata": {},
>>>>>>> 13ae57a1e22f9e5ce1b58554b8ef3a5cf9367dd1
   "outputs": [
    {
     "name": "stdout",
     "output_type": "stream",
     "text": [
      "Percentage of variance explained by 4 components: 64.03%\n",
      "Percentage of variance explained by 10 components: 90.84%\n"
     ]
    }
   ],
   "source": [
<<<<<<< HEAD
    "exp_var_scree_method = np.sum(explained_variance[:scree_components])\n",
    "exp_var_thresh = np.sum(explained_variance[:n_components_thresh])\n",
    "\n",
    "print(f'Percentage of variance explained by {scree_components} components: {exp_var_scree_method:.2%}')\n",
    "print(f'Percentage of variance explained by {n_components_thresh} components: {exp_var_thresh:.2%}')"
   ]
  },
  {
   "cell_type": "markdown",
   "metadata": {},
   "source": [
    "From these methods, we want to use the 10 components that explain 90.84%"
=======
    "# compare cumulative explained variance for both methods\n",
    "exp_varScree = np.sum(explained_variance[:scree_components])\n",
    "exp_varThresh = np.sum(explained_variance[:n_components_thresh])\n",
    "\n",
    "print(f\"Percentage of variance explained by {scree_components} components: {exp_varScree:.2%}\")\n",
    "print(f\"Percentage of variance explained by {n_components_thresh} components: {exp_varThresh:.2%}\")"
>>>>>>> 13ae57a1e22f9e5ce1b58554b8ef3a5cf9367dd1
   ]
  },
  {
   "cell_type": "markdown",
   "metadata": {
    "id": "9oZTDheJ6Lv5"
   },
   "source": [
    "## $\\color{red}{\\text{Applying PCA}}$"
   ]
  },
  {
   "cell_type": "code",
<<<<<<< HEAD
   "execution_count": 36,
=======
   "execution_count": 20,
>>>>>>> 13ae57a1e22f9e5ce1b58554b8ef3a5cf9367dd1
   "metadata": {
    "id": "cjAnvhSxyf3N"
   },
   "outputs": [
    {
     "data": {
      "text/html": [
       "<div>\n",
       "<style scoped>\n",
       "    .dataframe tbody tr th:only-of-type {\n",
       "        vertical-align: middle;\n",
       "    }\n",
       "\n",
       "    .dataframe tbody tr th {\n",
       "        vertical-align: top;\n",
       "    }\n",
       "\n",
       "    .dataframe thead th {\n",
       "        text-align: right;\n",
       "    }\n",
       "</style>\n",
       "<table border=\"1\" class=\"dataframe\">\n",
       "  <thead>\n",
       "    <tr style=\"text-align: right;\">\n",
       "      <th></th>\n",
       "      <th>PC1</th>\n",
       "      <th>PC2</th>\n",
       "      <th>PC3</th>\n",
       "      <th>PC4</th>\n",
       "      <th>PC5</th>\n",
       "      <th>PC6</th>\n",
       "      <th>PC7</th>\n",
       "      <th>PC8</th>\n",
       "      <th>PC9</th>\n",
       "      <th>PC10</th>\n",
       "    </tr>\n",
       "  </thead>\n",
       "  <tbody>\n",
       "    <tr>\n",
       "      <th>0</th>\n",
       "      <td>-2.559576</td>\n",
       "      <td>-0.390721</td>\n",
       "      <td>0.016333</td>\n",
       "      <td>0.282908</td>\n",
       "      <td>-0.112909</td>\n",
       "      <td>-0.271385</td>\n",
       "      <td>0.213558</td>\n",
       "      <td>-0.248320</td>\n",
       "      <td>-0.872573</td>\n",
       "      <td>-0.087185</td>\n",
       "    </tr>\n",
       "    <tr>\n",
       "      <th>1</th>\n",
       "      <td>-0.026299</td>\n",
       "      <td>0.299523</td>\n",
       "      <td>-0.843729</td>\n",
       "      <td>0.247204</td>\n",
       "      <td>1.280942</td>\n",
       "      <td>-0.471283</td>\n",
       "      <td>-0.590427</td>\n",
       "      <td>0.336089</td>\n",
       "      <td>-0.188552</td>\n",
       "      <td>-0.008823</td>\n",
       "    </tr>\n",
       "    <tr>\n",
       "      <th>2</th>\n",
       "      <td>-2.892039</td>\n",
       "      <td>0.102178</td>\n",
       "      <td>0.182927</td>\n",
       "      <td>0.686772</td>\n",
       "      <td>1.360391</td>\n",
       "      <td>-0.008250</td>\n",
       "      <td>1.451650</td>\n",
       "      <td>-0.501816</td>\n",
       "      <td>-0.783135</td>\n",
       "      <td>0.104251</td>\n",
       "    </tr>\n",
       "    <tr>\n",
       "      <th>3</th>\n",
       "      <td>-0.850740</td>\n",
       "      <td>2.161896</td>\n",
       "      <td>0.019423</td>\n",
       "      <td>-1.741151</td>\n",
       "      <td>-0.856692</td>\n",
       "      <td>0.275158</td>\n",
       "      <td>-1.155702</td>\n",
       "      <td>0.686873</td>\n",
       "      <td>1.508809</td>\n",
       "      <td>-0.412923</td>\n",
       "    </tr>\n",
       "    <tr>\n",
       "      <th>4</th>\n",
       "      <td>-0.390186</td>\n",
       "      <td>-0.960203</td>\n",
       "      <td>-0.064851</td>\n",
       "      <td>0.146920</td>\n",
       "      <td>0.231865</td>\n",
       "      <td>-0.016982</td>\n",
       "      <td>1.497014</td>\n",
       "      <td>0.087628</td>\n",
       "      <td>-0.088560</td>\n",
       "      <td>-0.063445</td>\n",
       "    </tr>\n",
       "  </tbody>\n",
       "</table>\n",
       "</div>"
      ],
      "text/plain": [
<<<<<<< HEAD
       "        PC1       PC2       PC3       PC4       PC5       PC6       PC7  \\\n",
       "0 -2.559576 -0.390721  0.016333  0.282908 -0.112909 -0.271385  0.213558   \n",
       "1 -0.026299  0.299523 -0.843729  0.247204  1.280942 -0.471283 -0.590427   \n",
       "2 -2.892039  0.102178  0.182927  0.686772  1.360391 -0.008250  1.451650   \n",
       "3 -0.850740  2.161896  0.019423 -1.741151 -0.856692  0.275158 -1.155702   \n",
       "4 -0.390186 -0.960203 -0.064851  0.146920  0.231865 -0.016982  1.497014   \n",
       "\n",
       "        PC8       PC9      PC10  \n",
       "0 -0.248320 -0.872573 -0.087185  \n",
       "1  0.336089 -0.188552 -0.008823  \n",
       "2 -0.501816 -0.783135  0.104251  \n",
       "3  0.686873  1.508809 -0.412923  \n",
       "4  0.087628 -0.088560 -0.063445  "
      ]
     },
     "execution_count": 36,
=======
       "        PC1       PC2       PC3       PC4       PC5       PC6       PC7       PC8       PC9      PC10\n",
       "0 -2.559576 -0.390721  0.016333  0.282908 -0.112909 -0.271385  0.213558 -0.248320 -0.872573 -0.087185\n",
       "1 -0.026299  0.299523 -0.843729  0.247204  1.280942 -0.471283 -0.590427  0.336089 -0.188552 -0.008823\n",
       "2 -2.892039  0.102178  0.182927  0.686772  1.360391 -0.008250  1.451650 -0.501816 -0.783135  0.104251\n",
       "3 -0.850740  2.161896  0.019423 -1.741151 -0.856692  0.275158 -1.155702  0.686873  1.508809 -0.412923\n",
       "4 -0.390186 -0.960203 -0.064851  0.146920  0.231865 -0.016982  1.497014  0.087628 -0.088560 -0.063445"
      ]
     },
     "execution_count": 20,
>>>>>>> 13ae57a1e22f9e5ce1b58554b8ef3a5cf9367dd1
     "metadata": {},
     "output_type": "execute_result"
    }
   ],
   "source": [
<<<<<<< HEAD
    "# Conduct pca with optimal num of components\n",
    "pca = PCA(n_components_thresh)\n",
    "housing_pca = pca.fit_transform(standardized_data)\n",
    "\n",
    "# See what's happening, convert into df\n",
    "housing_pca_df = pd.DataFrame(housing_pca, columns=[f'PC{i+1}' for i in range(housing_pca.shape[1])]) # this is a list comprehension btw\n",
=======
    "# Conduct PCA using optimal number of components\n",
    "pca = PCA(n_components=n_components_thresh)\n",
    "housing_pca = pca.fit_transform(standardized_data)\n",
    "#housing_pca\n",
    "\n",
    "# Convert PCA results to dataframe\n",
    "housing_pca_df = pd.DataFrame(housing_pca, columns=[f'PC{i+1}' for i in range(housing_pca.shape[1])])\n",
>>>>>>> 13ae57a1e22f9e5ce1b58554b8ef3a5cf9367dd1
    "housing_pca_df.head()"
   ]
  },
  {
   "cell_type": "markdown",
<<<<<<< HEAD
   "metadata": {},
   "source": [
    "Now we have a named PCA df"
   ]
  },
  {
   "cell_type": "code",
   "execution_count": 34,
   "metadata": {},
   "outputs": [
    {
     "data": {
      "text/html": [
       "<div>\n",
       "<style scoped>\n",
       "    .dataframe tbody tr th:only-of-type {\n",
       "        vertical-align: middle;\n",
       "    }\n",
       "\n",
       "    .dataframe tbody tr th {\n",
       "        vertical-align: top;\n",
       "    }\n",
       "\n",
       "    .dataframe thead th {\n",
       "        text-align: right;\n",
       "    }\n",
       "</style>\n",
       "<table border=\"1\" class=\"dataframe\">\n",
       "  <thead>\n",
       "    <tr style=\"text-align: right;\">\n",
       "      <th></th>\n",
       "      <th>bedrooms</th>\n",
       "      <th>bathrooms</th>\n",
       "      <th>sqft_living</th>\n",
       "      <th>sqft_lot</th>\n",
       "      <th>floors</th>\n",
       "      <th>waterfront</th>\n",
       "      <th>view</th>\n",
       "      <th>condition</th>\n",
       "      <th>grade</th>\n",
       "      <th>sqft_above</th>\n",
       "      <th>sqft_basement</th>\n",
       "      <th>lat</th>\n",
       "      <th>long</th>\n",
       "      <th>sqft_living15</th>\n",
       "      <th>sqft_lot15</th>\n",
       "      <th>price</th>\n",
       "      <th>building_age</th>\n",
       "    </tr>\n",
       "  </thead>\n",
       "  <tbody>\n",
       "    <tr>\n",
       "      <th>0</th>\n",
       "      <td>3</td>\n",
       "      <td>1.00</td>\n",
       "      <td>1180</td>\n",
       "      <td>5650</td>\n",
       "      <td>1.0</td>\n",
       "      <td>0</td>\n",
       "      <td>0</td>\n",
       "      <td>3</td>\n",
       "      <td>7</td>\n",
       "      <td>1180</td>\n",
       "      <td>0</td>\n",
       "      <td>47.5112</td>\n",
       "      <td>-122.257</td>\n",
       "      <td>1340</td>\n",
       "      <td>5650</td>\n",
       "      <td>221900.0</td>\n",
       "      <td>70</td>\n",
       "    </tr>\n",
       "    <tr>\n",
       "      <th>1</th>\n",
       "      <td>3</td>\n",
       "      <td>2.25</td>\n",
       "      <td>2570</td>\n",
       "      <td>7242</td>\n",
       "      <td>2.0</td>\n",
       "      <td>0</td>\n",
       "      <td>0</td>\n",
       "      <td>3</td>\n",
       "      <td>7</td>\n",
       "      <td>2170</td>\n",
       "      <td>400</td>\n",
       "      <td>47.7210</td>\n",
       "      <td>-122.319</td>\n",
       "      <td>1690</td>\n",
       "      <td>7639</td>\n",
       "      <td>538000.0</td>\n",
       "      <td>74</td>\n",
       "    </tr>\n",
       "    <tr>\n",
       "      <th>2</th>\n",
       "      <td>2</td>\n",
       "      <td>1.00</td>\n",
       "      <td>770</td>\n",
       "      <td>10000</td>\n",
       "      <td>1.0</td>\n",
       "      <td>0</td>\n",
       "      <td>0</td>\n",
       "      <td>3</td>\n",
       "      <td>6</td>\n",
       "      <td>770</td>\n",
       "      <td>0</td>\n",
       "      <td>47.7379</td>\n",
       "      <td>-122.233</td>\n",
       "      <td>2720</td>\n",
       "      <td>8062</td>\n",
       "      <td>180000.0</td>\n",
       "      <td>92</td>\n",
       "    </tr>\n",
       "    <tr>\n",
       "      <th>3</th>\n",
       "      <td>4</td>\n",
       "      <td>3.00</td>\n",
       "      <td>1960</td>\n",
       "      <td>5000</td>\n",
       "      <td>1.0</td>\n",
       "      <td>0</td>\n",
       "      <td>0</td>\n",
       "      <td>5</td>\n",
       "      <td>7</td>\n",
       "      <td>1050</td>\n",
       "      <td>910</td>\n",
       "      <td>47.5208</td>\n",
       "      <td>-122.393</td>\n",
       "      <td>1360</td>\n",
       "      <td>5000</td>\n",
       "      <td>604000.0</td>\n",
       "      <td>60</td>\n",
       "    </tr>\n",
       "    <tr>\n",
       "      <th>4</th>\n",
       "      <td>3</td>\n",
       "      <td>2.00</td>\n",
       "      <td>1680</td>\n",
       "      <td>8080</td>\n",
       "      <td>1.0</td>\n",
       "      <td>0</td>\n",
       "      <td>0</td>\n",
       "      <td>3</td>\n",
       "      <td>8</td>\n",
       "      <td>1680</td>\n",
       "      <td>0</td>\n",
       "      <td>47.6168</td>\n",
       "      <td>-122.045</td>\n",
       "      <td>1800</td>\n",
       "      <td>7503</td>\n",
       "      <td>510000.0</td>\n",
       "      <td>38</td>\n",
       "    </tr>\n",
       "  </tbody>\n",
       "</table>\n",
       "</div>"
      ],
      "text/plain": [
       "   bedrooms  bathrooms  sqft_living  sqft_lot  floors  waterfront  view  \\\n",
       "0         3       1.00         1180      5650     1.0           0     0   \n",
       "1         3       2.25         2570      7242     2.0           0     0   \n",
       "2         2       1.00          770     10000     1.0           0     0   \n",
       "3         4       3.00         1960      5000     1.0           0     0   \n",
       "4         3       2.00         1680      8080     1.0           0     0   \n",
       "\n",
       "   condition  grade  sqft_above  sqft_basement      lat     long  \\\n",
       "0          3      7        1180              0  47.5112 -122.257   \n",
       "1          3      7        2170            400  47.7210 -122.319   \n",
       "2          3      6         770              0  47.7379 -122.233   \n",
       "3          5      7        1050            910  47.5208 -122.393   \n",
       "4          3      8        1680              0  47.6168 -122.045   \n",
       "\n",
       "   sqft_living15  sqft_lot15     price  building_age  \n",
       "0           1340        5650  221900.0            70  \n",
       "1           1690        7639  538000.0            74  \n",
       "2           2720        8062  180000.0            92  \n",
       "3           1360        5000  604000.0            60  \n",
       "4           1800        7503  510000.0            38  "
      ]
     },
     "execution_count": 34,
     "metadata": {},
     "output_type": "execute_result"
    }
   ],
   "source": [
    "df2.head()"
   ]
  },
  {
   "cell_type": "markdown",
   "metadata": {},
   "source": [
    "How do we use the PCA df to boil down our original DF into a more concise amount of columns?\n",
    "\n",
    "We can use the following methods:"
   ]
  },
  {
   "cell_type": "markdown",
=======
>>>>>>> 13ae57a1e22f9e5ce1b58554b8ef3a5cf9367dd1
   "metadata": {
    "id": "yJBffElwt3de"
   },
   "source": [
    "### $\\color{blue}{\\text{Finding influential variables}}$\n",
    "\n",
    "1. Compute the absolute **loadings** for each variable in the PCs\n",
    "  - **Loadings** are the coefficients (weights) that show how much each original variable contributes to a principal component (PC)\n",
    "  - The larger the absolute loadings, the more influence the variable has on the PC\n",
    "2. Select variables with consistently high loadings across multiple\n",
    "3. Set some selection criteria\n",
    "  - For us, a variable is important if the absolute value of its loading exceeds the median load across all PCS"
   ]
  },
  {
   "cell_type": "code",
<<<<<<< HEAD
   "execution_count": 35,
=======
   "execution_count": 23,
>>>>>>> 13ae57a1e22f9e5ce1b58554b8ef3a5cf9367dd1
   "metadata": {
    "id": "S2dcUckb8d9B"
   },
   "outputs": [
    {
     "data": {
      "text/html": [
       "<div>\n",
       "<style scoped>\n",
       "    .dataframe tbody tr th:only-of-type {\n",
       "        vertical-align: middle;\n",
       "    }\n",
       "\n",
       "    .dataframe tbody tr th {\n",
       "        vertical-align: top;\n",
       "    }\n",
       "\n",
       "    .dataframe thead th {\n",
       "        text-align: right;\n",
       "    }\n",
       "</style>\n",
       "<table border=\"1\" class=\"dataframe\">\n",
       "  <thead>\n",
       "    <tr style=\"text-align: right;\">\n",
       "      <th></th>\n",
       "      <th>PC1</th>\n",
       "      <th>PC2</th>\n",
       "      <th>PC3</th>\n",
       "      <th>PC4</th>\n",
       "      <th>PC5</th>\n",
       "      <th>PC6</th>\n",
       "      <th>PC7</th>\n",
       "      <th>PC8</th>\n",
       "      <th>PC9</th>\n",
       "      <th>PC10</th>\n",
       "    </tr>\n",
       "  </thead>\n",
       "  <tbody>\n",
       "    <tr>\n",
       "      <th>bedrooms</th>\n",
       "      <td>0.237067</td>\n",
       "      <td>0.097978</td>\n",
       "      <td>-0.048910</td>\n",
       "      <td>-0.406783</td>\n",
       "      <td>-0.195498</td>\n",
       "      <td>-0.064896</td>\n",
       "      <td>-0.195892</td>\n",
       "      <td>0.477480</td>\n",
       "      <td>-0.427722</td>\n",
       "      <td>0.342102</td>\n",
       "    </tr>\n",
       "    <tr>\n",
       "      <th>bathrooms</th>\n",
       "      <td>0.352553</td>\n",
       "      <td>-0.020713</td>\n",
       "      <td>-0.106613</td>\n",
       "      <td>-0.109422</td>\n",
       "      <td>-0.090264</td>\n",
       "      <td>-0.134005</td>\n",
       "      <td>-0.153045</td>\n",
       "      <td>0.150956</td>\n",
       "      <td>0.265689</td>\n",
       "      <td>0.000409</td>\n",
       "    </tr>\n",
       "    <tr>\n",
       "      <th>sqft_living</th>\n",
       "      <td>0.393238</td>\n",
       "      <td>0.117294</td>\n",
       "      <td>0.017791</td>\n",
       "      <td>-0.141985</td>\n",
       "      <td>-0.030645</td>\n",
       "      <td>-0.023364</td>\n",
       "      <td>-0.010124</td>\n",
       "      <td>-0.054510</td>\n",
       "      <td>-0.081100</td>\n",
       "      <td>-0.118257</td>\n",
       "    </tr>\n",
       "    <tr>\n",
       "      <th>sqft_lot</th>\n",
       "      <td>0.091369</td>\n",
       "      <td>-0.108046</td>\n",
       "      <td>0.619673</td>\n",
       "      <td>0.041611</td>\n",
       "      <td>0.203139</td>\n",
       "      <td>-0.118322</td>\n",
       "      <td>-0.210498</td>\n",
       "      <td>0.061709</td>\n",
       "      <td>0.028028</td>\n",
       "      <td>0.012207</td>\n",
       "    </tr>\n",
       "    <tr>\n",
       "      <th>floors</th>\n",
       "      <td>0.222183</td>\n",
       "      <td>-0.272722</td>\n",
       "      <td>-0.256816</td>\n",
       "      <td>0.218370</td>\n",
       "      <td>0.119533</td>\n",
       "      <td>0.097117</td>\n",
       "      <td>-0.444442</td>\n",
       "      <td>0.140476</td>\n",
       "      <td>0.227256</td>\n",
       "      <td>0.214457</td>\n",
       "    </tr>\n",
       "  </tbody>\n",
       "</table>\n",
       "</div>"
      ],
      "text/plain": [
<<<<<<< HEAD
       "                  PC1       PC2       PC3       PC4       PC5       PC6  \\\n",
       "bedrooms     0.237067  0.097978 -0.048910 -0.406783 -0.195498 -0.064896   \n",
       "bathrooms    0.352553 -0.020713 -0.106613 -0.109422 -0.090264 -0.134005   \n",
       "sqft_living  0.393238  0.117294  0.017791 -0.141985 -0.030645 -0.023364   \n",
       "sqft_lot     0.091369 -0.108046  0.619673  0.041611  0.203139 -0.118322   \n",
       "floors       0.222183 -0.272722 -0.256816  0.218370  0.119533  0.097117   \n",
       "\n",
       "                  PC7       PC8       PC9      PC10  \n",
       "bedrooms    -0.195892  0.477480 -0.427722  0.342102  \n",
       "bathrooms   -0.153045  0.150956  0.265689  0.000409  \n",
       "sqft_living -0.010124 -0.054510 -0.081100 -0.118257  \n",
       "sqft_lot    -0.210498  0.061709  0.028028  0.012207  \n",
       "floors      -0.444442  0.140476  0.227256  0.214457  "
      ]
     },
     "execution_count": 35,
=======
       "                  PC1       PC2       PC3       PC4       PC5       PC6       PC7       PC8       PC9      PC10\n",
       "bedrooms     0.237067  0.097978 -0.048910 -0.406783 -0.195498 -0.064896 -0.195892  0.477480 -0.427722  0.342102\n",
       "bathrooms    0.352553 -0.020713 -0.106613 -0.109422 -0.090264 -0.134005 -0.153045  0.150956  0.265689  0.000409\n",
       "sqft_living  0.393238  0.117294  0.017791 -0.141985 -0.030645 -0.023364 -0.010124 -0.054510 -0.081100 -0.118257\n",
       "sqft_lot     0.091369 -0.108046  0.619673  0.041611  0.203139 -0.118322 -0.210498  0.061709  0.028028  0.012207\n",
       "floors       0.222183 -0.272722 -0.256816  0.218370  0.119533  0.097117 -0.444442  0.140476  0.227256  0.214457"
      ]
     },
     "execution_count": 23,
>>>>>>> 13ae57a1e22f9e5ce1b58554b8ef3a5cf9367dd1
     "metadata": {},
     "output_type": "execute_result"
    }
   ],
   "source": [
<<<<<<< HEAD
    "# In our PCA df, each column represents the weight\n",
    "# The abs() value of the 'load', or weight, the more influential it is\n",
    "\n",
    "# Display the loadings of each variable in each PC\n",
    "var_names = df2.columns\n",
=======
    "# Display the loadings of each variable in each PC\n",
    "var_names = new_housing.columns\n",
>>>>>>> 13ae57a1e22f9e5ce1b58554b8ef3a5cf9367dd1
    "housing_loadings = pd.DataFrame(pca.components_.T, index=var_names, columns=[f'PC{i+1}' for i in range(pca.n_components_)])\n",
    "housing_loadings.head()"
   ]
  },
  {
   "cell_type": "code",
<<<<<<< HEAD
   "execution_count": 39,
=======
   "execution_count": 24,
>>>>>>> 13ae57a1e22f9e5ce1b58554b8ef3a5cf9367dd1
   "metadata": {
    "id": "TI5M5RMns4vR"
   },
   "outputs": [
    {
<<<<<<< HEAD
     "name": "stdout",
     "output_type": "stream",
     "text": [
      "['bedrooms' 'bathrooms' 'sqft_living' 'sqft_lot' 'floors' 'waterfront'\n",
      " 'view' 'condition' 'grade' 'sqft_above' 'sqft_basement' 'lat' 'long'\n",
      " 'sqft_living15' 'sqft_lot15' 'price' 'building_age']\n"
     ]
    }
   ],
   "source": [
    "# Compute abs() of all loading\n",
    "abs_loadings = np.abs(pca.components_)\n",
    "\n",
    "# Compute median loading across all PCs\n",
    "med_loading = np.median(abs_loadings)\n",
    "\n",
    "# Identify Important Variables (important = have loadings that exceed the median loading)\n",
    "important_vars = np.any(abs_loadings > med_loading, axis=0)\n",
    "\n",
    "# Extract var_names\n",
    "important_features = np.array(var_names)[important_vars]\n",
    "print(important_features)"
=======
     "data": {
      "text/plain": [
       "array(['bedrooms', 'bathrooms', 'sqft_living', 'sqft_lot', 'floors',\n",
       "       'waterfront', 'view', 'condition', 'grade', 'sqft_above',\n",
       "       'sqft_basement', 'lat', 'long', 'sqft_living15', 'sqft_lot15',\n",
       "       'price', 'building_age'], dtype=object)"
      ]
     },
     "execution_count": 24,
     "metadata": {},
     "output_type": "execute_result"
    }
   ],
   "source": [
    "# Compute absolute loadings\n",
    "abs_loadings = np.abs(pca.components_)\n",
    "\n",
    "# compute median loading across all PCs\n",
    "median_loadings =  np.median(abs_loadings)\n",
    "\n",
    "# identify important variables (those loadings that exceed the median loading)\n",
    "important_vars = np.any(abs_loadings > median_loadings, axis=0)\n",
    "\n",
    "# extract var names\n",
    "important_features = np.array(var_names)[important_vars]\n",
    "important_features"
   ]
  },
  {
   "cell_type": "code",
   "execution_count": 28,
   "metadata": {},
   "outputs": [
    {
     "data": {
      "text/plain": [
       "22"
      ]
     },
     "execution_count": 28,
     "metadata": {},
     "output_type": "execute_result"
    }
   ],
   "source": [
    "len(important_features) + len(drop_vars)"
   ]
  },
  {
   "cell_type": "code",
   "execution_count": 30,
   "metadata": {
    "id": "C9zqF7Dw7Zmr"
   },
   "outputs": [
    {
     "data": {
      "text/plain": [
       "22"
      ]
     },
     "execution_count": 30,
     "metadata": {},
     "output_type": "execute_result"
    }
   ],
   "source": [
    "housing_df.shape[1]"
>>>>>>> 13ae57a1e22f9e5ce1b58554b8ef3a5cf9367dd1
   ]
  },
  {
   "cell_type": "markdown",
   "metadata": {},
   "source": [
<<<<<<< HEAD
    "Now evaluate the features. Do these make sense for evaluating the price of a house?"
   ]
  },
  {
   "cell_type": "markdown",
   "metadata": {},
   "source": [
    "Apply this to the NBA Dataset!!!"
=======
    "... that didnt reduce anything"
>>>>>>> 13ae57a1e22f9e5ce1b58554b8ef3a5cf9367dd1
   ]
  }
 ],
 "metadata": {
  "colab": {
   "provenance": [],
   "toc_visible": true
  },
  "kernelspec": {
<<<<<<< HEAD
   "display_name": ".venv",
=======
   "display_name": "capstone2",
>>>>>>> 13ae57a1e22f9e5ce1b58554b8ef3a5cf9367dd1
   "language": "python",
   "name": "python3"
  },
  "language_info": {
   "codemirror_mode": {
    "name": "ipython",
    "version": 3
   },
   "file_extension": ".py",
   "mimetype": "text/x-python",
   "name": "python",
   "nbconvert_exporter": "python",
   "pygments_lexer": "ipython3",
   "version": "3.11.11"
  }
 },
 "nbformat": 4,
 "nbformat_minor": 0
}
