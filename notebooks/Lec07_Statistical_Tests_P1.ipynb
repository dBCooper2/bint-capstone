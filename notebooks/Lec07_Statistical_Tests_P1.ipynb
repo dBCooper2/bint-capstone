{
  "cells": [
    {
      "cell_type": "markdown",
      "metadata": {
        "id": "01q9Ek9qssXh"
      },
      "source": [
        "## $\\color{red}{\\text{Hypothesis tests}}$\n",
        "---\n",
        "- Hypothesis testing is a formal and rigorous way of testing observed claims\n",
        "  - Most of the time the claims concern population parameters such as mean, median or variance\n",
        "- Examples of **observed claims**:\n",
        "  - The newly developed oil will increase mileage by at least 10 miles\n",
        "  - The newly developed drug is more effective than the old one\n",
        "  - The new company logo will increase website traffic by at least 2 fold\n",
        "  - There is no difference between two methods of teaching\n",
        "- Typically, hypothesis tests falls under two categories: **parametric** and **non-parametric**\n",
        "  - For **parametric** tests we assume that the claims follow some known probability distribution such as binomial, normal, T, etc.\n",
        "  - **Non-parametric** tests assumes that the claims do not follow any known probability distribution"
      ]
    },
    {
      "cell_type": "markdown",
      "metadata": {
        "id": "SlP4CU_GYeab"
      },
      "source": [
        "## $\\color{red}{\\text{Elements of hypothesis tests}}$\n",
        "---\n",
        "- There are four elements of every hypothesis test: the null hypothesis ($H_0$), alternative hypothesis ($H_1$), the test statistic and rejection region\n",
        "  - The **null hypothesis** is the current accepted claim until there's overwhelming evidence for the **alternative hypothesis**\n",
        "  - The **test statistic** is a function used to make a decision on rejecting or not rejecting $H_0$\n",
        "  - The **rejection region** represent values of the test statistic for which $H_0$ is be rejected in favor of the $H_1$\n",
        "- The validity of hypothesis tests are often communicated through a **p-value**\n",
        "  - A **p-value** or **significance level** is the smallest value of $\\alpha$ for which the oberserved data indicates that the null hypothesis should be rejected. That is, the smaller the p-value, the more compelling the evidence points to the rejection of the null hypothesis"
      ]
    },
    {
      "cell_type": "markdown",
      "metadata": {
        "id": "R__oHxPuL-ck"
      },
      "source": [
        "## $\\color{red}{\\text{Errors in hypothesis tests}}$\n",
        "- There are two types of errors in hypthesis testing: **type I** and **type II**\n",
        "- Type I error is committed if $H_0$ is rejected when it is true. That is, the current cliam is rejected when there's no evidence to support its rejection\n",
        "  - The probability of committing a type I error is $\\alpha$, also called the **significance level**\n",
        "- Type II error is committed if $H_0$ is accepted when $H_1$ is true. That is, the current claim is accepted when there's evidence to reject it\n",
        "  - The probability of a type II error is $\\beta$"
      ]
    },
    {
      "cell_type": "markdown",
      "metadata": {
        "id": "8xvzJpLi3GFK"
      },
      "source": [
        "## $\\color{red}{\\text{Some common parametric tests}}$\n"
      ]
    },
    {
      "cell_type": "markdown",
      "metadata": {
        "id": "s8vLHA1PxvLo"
      },
      "source": [
        "### $\\color{blue}{\\text{The F-test}}$\n",
        "---\n",
        "- **Purpose:** To determine if population variances are equal\n",
        "- **Structure:**\n",
        "  \\begin{equation}\n",
        "    \\begin{array}{l}\n",
        "      H_0: \\sigma^2_{g1} = \\sigma^2_{g2} \\\\\n",
        "      H_1: \\sigma^2_{g1} \\neq \\sigma^2_{g2}\n",
        "    \\end{array}\n",
        "  \\end{equation}"
      ]
    },
    {
      "cell_type": "markdown",
      "metadata": {
        "id": "4yrGSkgSxKL1"
      },
      "source": [
        "## $\\color{red}{\\text{Import Required Packages}}$"
      ]
    },
    {
      "cell_type": "code",
      "execution_count": 1,
      "metadata": {
        "id": "b-EFoUDUxPL6"
      },
      "outputs": [],
      "source": [
        "import pandas as pd\n",
        "import numpy as np"
      ]
    },
    {
      "cell_type": "markdown",
      "metadata": {
        "id": "ySlK1Powxc1S"
      },
      "source": [
        "## $\\color{red}{\\text{Import Data}}$"
      ]
    },
    {
      "cell_type": "code",
      "execution_count": 2,
      "metadata": {
        "id": "LOVaSFE4xeah"
      },
      "outputs": [
        {
          "ename": "FileNotFoundError",
          "evalue": "[Errno 2] No such file or directory: '/Users/dB/Documents/repos/github/bint-capstone/notebooks/data/hrData.xlsx'",
          "output_type": "error",
          "traceback": [
            "\u001b[0;31m---------------------------------------------------------------------------\u001b[0m",
            "\u001b[0;31mFileNotFoundError\u001b[0m                         Traceback (most recent call last)",
            "Cell \u001b[0;32mIn[2], line 1\u001b[0m\n\u001b[0;32m----> 1\u001b[0m df \u001b[38;5;241m=\u001b[39m \u001b[43mpd\u001b[49m\u001b[38;5;241;43m.\u001b[39;49m\u001b[43mread_excel\u001b[49m\u001b[43m(\u001b[49m\u001b[38;5;124;43m'\u001b[39;49m\u001b[38;5;124;43m/Users/dB/Documents/repos/github/bint-capstone/notebooks/data/hrData.xlsx\u001b[39;49m\u001b[38;5;124;43m'\u001b[39;49m\u001b[43m,\u001b[49m\u001b[43m \u001b[49m\u001b[43msheet_name\u001b[49m\u001b[38;5;241;43m=\u001b[39;49m\u001b[38;5;124;43m\"\u001b[39;49m\u001b[38;5;124;43morigData\u001b[39;49m\u001b[38;5;124;43m\"\u001b[39;49m\u001b[43m)\u001b[49m\n",
            "File \u001b[0;32m~/Documents/github/bint-capstone/.venv/lib/python3.11/site-packages/pandas/io/excel/_base.py:495\u001b[0m, in \u001b[0;36mread_excel\u001b[0;34m(io, sheet_name, header, names, index_col, usecols, dtype, engine, converters, true_values, false_values, skiprows, nrows, na_values, keep_default_na, na_filter, verbose, parse_dates, date_parser, date_format, thousands, decimal, comment, skipfooter, storage_options, dtype_backend, engine_kwargs)\u001b[0m\n\u001b[1;32m    493\u001b[0m \u001b[38;5;28;01mif\u001b[39;00m \u001b[38;5;129;01mnot\u001b[39;00m \u001b[38;5;28misinstance\u001b[39m(io, ExcelFile):\n\u001b[1;32m    494\u001b[0m     should_close \u001b[38;5;241m=\u001b[39m \u001b[38;5;28;01mTrue\u001b[39;00m\n\u001b[0;32m--> 495\u001b[0m     io \u001b[38;5;241m=\u001b[39m \u001b[43mExcelFile\u001b[49m\u001b[43m(\u001b[49m\n\u001b[1;32m    496\u001b[0m \u001b[43m        \u001b[49m\u001b[43mio\u001b[49m\u001b[43m,\u001b[49m\n\u001b[1;32m    497\u001b[0m \u001b[43m        \u001b[49m\u001b[43mstorage_options\u001b[49m\u001b[38;5;241;43m=\u001b[39;49m\u001b[43mstorage_options\u001b[49m\u001b[43m,\u001b[49m\n\u001b[1;32m    498\u001b[0m \u001b[43m        \u001b[49m\u001b[43mengine\u001b[49m\u001b[38;5;241;43m=\u001b[39;49m\u001b[43mengine\u001b[49m\u001b[43m,\u001b[49m\n\u001b[1;32m    499\u001b[0m \u001b[43m        \u001b[49m\u001b[43mengine_kwargs\u001b[49m\u001b[38;5;241;43m=\u001b[39;49m\u001b[43mengine_kwargs\u001b[49m\u001b[43m,\u001b[49m\n\u001b[1;32m    500\u001b[0m \u001b[43m    \u001b[49m\u001b[43m)\u001b[49m\n\u001b[1;32m    501\u001b[0m \u001b[38;5;28;01melif\u001b[39;00m engine \u001b[38;5;129;01mand\u001b[39;00m engine \u001b[38;5;241m!=\u001b[39m io\u001b[38;5;241m.\u001b[39mengine:\n\u001b[1;32m    502\u001b[0m     \u001b[38;5;28;01mraise\u001b[39;00m \u001b[38;5;167;01mValueError\u001b[39;00m(\n\u001b[1;32m    503\u001b[0m         \u001b[38;5;124m\"\u001b[39m\u001b[38;5;124mEngine should not be specified when passing \u001b[39m\u001b[38;5;124m\"\u001b[39m\n\u001b[1;32m    504\u001b[0m         \u001b[38;5;124m\"\u001b[39m\u001b[38;5;124man ExcelFile - ExcelFile already has the engine set\u001b[39m\u001b[38;5;124m\"\u001b[39m\n\u001b[1;32m    505\u001b[0m     )\n",
            "File \u001b[0;32m~/Documents/github/bint-capstone/.venv/lib/python3.11/site-packages/pandas/io/excel/_base.py:1550\u001b[0m, in \u001b[0;36mExcelFile.__init__\u001b[0;34m(self, path_or_buffer, engine, storage_options, engine_kwargs)\u001b[0m\n\u001b[1;32m   1548\u001b[0m     ext \u001b[38;5;241m=\u001b[39m \u001b[38;5;124m\"\u001b[39m\u001b[38;5;124mxls\u001b[39m\u001b[38;5;124m\"\u001b[39m\n\u001b[1;32m   1549\u001b[0m \u001b[38;5;28;01melse\u001b[39;00m:\n\u001b[0;32m-> 1550\u001b[0m     ext \u001b[38;5;241m=\u001b[39m \u001b[43minspect_excel_format\u001b[49m\u001b[43m(\u001b[49m\n\u001b[1;32m   1551\u001b[0m \u001b[43m        \u001b[49m\u001b[43mcontent_or_path\u001b[49m\u001b[38;5;241;43m=\u001b[39;49m\u001b[43mpath_or_buffer\u001b[49m\u001b[43m,\u001b[49m\u001b[43m \u001b[49m\u001b[43mstorage_options\u001b[49m\u001b[38;5;241;43m=\u001b[39;49m\u001b[43mstorage_options\u001b[49m\n\u001b[1;32m   1552\u001b[0m \u001b[43m    \u001b[49m\u001b[43m)\u001b[49m\n\u001b[1;32m   1553\u001b[0m     \u001b[38;5;28;01mif\u001b[39;00m ext \u001b[38;5;129;01mis\u001b[39;00m \u001b[38;5;28;01mNone\u001b[39;00m:\n\u001b[1;32m   1554\u001b[0m         \u001b[38;5;28;01mraise\u001b[39;00m \u001b[38;5;167;01mValueError\u001b[39;00m(\n\u001b[1;32m   1555\u001b[0m             \u001b[38;5;124m\"\u001b[39m\u001b[38;5;124mExcel file format cannot be determined, you must specify \u001b[39m\u001b[38;5;124m\"\u001b[39m\n\u001b[1;32m   1556\u001b[0m             \u001b[38;5;124m\"\u001b[39m\u001b[38;5;124man engine manually.\u001b[39m\u001b[38;5;124m\"\u001b[39m\n\u001b[1;32m   1557\u001b[0m         )\n",
            "File \u001b[0;32m~/Documents/github/bint-capstone/.venv/lib/python3.11/site-packages/pandas/io/excel/_base.py:1402\u001b[0m, in \u001b[0;36minspect_excel_format\u001b[0;34m(content_or_path, storage_options)\u001b[0m\n\u001b[1;32m   1399\u001b[0m \u001b[38;5;28;01mif\u001b[39;00m \u001b[38;5;28misinstance\u001b[39m(content_or_path, \u001b[38;5;28mbytes\u001b[39m):\n\u001b[1;32m   1400\u001b[0m     content_or_path \u001b[38;5;241m=\u001b[39m BytesIO(content_or_path)\n\u001b[0;32m-> 1402\u001b[0m \u001b[38;5;28;01mwith\u001b[39;00m \u001b[43mget_handle\u001b[49m\u001b[43m(\u001b[49m\n\u001b[1;32m   1403\u001b[0m \u001b[43m    \u001b[49m\u001b[43mcontent_or_path\u001b[49m\u001b[43m,\u001b[49m\u001b[43m \u001b[49m\u001b[38;5;124;43m\"\u001b[39;49m\u001b[38;5;124;43mrb\u001b[39;49m\u001b[38;5;124;43m\"\u001b[39;49m\u001b[43m,\u001b[49m\u001b[43m \u001b[49m\u001b[43mstorage_options\u001b[49m\u001b[38;5;241;43m=\u001b[39;49m\u001b[43mstorage_options\u001b[49m\u001b[43m,\u001b[49m\u001b[43m \u001b[49m\u001b[43mis_text\u001b[49m\u001b[38;5;241;43m=\u001b[39;49m\u001b[38;5;28;43;01mFalse\u001b[39;49;00m\n\u001b[1;32m   1404\u001b[0m \u001b[43m\u001b[49m\u001b[43m)\u001b[49m \u001b[38;5;28;01mas\u001b[39;00m handle:\n\u001b[1;32m   1405\u001b[0m     stream \u001b[38;5;241m=\u001b[39m handle\u001b[38;5;241m.\u001b[39mhandle\n\u001b[1;32m   1406\u001b[0m     stream\u001b[38;5;241m.\u001b[39mseek(\u001b[38;5;241m0\u001b[39m)\n",
            "File \u001b[0;32m~/Documents/github/bint-capstone/.venv/lib/python3.11/site-packages/pandas/io/common.py:882\u001b[0m, in \u001b[0;36mget_handle\u001b[0;34m(path_or_buf, mode, encoding, compression, memory_map, is_text, errors, storage_options)\u001b[0m\n\u001b[1;32m    873\u001b[0m         handle \u001b[38;5;241m=\u001b[39m \u001b[38;5;28mopen\u001b[39m(\n\u001b[1;32m    874\u001b[0m             handle,\n\u001b[1;32m    875\u001b[0m             ioargs\u001b[38;5;241m.\u001b[39mmode,\n\u001b[0;32m   (...)\u001b[0m\n\u001b[1;32m    878\u001b[0m             newline\u001b[38;5;241m=\u001b[39m\u001b[38;5;124m\"\u001b[39m\u001b[38;5;124m\"\u001b[39m,\n\u001b[1;32m    879\u001b[0m         )\n\u001b[1;32m    880\u001b[0m     \u001b[38;5;28;01melse\u001b[39;00m:\n\u001b[1;32m    881\u001b[0m         \u001b[38;5;66;03m# Binary mode\u001b[39;00m\n\u001b[0;32m--> 882\u001b[0m         handle \u001b[38;5;241m=\u001b[39m \u001b[38;5;28;43mopen\u001b[39;49m\u001b[43m(\u001b[49m\u001b[43mhandle\u001b[49m\u001b[43m,\u001b[49m\u001b[43m \u001b[49m\u001b[43mioargs\u001b[49m\u001b[38;5;241;43m.\u001b[39;49m\u001b[43mmode\u001b[49m\u001b[43m)\u001b[49m\n\u001b[1;32m    883\u001b[0m     handles\u001b[38;5;241m.\u001b[39mappend(handle)\n\u001b[1;32m    885\u001b[0m \u001b[38;5;66;03m# Convert BytesIO or file objects passed with an encoding\u001b[39;00m\n",
            "\u001b[0;31mFileNotFoundError\u001b[0m: [Errno 2] No such file or directory: '/Users/dB/Documents/repos/github/bint-capstone/notebooks/data/hrData.xlsx'"
          ]
        }
      ],
      "source": [
        "df = pd.read_excel('/Users/dB/Documents/repos/github/bint-capstone/notebooks/data/hrData.xlsx', sheet_name=\"origData\")"
      ]
    },
    {
      "cell_type": "code",
      "execution_count": 4,
      "metadata": {
        "id": "CnBhv8fxzBMO"
      },
      "outputs": [
        {
          "data": {
            "text/html": [
              "<div>\n",
              "<style scoped>\n",
              "    .dataframe tbody tr th:only-of-type {\n",
              "        vertical-align: middle;\n",
              "    }\n",
              "\n",
              "    .dataframe tbody tr th {\n",
              "        vertical-align: top;\n",
              "    }\n",
              "\n",
              "    .dataframe thead th {\n",
              "        text-align: right;\n",
              "    }\n",
              "</style>\n",
              "<table border=\"1\" class=\"dataframe\">\n",
              "  <thead>\n",
              "    <tr style=\"text-align: right;\">\n",
              "      <th></th>\n",
              "      <th>Age</th>\n",
              "      <th>Attrition</th>\n",
              "      <th>BusinessTravel</th>\n",
              "      <th>DailyRate</th>\n",
              "      <th>Department</th>\n",
              "      <th>DistanceFromHome</th>\n",
              "      <th>Education</th>\n",
              "      <th>EducationField</th>\n",
              "      <th>EmployeeCount</th>\n",
              "      <th>EmployeeNumber</th>\n",
              "      <th>...</th>\n",
              "      <th>RelationshipSatisfaction</th>\n",
              "      <th>StandardHours</th>\n",
              "      <th>StockOptionLevel</th>\n",
              "      <th>TotalWorkingYears</th>\n",
              "      <th>TrainingTimesLastYear</th>\n",
              "      <th>WorkLifeBalance</th>\n",
              "      <th>YearsAtCompany</th>\n",
              "      <th>YearsInCurrentRole</th>\n",
              "      <th>YearsSinceLastPromotion</th>\n",
              "      <th>YearsWithCurrManager</th>\n",
              "    </tr>\n",
              "  </thead>\n",
              "  <tbody>\n",
              "    <tr>\n",
              "      <th>0</th>\n",
              "      <td>41</td>\n",
              "      <td>Yes</td>\n",
              "      <td>Travel_Rarely</td>\n",
              "      <td>1102</td>\n",
              "      <td>Sales</td>\n",
              "      <td>1</td>\n",
              "      <td>2</td>\n",
              "      <td>Life Sciences</td>\n",
              "      <td>1</td>\n",
              "      <td>1</td>\n",
              "      <td>...</td>\n",
              "      <td>1</td>\n",
              "      <td>80</td>\n",
              "      <td>0</td>\n",
              "      <td>8</td>\n",
              "      <td>0</td>\n",
              "      <td>1</td>\n",
              "      <td>6</td>\n",
              "      <td>4</td>\n",
              "      <td>0</td>\n",
              "      <td>5</td>\n",
              "    </tr>\n",
              "    <tr>\n",
              "      <th>1</th>\n",
              "      <td>49</td>\n",
              "      <td>No</td>\n",
              "      <td>Travel_Frequently</td>\n",
              "      <td>279</td>\n",
              "      <td>Research &amp; Development</td>\n",
              "      <td>8</td>\n",
              "      <td>1</td>\n",
              "      <td>Life Sciences</td>\n",
              "      <td>1</td>\n",
              "      <td>2</td>\n",
              "      <td>...</td>\n",
              "      <td>4</td>\n",
              "      <td>80</td>\n",
              "      <td>1</td>\n",
              "      <td>10</td>\n",
              "      <td>3</td>\n",
              "      <td>3</td>\n",
              "      <td>10</td>\n",
              "      <td>7</td>\n",
              "      <td>1</td>\n",
              "      <td>7</td>\n",
              "    </tr>\n",
              "    <tr>\n",
              "      <th>2</th>\n",
              "      <td>37</td>\n",
              "      <td>Yes</td>\n",
              "      <td>Travel_Rarely</td>\n",
              "      <td>1373</td>\n",
              "      <td>Research &amp; Development</td>\n",
              "      <td>2</td>\n",
              "      <td>2</td>\n",
              "      <td>Other</td>\n",
              "      <td>1</td>\n",
              "      <td>4</td>\n",
              "      <td>...</td>\n",
              "      <td>2</td>\n",
              "      <td>80</td>\n",
              "      <td>0</td>\n",
              "      <td>7</td>\n",
              "      <td>3</td>\n",
              "      <td>3</td>\n",
              "      <td>0</td>\n",
              "      <td>0</td>\n",
              "      <td>0</td>\n",
              "      <td>0</td>\n",
              "    </tr>\n",
              "    <tr>\n",
              "      <th>3</th>\n",
              "      <td>33</td>\n",
              "      <td>No</td>\n",
              "      <td>Travel_Frequently</td>\n",
              "      <td>1392</td>\n",
              "      <td>Research &amp; Development</td>\n",
              "      <td>3</td>\n",
              "      <td>4</td>\n",
              "      <td>Life Sciences</td>\n",
              "      <td>1</td>\n",
              "      <td>5</td>\n",
              "      <td>...</td>\n",
              "      <td>3</td>\n",
              "      <td>80</td>\n",
              "      <td>0</td>\n",
              "      <td>8</td>\n",
              "      <td>3</td>\n",
              "      <td>3</td>\n",
              "      <td>8</td>\n",
              "      <td>7</td>\n",
              "      <td>3</td>\n",
              "      <td>0</td>\n",
              "    </tr>\n",
              "    <tr>\n",
              "      <th>4</th>\n",
              "      <td>27</td>\n",
              "      <td>No</td>\n",
              "      <td>Travel_Rarely</td>\n",
              "      <td>591</td>\n",
              "      <td>Research &amp; Development</td>\n",
              "      <td>2</td>\n",
              "      <td>1</td>\n",
              "      <td>Medical</td>\n",
              "      <td>1</td>\n",
              "      <td>7</td>\n",
              "      <td>...</td>\n",
              "      <td>4</td>\n",
              "      <td>80</td>\n",
              "      <td>1</td>\n",
              "      <td>6</td>\n",
              "      <td>3</td>\n",
              "      <td>3</td>\n",
              "      <td>2</td>\n",
              "      <td>2</td>\n",
              "      <td>2</td>\n",
              "      <td>2</td>\n",
              "    </tr>\n",
              "    <tr>\n",
              "      <th>5</th>\n",
              "      <td>32</td>\n",
              "      <td>No</td>\n",
              "      <td>Travel_Frequently</td>\n",
              "      <td>1005</td>\n",
              "      <td>Research &amp; Development</td>\n",
              "      <td>2</td>\n",
              "      <td>2</td>\n",
              "      <td>Life Sciences</td>\n",
              "      <td>1</td>\n",
              "      <td>8</td>\n",
              "      <td>...</td>\n",
              "      <td>3</td>\n",
              "      <td>80</td>\n",
              "      <td>0</td>\n",
              "      <td>8</td>\n",
              "      <td>2</td>\n",
              "      <td>2</td>\n",
              "      <td>7</td>\n",
              "      <td>7</td>\n",
              "      <td>3</td>\n",
              "      <td>6</td>\n",
              "    </tr>\n",
              "    <tr>\n",
              "      <th>6</th>\n",
              "      <td>59</td>\n",
              "      <td>No</td>\n",
              "      <td>Travel_Rarely</td>\n",
              "      <td>1324</td>\n",
              "      <td>Research &amp; Development</td>\n",
              "      <td>3</td>\n",
              "      <td>3</td>\n",
              "      <td>Medical</td>\n",
              "      <td>1</td>\n",
              "      <td>10</td>\n",
              "      <td>...</td>\n",
              "      <td>1</td>\n",
              "      <td>80</td>\n",
              "      <td>3</td>\n",
              "      <td>12</td>\n",
              "      <td>3</td>\n",
              "      <td>2</td>\n",
              "      <td>1</td>\n",
              "      <td>0</td>\n",
              "      <td>0</td>\n",
              "      <td>0</td>\n",
              "    </tr>\n",
              "    <tr>\n",
              "      <th>7</th>\n",
              "      <td>30</td>\n",
              "      <td>No</td>\n",
              "      <td>Travel_Rarely</td>\n",
              "      <td>1358</td>\n",
              "      <td>Research &amp; Development</td>\n",
              "      <td>24</td>\n",
              "      <td>1</td>\n",
              "      <td>Life Sciences</td>\n",
              "      <td>1</td>\n",
              "      <td>11</td>\n",
              "      <td>...</td>\n",
              "      <td>2</td>\n",
              "      <td>80</td>\n",
              "      <td>1</td>\n",
              "      <td>1</td>\n",
              "      <td>2</td>\n",
              "      <td>3</td>\n",
              "      <td>1</td>\n",
              "      <td>0</td>\n",
              "      <td>0</td>\n",
              "      <td>0</td>\n",
              "    </tr>\n",
              "    <tr>\n",
              "      <th>8</th>\n",
              "      <td>38</td>\n",
              "      <td>No</td>\n",
              "      <td>Travel_Frequently</td>\n",
              "      <td>216</td>\n",
              "      <td>Research &amp; Development</td>\n",
              "      <td>23</td>\n",
              "      <td>3</td>\n",
              "      <td>Life Sciences</td>\n",
              "      <td>1</td>\n",
              "      <td>12</td>\n",
              "      <td>...</td>\n",
              "      <td>2</td>\n",
              "      <td>80</td>\n",
              "      <td>0</td>\n",
              "      <td>10</td>\n",
              "      <td>2</td>\n",
              "      <td>3</td>\n",
              "      <td>9</td>\n",
              "      <td>7</td>\n",
              "      <td>1</td>\n",
              "      <td>8</td>\n",
              "    </tr>\n",
              "    <tr>\n",
              "      <th>9</th>\n",
              "      <td>36</td>\n",
              "      <td>No</td>\n",
              "      <td>Travel_Rarely</td>\n",
              "      <td>1299</td>\n",
              "      <td>Research &amp; Development</td>\n",
              "      <td>27</td>\n",
              "      <td>3</td>\n",
              "      <td>Medical</td>\n",
              "      <td>1</td>\n",
              "      <td>13</td>\n",
              "      <td>...</td>\n",
              "      <td>2</td>\n",
              "      <td>80</td>\n",
              "      <td>2</td>\n",
              "      <td>17</td>\n",
              "      <td>3</td>\n",
              "      <td>2</td>\n",
              "      <td>7</td>\n",
              "      <td>7</td>\n",
              "      <td>7</td>\n",
              "      <td>7</td>\n",
              "    </tr>\n",
              "  </tbody>\n",
              "</table>\n",
              "<p>10 rows × 35 columns</p>\n",
              "</div>"
            ],
            "text/plain": [
              "   Age Attrition     BusinessTravel  DailyRate              Department  \\\n",
              "0   41       Yes      Travel_Rarely       1102                   Sales   \n",
              "1   49        No  Travel_Frequently        279  Research & Development   \n",
              "2   37       Yes      Travel_Rarely       1373  Research & Development   \n",
              "3   33        No  Travel_Frequently       1392  Research & Development   \n",
              "4   27        No      Travel_Rarely        591  Research & Development   \n",
              "5   32        No  Travel_Frequently       1005  Research & Development   \n",
              "6   59        No      Travel_Rarely       1324  Research & Development   \n",
              "7   30        No      Travel_Rarely       1358  Research & Development   \n",
              "8   38        No  Travel_Frequently        216  Research & Development   \n",
              "9   36        No      Travel_Rarely       1299  Research & Development   \n",
              "\n",
              "   DistanceFromHome  Education EducationField  EmployeeCount  EmployeeNumber  \\\n",
              "0                 1          2  Life Sciences              1               1   \n",
              "1                 8          1  Life Sciences              1               2   \n",
              "2                 2          2          Other              1               4   \n",
              "3                 3          4  Life Sciences              1               5   \n",
              "4                 2          1        Medical              1               7   \n",
              "5                 2          2  Life Sciences              1               8   \n",
              "6                 3          3        Medical              1              10   \n",
              "7                24          1  Life Sciences              1              11   \n",
              "8                23          3  Life Sciences              1              12   \n",
              "9                27          3        Medical              1              13   \n",
              "\n",
              "   ...  RelationshipSatisfaction StandardHours  StockOptionLevel  \\\n",
              "0  ...                         1            80                 0   \n",
              "1  ...                         4            80                 1   \n",
              "2  ...                         2            80                 0   \n",
              "3  ...                         3            80                 0   \n",
              "4  ...                         4            80                 1   \n",
              "5  ...                         3            80                 0   \n",
              "6  ...                         1            80                 3   \n",
              "7  ...                         2            80                 1   \n",
              "8  ...                         2            80                 0   \n",
              "9  ...                         2            80                 2   \n",
              "\n",
              "   TotalWorkingYears  TrainingTimesLastYear WorkLifeBalance  YearsAtCompany  \\\n",
              "0                  8                      0               1               6   \n",
              "1                 10                      3               3              10   \n",
              "2                  7                      3               3               0   \n",
              "3                  8                      3               3               8   \n",
              "4                  6                      3               3               2   \n",
              "5                  8                      2               2               7   \n",
              "6                 12                      3               2               1   \n",
              "7                  1                      2               3               1   \n",
              "8                 10                      2               3               9   \n",
              "9                 17                      3               2               7   \n",
              "\n",
              "  YearsInCurrentRole  YearsSinceLastPromotion  YearsWithCurrManager  \n",
              "0                  4                        0                     5  \n",
              "1                  7                        1                     7  \n",
              "2                  0                        0                     0  \n",
              "3                  7                        3                     0  \n",
              "4                  2                        2                     2  \n",
              "5                  7                        3                     6  \n",
              "6                  0                        0                     0  \n",
              "7                  0                        0                     0  \n",
              "8                  7                        1                     8  \n",
              "9                  7                        7                     7  \n",
              "\n",
              "[10 rows x 35 columns]"
            ]
          },
          "execution_count": 4,
          "metadata": {},
          "output_type": "execute_result"
        }
      ],
      "source": [
        "df.head(10)"
      ]
    },
    {
      "cell_type": "markdown",
      "metadata": {
        "id": "HQ8T6mqYygrW"
      },
      "source": [
        "#### $\\color{green}{\\text{Example 1}}$\n",
        "- What is the variance of `Age` across `Gender`?\n",
        "- Calculate the variance of age\n",
        "- Use the F-Test to decide if the results are statistically significant or not"
      ]
    },
    {
      "cell_type": "code",
      "execution_count": 6,
      "metadata": {
        "id": "LpV9Ymo9zK0V"
      },
      "outputs": [
        {
          "data": {
            "text/html": [
              "<div>\n",
              "<style scoped>\n",
              "    .dataframe tbody tr th:only-of-type {\n",
              "        vertical-align: middle;\n",
              "    }\n",
              "\n",
              "    .dataframe tbody tr th {\n",
              "        vertical-align: top;\n",
              "    }\n",
              "\n",
              "    .dataframe thead th {\n",
              "        text-align: right;\n",
              "    }\n",
              "</style>\n",
              "<table border=\"1\" class=\"dataframe\">\n",
              "  <thead>\n",
              "    <tr style=\"text-align: right;\">\n",
              "      <th></th>\n",
              "      <th>Age</th>\n",
              "      <th>Gender</th>\n",
              "    </tr>\n",
              "  </thead>\n",
              "  <tbody>\n",
              "    <tr>\n",
              "      <th>0</th>\n",
              "      <td>41</td>\n",
              "      <td>Female</td>\n",
              "    </tr>\n",
              "    <tr>\n",
              "      <th>1</th>\n",
              "      <td>49</td>\n",
              "      <td>Male</td>\n",
              "    </tr>\n",
              "    <tr>\n",
              "      <th>2</th>\n",
              "      <td>37</td>\n",
              "      <td>Male</td>\n",
              "    </tr>\n",
              "    <tr>\n",
              "      <th>3</th>\n",
              "      <td>33</td>\n",
              "      <td>Female</td>\n",
              "    </tr>\n",
              "    <tr>\n",
              "      <th>4</th>\n",
              "      <td>27</td>\n",
              "      <td>Male</td>\n",
              "    </tr>\n",
              "  </tbody>\n",
              "</table>\n",
              "</div>"
            ],
            "text/plain": [
              "   Age  Gender\n",
              "0   41  Female\n",
              "1   49    Male\n",
              "2   37    Male\n",
              "3   33  Female\n",
              "4   27    Male"
            ]
          },
          "execution_count": 6,
          "metadata": {},
          "output_type": "execute_result"
        }
      ],
      "source": [
        "subset = ['Age','Gender']\n",
        "sub_df = df[subset]\n",
        "sub_df.head()"
      ]
    },
    {
      "cell_type": "code",
      "execution_count": null,
      "metadata": {
        "id": "jFlQjrKy0DGK"
      },
      "outputs": [
        {
          "data": {
            "text/html": [
              "<div>\n",
              "<style scoped>\n",
              "    .dataframe tbody tr th:only-of-type {\n",
              "        vertical-align: middle;\n",
              "    }\n",
              "\n",
              "    .dataframe tbody tr th {\n",
              "        vertical-align: top;\n",
              "    }\n",
              "\n",
              "    .dataframe thead th {\n",
              "        text-align: right;\n",
              "    }\n",
              "</style>\n",
              "<table border=\"1\" class=\"dataframe\">\n",
              "  <thead>\n",
              "    <tr style=\"text-align: right;\">\n",
              "      <th></th>\n",
              "      <th>Age</th>\n",
              "    </tr>\n",
              "    <tr>\n",
              "      <th>Gender</th>\n",
              "      <th></th>\n",
              "    </tr>\n",
              "  </thead>\n",
              "  <tbody>\n",
              "    <tr>\n",
              "      <th>Female</th>\n",
              "      <td>85.860295</td>\n",
              "    </tr>\n",
              "    <tr>\n",
              "      <th>Male</th>\n",
              "      <td>81.763719</td>\n",
              "    </tr>\n",
              "  </tbody>\n",
              "</table>\n",
              "</div>"
            ],
            "text/plain": [
              "              Age\n",
              "Gender           \n",
              "Female  85.860295\n",
              "Male    81.763719"
            ]
          },
          "execution_count": 10,
          "metadata": {},
          "output_type": "execute_result"
        }
      ],
      "source": [
        "# group numerical data by categorical vars\n",
        "grouped = sub_df.groupby(\"Gender\")\n",
        "\n",
        "# Get variance of age across gender\n",
        "grp_df = grouped.var()\n",
        "grp_df"
      ]
    },
    {
      "cell_type": "code",
      "execution_count": 13,
      "metadata": {},
      "outputs": [
        {
          "data": {
            "text/plain": [
              "F_onewayResult(statistic=1.9380487130268838, pvalue=0.1640914123181884)"
            ]
          },
          "execution_count": 13,
          "metadata": {},
          "output_type": "execute_result"
        }
      ],
      "source": [
        "from scipy.stats import f_oneway\n",
        "# Separate data by each category\n",
        "male_age = sub_df[sub_df.Gender == 'Male']['Age']\n",
        "female_age = sub_df[sub_df.Gender == 'Female']['Age']\n",
        "\n",
        "f_oneway(male_age, female_age)"
      ]
    },
    {
      "cell_type": "markdown",
      "metadata": {
        "id": "igPIlmIUaEYc"
      },
      "source": [
        "### $\\color{blue}{\\text{Normality tests}}$\n",
        "---\n",
        "- Normality tests are conducted to determine whether a sample is drawn from a normal distribution\n",
        "- Normality tests comes in two flavors: **visual** and **hypothesis tests**\n",
        "\n",
        "\n"
      ]
    },
    {
      "cell_type": "markdown",
      "metadata": {
        "id": "SLDfe_LNzpcM"
      },
      "source": [
        "#### $\\color{brown}{\\text{QQ-Plot}}$\n",
        "- Visual normality test includes the **QQ-Plots**\n",
        "  - The **QQ-Plot** calculates the **z-scores** of all data points and orders it from high to low\n",
        "  - The y-axis corresponds to the z-scores associated with the raw data\n",
        "  - The x-axis corresponds to the quantile of a theoretical normal distribution\n",
        "  ![qqplot.PNG](data:image/png;base64,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)"
      ]
    },
    {
      "cell_type": "markdown",
      "metadata": {
        "id": "WPLkTDYZz8FH"
      },
      "source": [
        "#### $\\color{brown}{\\text{Formal tests}}$\n",
        "- Hypothesis tests for normality includes the **Anderson-Darling** test, **K-S** test, **Shapiro-Wilks** tests, etc.\n",
        "- The structure for the Anderson-Darling test is as follows:\n",
        "  \\begin{equation}\n",
        "    \\begin{array}{l}\n",
        "      H_0: The \\:data \\:follows \\:a \\:normal \\:distribution \\\\\n",
        "      H_1: The \\:data \\:does \\:NOT \\:follows \\:a \\:normal \\:distribution\n",
        "    \\end{array}\n",
        "  \\end{equation}"
      ]
    },
    {
      "cell_type": "markdown",
      "metadata": {
        "id": "j1-w33p4ff9u"
      },
      "source": [
        "### $\\color{blue}{\\text{Student's T-Test}}$\n",
        "---\n",
        "- **Purpose**: To determine whether the means of two groups are equal\n",
        "- **Assumption**: Both groups are sampled from normal distributions with equal variances\n",
        "- **Structure**: \n",
        "\n",
        "$$\n",
        "\\begin{equation}\n",
        "  \\begin{array}{l}\n",
        "    H_0: \\mu_{g1} = \\mu_{g2} \\\\\n",
        "    H_1: \\mu_{g1} \\neq \\mu_{g2}\n",
        "  \\end{array}\n",
        "\\end{equation}\n",
        "$$\n",
        "\n",
        "\n"
      ]
    },
    {
      "cell_type": "markdown",
      "metadata": {
        "id": "JsfJmSv3BDGa"
      },
      "source": [
        "#### $\\color{green}{\\text{Example 2}}$\n",
        "- Provide a QQplot of `age` by `Gender`. What does that tell you?\n",
        "- Using a statistical test, determine whether the two means are equal or not. Keep in mind the assumptions of the test"
      ]
    },
    {
      "cell_type": "code",
      "execution_count": 21,
      "metadata": {
        "id": "APhhue_y72r6"
      },
      "outputs": [],
      "source": [
        "import statsmodels.api as sm\n",
        "import matplotlib.pyplot as plt"
      ]
    },
    {
      "cell_type": "code",
      "execution_count": 22,
      "metadata": {
        "id": "LI8Qeny22FI8"
      },
      "outputs": [
        {
          "data": {
            "image/png": "[encoded data removed]",
            "text/plain": [
              "<Figure size 640x480 with 1 Axes>"
            ]
          },
          "metadata": {},
          "output_type": "display_data"
        }
      ],
      "source": [
        "sm.qqplot(\n",
        "    male_age,\n",
        "    line='45'\n",
        ")\n",
        "plt.show()"
      ]
    },
    {
      "cell_type": "markdown",
      "metadata": {},
      "source": [
        "From this we know that age is not normally distributed for men."
      ]
    },
    {
      "cell_type": "code",
      "execution_count": null,
      "metadata": {
        "id": "ab8EW2HpaEGD"
      },
      "outputs": [
        {
          "data": {
            "text/plain": [
              "0.1640914123181858"
            ]
          },
          "execution_count": 25,
          "metadata": {},
          "output_type": "execute_result"
        }
      ],
      "source": [
        "from scipy.stats import shapiro # shapiro-wilks test\n",
        "from scipy import stats\n",
        "shapiro(sub_df.Age)\n",
        "\n"
      ]
    },
    {
      "cell_type": "code",
      "execution_count": null,
      "metadata": {},
      "outputs": [],
      "source": [
        "# perform t-test\n",
        "t_stat, p_val = stats.ttest_ind(male_age, female_age)\n",
        "\n",
        "p_val"
      ]
    },
    {
      "cell_type": "markdown",
      "metadata": {
        "id": "YezCQgfQWMrd"
      },
      "source": [
        "### $\\color{blue}{\\text{The chi-square test}}$\n",
        "---\n",
        "- **Purpose:** To determine if there's correlation among two categorical variables\n",
        "  - This is sometimes called chi-square test of independence\n",
        "- **Structure:**\n",
        "  \\begin{equation}\n",
        "    \\begin{array}{l}\n",
        "      H_0: The \\:variables \\:are \\:independent \\:(related) \\\\\n",
        "      H_1: The \\:variables \\:are \\:NOT \\:independent \\:(related)\n",
        "    \\end{array}\n",
        "  \\end{equation}\n",
        "- **Comment:** There's also a chi-square **goodness-of-fit** test used to determine if the proportions of a categorical variables comes from an expected distribution or not\n"
      ]
    },
    {
      "cell_type": "markdown",
      "metadata": {
        "id": "Pb4hfkBqylNU"
      },
      "source": [
        "#### $\\color{green}{\\text{Example 3}}$\n",
        "- For the dataset under consideration is there any relationship between `maritalStatus` and `Gender`?\n",
        "- Use a chi-square test to understand any difference\n"
      ]
    },
    {
      "cell_type": "code",
      "execution_count": 29,
      "metadata": {
        "id": "JMAO-4KZyfoD"
      },
      "outputs": [
        {
          "data": {
            "text/html": [
              "<div>\n",
              "<style scoped>\n",
              "    .dataframe tbody tr th:only-of-type {\n",
              "        vertical-align: middle;\n",
              "    }\n",
              "\n",
              "    .dataframe tbody tr th {\n",
              "        vertical-align: top;\n",
              "    }\n",
              "\n",
              "    .dataframe thead th {\n",
              "        text-align: right;\n",
              "    }\n",
              "</style>\n",
              "<table border=\"1\" class=\"dataframe\">\n",
              "  <thead>\n",
              "    <tr style=\"text-align: right;\">\n",
              "      <th>MaritalStatus</th>\n",
              "      <th>Divorced</th>\n",
              "      <th>Married</th>\n",
              "      <th>Single</th>\n",
              "    </tr>\n",
              "    <tr>\n",
              "      <th>Gender</th>\n",
              "      <th></th>\n",
              "      <th></th>\n",
              "      <th></th>\n",
              "    </tr>\n",
              "  </thead>\n",
              "  <tbody>\n",
              "    <tr>\n",
              "      <th>Female</th>\n",
              "      <td>117</td>\n",
              "      <td>272</td>\n",
              "      <td>199</td>\n",
              "    </tr>\n",
              "    <tr>\n",
              "      <th>Male</th>\n",
              "      <td>210</td>\n",
              "      <td>401</td>\n",
              "      <td>271</td>\n",
              "    </tr>\n",
              "  </tbody>\n",
              "</table>\n",
              "</div>"
            ],
            "text/plain": [
              "MaritalStatus  Divorced  Married  Single\n",
              "Gender                                  \n",
              "Female              117      272     199\n",
              "Male                210      401     271"
            ]
          },
          "execution_count": 29,
          "metadata": {},
          "output_type": "execute_result"
        }
      ],
      "source": [
        "cols = ['MaritalStatus','Gender']\n",
        "subset = df[cols]\n",
        "\n",
        "ct = pd.crosstab(index=df['Gender'], columns=df['MaritalStatus'])\n",
        "ct"
      ]
    },
    {
      "cell_type": "code",
      "execution_count": null,
      "metadata": {
        "id": "30LDLQnYGBfY"
      },
      "outputs": [],
      "source": []
    },
    {
      "cell_type": "code",
      "execution_count": null,
      "metadata": {
        "id": "l18cNeD_GNK7"
      },
      "outputs": [],
      "source": []
    }
  ],
  "metadata": {
    "colab": {
      "provenance": [],
      "toc_visible": true
    },
    "kernelspec": {
      "display_name": ".venv",
      "language": "python",
      "name": "python3"
    },
    "language_info": {
      "codemirror_mode": {
        "name": "ipython",
        "version": 3
      },
      "file_extension": ".py",
      "mimetype": "text/x-python",
      "name": "python",
      "nbconvert_exporter": "python",
      "pygments_lexer": "ipython3",
      "version": "3.11.11"
    }
  },
  "nbformat": 4,
  "nbformat_minor": 0
}
